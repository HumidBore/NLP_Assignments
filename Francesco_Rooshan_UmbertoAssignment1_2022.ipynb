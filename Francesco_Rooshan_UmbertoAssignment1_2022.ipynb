{
  "cells": [
    {
      "cell_type": "code",
      "execution_count": 84,
      "metadata": {
        "id": "iE-OJaA7wap3"
      },
      "outputs": [],
      "source": [
        "#General imports\n",
        "import copy\n",
        "import os  \n",
        "import pandas as pd  \n",
        "import matplotlib.pyplot as plt\n",
        "import numpy as np  \n",
        "import re\n",
        "import seaborn as sb\n",
        "import sys \n",
        "from tqdm import tqdm\n",
        "from typing import Callable, List, Dict, Tuple, Set\n",
        "\n",
        "#sklearn and tensorflow imports\n",
        "from sklearn.metrics import f1_score\n",
        "from tensorflow.keras.layers import Bidirectional,  Dense, Dropout, Embedding, GRU, Input, LSTM, TimeDistributed\n",
        "from tensorflow.keras.models import Model\n",
        "from tensorflow.keras.preprocessing.sequence import pad_sequences\n",
        "from tensorflow.keras.utils import to_categorical\n",
        "from tensorflow.random import set_seed"
      ]
    },
    {
      "cell_type": "code",
      "source": [
        "#fixed seeds to get reproducible results\n",
        "np.random.seed(42)\n",
        "set_seed(42)"
      ],
      "metadata": {
        "id": "OwtabSzSZIBd"
      },
      "execution_count": null,
      "outputs": []
    },
    {
      "cell_type": "markdown",
      "metadata": {
        "id": "jXlE3OHGzaYq"
      },
      "source": [
        "#Bulding the dataframe"
      ]
    },
    {
      "cell_type": "markdown",
      "metadata": {
        "id": "MQ0PSVGsWZBW"
      },
      "source": [
        "## Dataset download and extraction"
      ]
    },
    {
      "cell_type": "code",
      "execution_count": 2,
      "metadata": {
        "colab": {
          "base_uri": "https://localhost:8080/"
        },
        "id": "JIj22FhCyKoA",
        "outputId": "35c6bbfb-20f9-4d22-cf7b-f34c4ff6e1b6"
      },
      "outputs": [
        {
          "output_type": "stream",
          "name": "stdout",
          "text": [
            "Current working directory: /content\n",
            "Successful download\n",
            "Successful extraction\n"
          ]
        }
      ],
      "source": [
        "import urllib.request  #  download files\n",
        "import zipfile  #  unzip files\n",
        "\n",
        "DATASET_NAME = \"dataset.zip\"\n",
        "DATASET_FOLDERNAME = \"Dataset\"\n",
        "DATASET_SUBFOLDER = \"dependency_treebank/\"\n",
        "SPLIT_DISTRIBUTION = [100, 150, 199]\n",
        "\n",
        "working_folder = os.getcwd()\n",
        "\n",
        "print(\"Current working directory: \" + str(working_folder))\n",
        "\n",
        "dataset_folder = os.path.join(os.getcwd(), DATASET_FOLDERNAME)\n",
        "\n",
        "if not os.path.exists(dataset_folder):\n",
        "    os.makedirs(dataset_folder)\n",
        "\n",
        "url = 'https://raw.githubusercontent.com/nltk/nltk_data/gh-pages/packages/corpora/dependency_treebank.zip'\n",
        "\n",
        "dataset_path = os.path.join(dataset_folder, \"dataset.zip\")\n",
        "\n",
        "if not os.path.exists(dataset_path):\n",
        "    urllib.request.urlretrieve(url, dataset_path)\n",
        "    print(\"Successful download\")\n",
        "\n",
        "with zipfile.ZipFile(dataset_path, 'r') as zip_ref:\n",
        "    zip_ref.extractall(dataset_folder)\n",
        "    print(\"Successful extraction\")\n",
        "\n",
        "#update folder to the extracted one\n",
        "dataset_folder = os.path.join(dataset_folder, DATASET_SUBFOLDER)"
      ]
    },
    {
      "cell_type": "code",
      "execution_count": 3,
      "metadata": {
        "colab": {
          "base_uri": "https://localhost:8080/"
        },
        "id": "ekoJOGSg7CDd",
        "outputId": "3e64a79c-904c-4e4f-d846-307de537bfcd"
      },
      "outputs": [
        {
          "output_type": "stream",
          "name": "stdout",
          "text": [
            "/content/Dataset/dependency_treebank/\n"
          ]
        }
      ],
      "source": [
        "print(dataset_folder)"
      ]
    },
    {
      "cell_type": "markdown",
      "metadata": {
        "id": "sI97CALV0C34"
      },
      "source": [
        "## Dataframe construction"
      ]
    },
    {
      "cell_type": "code",
      "execution_count": 4,
      "metadata": {
        "id": "JpNObbHg0HqV"
      },
      "outputs": [],
      "source": [
        "def encode_dataset(dataset_folder: str, \n",
        "                   split_dist: list(), ) -> Dict[str,pd.DataFrame]:\n",
        "    \n",
        "    df_dict = {\"train\": pd.DataFrame(columns=['sentence', 'labels']),\n",
        "                \"val\": pd.DataFrame(columns=['sentence', 'labels']),\n",
        "                \"test\":pd.DataFrame(columns=['sentence', 'labels'])}\n",
        "    split = \"\"\n",
        "\n",
        "    for filename in sorted(os.listdir(dataset_folder)):\n",
        "        file_path = os.path.join(dataset_folder, filename)\n",
        "        try:\n",
        "            if os.path.isfile(file_path):\n",
        "                with open(file_path, mode='r', encoding='utf-8') as text_file:\n",
        "                    # read it and extract \n",
        "                    document_number = filename.split(\"_\")[1].split(\".\")[0]\n",
        "                    if int(document_number) <= split_dist[0]:\n",
        "                        split = \"train\"\n",
        "                    elif split_dist[0] < int(document_number) <= split_dist[1]:\n",
        "                        split = \"val\"\n",
        "                    else:\n",
        "                        split = \"test\"\n",
        "\n",
        "                    df_file = pd.read_table(\n",
        "                        file_path, \n",
        "                        delimiter='\\t', \n",
        "                        names=['word', 'label'], \n",
        "                        usecols=[0,1],\n",
        "                        skip_blank_lines=False)\n",
        "                    \n",
        "                    #splitting file content in sentences\n",
        "                    idx = list(df_file.loc[df_file.isnull()['word']].index)\n",
        "                    idx.append(len(df_file))\n",
        "                    prev = 0\n",
        "                    for sep in idx:\n",
        "                        df_sentence = pd.DataFrame({\n",
        "                            'sentence': [df_file['word'][prev:sep].to_list()], \n",
        "                            'labels': [df_file['label'][prev:sep].to_list()]})\n",
        "                        df_dict[split] = pd.concat([df_dict[split], df_sentence], ignore_index=True)\n",
        "                        prev = sep + 1\n",
        "                    \n",
        "        except Exception as e:\n",
        "            print('Failed to process %s. Reason: %s' % (file_path, e))\n",
        "            sys.exit(0)\n",
        "\n",
        "    return df_dict"
      ]
    },
    {
      "cell_type": "code",
      "execution_count": 5,
      "metadata": {
        "id": "ocXNiUzD5bOv"
      },
      "outputs": [],
      "source": [
        "df_dict = encode_dataset(dataset_folder, SPLIT_DISTRIBUTION)"
      ]
    },
    {
      "cell_type": "code",
      "execution_count": 6,
      "metadata": {
        "colab": {
          "base_uri": "https://localhost:8080/",
          "height": 0
        },
        "id": "FW074bfD54DK",
        "outputId": "a682823c-d35e-4d4d-cdc4-21b4a64831b4"
      },
      "outputs": [
        {
          "output_type": "execute_result",
          "data": {
            "text/plain": [
              "                                            sentence  \\\n",
              "0  [Pierre, Vinken, ,, 61, years, old, ,, will, j...   \n",
              "1  [Mr., Vinken, is, chairman, of, Elsevier, N.V....   \n",
              "2  [Rudolph, Agnew, ,, 55, years, old, and, forme...   \n",
              "3  [A, form, of, asbestos, once, used, to, make, ...   \n",
              "4  [The, asbestos, fiber, ,, crocidolite, ,, is, ...   \n",
              "\n",
              "                                              labels  \n",
              "0  [NNP, NNP, ,, CD, NNS, JJ, ,, MD, VB, DT, NN, ...  \n",
              "1  [NNP, NNP, VBZ, NN, IN, NNP, NNP, ,, DT, NNP, ...  \n",
              "2  [NNP, NNP, ,, CD, NNS, JJ, CC, JJ, NN, IN, NNP...  \n",
              "3  [DT, NN, IN, NN, RB, VBN, TO, VB, NNP, NN, NNS...  \n",
              "4  [DT, NN, NN, ,, NN, ,, VBZ, RB, JJ, IN, PRP, V...  "
            ],
            "text/html": [
              "\n",
              "  <div id=\"df-994b968d-ee38-4e81-83ed-bbb2865b31f4\">\n",
              "    <div class=\"colab-df-container\">\n",
              "      <div>\n",
              "<style scoped>\n",
              "    .dataframe tbody tr th:only-of-type {\n",
              "        vertical-align: middle;\n",
              "    }\n",
              "\n",
              "    .dataframe tbody tr th {\n",
              "        vertical-align: top;\n",
              "    }\n",
              "\n",
              "    .dataframe thead th {\n",
              "        text-align: right;\n",
              "    }\n",
              "</style>\n",
              "<table border=\"1\" class=\"dataframe\">\n",
              "  <thead>\n",
              "    <tr style=\"text-align: right;\">\n",
              "      <th></th>\n",
              "      <th>sentence</th>\n",
              "      <th>labels</th>\n",
              "    </tr>\n",
              "  </thead>\n",
              "  <tbody>\n",
              "    <tr>\n",
              "      <th>0</th>\n",
              "      <td>[Pierre, Vinken, ,, 61, years, old, ,, will, j...</td>\n",
              "      <td>[NNP, NNP, ,, CD, NNS, JJ, ,, MD, VB, DT, NN, ...</td>\n",
              "    </tr>\n",
              "    <tr>\n",
              "      <th>1</th>\n",
              "      <td>[Mr., Vinken, is, chairman, of, Elsevier, N.V....</td>\n",
              "      <td>[NNP, NNP, VBZ, NN, IN, NNP, NNP, ,, DT, NNP, ...</td>\n",
              "    </tr>\n",
              "    <tr>\n",
              "      <th>2</th>\n",
              "      <td>[Rudolph, Agnew, ,, 55, years, old, and, forme...</td>\n",
              "      <td>[NNP, NNP, ,, CD, NNS, JJ, CC, JJ, NN, IN, NNP...</td>\n",
              "    </tr>\n",
              "    <tr>\n",
              "      <th>3</th>\n",
              "      <td>[A, form, of, asbestos, once, used, to, make, ...</td>\n",
              "      <td>[DT, NN, IN, NN, RB, VBN, TO, VB, NNP, NN, NNS...</td>\n",
              "    </tr>\n",
              "    <tr>\n",
              "      <th>4</th>\n",
              "      <td>[The, asbestos, fiber, ,, crocidolite, ,, is, ...</td>\n",
              "      <td>[DT, NN, NN, ,, NN, ,, VBZ, RB, JJ, IN, PRP, V...</td>\n",
              "    </tr>\n",
              "  </tbody>\n",
              "</table>\n",
              "</div>\n",
              "      <button class=\"colab-df-convert\" onclick=\"convertToInteractive('df-994b968d-ee38-4e81-83ed-bbb2865b31f4')\"\n",
              "              title=\"Convert this dataframe to an interactive table.\"\n",
              "              style=\"display:none;\">\n",
              "        \n",
              "  <svg xmlns=\"http://www.w3.org/2000/svg\" height=\"24px\"viewBox=\"0 0 24 24\"\n",
              "       width=\"24px\">\n",
              "    <path d=\"M0 0h24v24H0V0z\" fill=\"none\"/>\n",
              "    <path d=\"M18.56 5.44l.94 2.06.94-2.06 2.06-.94-2.06-.94-.94-2.06-.94 2.06-2.06.94zm-11 1L8.5 8.5l.94-2.06 2.06-.94-2.06-.94L8.5 2.5l-.94 2.06-2.06.94zm10 10l.94 2.06.94-2.06 2.06-.94-2.06-.94-.94-2.06-.94 2.06-2.06.94z\"/><path d=\"M17.41 7.96l-1.37-1.37c-.4-.4-.92-.59-1.43-.59-.52 0-1.04.2-1.43.59L10.3 9.45l-7.72 7.72c-.78.78-.78 2.05 0 2.83L4 21.41c.39.39.9.59 1.41.59.51 0 1.02-.2 1.41-.59l7.78-7.78 2.81-2.81c.8-.78.8-2.07 0-2.86zM5.41 20L4 18.59l7.72-7.72 1.47 1.35L5.41 20z\"/>\n",
              "  </svg>\n",
              "      </button>\n",
              "      \n",
              "  <style>\n",
              "    .colab-df-container {\n",
              "      display:flex;\n",
              "      flex-wrap:wrap;\n",
              "      gap: 12px;\n",
              "    }\n",
              "\n",
              "    .colab-df-convert {\n",
              "      background-color: #E8F0FE;\n",
              "      border: none;\n",
              "      border-radius: 50%;\n",
              "      cursor: pointer;\n",
              "      display: none;\n",
              "      fill: #1967D2;\n",
              "      height: 32px;\n",
              "      padding: 0 0 0 0;\n",
              "      width: 32px;\n",
              "    }\n",
              "\n",
              "    .colab-df-convert:hover {\n",
              "      background-color: #E2EBFA;\n",
              "      box-shadow: 0px 1px 2px rgba(60, 64, 67, 0.3), 0px 1px 3px 1px rgba(60, 64, 67, 0.15);\n",
              "      fill: #174EA6;\n",
              "    }\n",
              "\n",
              "    [theme=dark] .colab-df-convert {\n",
              "      background-color: #3B4455;\n",
              "      fill: #D2E3FC;\n",
              "    }\n",
              "\n",
              "    [theme=dark] .colab-df-convert:hover {\n",
              "      background-color: #434B5C;\n",
              "      box-shadow: 0px 1px 3px 1px rgba(0, 0, 0, 0.15);\n",
              "      filter: drop-shadow(0px 1px 2px rgba(0, 0, 0, 0.3));\n",
              "      fill: #FFFFFF;\n",
              "    }\n",
              "  </style>\n",
              "\n",
              "      <script>\n",
              "        const buttonEl =\n",
              "          document.querySelector('#df-994b968d-ee38-4e81-83ed-bbb2865b31f4 button.colab-df-convert');\n",
              "        buttonEl.style.display =\n",
              "          google.colab.kernel.accessAllowed ? 'block' : 'none';\n",
              "\n",
              "        async function convertToInteractive(key) {\n",
              "          const element = document.querySelector('#df-994b968d-ee38-4e81-83ed-bbb2865b31f4');\n",
              "          const dataTable =\n",
              "            await google.colab.kernel.invokeFunction('convertToInteractive',\n",
              "                                                     [key], {});\n",
              "          if (!dataTable) return;\n",
              "\n",
              "          const docLinkHtml = 'Like what you see? Visit the ' +\n",
              "            '<a target=\"_blank\" href=https://colab.research.google.com/notebooks/data_table.ipynb>data table notebook</a>'\n",
              "            + ' to learn more about interactive tables.';\n",
              "          element.innerHTML = '';\n",
              "          dataTable['output_type'] = 'display_data';\n",
              "          await google.colab.output.renderOutput(dataTable, element);\n",
              "          const docLink = document.createElement('div');\n",
              "          docLink.innerHTML = docLinkHtml;\n",
              "          element.appendChild(docLink);\n",
              "        }\n",
              "      </script>\n",
              "    </div>\n",
              "  </div>\n",
              "  "
            ]
          },
          "metadata": {},
          "execution_count": 6
        }
      ],
      "source": [
        "df_dict[\"train\"].head()"
      ]
    },
    {
      "cell_type": "code",
      "execution_count": 7,
      "metadata": {
        "colab": {
          "base_uri": "https://localhost:8080/",
          "height": 0
        },
        "id": "kinbChSf56cz",
        "outputId": "615c857c-d982-4229-ba10-895165220c5a"
      },
      "outputs": [
        {
          "output_type": "execute_result",
          "data": {
            "text/plain": [
              "                                            sentence  \\\n",
              "0  [A, House-Senate, conference, approved, major,...   \n",
              "1  [For, the, Agency, for, International, Develop...   \n",
              "2  [The, conference, approved, at, least, $, 55, ...   \n",
              "3  [The, agreement, on, Poland, contrasts, with, ...   \n",
              "4  [These, fiscal, pressures, are, also, a, facto...   \n",
              "\n",
              "                                              labels  \n",
              "0  [DT, NNP, NN, VBD, JJ, NNS, IN, DT, NN, IN, JJ...  \n",
              "1  [IN, DT, NNP, IN, NNP, NNP, ,, NNS, VBD, $, CD...  \n",
              "2  [DT, NN, VBD, IN, JJS, $, CD, CD, IN, JJ, NN, ...  \n",
              "3  [DT, NN, IN, NNP, VBZ, IN, DT, JJ, NNS, VBG, I...  \n",
              "4  [DT, JJ, NNS, VBP, RB, DT, NN, IN, VBG, DT, NN...  "
            ],
            "text/html": [
              "\n",
              "  <div id=\"df-37a35572-1683-4ef3-b5d6-ecb674bd319a\">\n",
              "    <div class=\"colab-df-container\">\n",
              "      <div>\n",
              "<style scoped>\n",
              "    .dataframe tbody tr th:only-of-type {\n",
              "        vertical-align: middle;\n",
              "    }\n",
              "\n",
              "    .dataframe tbody tr th {\n",
              "        vertical-align: top;\n",
              "    }\n",
              "\n",
              "    .dataframe thead th {\n",
              "        text-align: right;\n",
              "    }\n",
              "</style>\n",
              "<table border=\"1\" class=\"dataframe\">\n",
              "  <thead>\n",
              "    <tr style=\"text-align: right;\">\n",
              "      <th></th>\n",
              "      <th>sentence</th>\n",
              "      <th>labels</th>\n",
              "    </tr>\n",
              "  </thead>\n",
              "  <tbody>\n",
              "    <tr>\n",
              "      <th>0</th>\n",
              "      <td>[A, House-Senate, conference, approved, major,...</td>\n",
              "      <td>[DT, NNP, NN, VBD, JJ, NNS, IN, DT, NN, IN, JJ...</td>\n",
              "    </tr>\n",
              "    <tr>\n",
              "      <th>1</th>\n",
              "      <td>[For, the, Agency, for, International, Develop...</td>\n",
              "      <td>[IN, DT, NNP, IN, NNP, NNP, ,, NNS, VBD, $, CD...</td>\n",
              "    </tr>\n",
              "    <tr>\n",
              "      <th>2</th>\n",
              "      <td>[The, conference, approved, at, least, $, 55, ...</td>\n",
              "      <td>[DT, NN, VBD, IN, JJS, $, CD, CD, IN, JJ, NN, ...</td>\n",
              "    </tr>\n",
              "    <tr>\n",
              "      <th>3</th>\n",
              "      <td>[The, agreement, on, Poland, contrasts, with, ...</td>\n",
              "      <td>[DT, NN, IN, NNP, VBZ, IN, DT, JJ, NNS, VBG, I...</td>\n",
              "    </tr>\n",
              "    <tr>\n",
              "      <th>4</th>\n",
              "      <td>[These, fiscal, pressures, are, also, a, facto...</td>\n",
              "      <td>[DT, JJ, NNS, VBP, RB, DT, NN, IN, VBG, DT, NN...</td>\n",
              "    </tr>\n",
              "  </tbody>\n",
              "</table>\n",
              "</div>\n",
              "      <button class=\"colab-df-convert\" onclick=\"convertToInteractive('df-37a35572-1683-4ef3-b5d6-ecb674bd319a')\"\n",
              "              title=\"Convert this dataframe to an interactive table.\"\n",
              "              style=\"display:none;\">\n",
              "        \n",
              "  <svg xmlns=\"http://www.w3.org/2000/svg\" height=\"24px\"viewBox=\"0 0 24 24\"\n",
              "       width=\"24px\">\n",
              "    <path d=\"M0 0h24v24H0V0z\" fill=\"none\"/>\n",
              "    <path d=\"M18.56 5.44l.94 2.06.94-2.06 2.06-.94-2.06-.94-.94-2.06-.94 2.06-2.06.94zm-11 1L8.5 8.5l.94-2.06 2.06-.94-2.06-.94L8.5 2.5l-.94 2.06-2.06.94zm10 10l.94 2.06.94-2.06 2.06-.94-2.06-.94-.94-2.06-.94 2.06-2.06.94z\"/><path d=\"M17.41 7.96l-1.37-1.37c-.4-.4-.92-.59-1.43-.59-.52 0-1.04.2-1.43.59L10.3 9.45l-7.72 7.72c-.78.78-.78 2.05 0 2.83L4 21.41c.39.39.9.59 1.41.59.51 0 1.02-.2 1.41-.59l7.78-7.78 2.81-2.81c.8-.78.8-2.07 0-2.86zM5.41 20L4 18.59l7.72-7.72 1.47 1.35L5.41 20z\"/>\n",
              "  </svg>\n",
              "      </button>\n",
              "      \n",
              "  <style>\n",
              "    .colab-df-container {\n",
              "      display:flex;\n",
              "      flex-wrap:wrap;\n",
              "      gap: 12px;\n",
              "    }\n",
              "\n",
              "    .colab-df-convert {\n",
              "      background-color: #E8F0FE;\n",
              "      border: none;\n",
              "      border-radius: 50%;\n",
              "      cursor: pointer;\n",
              "      display: none;\n",
              "      fill: #1967D2;\n",
              "      height: 32px;\n",
              "      padding: 0 0 0 0;\n",
              "      width: 32px;\n",
              "    }\n",
              "\n",
              "    .colab-df-convert:hover {\n",
              "      background-color: #E2EBFA;\n",
              "      box-shadow: 0px 1px 2px rgba(60, 64, 67, 0.3), 0px 1px 3px 1px rgba(60, 64, 67, 0.15);\n",
              "      fill: #174EA6;\n",
              "    }\n",
              "\n",
              "    [theme=dark] .colab-df-convert {\n",
              "      background-color: #3B4455;\n",
              "      fill: #D2E3FC;\n",
              "    }\n",
              "\n",
              "    [theme=dark] .colab-df-convert:hover {\n",
              "      background-color: #434B5C;\n",
              "      box-shadow: 0px 1px 3px 1px rgba(0, 0, 0, 0.15);\n",
              "      filter: drop-shadow(0px 1px 2px rgba(0, 0, 0, 0.3));\n",
              "      fill: #FFFFFF;\n",
              "    }\n",
              "  </style>\n",
              "\n",
              "      <script>\n",
              "        const buttonEl =\n",
              "          document.querySelector('#df-37a35572-1683-4ef3-b5d6-ecb674bd319a button.colab-df-convert');\n",
              "        buttonEl.style.display =\n",
              "          google.colab.kernel.accessAllowed ? 'block' : 'none';\n",
              "\n",
              "        async function convertToInteractive(key) {\n",
              "          const element = document.querySelector('#df-37a35572-1683-4ef3-b5d6-ecb674bd319a');\n",
              "          const dataTable =\n",
              "            await google.colab.kernel.invokeFunction('convertToInteractive',\n",
              "                                                     [key], {});\n",
              "          if (!dataTable) return;\n",
              "\n",
              "          const docLinkHtml = 'Like what you see? Visit the ' +\n",
              "            '<a target=\"_blank\" href=https://colab.research.google.com/notebooks/data_table.ipynb>data table notebook</a>'\n",
              "            + ' to learn more about interactive tables.';\n",
              "          element.innerHTML = '';\n",
              "          dataTable['output_type'] = 'display_data';\n",
              "          await google.colab.output.renderOutput(dataTable, element);\n",
              "          const docLink = document.createElement('div');\n",
              "          docLink.innerHTML = docLinkHtml;\n",
              "          element.appendChild(docLink);\n",
              "        }\n",
              "      </script>\n",
              "    </div>\n",
              "  </div>\n",
              "  "
            ]
          },
          "metadata": {},
          "execution_count": 7
        }
      ],
      "source": [
        "df_dict[\"val\"].head()"
      ]
    },
    {
      "cell_type": "code",
      "execution_count": 8,
      "metadata": {
        "colab": {
          "base_uri": "https://localhost:8080/",
          "height": 0
        },
        "id": "D7U5NfKo57x6",
        "outputId": "af6a9f3a-8228-4cb2-d409-ec042dd52b37"
      },
      "outputs": [
        {
          "output_type": "execute_result",
          "data": {
            "text/plain": [
              "                                            sentence  \\\n",
              "0  [Intelogic, Trace, Inc., ,, San, Antonio, ,, T...   \n",
              "1  [The, move, boosts, Intelogic, Chairman, Asher...   \n",
              "2  [Mr., Ackerman, already, is, seeking, to, oust...   \n",
              "3  [The, action, followed, by, one, day, an, Inte...   \n",
              "4  [In, New, York, Stock, Exchange, composite, tr...   \n",
              "\n",
              "                                              labels  \n",
              "0  [NNP, NNP, NNP, ,, NNP, NNP, ,, NNP, ,, VBD, P...  \n",
              "1  [DT, NN, VBZ, NNP, NNP, NNP, NNP, POS, NN, TO,...  \n",
              "2  [NNP, NNP, RB, VBZ, VBG, TO, VB, NNP, NNP, IN,...  \n",
              "3  [DT, NN, VBN, IN, CD, NN, DT, NNP, NN, IN, PRP...  \n",
              "4  [IN, NNP, NNP, NNP, NNP, JJ, NN, NN, ,, NNP, N...  "
            ],
            "text/html": [
              "\n",
              "  <div id=\"df-c32f22d3-a645-4446-ac80-5060f3ade73a\">\n",
              "    <div class=\"colab-df-container\">\n",
              "      <div>\n",
              "<style scoped>\n",
              "    .dataframe tbody tr th:only-of-type {\n",
              "        vertical-align: middle;\n",
              "    }\n",
              "\n",
              "    .dataframe tbody tr th {\n",
              "        vertical-align: top;\n",
              "    }\n",
              "\n",
              "    .dataframe thead th {\n",
              "        text-align: right;\n",
              "    }\n",
              "</style>\n",
              "<table border=\"1\" class=\"dataframe\">\n",
              "  <thead>\n",
              "    <tr style=\"text-align: right;\">\n",
              "      <th></th>\n",
              "      <th>sentence</th>\n",
              "      <th>labels</th>\n",
              "    </tr>\n",
              "  </thead>\n",
              "  <tbody>\n",
              "    <tr>\n",
              "      <th>0</th>\n",
              "      <td>[Intelogic, Trace, Inc., ,, San, Antonio, ,, T...</td>\n",
              "      <td>[NNP, NNP, NNP, ,, NNP, NNP, ,, NNP, ,, VBD, P...</td>\n",
              "    </tr>\n",
              "    <tr>\n",
              "      <th>1</th>\n",
              "      <td>[The, move, boosts, Intelogic, Chairman, Asher...</td>\n",
              "      <td>[DT, NN, VBZ, NNP, NNP, NNP, NNP, POS, NN, TO,...</td>\n",
              "    </tr>\n",
              "    <tr>\n",
              "      <th>2</th>\n",
              "      <td>[Mr., Ackerman, already, is, seeking, to, oust...</td>\n",
              "      <td>[NNP, NNP, RB, VBZ, VBG, TO, VB, NNP, NNP, IN,...</td>\n",
              "    </tr>\n",
              "    <tr>\n",
              "      <th>3</th>\n",
              "      <td>[The, action, followed, by, one, day, an, Inte...</td>\n",
              "      <td>[DT, NN, VBN, IN, CD, NN, DT, NNP, NN, IN, PRP...</td>\n",
              "    </tr>\n",
              "    <tr>\n",
              "      <th>4</th>\n",
              "      <td>[In, New, York, Stock, Exchange, composite, tr...</td>\n",
              "      <td>[IN, NNP, NNP, NNP, NNP, JJ, NN, NN, ,, NNP, N...</td>\n",
              "    </tr>\n",
              "  </tbody>\n",
              "</table>\n",
              "</div>\n",
              "      <button class=\"colab-df-convert\" onclick=\"convertToInteractive('df-c32f22d3-a645-4446-ac80-5060f3ade73a')\"\n",
              "              title=\"Convert this dataframe to an interactive table.\"\n",
              "              style=\"display:none;\">\n",
              "        \n",
              "  <svg xmlns=\"http://www.w3.org/2000/svg\" height=\"24px\"viewBox=\"0 0 24 24\"\n",
              "       width=\"24px\">\n",
              "    <path d=\"M0 0h24v24H0V0z\" fill=\"none\"/>\n",
              "    <path d=\"M18.56 5.44l.94 2.06.94-2.06 2.06-.94-2.06-.94-.94-2.06-.94 2.06-2.06.94zm-11 1L8.5 8.5l.94-2.06 2.06-.94-2.06-.94L8.5 2.5l-.94 2.06-2.06.94zm10 10l.94 2.06.94-2.06 2.06-.94-2.06-.94-.94-2.06-.94 2.06-2.06.94z\"/><path d=\"M17.41 7.96l-1.37-1.37c-.4-.4-.92-.59-1.43-.59-.52 0-1.04.2-1.43.59L10.3 9.45l-7.72 7.72c-.78.78-.78 2.05 0 2.83L4 21.41c.39.39.9.59 1.41.59.51 0 1.02-.2 1.41-.59l7.78-7.78 2.81-2.81c.8-.78.8-2.07 0-2.86zM5.41 20L4 18.59l7.72-7.72 1.47 1.35L5.41 20z\"/>\n",
              "  </svg>\n",
              "      </button>\n",
              "      \n",
              "  <style>\n",
              "    .colab-df-container {\n",
              "      display:flex;\n",
              "      flex-wrap:wrap;\n",
              "      gap: 12px;\n",
              "    }\n",
              "\n",
              "    .colab-df-convert {\n",
              "      background-color: #E8F0FE;\n",
              "      border: none;\n",
              "      border-radius: 50%;\n",
              "      cursor: pointer;\n",
              "      display: none;\n",
              "      fill: #1967D2;\n",
              "      height: 32px;\n",
              "      padding: 0 0 0 0;\n",
              "      width: 32px;\n",
              "    }\n",
              "\n",
              "    .colab-df-convert:hover {\n",
              "      background-color: #E2EBFA;\n",
              "      box-shadow: 0px 1px 2px rgba(60, 64, 67, 0.3), 0px 1px 3px 1px rgba(60, 64, 67, 0.15);\n",
              "      fill: #174EA6;\n",
              "    }\n",
              "\n",
              "    [theme=dark] .colab-df-convert {\n",
              "      background-color: #3B4455;\n",
              "      fill: #D2E3FC;\n",
              "    }\n",
              "\n",
              "    [theme=dark] .colab-df-convert:hover {\n",
              "      background-color: #434B5C;\n",
              "      box-shadow: 0px 1px 3px 1px rgba(0, 0, 0, 0.15);\n",
              "      filter: drop-shadow(0px 1px 2px rgba(0, 0, 0, 0.3));\n",
              "      fill: #FFFFFF;\n",
              "    }\n",
              "  </style>\n",
              "\n",
              "      <script>\n",
              "        const buttonEl =\n",
              "          document.querySelector('#df-c32f22d3-a645-4446-ac80-5060f3ade73a button.colab-df-convert');\n",
              "        buttonEl.style.display =\n",
              "          google.colab.kernel.accessAllowed ? 'block' : 'none';\n",
              "\n",
              "        async function convertToInteractive(key) {\n",
              "          const element = document.querySelector('#df-c32f22d3-a645-4446-ac80-5060f3ade73a');\n",
              "          const dataTable =\n",
              "            await google.colab.kernel.invokeFunction('convertToInteractive',\n",
              "                                                     [key], {});\n",
              "          if (!dataTable) return;\n",
              "\n",
              "          const docLinkHtml = 'Like what you see? Visit the ' +\n",
              "            '<a target=\"_blank\" href=https://colab.research.google.com/notebooks/data_table.ipynb>data table notebook</a>'\n",
              "            + ' to learn more about interactive tables.';\n",
              "          element.innerHTML = '';\n",
              "          dataTable['output_type'] = 'display_data';\n",
              "          await google.colab.output.renderOutput(dataTable, element);\n",
              "          const docLink = document.createElement('div');\n",
              "          docLink.innerHTML = docLinkHtml;\n",
              "          element.appendChild(docLink);\n",
              "        }\n",
              "      </script>\n",
              "    </div>\n",
              "  </div>\n",
              "  "
            ]
          },
          "metadata": {},
          "execution_count": 8
        }
      ],
      "source": [
        "df_dict[\"test\"].head()"
      ]
    },
    {
      "cell_type": "code",
      "execution_count": 9,
      "metadata": {
        "id": "e2i-qWdRdjV-"
      },
      "outputs": [],
      "source": [
        "x = {\"train\": df_dict['train']['sentence'],\n",
        "     \"val\": df_dict['val']['sentence'],\n",
        "     \"test\": df_dict['test']['sentence']}\n",
        "\n",
        "y = {\"train\": df_dict['train']['labels'],\n",
        "     \"val\": df_dict['val']['labels'],\n",
        "     \"test\": df_dict['test']['labels']}"
      ]
    },
    {
      "cell_type": "markdown",
      "metadata": {
        "id": "Vf1URJEz-ADo"
      },
      "source": [
        "# Glove Embedding model, vocabulary and OOV detection"
      ]
    },
    {
      "cell_type": "markdown",
      "metadata": {
        "id": "_0Xhe6fjWvqv"
      },
      "source": [
        "## Load Glove embedding"
      ]
    },
    {
      "cell_type": "code",
      "execution_count": 10,
      "metadata": {
        "id": "S5nCta0f9_X0"
      },
      "outputs": [],
      "source": [
        "import gensim\n",
        "import gensim.downloader as gloader\n",
        "\n",
        "def load_GloVe_embedding(embedding_dimension: int = 50) -> gensim.models.keyedvectors.KeyedVectors:\n",
        "    \"\"\"\n",
        "    Loads a pre-trained word embedding model via gensim library.\n",
        "\n",
        "    :param embedding_dimension: size of the embedding space to consider\n",
        "\n",
        "    :return\n",
        "        - pre-trained word embedding model (gensim KeyedVectors object)\n",
        "    \"\"\"\n",
        "    download_path = \"glove-wiki-gigaword-{}\".format(embedding_dimension)\n",
        "    try:\n",
        "        emb_model = gloader.load(download_path)\n",
        "    except ValueError as e:\n",
        "        print(\"Invalid embedding model name! Check the embedding dimension:\")\n",
        "        print(\"Glove: 50, 100, 200, 300\")\n",
        "        raise e\n",
        "\n",
        "    return emb_model"
      ]
    },
    {
      "cell_type": "code",
      "execution_count": 11,
      "metadata": {
        "colab": {
          "base_uri": "https://localhost:8080/"
        },
        "id": "afdQh5i8CDsh",
        "outputId": "c7fac240-67b4-41f4-cbb2-32563bc0508b"
      },
      "outputs": [
        {
          "output_type": "stream",
          "name": "stdout",
          "text": [
            "[==================================================] 100.0% 66.0/66.0MB downloaded\n"
          ]
        }
      ],
      "source": [
        "EMBEDDING_DIMENSION = 50\n",
        "glove_emb_model = load_GloVe_embedding(EMBEDDING_DIMENSION)"
      ]
    },
    {
      "cell_type": "markdown",
      "metadata": {
        "id": "qZUuz-bW_BO3"
      },
      "source": [
        "##Creating initial vocabulary"
      ]
    },
    {
      "cell_type": "code",
      "execution_count": 12,
      "metadata": {
        "id": "l98tkgAW_DGT"
      },
      "outputs": [],
      "source": [
        "from collections import OrderedDict\n",
        "\n",
        "def build_vocabulary(sr: pd.Series) -> List[str]:\n",
        "    \"\"\"\n",
        "    Given a dataset, builds the corresponding word vocabulary.\n",
        "\n",
        "    :param df: dataset from which we want to build the word vocabulary (pandas.DataFrame)\n",
        "    :return:\n",
        "      - vocabulary: set of unique terms that build up the vocabulary\n",
        "    \"\"\"\n",
        "    vocabulary = []\n",
        "    for sentence in tqdm(sr):\n",
        "        for token in sentence:\n",
        "            if token not in vocabulary:\n",
        "                vocabulary.append(token)\n",
        "\n",
        "    return vocabulary"
      ]
    },
    {
      "cell_type": "code",
      "execution_count": 13,
      "metadata": {
        "colab": {
          "base_uri": "https://localhost:8080/"
        },
        "id": "9D37IdA4AeHo",
        "outputId": "a1679706-26e4-456b-9eed-39d8af041cca"
      },
      "outputs": [
        {
          "output_type": "stream",
          "name": "stderr",
          "text": [
            "100%|██████████| 1963/1963 [00:00<00:00, 2257.23it/s]\n"
          ]
        },
        {
          "output_type": "stream",
          "name": "stdout",
          "text": [
            "\n",
            "[Debug] train vocabulary size: 8009\n"
          ]
        },
        {
          "output_type": "stream",
          "name": "stderr",
          "text": [
            "100%|██████████| 1299/1299 [00:00<00:00, 2708.43it/s]\n"
          ]
        },
        {
          "output_type": "stream",
          "name": "stdout",
          "text": [
            "\n",
            "[Debug] val vocabulary size: 5892\n"
          ]
        },
        {
          "output_type": "stream",
          "name": "stderr",
          "text": [
            "100%|██████████| 652/652 [00:00<00:00, 4226.27it/s]"
          ]
        },
        {
          "output_type": "stream",
          "name": "stdout",
          "text": [
            "\n",
            "[Debug] test vocabulary size: 3623\n"
          ]
        },
        {
          "output_type": "stream",
          "name": "stderr",
          "text": [
            "\n"
          ]
        }
      ],
      "source": [
        "vocabulary_dict = {}\n",
        "for split in df_dict.keys():\n",
        "    vocabulary_dict[split] = build_vocabulary(x[split])\n",
        "    print()\n",
        "    print(f'[Debug] {split} vocabulary size: {len(vocabulary_dict[split])}')"
      ]
    },
    {
      "cell_type": "markdown",
      "metadata": {
        "id": "mzQ6qRPF_86z"
      },
      "source": [
        "## OOV detection"
      ]
    },
    {
      "cell_type": "code",
      "execution_count": 14,
      "metadata": {
        "id": "hvm7cbv1BYtq"
      },
      "outputs": [],
      "source": [
        "def check_OOV_terms(vocabulary: List[str],\n",
        "                    word_listing: List[str]):\n",
        "    \"\"\"\n",
        "    Checks differences between pre-trained embedding model vocabulary\n",
        "    and dataset specific vocabulary in order to highlight out-of-vocabulary terms.\n",
        "\n",
        "    :param embedding_model: pre-trained word embedding model (gensim wrapper)\n",
        "    :param word_listing: dataset specific vocabulary (list)\n",
        "\n",
        "    :return\n",
        "        - list of OOV terms\n",
        "    \"\"\"\n",
        "    embedding_vocabulary = set(vocabulary)\n",
        "    oov = set(word_listing).difference(embedding_vocabulary)\n",
        "    return list(oov)"
      ]
    },
    {
      "cell_type": "code",
      "execution_count": 15,
      "metadata": {
        "colab": {
          "base_uri": "https://localhost:8080/"
        },
        "id": "H2MnS5ilADqv",
        "outputId": "7420e58a-e19f-4db5-e51d-d63f37c024fa"
      },
      "outputs": [
        {
          "output_type": "stream",
          "name": "stdout",
          "text": [
            "Total OOV terms: 2346 (29.29%)\n"
          ]
        }
      ],
      "source": [
        "OOV1 = check_OOV_terms(glove_emb_model.vocab.keys(), vocabulary_dict[\"train\"])\n",
        "OOV1_percentage = float(len(OOV1)) * 100 / len(vocabulary_dict[\"train\"])\n",
        "print(f\"Total OOV terms: {len(OOV1)} ({OOV1_percentage:.2f}%)\")"
      ]
    },
    {
      "cell_type": "markdown",
      "metadata": {
        "id": "zPySrACEC5D3"
      },
      "source": [
        "A lot of words are OOV simply because they start with capital letter, so we will lower all the words and check again the OOV. Before this section we can insert a graph showing the OOV words"
      ]
    },
    {
      "cell_type": "code",
      "execution_count": 16,
      "metadata": {
        "colab": {
          "base_uri": "https://localhost:8080/"
        },
        "id": "CB364Xx_C2vo",
        "outputId": "5c55e6dc-77b4-47da-e650-7261b32b3d79"
      },
      "outputs": [
        {
          "output_type": "stream",
          "name": "stdout",
          "text": [
            "Total OOV terms: 359 (4.48%)\n"
          ]
        }
      ],
      "source": [
        "OOV1_lowercase = check_OOV_terms(glove_emb_model.vocab.keys(), [v.lower() for v in vocabulary_dict[\"train\"]])\n",
        "OOV1_lowercase_percentage = float(len(OOV1_lowercase)) * 100 / len(vocabulary_dict[\"train\"])\n",
        "print(f\"Total OOV terms: {len(OOV1_lowercase)} ({OOV1_lowercase_percentage:.2f}%)\")"
      ]
    },
    {
      "cell_type": "code",
      "execution_count": 17,
      "metadata": {
        "colab": {
          "base_uri": "https://localhost:8080/"
        },
        "id": "sWzR_D1dGI-u",
        "outputId": "6bcadf39-4eba-41a0-9583-4d4383eba19b"
      },
      "outputs": [
        {
          "output_type": "stream",
          "name": "stdout",
          "text": [
            "69-point\n",
            "4.898\n",
            "twin-jet\n",
            "identity-management\n",
            "1\\/2\n",
            "when-issued\n",
            "flightiness\n",
            "vitulli\n",
            "life-insurance\n",
            "purepac\n",
            "sub-markets\n",
            "415.8\n",
            "737.5\n",
            "school-improvement\n",
            "red-blooded\n",
            "derel\n",
            "ac-130u\n",
            "macmillan\\/mcgraw\n",
            "14,821\n",
            "top-yielding\n",
            "subskills\n",
            "374.20\n",
            "-lrb-\n",
            "monchecourt\n",
            "unfair-trade\n",
            "cray-3\n",
            "pre-1917\n",
            "three-sevenths\n",
            "uzi-model\n",
            "18,444\n",
            "pianist-comedian\n",
            "4,393,237\n",
            "savers\\/investors\n",
            "kalipharma\n",
            "sogo-shosha\n",
            "family-planning\n",
            "38.375\n",
            "one-upsmanship\n",
            "wheeland\n",
            "floating-rate\n",
            "mortgage-based\n",
            "index-arbitrage\n",
            "62%-owned\n",
            "year-ago\n",
            "sino-u.s.\n",
            "705.6\n",
            "436.01\n",
            "subminimum\n",
            "amphobiles\n",
            "100,980\n",
            "497.34\n",
            "water-authority\n",
            "mouth-up\n",
            "malizia\n",
            "change-ringing\n",
            "twindam\n",
            "37-a-share\n",
            "hallwood\n",
            "integra-a\n",
            "antitrust-law\n",
            "collective-bargaining\n",
            "purhasing\n",
            "delwin\n",
            "corton-charlemagne\n",
            "anti-takeover\n",
            "nagymaros\n",
            "product-design\n",
            "chong-sik\n",
            "telephone-information\n",
            "less-serious\n",
            "moleculon\n",
            "old-house\n",
            "230-215\n",
            "chafic\n",
            "pattenden\n",
            "six-packs\n",
            "ensrud\n",
            "car-safety\n",
            "2,303,328\n",
            "times-stock\n",
            "1.8415\n",
            "12,252\n",
            "creator's\n",
            "superpremiums\n",
            "1\\/4\n",
            "two-sevenths\n",
            "automotive-lighting\n",
            "teacher-cadet\n",
            "micronite\n",
            "biondi-santi\n",
            "morale-damaging\n",
            "beer-belly\n",
            "520-lawyer\n",
            "computer-driven\n",
            "nesb\n",
            "70-a-share\n",
            "capital-gains\n",
            "wine-buying\n",
            "nipponese\n",
            "macmillan\\/mcgraw-hill\n",
            "akerfeldt\n",
            "subindustry\n",
            "84-month\n",
            "3057\n",
            "pre-1933\n",
            "jerritts\n",
            "fetal-tissue\n",
            "safe-deposit\n",
            "tarwhine\n",
            "30,841\n",
            "retin-a\n",
            "subskill\n",
            "cotran\n",
            "sport-utility\n",
            "northy\n",
            "money-center\n",
            "5\\/8\n",
            "front-seat\n",
            "gingl\n",
            "deposits-a\n",
            "236.74\n",
            "143.93\n",
            "449.04\n",
            "90-cent-an-hour\n",
            "bumkins\n",
            "samnick\n",
            "cash-rich\n",
            "wtd\n",
            "142.85\n",
            "bridgestone\\/firestone\n",
            "ntg\n",
            "univest\n",
            "bermuda-based\n",
            "post-hearing\n",
            "82,389\n",
            "tiphook\n",
            "yen-denominated\n",
            "achievement-test\n",
            "unenticing\n",
            "boorse\n",
            "one-yen\n",
            "equal-opportunity\n",
            "hummerstone\n",
            "glenham\n",
            "8300s\n",
            "non-encapsulating\n",
            "senate-house\n",
            "training-wage\n",
            "jalaalwalikraam\n",
            "rexinger\n",
            "stock-index\n",
            "electric-utility\n",
            "program-trading\n",
            "sometimes-exhausting\n",
            "236.79\n",
            "nih-appointed\n",
            "143.08\n",
            "roof-crush\n",
            "solaia\n",
            "besuboru\n",
            "junk-bond\n",
            "replacement-car\n",
            "money-fund\n",
            "small-company\n",
            "nissho-iwai\n",
            "building-products\n",
            "rate-sensitive\n",
            "erbamont\n",
            "95,142\n",
            "incentive-bonus\n",
            "aslacton\n",
            "centerbank\n",
            "278.7\n",
            "eight-count\n",
            "sub-segments\n",
            "127.03\n",
            "bald-faced\n",
            "securities-based\n",
            "361,376\n",
            "ratners\n",
            "pathlogy\n",
            "sharedata\n",
            "chinchon\n",
            "non-biodegradable\n",
            "stock-manipulation\n",
            "merger-related\n",
            "16,072\n",
            "foreign-stock\n",
            "satrum\n",
            "colonsville\n",
            "built-from-kit\n",
            "trockenbeerenauslesen\n",
            "six-bottle\n",
            "drag-down\n",
            "machine-gun-toting\n",
            "iran\\/contra\n",
            "new-home\n",
            "meinders\n",
            "big-ticket\n",
            "re-thought\n",
            "forest-product\n",
            "home-market\n",
            "rapanelli\n",
            "high-rate\n",
            "13,056\n",
            "school-board\n",
            "374.19\n",
            "3,288,453\n",
            "abortion-related\n",
            "revenue-desperate\n",
            "lafite-rothschild\n",
            "chilver\n",
            "index-related\n",
            "-rcb-\n",
            "dead-eyed\n",
            "school-research\n",
            "143.80\n",
            "1.457\n",
            "3.253\n",
            "yeargin\n",
            "greenmailer\n",
            "veselich\n",
            "macheski\n",
            "search-and-seizure\n",
            "sticker-shock\n",
            "index-options\n",
            "polyproplene\n",
            "ingersoll-rand\n",
            "sometimes-tawdry\n",
            "test-prep\n",
            "bell-ringer\n",
            "makato\n",
            "382-37\n",
            "church-goers\n",
            "pramual\n",
            "446.62\n",
            "food-shop\n",
            "drobnick\n",
            "tissue-transplant\n",
            "alurralde\n",
            "buttoned-down\n",
            "test-preparation\n",
            "yen-support\n",
            "investor-relations\n",
            "school-district\n",
            "352.7\n",
            "durable-goods\n",
            "summer\\/winter\n",
            "marketing-communications\n",
            "pennview\n",
            "sanderoff\n",
            "2645.90\n",
            "62.625\n",
            "circuit-breaker\n",
            "video-viewing\n",
            "c.j.b.\n",
            "red-flag\n",
            "mininum-wage\n",
            "500,004\n",
            "415.6\n",
            "landonne\n",
            "side-crash\n",
            "trading-company\n",
            "234.4\n",
            "anti-china\n",
            "page-one\n",
            "cop-killer\n",
            "weisfield\n",
            "rubinfien\n",
            "romanee-conti\n",
            "forest-products\n",
            "auto-safety\n",
            "student-test\n",
            "recession-inspired\n",
            "ghkm\n",
            "norwick\n",
            "limited-partnership\n",
            "nearly-30\n",
            "year-earlier\n",
            "c-90\n",
            "chemplus\n",
            "three-lawyer\n",
            "bellringers\n",
            "wfrr\n",
            "we-japanese\n",
            "government-certified\n",
            "computer-system-design\n",
            "light-truck\n",
            "11,762\n",
            "co-developers\n",
            "savings-and-loan\n",
            "money-market\n",
            "direct-investment\n",
            "test-coaching\n",
            "college-bowl\n",
            "high-balance\n",
            "sell-offs\n",
            "anti-abortionists\n",
            "lap-shoulder\n",
            "one-country\n",
            "16.125\n",
            "odd-sounding\n",
            "secilia\n",
            "456.64\n",
            "security-type\n",
            "9,118\n",
            "language-housekeeper\n",
            "1.5755\n",
            "synergistics\n",
            "lower-priority\n",
            "highest-pitched\n",
            "lezovich\n",
            "automotive-parts\n",
            "rope-sight\n",
            "preparatives\n",
            "intellectual-property\n",
            "-lcb-\n",
            "stirlen\n",
            "war-rationed\n",
            "higher-salaried\n",
            "coche-dury\n",
            "detective-story\n",
            "social-studies\n",
            "dust-up\n",
            "sacramento-based\n",
            "271,124\n",
            "1\\/10th\n",
            "prize-fighter\n",
            "5.276\n",
            "shirt-sleeved\n",
            "ariail\n",
            "dollar-yen\n",
            "low-ball\n",
            "-rrb-\n",
            "foreign-led\n",
            "ft-se\n",
            "state-supervised\n",
            "wheel-loader\n",
            "ctbs\n",
            "3\\/4\n",
            "mehrens\n",
            "trettien\n",
            "market-share\n",
            "pro-forma\n",
            "energy-services\n",
            "asset-sale\n",
            "nekoosa\n",
            "7\\/8\n",
            "muscolina\n",
            "custom-chip\n",
            "vinken\n",
            "industrial-production\n",
            "futures-related\n",
            "thin-lipped\n",
            "test-practice\n",
            "low-ability\n",
            "crocidolite\n",
            "more-efficient\n",
            "autions\n"
          ]
        }
      ],
      "source": [
        "print(\"\\n\".join(OOV1_lowercase))"
      ]
    },
    {
      "cell_type": "markdown",
      "metadata": {
        "id": "b5RNdNYYHYwQ"
      },
      "source": [
        "# Preprocessing\n",
        "\n",
        "Here we replace bracket value with their symbols: \n",
        "```\n",
        "  -lrb- and -lcb-   -->  ( \n",
        "  -rrb- and -rcb-   -->  )\n",
        "```\n",
        "\n",
        "In addition, all the rational numbers will be replaced with the placeholder #number#, as long as the floating point numbers.\n",
        "Note that rational numbers, instead of being like 3/4, are written as 3\\/4. The cause is that symbol \"/\" is represented using \"\\/\", as this happens also in other words that are notrational ones\n",
        "\n",
        "\n",
        "\n",
        "\n"
      ]
    },
    {
      "cell_type": "code",
      "execution_count": 18,
      "metadata": {
        "id": "d9H61yyiHYbT"
      },
      "outputs": [],
      "source": [
        "def preprocessing(content_list: List[str]) -> List[str]:\n",
        "    placeholder = \"#number#\"\n",
        "    re_slashes = re.compile('\\\\\\/')  #pattern \\/ \n",
        "    re_rational = re.compile('\\d+\\/\\d+')  #pattern rational number (e.g. 1/5)\n",
        "    re_number = re.compile('[+-]?(\\d*[.])\\d+')  #pattern decimal number (e.g. 3.14)\n",
        "    re_left_bracket = re.compile('(-lrb-)|(-lcb-)')  #pattern left bracket\n",
        "    re_right_bracket = re.compile('(-rrb-)|(-rcb-)')  #pattern right bracket\n",
        "    re_slashed_words = re.compile(\"(\\w*)\\/(\\w*)\")  #a slash separating words will be replaced with a dash, following the trend of the dataset, where composed words are in the form word-word\n",
        "\n",
        "    content_list_preprocessed = [content.lower() for content in content_list]\n",
        "    content_list_preprocessed = [re_slashes.sub(\"/\", content) for content in content_list_preprocessed]\n",
        "    content_list_preprocessed = [re_left_bracket.sub(\"(\", content) for content in content_list_preprocessed]\n",
        "    content_list_preprocessed = [re_right_bracket.sub(\")\", content) for content in content_list_preprocessed]\n",
        "    content_list_preprocessed = [placeholder if re.match(re_rational, content) else content for content in content_list_preprocessed]\n",
        "    content_list_preprocessed = [placeholder if re.match(re_number, content) else content for content in content_list_preprocessed]\n",
        "    content_list_preprocessed = [content.replace(\"/\", \"-\") if re.match(re_slashed_words, content) else content for content in content_list_preprocessed]\n",
        "\n",
        "    return content_list_preprocessed\n"
      ]
    },
    {
      "cell_type": "markdown",
      "metadata": {
        "id": "OzNl0nSGdEwd"
      },
      "source": [
        "Preprocessing the training dataset"
      ]
    },
    {
      "cell_type": "code",
      "execution_count": 19,
      "metadata": {
        "id": "GyjnI2JZbADI"
      },
      "outputs": [],
      "source": [
        "x_train_preprocessed = x[\"train\"].apply(preprocessing)"
      ]
    },
    {
      "cell_type": "markdown",
      "metadata": {
        "id": "M-Vw8s63garq"
      },
      "source": [
        "Building the new vocabulary after preprocessing"
      ]
    },
    {
      "cell_type": "code",
      "execution_count": 20,
      "metadata": {
        "colab": {
          "base_uri": "https://localhost:8080/"
        },
        "id": "KcxlVwQFgaRr",
        "outputId": "2c6ae0fc-bd85-4be5-9df1-a5be59b0218b"
      },
      "outputs": [
        {
          "output_type": "stream",
          "name": "stderr",
          "text": [
            "100%|██████████| 1963/1963 [00:00<00:00, 2428.31it/s]\n"
          ]
        },
        {
          "output_type": "stream",
          "name": "stdout",
          "text": [
            "\n",
            "[Debug] train vocabulary size after preprocessing: 7214\n",
            "Total OOV terms: 318 (4.41%)\n"
          ]
        }
      ],
      "source": [
        "train_vocabulary_preprocessed = build_vocabulary(x_train_preprocessed)\n",
        "print()\n",
        "print(f'[Debug] train vocabulary size after preprocessing: {len(train_vocabulary_preprocessed)}')\n",
        "\n",
        "OOV1_preprocessed = check_OOV_terms(glove_emb_model.vocab.keys(), train_vocabulary_preprocessed)\n",
        "OOV1_preprocessed_percentage = float(len(OOV1_preprocessed)) * 100 / len(train_vocabulary_preprocessed)\n",
        "print(f\"Total OOV terms: {len(OOV1_preprocessed)} ({OOV1_preprocessed_percentage:.2f}%)\")"
      ]
    },
    {
      "cell_type": "markdown",
      "metadata": {
        "id": "j5OLPRGc6svj"
      },
      "source": [
        "It can be seen that the number of OOV words has plummetted with respect to the the non preprocessed data. Similarly to train data, we apply preprocessing to validation and test splits."
      ]
    },
    {
      "cell_type": "code",
      "execution_count": 21,
      "metadata": {
        "id": "MEec69AT_KEw"
      },
      "outputs": [],
      "source": [
        "x_pre = {\"train\": x_train_preprocessed,\n",
        "        \"val\": x[\"val\"].apply(preprocessing),\n",
        "        \"test\": x[\"test\"].apply(preprocessing)}"
      ]
    },
    {
      "cell_type": "markdown",
      "metadata": {
        "id": "EElOhl9F-x9-"
      },
      "source": [
        "# Vocabulary creation and mapping\n",
        "Since we want to work with numerical data only, we will mapp words and pos (labels) to numbers. "
      ]
    },
    {
      "cell_type": "code",
      "execution_count": 22,
      "metadata": {
        "id": "_j91cRBqAN1x"
      },
      "outputs": [],
      "source": [
        "# Methods to create mapping\n",
        "\n",
        "#adds oov words at the end of vocabulary\n",
        "def extend_vocabulary(word_to_idx_original: Dict[str, int],\n",
        "                      words_to_add) -> Tuple[Dict[str, int],Dict[int, str]]:\n",
        "  \"\"\"\n",
        "    Given mapping between word and indeces, adds new words.\n",
        "\n",
        "    :param word_to_idx_original: dictionary with key=word and value=index to which the word is mapped\n",
        "    :return:\n",
        "      - word_to_idx_extended: word_to_idx with new words\n",
        "      - idx_to_word_extended: swapped version of word_to_idx_extended (keys and values are swapped)\n",
        "  \"\"\"\n",
        "  word_to_idx_extended = copy.deepcopy(word_to_idx_original)  #deep copy is needed, otherwise python does not create a copy but only a reference to the already existing object, thus reflecting changes on both\n",
        "  idx = len(word_to_idx_extended.keys())\n",
        "  if idx == 0: \n",
        "    idx = 1  #position 0 is reserved\n",
        "\n",
        "  for sentence in words_to_add:\n",
        "      for token in sentence:\n",
        "          if token not in word_to_idx_extended:\n",
        "              word_to_idx_extended[token] = idx \n",
        "              idx += 1\n",
        "  idx_to_word_extended = {v: k for k, v in word_to_idx_extended.items()}\n",
        "\n",
        "  return word_to_idx_extended, idx_to_word_extended\n",
        "\n",
        "def encode_into_numbers(sentences: List[str],\n",
        "                        word_to_idx_mapping: Dict[str, int]) -> List[int]:\n",
        "    \"\"\"\n",
        "    Return a list of sequences encoded into integers following the mapping of the vocabulary\n",
        "    \"\"\"\n",
        "    encoded_data = [[word_to_idx_mapping[token] for token in sentence] for sentence in sentences]\n",
        " \n",
        "    return encoded_data\n",
        "\n",
        "def decode_into_words(encoded_sentences: List[str],\n",
        "                        idx_to_word_mapping: Dict[int,str]) -> List[str]:\n",
        "    \"\"\"\n",
        "    Return a list of sequences decoded back to words following the (reverse) mapping of the vocabulary\n",
        "    \"\"\"\n",
        "    decoded_data = [[idx_to_word_mapping[index] for index in sentence] for sentence in encoded_sentences]\n",
        " \n",
        "    return decoded_data\n"
      ]
    },
    {
      "cell_type": "markdown",
      "metadata": {
        "id": "HV32wJ90RamP"
      },
      "source": [
        "Encoding the words"
      ]
    },
    {
      "cell_type": "code",
      "execution_count": 23,
      "metadata": {
        "colab": {
          "base_uri": "https://localhost:8080/"
        },
        "id": "BbeQJNAlEzl2",
        "outputId": "ae110c11-81f8-4260-d8c0-ffd160b3f17d"
      },
      "outputs": [
        {
          "output_type": "stream",
          "name": "stdout",
          "text": [
            "Train vocabulary size:  400318\n",
            "Val vocabulary size:  400475\n",
            "Test vocabulary size:  400571\n"
          ]
        }
      ],
      "source": [
        "#creating vocabulary mapping for the words in the data set\n",
        "#Note that they are incremental, this means that the val vocabulary includes the rain one, and the test one inlcudes train and val ones\n",
        "#This has been made according to the guidelines on the construction of V1, V2, V3, V4. \n",
        "#All in all, the complete vocabulary is the one with _test suffix\n",
        "#In the embedding section the intermediate vocabularies will be used according to what they contain. For example, to compute the embedding matrix on the train set, we will use word_to_idx_train, while for validation word_to_idx_val\n",
        "word_to_idx_train, idx_to_word_train = extend_vocabulary({}, [glove_emb_model.vocab.keys()] + x_pre[\"train\"].tolist())\n",
        "print(\"Train vocabulary size: \", len(word_to_idx_train))\n",
        "word_to_idx_val, idx_to_word_val = extend_vocabulary(word_to_idx_train, x_pre[\"val\"].tolist())\n",
        "print(\"Val vocabulary size: \", len(word_to_idx_val))\n",
        "word_to_idx_test, idx_to_word_test = extend_vocabulary(word_to_idx_val, x_pre[\"test\"].tolist())\n",
        "print(\"Test vocabulary size: \", len(word_to_idx_test))\n",
        "\n",
        "#encoding the data set\n",
        "\n",
        "x_enc = {\"train\": encode_into_numbers(x_pre[\"train\"].tolist(), word_to_idx_train),\n",
        "        \"val\": encode_into_numbers(x_pre[\"val\"].tolist(), word_to_idx_val),\n",
        "        \"test\": encode_into_numbers(x_pre[\"test\"].tolist(), word_to_idx_test)}\n"
      ]
    },
    {
      "cell_type": "markdown",
      "metadata": {
        "id": "qGsgMfcmRUIN"
      },
      "source": [
        "Encoding the labels (pos)"
      ]
    },
    {
      "cell_type": "code",
      "execution_count": 24,
      "metadata": {
        "colab": {
          "base_uri": "https://localhost:8080/"
        },
        "id": "1PzlKA-eHJBr",
        "outputId": "91d0c2f8-5e30-432e-ff45-e595a8c78184"
      },
      "outputs": [
        {
          "output_type": "stream",
          "name": "stdout",
          "text": [
            "In the dataset there are 45 distinct POS\n"
          ]
        }
      ],
      "source": [
        "#creating vocabulary mapping for the labels in the whole dataset\n",
        "label_to_idx, idx_to_label = extend_vocabulary({},  y[\"train\"].tolist() + y[\"val\"].tolist() + y[\"test\"].tolist())\n",
        "\n",
        "y_enc = {\"train\": encode_into_numbers(y[\"train\"].tolist(), label_to_idx),\n",
        "        \"val\": encode_into_numbers(y[\"val\"].tolist(), label_to_idx),\n",
        "        \"test\": encode_into_numbers(y[\"test\"].tolist(), label_to_idx)}\n",
        "\n",
        "number_pos = len(label_to_idx)\n",
        "print(f\"In the dataset there are {number_pos} distinct POS\")"
      ]
    },
    {
      "cell_type": "code",
      "execution_count": 25,
      "metadata": {
        "colab": {
          "base_uri": "https://localhost:8080/"
        },
        "id": "OdwaxJlw3AV0",
        "outputId": "bd19b767-68ff-410c-da52-bc037fdba10e"
      },
      "outputs": [
        {
          "output_type": "stream",
          "name": "stdout",
          "text": [
            "[5030, 400001, 2, 4979, 83, 168, 2, 44, 1430, 1, 535, 20, 8, 128565, 370, 2344, 1264, 3]\n",
            "[['pierre', 'vinken', ',', '61', 'years', 'old', ',', 'will', 'join', 'the', 'board', 'as', 'a', 'nonexecutive', 'director', 'nov.', '29', '.']]\n",
            "['Pierre', 'Vinken', ',', '61', 'years', 'old', ',', 'will', 'join', 'the', 'board', 'as', 'a', 'nonexecutive', 'director', 'Nov.', '29', '.']\n"
          ]
        }
      ],
      "source": [
        "print(x_enc[\"train\"][0])\n",
        "print(decode_into_words([x_enc[\"train\"][0]], idx_to_word_test))\n",
        "print(df_dict[\"train\"][\"sentence\"].iloc[0])"
      ]
    },
    {
      "cell_type": "code",
      "execution_count": 26,
      "metadata": {
        "colab": {
          "base_uri": "https://localhost:8080/"
        },
        "id": "e3G3-Pbx3ZmJ",
        "outputId": "ac33bb56-c603-45e6-8672-fb812ddf87b9"
      },
      "outputs": [
        {
          "output_type": "stream",
          "name": "stdout",
          "text": [
            "[['NNP', 'NNP', ',', 'CD', 'NNS', 'JJ', ',', 'MD', 'VB', 'DT', 'NN', 'IN', 'DT', 'JJ', 'NN', 'NNP', 'CD', '.']]\n",
            "['NNP', 'NNP', ',', 'CD', 'NNS', 'JJ', ',', 'MD', 'VB', 'DT', 'NN', 'IN', 'DT', 'JJ', 'NN', 'NNP', 'CD', '.']\n",
            "[1, 1, 2, 3, 4, 5, 2, 6, 7, 8, 9, 10, 8, 5, 9, 1, 3, 11]\n"
          ]
        }
      ],
      "source": [
        "print(decode_into_words([y_enc[\"train\"][0]], idx_to_label))\n",
        "print(df_dict[\"train\"][\"labels\"].iloc[0])\n",
        "print(y_enc[\"train\"][0])"
      ]
    },
    {
      "cell_type": "markdown",
      "metadata": {
        "id": "mAv5AHB_REM5"
      },
      "source": [
        "# Embedding matrix"
      ]
    },
    {
      "cell_type": "code",
      "execution_count": 27,
      "metadata": {
        "id": "QGCi8pguRH-5"
      },
      "outputs": [],
      "source": [
        "def get_dashed_embeddings(embedding_model, word):\n",
        "  if \"-\" in word:\n",
        "    words_split = word.split(\"-\")\n",
        "    words_split.sort(key=len)  #getting the encoding of compound words starting from the longest one\n",
        "    for word_piece in words_split:\n",
        "      try:\n",
        "        return embedding_model[word]  #if a word is found, assign its embedding to the matrix element\n",
        "      except:\n",
        "        pass  #if a word is not found, do nothing\n",
        "  return None\n",
        "\n",
        "def build_embedding_matrix(embedding_model: gensim.models.keyedvectors.KeyedVectors,\n",
        "                           embedding_dimension: int,\n",
        "                           word_to_idx: Dict[str, int]) -> np.ndarray:\n",
        "    \"\"\"\n",
        "    Builds the embedding matrix of a specific dataset given a pre-trained word embedding model\n",
        "\n",
        "    :param embedding_model: pre-trained word embedding model (gensim wrapper)\n",
        "    :param embedding_dimension: \n",
        "\n",
        "    :return\n",
        "        - embedding matrix that assigns a high dimensional vector to each word in the dataset specific vocabulary (shape |V| x d)\n",
        "    \"\"\"\n",
        "    embedding_matrix = np.zeros((len(word_to_idx)+1, embedding_dimension), dtype=np.float32)\n",
        "    \n",
        "    #adding all GloVe vocabularies embeddings\n",
        "    for word, idx in tqdm(word_to_idx.items()):\n",
        "      if word in embedding_model:\n",
        "          embedding_matrix[idx] = embedding_model[word]\n",
        "      else: \n",
        "          dashed_embedding = get_dashed_embeddings(embedding_model, word)\n",
        "          if dashed_embedding is None: #it means that word has no dash or all its subwords are oov\n",
        "              dashed_embedding = np.random.uniform(low=-0.05, high=0.05, size=embedding_dimension)\n",
        "          embedding_matrix[idx] = dashed_embedding\n",
        " \n",
        "    return embedding_matrix\n",
        "\n",
        "\n",
        "#This functions adds the embedding of OOV words to the embedding matrix. Note tht it directly tries to find an embedding for dashed words and if none is retrieved it uses a uniform random distribution\n",
        "def extend_embedding_matrix(embedding_model: gensim.models.keyedvectors.KeyedVectors,\n",
        "                            embedding_matrix: np.ndarray,\n",
        "                            word_to_idx: Dict[str, int]) -> np.ndarray:\n",
        "\n",
        "    oov_terms = [key for key, idx in word_to_idx.items() if idx >= embedding_matrix.shape[0]] #all the terms with mapped to an index gretaer than the vocabulary size (number of rows) are not in the embedding matrix \n",
        "    oov_embedding_matrix = np.zeros((len(oov_terms), embedding_matrix.shape[1]), dtype=np.float32)\n",
        "    \n",
        "    for idx, oov in enumerate(oov_terms):\n",
        "        dashed_embedding = get_dashed_embeddings(embedding_model, oov)\n",
        "        if dashed_embedding is None: #it means that word has no dash or all its subwords are oov\n",
        "            dashed_embedding = np.random.uniform(low=-0.05, high=0.05, size=embedding_matrix.shape[1])\n",
        "\n",
        "        oov_embedding_matrix[idx] = dashed_embedding\n",
        "\n",
        "    return np.concatenate([embedding_matrix, oov_embedding_matrix], axis=0)"
      ]
    },
    {
      "cell_type": "code",
      "execution_count": 28,
      "metadata": {
        "colab": {
          "base_uri": "https://localhost:8080/"
        },
        "id": "ERNzAqnMELNB",
        "outputId": "3c786354-2d0e-4657-b4ec-698a981cf835"
      },
      "outputs": [
        {
          "output_type": "stream",
          "name": "stderr",
          "text": [
            "100%|██████████| 400318/400318 [00:00<00:00, 437098.75it/s]\n"
          ]
        },
        {
          "output_type": "stream",
          "name": "stdout",
          "text": [
            "(400319, 50)\n",
            "(400475, 50)\n",
            "(400571, 50)\n"
          ]
        }
      ],
      "source": [
        "embedding_matrix = build_embedding_matrix(glove_emb_model, \n",
        "                                          EMBEDDING_DIMENSION,\n",
        "                                          word_to_idx_train)\n",
        "print(embedding_matrix.shape)\n",
        "\n",
        "embedding_matrix = extend_embedding_matrix(glove_emb_model, \n",
        "                                          embedding_matrix,\n",
        "                                          word_to_idx_val)\n",
        "print(embedding_matrix.shape)\n",
        "\n",
        "embedding_matrix = extend_embedding_matrix(glove_emb_model, \n",
        "                                          embedding_matrix,\n",
        "                                          word_to_idx_test)\n",
        "print(embedding_matrix.shape)"
      ]
    },
    {
      "cell_type": "code",
      "execution_count": 29,
      "metadata": {
        "colab": {
          "base_uri": "https://localhost:8080/"
        },
        "id": "8nH2_yE1B5Lc",
        "outputId": "377a92d6-cfd4-46e7-c528-32662e780e36"
      },
      "outputs": [
        {
          "output_type": "stream",
          "name": "stdout",
          "text": [
            "vinken\n"
          ]
        }
      ],
      "source": [
        "print(idx_to_word_train[400001])"
      ]
    },
    {
      "cell_type": "code",
      "execution_count": 30,
      "metadata": {
        "colab": {
          "base_uri": "https://localhost:8080/"
        },
        "id": "z88wYmcqBftt",
        "outputId": "ebda60e8-bd3f-470e-d707-514615bd05d5"
      },
      "outputs": [
        {
          "output_type": "stream",
          "name": "stdout",
          "text": [
            "[-0.01254599  0.04507143  0.02319939  0.00986585 -0.03439813 -0.03440055\n",
            " -0.04419164  0.03661761  0.0101115   0.02080726 -0.04794155  0.04699099\n",
            "  0.03324426 -0.02876609 -0.0318175  -0.03165955 -0.01957578  0.00247564\n",
            " -0.0068055  -0.02087709  0.01118529 -0.03605061 -0.02078553 -0.01336382\n",
            " -0.004393    0.0285176  -0.03003262  0.00142344  0.00924146 -0.04535496\n",
            "  0.01075449 -0.03294759 -0.04349484  0.04488855  0.0465632   0.03083974\n",
            " -0.01953862 -0.04023279  0.0184233  -0.00598475 -0.03779618 -0.00048231\n",
            " -0.04656115  0.04093204 -0.024122    0.01625223 -0.01882889  0.0020068\n",
            "  0.00467103 -0.03151456]\n"
          ]
        }
      ],
      "source": [
        "print(embedding_matrix[400001])"
      ]
    },
    {
      "cell_type": "markdown",
      "metadata": {
        "id": "2HIZO1d8SPFq"
      },
      "source": [
        "# Sequence length standardization \n",
        "Every sentence must have the same length, otherwise we would habe different input sizes"
      ]
    },
    {
      "cell_type": "code",
      "execution_count": 31,
      "metadata": {
        "id": "PHtxPN12Xu12"
      },
      "outputs": [],
      "source": [
        "max_length_dict = {\"train\": len(max(x_enc[\"train\"], key=len)),\n",
        "                   \"val\": len(max(x_enc[\"val\"], key=len)),\n",
        "                   \"test\": len(max(x_enc[\"test\"], key=len))}\n",
        "\n",
        "number_pos = len(label_to_idx) + 1 #to add the padding\n",
        "x_st, y_st, y_cat = {}, {}, {}\n",
        "\n",
        "for key in max_length_dict.keys():\n",
        "    x_st[key] = pad_sequences(x_enc[key], maxlen=max_length_dict[key], padding='post')\n",
        "    y_st[key] = pad_sequences(y_enc[key], maxlen=max_length_dict[key], padding='post')\n",
        "    y_cat[key] = to_categorical(y_st[key], num_classes=number_pos)"
      ]
    },
    {
      "cell_type": "code",
      "source": [
        "print(max_length_dict)"
      ],
      "metadata": {
        "colab": {
          "base_uri": "https://localhost:8080/"
        },
        "id": "f_Um3hK7IrGm",
        "outputId": "b64d7d0c-38bd-44fd-aed1-6ff429746495"
      },
      "execution_count": 32,
      "outputs": [
        {
          "output_type": "stream",
          "name": "stdout",
          "text": [
            "{'train': 249, 'val': 81, 'test': 58}\n"
          ]
        }
      ]
    },
    {
      "cell_type": "markdown",
      "metadata": {
        "id": "yoFjfVeiiN4k"
      },
      "source": [
        "# Models"
      ]
    },
    {
      "cell_type": "code",
      "execution_count": 34,
      "metadata": {
        "id": "51i4hAotnH_s"
      },
      "outputs": [],
      "source": [
        "models = {}\n",
        "history = {}\n",
        "batch_size = 10\n",
        "epochs = 30\n",
        "units = 100"
      ]
    },
    {
      "cell_type": "markdown",
      "metadata": {
        "id": "dzdywqEviQla"
      },
      "source": [
        "## Baseline model"
      ]
    },
    {
      "cell_type": "code",
      "execution_count": 33,
      "metadata": {
        "id": "mJuzjdbijeLU"
      },
      "outputs": [],
      "source": [
        "def build_baseline_model(num_pos, \n",
        "                        embedding_matrix, \n",
        "                        name = 'baseline',\n",
        "                        units=units):\n",
        "  inputs = Input(shape=(None,), dtype=\"int32\")\n",
        "  \n",
        "  m = Embedding(input_dim=embedding_matrix.shape[0], \n",
        "                output_dim=embedding_matrix.shape[1],\n",
        "                mask_zero=True, \n",
        "                weights=[embedding_matrix], \n",
        "                trainable=False)(inputs)\n",
        "\n",
        "  m = Bidirectional(LSTM(units=units, return_sequences=True))(m)\n",
        "\n",
        "  m = Dense(num_pos, activation='softmax')(m)\n",
        "  return Model(inputs, m, name=name)"
      ]
    },
    {
      "cell_type": "code",
      "execution_count": 35,
      "metadata": {
        "id": "AzKme1uQiYRC",
        "colab": {
          "base_uri": "https://localhost:8080/"
        },
        "outputId": "3147d18f-4b25-4d02-db5c-2fc44054d1f8"
      },
      "outputs": [
        {
          "output_type": "stream",
          "name": "stdout",
          "text": [
            "Model: \"baseline\"\n",
            "_________________________________________________________________\n",
            " Layer (type)                Output Shape              Param #   \n",
            "=================================================================\n",
            " input_1 (InputLayer)        [(None, None)]            0         \n",
            "                                                                 \n",
            " embedding (Embedding)       (None, None, 50)          20028550  \n",
            "                                                                 \n",
            " bidirectional (Bidirectiona  (None, None, 200)        120800    \n",
            " l)                                                              \n",
            "                                                                 \n",
            " dense (Dense)               (None, None, 46)          9246      \n",
            "                                                                 \n",
            "=================================================================\n",
            "Total params: 20,158,596\n",
            "Trainable params: 130,046\n",
            "Non-trainable params: 20,028,550\n",
            "_________________________________________________________________\n"
          ]
        }
      ],
      "source": [
        "models[\"baseline\"] = build_baseline_model(num_pos = number_pos, \n",
        "                                          embedding_matrix = embedding_matrix, \n",
        "                                          name=\"baseline\")\n",
        "models[\"baseline\"].summary()"
      ]
    },
    {
      "cell_type": "code",
      "source": [
        "models['baseline'].compile(optimizer ='adam', \n",
        "                           loss = 'categorical_crossentropy', \n",
        "                           metrics = ['accuracy'])"
      ],
      "metadata": {
        "id": "3BuHK1jl-5D3"
      },
      "execution_count": 36,
      "outputs": []
    },
    {
      "cell_type": "code",
      "execution_count": 37,
      "metadata": {
        "colab": {
          "base_uri": "https://localhost:8080/"
        },
        "id": "E69SDCkmlv1h",
        "outputId": "b26313a0-3766-43b5-9066-dbbe1d1b520b"
      },
      "outputs": [
        {
          "output_type": "stream",
          "name": "stdout",
          "text": [
            "Epoch 1/30\n",
            "197/197 [==============================] - 19s 33ms/step - loss: 0.1985 - accuracy: 0.4652 - val_loss: 0.3785 - val_accuracy: 0.6593\n",
            "Epoch 2/30\n",
            "197/197 [==============================] - 4s 20ms/step - loss: 0.0963 - accuracy: 0.7353 - val_loss: 0.2644 - val_accuracy: 0.7482\n",
            "Epoch 3/30\n",
            "197/197 [==============================] - 7s 34ms/step - loss: 0.0727 - accuracy: 0.7929 - val_loss: 0.2214 - val_accuracy: 0.7866\n",
            "Epoch 4/30\n",
            "197/197 [==============================] - 8s 39ms/step - loss: 0.0615 - accuracy: 0.8223 - val_loss: 0.1962 - val_accuracy: 0.8103\n",
            "Epoch 5/30\n",
            "197/197 [==============================] - 6s 30ms/step - loss: 0.0541 - accuracy: 0.8409 - val_loss: 0.1807 - val_accuracy: 0.8246\n",
            "Epoch 6/30\n",
            "197/197 [==============================] - 4s 20ms/step - loss: 0.0484 - accuracy: 0.8572 - val_loss: 0.1680 - val_accuracy: 0.8327\n",
            "Epoch 7/30\n",
            "197/197 [==============================] - 4s 20ms/step - loss: 0.0437 - accuracy: 0.8700 - val_loss: 0.1583 - val_accuracy: 0.8422\n",
            "Epoch 8/30\n",
            "197/197 [==============================] - 4s 19ms/step - loss: 0.0398 - accuracy: 0.8826 - val_loss: 0.1520 - val_accuracy: 0.8457\n",
            "Epoch 9/30\n",
            "197/197 [==============================] - 5s 24ms/step - loss: 0.0364 - accuracy: 0.8932 - val_loss: 0.1445 - val_accuracy: 0.8540\n",
            "Epoch 10/30\n",
            "197/197 [==============================] - 4s 19ms/step - loss: 0.0333 - accuracy: 0.9031 - val_loss: 0.1383 - val_accuracy: 0.8598\n",
            "Epoch 11/30\n",
            "197/197 [==============================] - 4s 19ms/step - loss: 0.0305 - accuracy: 0.9114 - val_loss: 0.1351 - val_accuracy: 0.8627\n",
            "Epoch 12/30\n",
            "197/197 [==============================] - 4s 19ms/step - loss: 0.0282 - accuracy: 0.9184 - val_loss: 0.1304 - val_accuracy: 0.8668\n",
            "Epoch 13/30\n",
            "197/197 [==============================] - 4s 19ms/step - loss: 0.0258 - accuracy: 0.9267 - val_loss: 0.1278 - val_accuracy: 0.8705\n",
            "Epoch 14/30\n",
            "197/197 [==============================] - 4s 19ms/step - loss: 0.0237 - accuracy: 0.9338 - val_loss: 0.1257 - val_accuracy: 0.8705\n",
            "Epoch 15/30\n",
            "197/197 [==============================] - 4s 19ms/step - loss: 0.0218 - accuracy: 0.9402 - val_loss: 0.1241 - val_accuracy: 0.8727\n",
            "Epoch 16/30\n",
            "197/197 [==============================] - 4s 20ms/step - loss: 0.0200 - accuracy: 0.9459 - val_loss: 0.1231 - val_accuracy: 0.8733\n",
            "Epoch 17/30\n",
            "197/197 [==============================] - 4s 20ms/step - loss: 0.0184 - accuracy: 0.9512 - val_loss: 0.1211 - val_accuracy: 0.8752\n",
            "Epoch 18/30\n",
            "197/197 [==============================] - 5s 24ms/step - loss: 0.0169 - accuracy: 0.9558 - val_loss: 0.1214 - val_accuracy: 0.8753\n",
            "Epoch 19/30\n",
            "197/197 [==============================] - 4s 20ms/step - loss: 0.0155 - accuracy: 0.9606 - val_loss: 0.1231 - val_accuracy: 0.8730\n",
            "Epoch 20/30\n",
            "197/197 [==============================] - 4s 19ms/step - loss: 0.0141 - accuracy: 0.9653 - val_loss: 0.1218 - val_accuracy: 0.8751\n",
            "Epoch 21/30\n",
            "197/197 [==============================] - 4s 20ms/step - loss: 0.0128 - accuracy: 0.9687 - val_loss: 0.1233 - val_accuracy: 0.8745\n",
            "Epoch 22/30\n",
            "197/197 [==============================] - 5s 24ms/step - loss: 0.0115 - accuracy: 0.9742 - val_loss: 0.1236 - val_accuracy: 0.8735\n",
            "Epoch 23/30\n",
            "197/197 [==============================] - 4s 19ms/step - loss: 0.0104 - accuracy: 0.9781 - val_loss: 0.1256 - val_accuracy: 0.8756\n",
            "Epoch 24/30\n",
            "197/197 [==============================] - 6s 28ms/step - loss: 0.0094 - accuracy: 0.9812 - val_loss: 0.1264 - val_accuracy: 0.8728\n",
            "Epoch 25/30\n",
            "197/197 [==============================] - 4s 20ms/step - loss: 0.0083 - accuracy: 0.9847 - val_loss: 0.1281 - val_accuracy: 0.8740\n",
            "Epoch 26/30\n",
            "197/197 [==============================] - 4s 20ms/step - loss: 0.0074 - accuracy: 0.9877 - val_loss: 0.1302 - val_accuracy: 0.8720\n",
            "Epoch 27/30\n",
            "197/197 [==============================] - 4s 19ms/step - loss: 0.0065 - accuracy: 0.9903 - val_loss: 0.1320 - val_accuracy: 0.8724\n",
            "Epoch 28/30\n",
            "197/197 [==============================] - 4s 19ms/step - loss: 0.0058 - accuracy: 0.9927 - val_loss: 0.1339 - val_accuracy: 0.8719\n",
            "Epoch 29/30\n",
            "197/197 [==============================] - 4s 19ms/step - loss: 0.0051 - accuracy: 0.9942 - val_loss: 0.1373 - val_accuracy: 0.8701\n",
            "Epoch 30/30\n",
            "197/197 [==============================] - 4s 19ms/step - loss: 0.0045 - accuracy: 0.9952 - val_loss: 0.1383 - val_accuracy: 0.8710\n"
          ]
        }
      ],
      "source": [
        "history['baseline'] = models['baseline'].fit(x=x_st[\"train\"], \n",
        "                   y=y_cat[\"train\"], \n",
        "                   batch_size=batch_size, \n",
        "                   epochs=epochs, \n",
        "                   validation_data=(x_st[\"val\"], y_cat[\"val\"]))"
      ]
    },
    {
      "cell_type": "markdown",
      "source": [
        "## Baseline with GRU instead of LSTM"
      ],
      "metadata": {
        "id": "i7frWEJB-OS7"
      }
    },
    {
      "cell_type": "code",
      "execution_count": 71,
      "metadata": {
        "id": "ZQ8e1t7MzP2O"
      },
      "outputs": [],
      "source": [
        "def build_baseline_model_with_GRU(num_pos, \n",
        "                        embedding_matrix, \n",
        "                        name = 'baseline_with_GRU',\n",
        "                        units=units):\n",
        "  inputs = Input(shape=(None,), dtype=\"int32\")\n",
        "  \n",
        "  m = Embedding(input_dim=embedding_matrix.shape[0], \n",
        "                output_dim=embedding_matrix.shape[1],\n",
        "                mask_zero=True, \n",
        "                weights=[embedding_matrix], \n",
        "                trainable=False)(inputs)\n",
        "\n",
        "  m = Bidirectional(GRU(units=units, return_sequences=True))(m)\n",
        "\n",
        "  m = Dense(num_pos, activation='softmax')(m)\n",
        "  return Model(inputs, m, name=name)"
      ]
    },
    {
      "cell_type": "code",
      "source": [
        "models[\"baseline_with_GRU\"] = build_baseline_model_with_GRU(num_pos = number_pos, \n",
        "                                          embedding_matrix = embedding_matrix, \n",
        "                                          name=\"baseline_with_GRU\")\n",
        "models[\"baseline_with_GRU\"].summary()"
      ],
      "metadata": {
        "colab": {
          "base_uri": "https://localhost:8080/"
        },
        "id": "DPmIObbS-7JN",
        "outputId": "8e6a863f-eb15-43d7-b9d1-2fec8e8bc001"
      },
      "execution_count": 72,
      "outputs": [
        {
          "output_type": "stream",
          "name": "stdout",
          "text": [
            "Model: \"baseline_with_GRU\"\n",
            "_________________________________________________________________\n",
            " Layer (type)                Output Shape              Param #   \n",
            "=================================================================\n",
            " input_2 (InputLayer)        [(None, None)]            0         \n",
            "                                                                 \n",
            " embedding_1 (Embedding)     (None, None, 50)          20028550  \n",
            "                                                                 \n",
            " bidirectional_1 (Bidirectio  (None, None, 200)        91200     \n",
            " nal)                                                            \n",
            "                                                                 \n",
            " dense_1 (Dense)             (None, None, 46)          9246      \n",
            "                                                                 \n",
            "=================================================================\n",
            "Total params: 20,128,996\n",
            "Trainable params: 100,446\n",
            "Non-trainable params: 20,028,550\n",
            "_________________________________________________________________\n"
          ]
        }
      ]
    },
    {
      "cell_type": "code",
      "source": [
        "models['baseline_with_GRU'].compile(optimizer ='adam', \n",
        "                           loss = 'categorical_crossentropy', \n",
        "                           metrics = ['accuracy'])"
      ],
      "metadata": {
        "id": "PhrXQ3qS_GPp"
      },
      "execution_count": 73,
      "outputs": []
    },
    {
      "cell_type": "code",
      "source": [
        "history['baseline_with_GRU'] = models['baseline_with_GRU'].fit(x=x_st[\"train\"], \n",
        "                   y=y_cat[\"train\"], \n",
        "                   batch_size=batch_size, \n",
        "                   epochs=epochs, \n",
        "                   validation_data=(x_st[\"val\"], y_cat[\"val\"]))"
      ],
      "metadata": {
        "colab": {
          "base_uri": "https://localhost:8080/"
        },
        "id": "dDZ1wgbp_GqG",
        "outputId": "e6c51b0a-a99e-4fa9-eb8e-a80e43858a2d"
      },
      "execution_count": 74,
      "outputs": [
        {
          "output_type": "stream",
          "name": "stdout",
          "text": [
            "Epoch 1/30\n",
            "197/197 [==============================] - 15s 36ms/step - loss: 0.1675 - accuracy: 0.5538 - val_loss: 0.2988 - val_accuracy: 0.7235\n",
            "Epoch 2/30\n",
            "197/197 [==============================] - 4s 20ms/step - loss: 0.0775 - accuracy: 0.7792 - val_loss: 0.2215 - val_accuracy: 0.7822\n",
            "Epoch 3/30\n",
            "197/197 [==============================] - 4s 19ms/step - loss: 0.0603 - accuracy: 0.8219 - val_loss: 0.1901 - val_accuracy: 0.8099\n",
            "Epoch 4/30\n",
            "197/197 [==============================] - 5s 24ms/step - loss: 0.0511 - accuracy: 0.8470 - val_loss: 0.1673 - val_accuracy: 0.8338\n",
            "Epoch 5/30\n",
            "197/197 [==============================] - 4s 19ms/step - loss: 0.0446 - accuracy: 0.8641 - val_loss: 0.1547 - val_accuracy: 0.8456\n",
            "Epoch 6/30\n",
            "197/197 [==============================] - 4s 19ms/step - loss: 0.0393 - accuracy: 0.8820 - val_loss: 0.1441 - val_accuracy: 0.8542\n",
            "Epoch 7/30\n",
            "197/197 [==============================] - 4s 20ms/step - loss: 0.0351 - accuracy: 0.8957 - val_loss: 0.1358 - val_accuracy: 0.8612\n",
            "Epoch 8/30\n",
            "197/197 [==============================] - 4s 19ms/step - loss: 0.0315 - accuracy: 0.9067 - val_loss: 0.1311 - val_accuracy: 0.8656\n",
            "Epoch 9/30\n",
            "197/197 [==============================] - 4s 20ms/step - loss: 0.0284 - accuracy: 0.9156 - val_loss: 0.1267 - val_accuracy: 0.8697\n",
            "Epoch 10/30\n",
            "197/197 [==============================] - 4s 19ms/step - loss: 0.0255 - accuracy: 0.9244 - val_loss: 0.1228 - val_accuracy: 0.8724\n",
            "Epoch 11/30\n",
            "197/197 [==============================] - 4s 19ms/step - loss: 0.0231 - accuracy: 0.9335 - val_loss: 0.1215 - val_accuracy: 0.8738\n",
            "Epoch 12/30\n",
            "197/197 [==============================] - 4s 19ms/step - loss: 0.0207 - accuracy: 0.9406 - val_loss: 0.1182 - val_accuracy: 0.8760\n",
            "Epoch 13/30\n",
            "197/197 [==============================] - 4s 19ms/step - loss: 0.0187 - accuracy: 0.9481 - val_loss: 0.1186 - val_accuracy: 0.8767\n",
            "Epoch 14/30\n",
            "197/197 [==============================] - 4s 19ms/step - loss: 0.0167 - accuracy: 0.9546 - val_loss: 0.1176 - val_accuracy: 0.8786\n",
            "Epoch 15/30\n",
            "197/197 [==============================] - 5s 24ms/step - loss: 0.0149 - accuracy: 0.9617 - val_loss: 0.1186 - val_accuracy: 0.8762\n",
            "Epoch 16/30\n",
            "197/197 [==============================] - 4s 19ms/step - loss: 0.0132 - accuracy: 0.9666 - val_loss: 0.1186 - val_accuracy: 0.8769\n",
            "Epoch 17/30\n",
            "197/197 [==============================] - 4s 19ms/step - loss: 0.0117 - accuracy: 0.9725 - val_loss: 0.1199 - val_accuracy: 0.8775\n",
            "Epoch 18/30\n",
            "197/197 [==============================] - 4s 19ms/step - loss: 0.0103 - accuracy: 0.9768 - val_loss: 0.1231 - val_accuracy: 0.8752\n",
            "Epoch 19/30\n",
            "197/197 [==============================] - 4s 19ms/step - loss: 0.0090 - accuracy: 0.9808 - val_loss: 0.1255 - val_accuracy: 0.8750\n",
            "Epoch 20/30\n",
            "197/197 [==============================] - 4s 19ms/step - loss: 0.0078 - accuracy: 0.9851 - val_loss: 0.1269 - val_accuracy: 0.8747\n",
            "Epoch 21/30\n",
            "197/197 [==============================] - 4s 19ms/step - loss: 0.0067 - accuracy: 0.9889 - val_loss: 0.1285 - val_accuracy: 0.8742\n",
            "Epoch 22/30\n",
            "197/197 [==============================] - 4s 20ms/step - loss: 0.0057 - accuracy: 0.9918 - val_loss: 0.1324 - val_accuracy: 0.8730\n",
            "Epoch 23/30\n",
            "197/197 [==============================] - 4s 20ms/step - loss: 0.0049 - accuracy: 0.9940 - val_loss: 0.1351 - val_accuracy: 0.8731\n",
            "Epoch 24/30\n",
            "197/197 [==============================] - 4s 19ms/step - loss: 0.0041 - accuracy: 0.9960 - val_loss: 0.1369 - val_accuracy: 0.8717\n",
            "Epoch 25/30\n",
            "197/197 [==============================] - 4s 20ms/step - loss: 0.0035 - accuracy: 0.9976 - val_loss: 0.1400 - val_accuracy: 0.8725\n",
            "Epoch 26/30\n",
            "197/197 [==============================] - 4s 20ms/step - loss: 0.0030 - accuracy: 0.9981 - val_loss: 0.1438 - val_accuracy: 0.8714\n",
            "Epoch 27/30\n",
            "197/197 [==============================] - 5s 24ms/step - loss: 0.0025 - accuracy: 0.9988 - val_loss: 0.1460 - val_accuracy: 0.8711\n",
            "Epoch 28/30\n",
            "197/197 [==============================] - 4s 19ms/step - loss: 0.0021 - accuracy: 0.9992 - val_loss: 0.1497 - val_accuracy: 0.8702\n",
            "Epoch 29/30\n",
            "197/197 [==============================] - 4s 19ms/step - loss: 0.0018 - accuracy: 0.9995 - val_loss: 0.1526 - val_accuracy: 0.8708\n",
            "Epoch 30/30\n",
            "197/197 [==============================] - 4s 20ms/step - loss: 0.0015 - accuracy: 0.9997 - val_loss: 0.1558 - val_accuracy: 0.8698\n"
          ]
        }
      ]
    },
    {
      "cell_type": "markdown",
      "source": [
        "## Baseline with an additional LSTM"
      ],
      "metadata": {
        "id": "RTAMzroP_YH0"
      }
    },
    {
      "cell_type": "code",
      "execution_count": 75,
      "metadata": {
        "id": "zB2ojg28_YH1"
      },
      "outputs": [],
      "source": [
        "def build_baseline_model_with_additional_LSTM(num_pos, \n",
        "                        embedding_matrix, \n",
        "                        name = 'baseline_with_2_LSTM',\n",
        "                        units=units):\n",
        "  inputs = Input(shape=(None,), dtype=\"int32\")\n",
        "  \n",
        "  m = Embedding(input_dim=embedding_matrix.shape[0], \n",
        "                output_dim=embedding_matrix.shape[1],\n",
        "                mask_zero=True, \n",
        "                weights=[embedding_matrix], \n",
        "                trainable=False)(inputs)\n",
        "\n",
        "  m = Bidirectional(LSTM(units=units, return_sequences=True))(m)\n",
        "  m = LSTM(units=units, return_sequences=True)(m)\n",
        "  m = Dense(num_pos, activation='softmax')(m)\n",
        "  return Model(inputs, m, name=name)"
      ]
    },
    {
      "cell_type": "code",
      "source": [
        "models[\"baseline_with_2_LSTM\"] = build_baseline_model_with_additional_LSTM(num_pos = number_pos, \n",
        "                                          embedding_matrix = embedding_matrix, \n",
        "                                          name=\"baseline_with_2_LSTM\")\n",
        "models[\"baseline_with_2_LSTM\"].summary()"
      ],
      "metadata": {
        "colab": {
          "base_uri": "https://localhost:8080/"
        },
        "id": "W7uCYf9u_YH1",
        "outputId": "95cef911-4f1e-4e11-b2bf-05375f3035e1"
      },
      "execution_count": 76,
      "outputs": [
        {
          "output_type": "stream",
          "name": "stdout",
          "text": [
            "Model: \"baseline_with_2_LSTM\"\n",
            "_________________________________________________________________\n",
            " Layer (type)                Output Shape              Param #   \n",
            "=================================================================\n",
            " input_3 (InputLayer)        [(None, None)]            0         \n",
            "                                                                 \n",
            " embedding_2 (Embedding)     (None, None, 50)          20028550  \n",
            "                                                                 \n",
            " bidirectional_2 (Bidirectio  (None, None, 200)        120800    \n",
            " nal)                                                            \n",
            "                                                                 \n",
            " lstm_2 (LSTM)               (None, None, 100)         120400    \n",
            "                                                                 \n",
            " dense_2 (Dense)             (None, None, 46)          4646      \n",
            "                                                                 \n",
            "=================================================================\n",
            "Total params: 20,274,396\n",
            "Trainable params: 245,846\n",
            "Non-trainable params: 20,028,550\n",
            "_________________________________________________________________\n"
          ]
        }
      ]
    },
    {
      "cell_type": "code",
      "source": [
        "models['baseline_with_2_LSTM'].compile(optimizer ='adam', \n",
        "                           loss = 'categorical_crossentropy', \n",
        "                           metrics = ['accuracy'])"
      ],
      "metadata": {
        "id": "JhGdRZs0_YH2"
      },
      "execution_count": 77,
      "outputs": []
    },
    {
      "cell_type": "code",
      "source": [
        "history['baseline_with_2_LSTM'] = models['baseline_with_2_LSTM'].fit(x=x_st[\"train\"], \n",
        "                   y=y_cat[\"train\"], \n",
        "                   batch_size=batch_size, \n",
        "                   epochs=epochs, \n",
        "                   validation_data=(x_st[\"val\"], y_cat[\"val\"]))"
      ],
      "metadata": {
        "colab": {
          "base_uri": "https://localhost:8080/"
        },
        "id": "TX1BcD8G_YH2",
        "outputId": "4b0790c1-2e2d-44f0-ad7b-71f2f0dfbe0a"
      },
      "execution_count": 78,
      "outputs": [
        {
          "output_type": "stream",
          "name": "stdout",
          "text": [
            "Epoch 1/30\n",
            "197/197 [==============================] - 20s 49ms/step - loss: 0.2188 - accuracy: 0.3795 - val_loss: 0.4224 - val_accuracy: 0.6034\n",
            "Epoch 2/30\n",
            "197/197 [==============================] - 5s 27ms/step - loss: 0.1039 - accuracy: 0.7093 - val_loss: 0.2755 - val_accuracy: 0.7408\n",
            "Epoch 3/30\n",
            "197/197 [==============================] - 6s 32ms/step - loss: 0.0737 - accuracy: 0.7890 - val_loss: 0.2215 - val_accuracy: 0.7883\n",
            "Epoch 4/30\n",
            "197/197 [==============================] - 5s 27ms/step - loss: 0.0594 - accuracy: 0.8273 - val_loss: 0.1909 - val_accuracy: 0.8143\n",
            "Epoch 5/30\n",
            "197/197 [==============================] - 6s 30ms/step - loss: 0.0502 - accuracy: 0.8524 - val_loss: 0.1678 - val_accuracy: 0.8364\n",
            "Epoch 6/30\n",
            "197/197 [==============================] - 6s 30ms/step - loss: 0.0431 - accuracy: 0.8735 - val_loss: 0.1539 - val_accuracy: 0.8479\n",
            "Epoch 7/30\n",
            "197/197 [==============================] - 6s 32ms/step - loss: 0.0376 - accuracy: 0.8889 - val_loss: 0.1423 - val_accuracy: 0.8576\n",
            "Epoch 8/30\n",
            "197/197 [==============================] - 7s 35ms/step - loss: 0.0333 - accuracy: 0.9030 - val_loss: 0.1350 - val_accuracy: 0.8633\n",
            "Epoch 9/30\n",
            "197/197 [==============================] - 6s 33ms/step - loss: 0.0298 - accuracy: 0.9122 - val_loss: 0.1276 - val_accuracy: 0.8720\n",
            "Epoch 10/30\n",
            "197/197 [==============================] - 7s 35ms/step - loss: 0.0264 - accuracy: 0.9239 - val_loss: 0.1251 - val_accuracy: 0.8734\n",
            "Epoch 11/30\n",
            "197/197 [==============================] - 6s 32ms/step - loss: 0.0237 - accuracy: 0.9315 - val_loss: 0.1236 - val_accuracy: 0.8737\n",
            "Epoch 12/30\n",
            "197/197 [==============================] - 5s 27ms/step - loss: 0.0211 - accuracy: 0.9403 - val_loss: 0.1182 - val_accuracy: 0.8823\n",
            "Epoch 13/30\n",
            "197/197 [==============================] - 5s 27ms/step - loss: 0.0186 - accuracy: 0.9480 - val_loss: 0.1184 - val_accuracy: 0.8806\n",
            "Epoch 14/30\n",
            "197/197 [==============================] - 8s 39ms/step - loss: 0.0166 - accuracy: 0.9531 - val_loss: 0.1165 - val_accuracy: 0.8830\n",
            "Epoch 15/30\n",
            "197/197 [==============================] - 6s 30ms/step - loss: 0.0144 - accuracy: 0.9615 - val_loss: 0.1172 - val_accuracy: 0.8832\n",
            "Epoch 16/30\n",
            "197/197 [==============================] - 5s 27ms/step - loss: 0.0126 - accuracy: 0.9665 - val_loss: 0.1194 - val_accuracy: 0.8831\n",
            "Epoch 17/30\n",
            "197/197 [==============================] - 6s 31ms/step - loss: 0.0109 - accuracy: 0.9731 - val_loss: 0.1185 - val_accuracy: 0.8835\n",
            "Epoch 18/30\n",
            "197/197 [==============================] - 9s 46ms/step - loss: 0.0093 - accuracy: 0.9780 - val_loss: 0.1220 - val_accuracy: 0.8822\n",
            "Epoch 19/30\n",
            "197/197 [==============================] - 5s 27ms/step - loss: 0.0079 - accuracy: 0.9827 - val_loss: 0.1251 - val_accuracy: 0.8814\n",
            "Epoch 20/30\n",
            "197/197 [==============================] - 5s 27ms/step - loss: 0.0067 - accuracy: 0.9870 - val_loss: 0.1261 - val_accuracy: 0.8828\n",
            "Epoch 21/30\n",
            "197/197 [==============================] - 5s 27ms/step - loss: 0.0055 - accuracy: 0.9902 - val_loss: 0.1279 - val_accuracy: 0.8837\n",
            "Epoch 22/30\n",
            "197/197 [==============================] - 6s 28ms/step - loss: 0.0046 - accuracy: 0.9932 - val_loss: 0.1310 - val_accuracy: 0.8813\n",
            "Epoch 23/30\n",
            "197/197 [==============================] - 9s 46ms/step - loss: 0.0038 - accuracy: 0.9950 - val_loss: 0.1374 - val_accuracy: 0.8814\n",
            "Epoch 24/30\n",
            "197/197 [==============================] - 7s 37ms/step - loss: 0.0031 - accuracy: 0.9961 - val_loss: 0.1394 - val_accuracy: 0.8799\n",
            "Epoch 25/30\n",
            "197/197 [==============================] - 8s 42ms/step - loss: 0.0025 - accuracy: 0.9976 - val_loss: 0.1400 - val_accuracy: 0.8819\n",
            "Epoch 26/30\n",
            "197/197 [==============================] - 7s 33ms/step - loss: 0.0020 - accuracy: 0.9984 - val_loss: 0.1430 - val_accuracy: 0.8821\n",
            "Epoch 27/30\n",
            "197/197 [==============================] - 7s 38ms/step - loss: 0.0017 - accuracy: 0.9987 - val_loss: 0.1449 - val_accuracy: 0.8810\n",
            "Epoch 28/30\n",
            "197/197 [==============================] - 5s 27ms/step - loss: 0.0014 - accuracy: 0.9992 - val_loss: 0.1499 - val_accuracy: 0.8810\n",
            "Epoch 29/30\n",
            "197/197 [==============================] - 5s 27ms/step - loss: 0.0012 - accuracy: 0.9993 - val_loss: 0.1522 - val_accuracy: 0.8812\n",
            "Epoch 30/30\n",
            "197/197 [==============================] - 5s 27ms/step - loss: 0.0010 - accuracy: 0.9996 - val_loss: 0.1540 - val_accuracy: 0.8808\n"
          ]
        }
      ]
    },
    {
      "cell_type": "markdown",
      "source": [
        "## Baseline with an additional Dense layer"
      ],
      "metadata": {
        "id": "ZdF3KP3rB7ee"
      }
    },
    {
      "cell_type": "code",
      "execution_count": 79,
      "metadata": {
        "id": "Fgx9xO5xB7em"
      },
      "outputs": [],
      "source": [
        "def build_baseline_model_with_additional_Dense(num_pos, \n",
        "                        embedding_matrix, \n",
        "                        name = 'baseline_with_2_Dense',\n",
        "                        units=units):\n",
        "  inputs = Input(shape=(None,), dtype=\"int32\")\n",
        "  \n",
        "  m = Embedding(input_dim=embedding_matrix.shape[0], \n",
        "                output_dim=embedding_matrix.shape[1],\n",
        "                mask_zero=True, \n",
        "                weights=[embedding_matrix], \n",
        "                trainable=False)(inputs)\n",
        "\n",
        "  m = Bidirectional(LSTM(units=units, return_sequences=True))(m)\n",
        "  m = Dense(100, activation='relu')(m)\n",
        "  m = Dense(num_pos, activation='softmax')(m)\n",
        "  return Model(inputs, m, name=name)"
      ]
    },
    {
      "cell_type": "code",
      "source": [
        "models[\"baseline_with_2_Dense\"] = build_baseline_model_with_additional_Dense(num_pos = number_pos, \n",
        "                                          embedding_matrix = embedding_matrix, \n",
        "                                          name=\"baseline_with_2_Dense\")\n",
        "models[\"baseline_with_2_Dense\"].summary()"
      ],
      "metadata": {
        "colab": {
          "base_uri": "https://localhost:8080/"
        },
        "outputId": "d312737d-fbb5-4d1e-a7f5-82dd137579d7",
        "id": "ALHF_0eAB7en"
      },
      "execution_count": 80,
      "outputs": [
        {
          "output_type": "stream",
          "name": "stdout",
          "text": [
            "Model: \"baseline_with_2_Dense\"\n",
            "_________________________________________________________________\n",
            " Layer (type)                Output Shape              Param #   \n",
            "=================================================================\n",
            " input_4 (InputLayer)        [(None, None)]            0         \n",
            "                                                                 \n",
            " embedding_3 (Embedding)     (None, None, 50)          20028550  \n",
            "                                                                 \n",
            " bidirectional_3 (Bidirectio  (None, None, 200)        120800    \n",
            " nal)                                                            \n",
            "                                                                 \n",
            " dense_3 (Dense)             (None, None, 100)         20100     \n",
            "                                                                 \n",
            " dense_4 (Dense)             (None, None, 46)          4646      \n",
            "                                                                 \n",
            "=================================================================\n",
            "Total params: 20,174,096\n",
            "Trainable params: 145,546\n",
            "Non-trainable params: 20,028,550\n",
            "_________________________________________________________________\n"
          ]
        }
      ]
    },
    {
      "cell_type": "code",
      "source": [
        "models['baseline_with_2_Dense'].compile(optimizer ='adam', \n",
        "                           loss = 'categorical_crossentropy', \n",
        "                           metrics = ['accuracy'])"
      ],
      "metadata": {
        "id": "j90F7D1IB7en"
      },
      "execution_count": 81,
      "outputs": []
    },
    {
      "cell_type": "code",
      "source": [
        "history['baseline_with_2_Dense'] = models['baseline_with_2_Dense'].fit(x=x_st[\"train\"], \n",
        "                   y=y_cat[\"train\"], \n",
        "                   batch_size=batch_size, \n",
        "                   epochs=epochs, \n",
        "                   validation_data=(x_st[\"val\"], y_cat[\"val\"]))"
      ],
      "metadata": {
        "colab": {
          "base_uri": "https://localhost:8080/"
        },
        "id": "Z36602FdB7en",
        "outputId": "127949e6-6009-4332-ee15-111d6ef72f76"
      },
      "execution_count": 82,
      "outputs": [
        {
          "output_type": "stream",
          "name": "stdout",
          "text": [
            "Epoch 1/30\n",
            "197/197 [==============================] - 15s 36ms/step - loss: 0.1863 - accuracy: 0.4891 - val_loss: 0.3195 - val_accuracy: 0.7011\n",
            "Epoch 2/30\n",
            "197/197 [==============================] - 4s 20ms/step - loss: 0.0817 - accuracy: 0.7631 - val_loss: 0.2289 - val_accuracy: 0.7727\n",
            "Epoch 3/30\n",
            "197/197 [==============================] - 5s 25ms/step - loss: 0.0614 - accuracy: 0.8156 - val_loss: 0.1938 - val_accuracy: 0.8073\n",
            "Epoch 4/30\n",
            "197/197 [==============================] - 4s 20ms/step - loss: 0.0509 - accuracy: 0.8452 - val_loss: 0.1680 - val_accuracy: 0.8295\n",
            "Epoch 5/30\n",
            "197/197 [==============================] - 4s 20ms/step - loss: 0.0438 - accuracy: 0.8649 - val_loss: 0.1510 - val_accuracy: 0.8474\n",
            "Epoch 6/30\n",
            "197/197 [==============================] - 4s 20ms/step - loss: 0.0380 - accuracy: 0.8845 - val_loss: 0.1406 - val_accuracy: 0.8549\n",
            "Epoch 7/30\n",
            "197/197 [==============================] - 4s 20ms/step - loss: 0.0335 - accuracy: 0.8990 - val_loss: 0.1350 - val_accuracy: 0.8626\n",
            "Epoch 8/30\n",
            "197/197 [==============================] - 5s 26ms/step - loss: 0.0297 - accuracy: 0.9106 - val_loss: 0.1278 - val_accuracy: 0.8675\n",
            "Epoch 9/30\n",
            "197/197 [==============================] - 4s 20ms/step - loss: 0.0267 - accuracy: 0.9187 - val_loss: 0.1261 - val_accuracy: 0.8705\n",
            "Epoch 10/30\n",
            "197/197 [==============================] - 4s 21ms/step - loss: 0.0237 - accuracy: 0.9278 - val_loss: 0.1261 - val_accuracy: 0.8705\n",
            "Epoch 11/30\n",
            "197/197 [==============================] - 5s 24ms/step - loss: 0.0214 - accuracy: 0.9348 - val_loss: 0.1171 - val_accuracy: 0.8805\n",
            "Epoch 12/30\n",
            "197/197 [==============================] - 4s 20ms/step - loss: 0.0187 - accuracy: 0.9448 - val_loss: 0.1172 - val_accuracy: 0.8800\n",
            "Epoch 13/30\n",
            "197/197 [==============================] - 4s 20ms/step - loss: 0.0166 - accuracy: 0.9515 - val_loss: 0.1187 - val_accuracy: 0.8818\n",
            "Epoch 14/30\n",
            "197/197 [==============================] - 4s 20ms/step - loss: 0.0148 - accuracy: 0.9557 - val_loss: 0.1196 - val_accuracy: 0.8812\n",
            "Epoch 15/30\n",
            "197/197 [==============================] - 4s 20ms/step - loss: 0.0127 - accuracy: 0.9634 - val_loss: 0.1215 - val_accuracy: 0.8796\n",
            "Epoch 16/30\n",
            "197/197 [==============================] - 4s 21ms/step - loss: 0.0113 - accuracy: 0.9676 - val_loss: 0.1253 - val_accuracy: 0.8799\n",
            "Epoch 17/30\n",
            "197/197 [==============================] - 4s 20ms/step - loss: 0.0095 - accuracy: 0.9744 - val_loss: 0.1234 - val_accuracy: 0.8836\n",
            "Epoch 18/30\n",
            "197/197 [==============================] - 6s 32ms/step - loss: 0.0080 - accuracy: 0.9792 - val_loss: 0.1281 - val_accuracy: 0.8821\n",
            "Epoch 19/30\n",
            "197/197 [==============================] - 5s 26ms/step - loss: 0.0067 - accuracy: 0.9846 - val_loss: 0.1357 - val_accuracy: 0.8791\n",
            "Epoch 20/30\n",
            "197/197 [==============================] - 5s 24ms/step - loss: 0.0055 - accuracy: 0.9875 - val_loss: 0.1398 - val_accuracy: 0.8786\n",
            "Epoch 21/30\n",
            "197/197 [==============================] - 6s 28ms/step - loss: 0.0045 - accuracy: 0.9906 - val_loss: 0.1408 - val_accuracy: 0.8817\n",
            "Epoch 22/30\n",
            "197/197 [==============================] - 6s 33ms/step - loss: 0.0036 - accuracy: 0.9932 - val_loss: 0.1493 - val_accuracy: 0.8754\n",
            "Epoch 23/30\n",
            "197/197 [==============================] - 4s 20ms/step - loss: 0.0030 - accuracy: 0.9952 - val_loss: 0.1545 - val_accuracy: 0.8777\n",
            "Epoch 24/30\n",
            "197/197 [==============================] - 4s 20ms/step - loss: 0.0023 - accuracy: 0.9971 - val_loss: 0.1584 - val_accuracy: 0.8805\n",
            "Epoch 25/30\n",
            "197/197 [==============================] - 4s 20ms/step - loss: 0.0018 - accuracy: 0.9981 - val_loss: 0.1636 - val_accuracy: 0.8784\n",
            "Epoch 26/30\n",
            "197/197 [==============================] - 4s 20ms/step - loss: 0.0014 - accuracy: 0.9988 - val_loss: 0.1724 - val_accuracy: 0.8779\n",
            "Epoch 27/30\n",
            "197/197 [==============================] - 4s 20ms/step - loss: 0.0011 - accuracy: 0.9991 - val_loss: 0.1749 - val_accuracy: 0.8786\n",
            "Epoch 28/30\n",
            "197/197 [==============================] - 7s 35ms/step - loss: 9.1830e-04 - accuracy: 0.9994 - val_loss: 0.1779 - val_accuracy: 0.8780\n",
            "Epoch 29/30\n",
            "197/197 [==============================] - 6s 28ms/step - loss: 6.8814e-04 - accuracy: 0.9997 - val_loss: 0.1817 - val_accuracy: 0.8785\n",
            "Epoch 30/30\n",
            "197/197 [==============================] - 4s 22ms/step - loss: 5.8306e-04 - accuracy: 0.9997 - val_loss: 0.1889 - val_accuracy: 0.8777\n"
          ]
        }
      ]
    },
    {
      "cell_type": "markdown",
      "source": [
        "# Evaluation"
      ],
      "metadata": {
        "id": "fytMiTJSFF00"
      }
    },
    {
      "cell_type": "markdown",
      "source": [
        "## F1 score"
      ],
      "metadata": {
        "id": "it4lzbh7Yv-z"
      }
    },
    {
      "cell_type": "markdown",
      "source": [
        "To exclude punctuation, we are going to check the content of our label vocabulary. Inside this dictionary we have all the labels used above. Since the goal is to exclude them from f1-score computation, we will create a list of these special pos that will be used at evaluation time."
      ],
      "metadata": {
        "id": "XHlG4HYWKdSq"
      }
    },
    {
      "cell_type": "code",
      "source": [
        "print(\"\\n\".join(label_to_idx.keys()))"
      ],
      "metadata": {
        "colab": {
          "base_uri": "https://localhost:8080/"
        },
        "id": "z6fmPinbHSlL",
        "outputId": "4a164930-301c-4ce8-bd0c-47909a341e8e"
      },
      "execution_count": 41,
      "outputs": [
        {
          "output_type": "stream",
          "name": "stdout",
          "text": [
            "NNP\n",
            ",\n",
            "CD\n",
            "NNS\n",
            "JJ\n",
            "MD\n",
            "VB\n",
            "DT\n",
            "NN\n",
            "IN\n",
            ".\n",
            "VBZ\n",
            "VBG\n",
            "CC\n",
            "VBD\n",
            "VBN\n",
            "RB\n",
            "TO\n",
            "PRP\n",
            "RBR\n",
            "WDT\n",
            "VBP\n",
            "RP\n",
            "PRP$\n",
            "JJS\n",
            "POS\n",
            "``\n",
            "EX\n",
            "''\n",
            "WP\n",
            ":\n",
            "JJR\n",
            "WRB\n",
            "$\n",
            "NNPS\n",
            "WP$\n",
            "-LRB-\n",
            "-RRB-\n",
            "PDT\n",
            "RBS\n",
            "FW\n",
            "UH\n",
            "SYM\n",
            "LS\n",
            "#\n"
          ]
        }
      ]
    },
    {
      "cell_type": "code",
      "source": [
        "punctuation = [\",\", \".\", '``', \"''\", ':', '$', '-LRB-','-RRB-','#']\n",
        "punctuation_enc = encode_into_numbers([punctuation], label_to_idx)[0]\n",
        "print(punctuation_enc)\n",
        "punctuation_enc.append(0) #padding symbol\n",
        "print(punctuation_enc)"
      ],
      "metadata": {
        "colab": {
          "base_uri": "https://localhost:8080/"
        },
        "id": "8EbB_Q_bUVoy",
        "outputId": "dab46414-b9b5-41da-9452-4eed0d749cf9"
      },
      "execution_count": 55,
      "outputs": [
        {
          "output_type": "stream",
          "name": "stdout",
          "text": [
            "[2, 11, 27, 29, 31, 34, 37, 38, 45]\n",
            "[2, 11, 27, 29, 31, 34, 37, 38, 45, 0]\n"
          ]
        }
      ]
    },
    {
      "cell_type": "code",
      "source": [
        "def compute_f1(model, x, y_true, punctuation):\n",
        "    y_true = np.argmax(y_true, axis=2).flatten()\n",
        "    y_pred = np.argmax(model.predict(x), axis=2).flatten()\n",
        "    \n",
        "    mask = np.in1d(y_true, punctuation_enc, invert=True)\n",
        "    unique_pos = [pos for pos in np.unique(y_true) if not pos in punctuation_enc]\n",
        "\n",
        "    return f1_score(y_true[mask], \n",
        "                  y_pred[mask], \n",
        "                  average='macro', \n",
        "                  labels=unique_pos, \n",
        "                  zero_division=0)"
      ],
      "metadata": {
        "id": "_3gTiEYHFMyP"
      },
      "execution_count": 106,
      "outputs": []
    },
    {
      "cell_type": "code",
      "source": [
        "f1_scores = {key: compute_f1(models[key],x_st[\"val\"],y_cat[\"val\"],punctuation_enc ) for key in models.keys()}\n",
        "f1_scores = {k: v for k, v in sorted(f1_scores.items(), key=lambda item: item[1], reverse=True)}  #sort dictionary by value\n",
        "print()\n",
        "for model, score in f1_scores.items():\n",
        "  print(f\"Model {model} f1-score on validation set: {score:.5f}\")"
      ],
      "metadata": {
        "colab": {
          "base_uri": "https://localhost:8080/"
        },
        "id": "X1_NpLlpXJsJ",
        "outputId": "05042527-8714-4e29-d561-9d4f45905e04"
      },
      "execution_count": 110,
      "outputs": [
        {
          "output_type": "stream",
          "name": "stdout",
          "text": [
            "41/41 [==============================] - 0s 10ms/step\n",
            "41/41 [==============================] - 0s 6ms/step\n",
            "41/41 [==============================] - 0s 10ms/step\n",
            "41/41 [==============================] - 0s 7ms/step\n",
            "\n",
            "Model baseline f1-score on validation set: 0.74402\n",
            "Model baseline_with_2_LSTM f1-score on validation set: 0.73706\n",
            "Model baseline_with_2_Dense f1-score on validation set: 0.73266\n",
            "Model baseline_with_GRU f1-score on validation set: 0.72795\n"
          ]
        }
      ]
    },
    {
      "cell_type": "code",
      "source": [
        "best_model = models[list(f1_scores.keys())[0]]\n",
        "best_model.name"
      ],
      "metadata": {
        "colab": {
          "base_uri": "https://localhost:8080/",
          "height": 35
        },
        "id": "35pcJJlpsLWY",
        "outputId": "5908f286-f53c-4a51-8a7f-aa6b40c3ecdf"
      },
      "execution_count": 115,
      "outputs": [
        {
          "output_type": "execute_result",
          "data": {
            "text/plain": [
              "'baseline'"
            ],
            "application/vnd.google.colaboratory.intrinsic+json": {
              "type": "string"
            }
          },
          "metadata": {},
          "execution_count": 115
        }
      ]
    },
    {
      "cell_type": "markdown",
      "source": [
        "## History inspection"
      ],
      "metadata": {
        "id": "Qrrm53qAY0lY"
      }
    },
    {
      "cell_type": "code",
      "source": [
        "fig, axes = plt.subplots(nrows=4, ncols=2, figsize=(16, 16))\n",
        "for idx, model in enumerate(history.keys()):\n",
        "  model_history = history[model].history\n",
        "\n",
        "  loss = pd.DataFrame(np.array([model_history['loss'], model_history['val_loss']]).T, columns=['Train', 'Validation'])\n",
        "  min_loss = loss['Validation'].min()\n",
        "  min_loss_idx = loss['Validation'].idxmin()\n",
        "  accuracy = pd.DataFrame(np.array([model_history['accuracy'], model_history['val_accuracy']]).T, columns=['Train', 'Validation'])\n",
        "  max_acc = accuracy['Validation'].min()\n",
        "  max_acc_idx = accuracy['Validation'].idxmin()\n",
        "\n",
        "  sb.lineplot(data=loss, ax=axes[idx][0])\n",
        "  sb.lineplot(data=accuracy, ax=axes[idx][1])\n",
        "\n",
        "  axes[idx][0].axhline(min_loss, color='lightgray', linestyle='-')\n",
        "  axes[idx][0].axvline(min_loss_idx, color='lightgray', linestyle='-')\n",
        "  axes[idx][0].axhline(max_acc, color='lightgray', linestyle='-')\n",
        "  axes[idx][0].axvline(max_acc_idx, color='lightgray', linestyle='-')\n",
        "\n",
        "  axes[idx][0].set_xlabel('Epochs')\n",
        "  axes[idx][1].set_xlabel('Epochs')\n",
        "  axes[idx][0].set_ylabel('Loss')\n",
        "  axes[idx][1].set_ylabel('Accuracy')\n",
        "  axes[idx][0].set_title(f\"{model} loss\")\n",
        "  axes[idx][1].set_title(f\"{model} accuracy\")\n",
        "\n",
        "fig.tight_layout()\n",
        "plt.show()"
      ],
      "metadata": {
        "colab": {
          "base_uri": "https://localhost:8080/",
          "height": 1000
        },
        "id": "Jb3lUpfiY6pD",
        "outputId": "01cf84b7-e9dc-4c72-8cf3-14bf27e25b0f"
      },
      "execution_count": 117,
      "outputs": [
        {
          "output_type": "display_data",
          "data": {
            "text/plain": [
              "<Figure size 1152x1152 with 8 Axes>"
            ],
            "image/png": "[encoded data removed]"
          },
          "metadata": {
            "needs_background": "light"
          }
        }
      ]
    },
    {
      "cell_type": "code",
      "source": [],
      "metadata": {
        "id": "Vdg1HQiapqA0"
      },
      "execution_count": null,
      "outputs": []
    },
    {
      "cell_type": "markdown",
      "source": [
        "## Improve the model\n",
        "The baseline model seems to be the best one up to this point, so we are going to try to improve its performances. \n",
        "\n",
        "\n"
      ],
      "metadata": {
        "id": "VFKzK_bApBDY"
      }
    },
    {
      "cell_type": "markdown",
      "source": [
        "A straightforward modification is to move to GloVe embedding with size 300, as up to now the one with size 50 has been used. This new embedding is much heavier than the previous one, but is ensures better results.\n",
        "\n",
        "Another similar change consists in increasing LSTM hidden units, which previously were set to 100. \n",
        "\n",
        "Finally, since it is clear that the model starts to overfit, adding dropout might help increasing performances\n"
      ],
      "metadata": {
        "id": "ayLNdjmHp7Np"
      }
    },
    {
      "cell_type": "code",
      "source": [],
      "metadata": {
        "id": "-Lg6NyPptoJ-"
      },
      "execution_count": null,
      "outputs": []
    }
  ],
  "metadata": {
    "accelerator": "GPU",
    "colab": {
      "collapsed_sections": [
        "jXlE3OHGzaYq",
        "MQ0PSVGsWZBW",
        "sI97CALV0C34",
        "Vf1URJEz-ADo",
        "_0Xhe6fjWvqv",
        "qZUuz-bW_BO3",
        "mzQ6qRPF_86z",
        "b5RNdNYYHYwQ",
        "EElOhl9F-x9-",
        "mAv5AHB_REM5",
        "2HIZO1d8SPFq",
        "yoFjfVeiiN4k",
        "dzdywqEviQla",
        "i7frWEJB-OS7",
        "RTAMzroP_YH0",
        "ZdF3KP3rB7ee",
        "Qrrm53qAY0lY"
      ],
      "provenance": []
    },
    "gpuClass": "standard",
    "kernelspec": {
      "display_name": "Python 3",
      "name": "python3"
    },
    "language_info": {
      "name": "python"
    }
  },
  "nbformat": 4,
  "nbformat_minor": 0
}