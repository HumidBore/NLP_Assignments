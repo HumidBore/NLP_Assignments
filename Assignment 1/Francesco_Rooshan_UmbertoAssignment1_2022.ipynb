{
  "cells": [
    {
      "cell_type": "code",
      "execution_count": null,
      "metadata": {
        "id": "iE-OJaA7wap3"
      },
      "outputs": [],
      "source": [
        "#General imports\n",
        "import copy\n",
        "import gensim\n",
        "import gensim.downloader as gloader\n",
        "import matplotlib.pyplot as plt\n",
        "import numpy as np  \n",
        "import os  \n",
        "import pandas as pd  \n",
        "import random\n",
        "import re\n",
        "import seaborn as sb\n",
        "import sys \n",
        "from tqdm import tqdm\n",
        "from typing import Iterable, List, Dict, Tuple, Set\n",
        "import urllib.request  \n",
        "import zipfile  \n",
        "\n",
        "#sklearn and tensorflow imports\n",
        "from sklearn.metrics import f1_score\n",
        "from tensorflow.keras.layers import Bidirectional, Dense, Dropout, Embedding, GRU, Input, LSTM\n",
        "from tensorflow.keras.models import Model\n",
        "from tensorflow.keras.preprocessing.sequence import pad_sequences\n",
        "from tensorflow.keras.utils import to_categorical\n",
        "import tensorflow as tf"
      ]
    },
    {
      "cell_type": "code",
      "source": [
        "#fixed seeds to get reproducible results\n",
        "random.seed(42)\n",
        "tf.random.set_seed(42)\n",
        "os.environ['TF_DETERMINISTIC_OPS'] = '1'"
      ],
      "metadata": {
        "id": "OwtabSzSZIBd"
      },
      "execution_count": null,
      "outputs": []
    },
    {
      "cell_type": "markdown",
      "metadata": {
        "id": "jXlE3OHGzaYq"
      },
      "source": [
        "#Bulding the dataframe"
      ]
    },
    {
      "cell_type": "markdown",
      "metadata": {
        "id": "MQ0PSVGsWZBW"
      },
      "source": [
        "## Dataset download and extraction"
      ]
    },
    {
      "cell_type": "code",
      "execution_count": null,
      "metadata": {
        "colab": {
          "base_uri": "https://localhost:8080/"
        },
        "id": "JIj22FhCyKoA",
        "outputId": "65a16ef3-3a1e-49f0-e4dc-119547def7d5"
      },
      "outputs": [
        {
          "output_type": "stream",
          "name": "stdout",
          "text": [
            "Current working directory: /content\n",
            "Successful download\n",
            "Successful extraction\n"
          ]
        }
      ],
      "source": [
        "DATASET_NAME = \"dataset.zip\"\n",
        "DATASET_FOLDERNAME = \"Dataset\"\n",
        "DATASET_SUBFOLDER = \"dependency_treebank/\"\n",
        "SPLIT_DISTRIBUTION = [100, 150, 199]  #indeces to split in train, validation and test. \n",
        "\n",
        "working_folder = os.getcwd()\n",
        "\n",
        "print(\"Current working directory: \" + str(working_folder))\n",
        "\n",
        "dataset_folder = os.path.join(os.getcwd(), DATASET_FOLDERNAME)\n",
        "\n",
        "if not os.path.exists(dataset_folder):\n",
        "    os.makedirs(dataset_folder)\n",
        "\n",
        "url = 'https://raw.githubusercontent.com/nltk/nltk_data/gh-pages/packages/corpora/dependency_treebank.zip'\n",
        "\n",
        "dataset_path = os.path.join(dataset_folder, \"dataset.zip\")\n",
        "\n",
        "if not os.path.exists(dataset_path):\n",
        "    urllib.request.urlretrieve(url, dataset_path)\n",
        "    print(\"Successful download\")\n",
        "\n",
        "with zipfile.ZipFile(dataset_path, 'r') as zip_ref:\n",
        "    zip_ref.extractall(dataset_folder)\n",
        "    print(\"Successful extraction\")\n",
        "\n",
        "dataset_folder = os.path.join(dataset_folder, DATASET_SUBFOLDER)"
      ]
    },
    {
      "cell_type": "code",
      "execution_count": null,
      "metadata": {
        "colab": {
          "base_uri": "https://localhost:8080/"
        },
        "id": "ekoJOGSg7CDd",
        "outputId": "1cf80a20-447f-49aa-ce91-3bd7f90d0d56"
      },
      "outputs": [
        {
          "output_type": "stream",
          "name": "stdout",
          "text": [
            "/content/Dataset/dependency_treebank/\n"
          ]
        }
      ],
      "source": [
        "print(dataset_folder)"
      ]
    },
    {
      "cell_type": "markdown",
      "metadata": {
        "id": "sI97CALV0C34"
      },
      "source": [
        "## Dataframe construction"
      ]
    },
    {
      "cell_type": "code",
      "execution_count": null,
      "metadata": {
        "id": "JpNObbHg0HqV"
      },
      "outputs": [],
      "source": [
        "def encode_dataset(dataset_folder: str, \n",
        "                   split_dist: list(), ) -> Dict[str,pd.DataFrame]:\n",
        "    \"\"\"\n",
        "    Encode the dataset into three dataframes, returned in a dict.\n",
        "\n",
        "    :param \n",
        "        - dataset_folder: folder of the extracted dataset\n",
        "        - split_dist: list of indeces to be used to split in train, validation and test\n",
        "\n",
        "    :return\n",
        "        - df_dict: dictionary of train, validation and test dataframes\n",
        "    \"\"\"\n",
        "    \n",
        "    #dictionary of dataframes to return\n",
        "    df_dict = {\"train\": pd.DataFrame(columns=['sentence', 'labels']),\n",
        "                \"val\": pd.DataFrame(columns=['sentence', 'labels']),\n",
        "                \"test\":pd.DataFrame(columns=['sentence', 'labels'])}\n",
        "    split = \"\"\n",
        "\n",
        "    for filename in sorted(os.listdir(dataset_folder)): #files are read following the order\n",
        "        file_path = os.path.join(dataset_folder, filename)\n",
        "        try:\n",
        "            if os.path.isfile(file_path):\n",
        "                with open(file_path, mode='r', encoding='utf-8') as text_file:\n",
        "                    # read it and extract \n",
        "                    document_number = filename.split(\"_\")[1].split(\".\")[0]\n",
        "\n",
        "                    if int(document_number) <= split_dist[0]:  #find the split the file belongs to\n",
        "                        split = \"train\"\n",
        "                    elif split_dist[0] < int(document_number) <= split_dist[1]:\n",
        "                        split = \"val\"\n",
        "                    else:\n",
        "                        split = \"test\"\n",
        "\n",
        "                    df_file = pd.read_table(\n",
        "                        file_path, \n",
        "                        delimiter='\\t', \n",
        "                        names=['word', 'label'], \n",
        "                        usecols=[0,1],\n",
        "                        skip_blank_lines=False)\n",
        "                    \n",
        "                    #splitting file content in sentences\n",
        "                    idx = list(df_file.loc[df_file.isnull()['word']].index) #sentences are divided by a blank line, interpreted as a null value. \n",
        "                    idx.append(len(df_file))\n",
        "                    prev = 0\n",
        "                    for sep in idx:    #to split in sentences, word are read from idx \"prev\" to \"sep\", which is why we add len(df_file) to the list of indeces\n",
        "                        df_sentence = pd.DataFrame({\n",
        "                            'sentence': [df_file['word'][prev:sep].to_list()],  #sentence column contains the list of words forming the sentence \n",
        "                            'labels': [df_file['label'][prev:sep].to_list()]})  #labels column contains the list of labels associated with the words forming the sentence \n",
        "                        df_dict[split] = pd.concat([df_dict[split], df_sentence], ignore_index=True)  #adding the row to the appropriate dataframe (according to the split)\n",
        "                        prev = sep + 1\n",
        "                    \n",
        "        except Exception as e:\n",
        "            print('Failed to process %s. Reason: %s' % (file_path, e))\n",
        "            sys.exit(0)\n",
        "\n",
        "    return df_dict"
      ]
    },
    {
      "cell_type": "code",
      "execution_count": null,
      "metadata": {
        "id": "ocXNiUzD5bOv"
      },
      "outputs": [],
      "source": [
        "df_dict = encode_dataset(dataset_folder, SPLIT_DISTRIBUTION)"
      ]
    },
    {
      "cell_type": "code",
      "execution_count": null,
      "metadata": {
        "colab": {
          "base_uri": "https://localhost:8080/"
        },
        "id": "FW074bfD54DK",
        "outputId": "4eefc0b2-03c0-4eae-9cd2-b4ec14c18db4"
      },
      "outputs": [
        {
          "output_type": "execute_result",
          "data": {
            "text/plain": [
              "                                            sentence  \\\n",
              "0  [Pierre, Vinken, ,, 61, years, old, ,, will, j...   \n",
              "1  [Mr., Vinken, is, chairman, of, Elsevier, N.V....   \n",
              "2  [Rudolph, Agnew, ,, 55, years, old, and, forme...   \n",
              "3  [A, form, of, asbestos, once, used, to, make, ...   \n",
              "4  [The, asbestos, fiber, ,, crocidolite, ,, is, ...   \n",
              "\n",
              "                                              labels  \n",
              "0  [NNP, NNP, ,, CD, NNS, JJ, ,, MD, VB, DT, NN, ...  \n",
              "1  [NNP, NNP, VBZ, NN, IN, NNP, NNP, ,, DT, NNP, ...  \n",
              "2  [NNP, NNP, ,, CD, NNS, JJ, CC, JJ, NN, IN, NNP...  \n",
              "3  [DT, NN, IN, NN, RB, VBN, TO, VB, NNP, NN, NNS...  \n",
              "4  [DT, NN, NN, ,, NN, ,, VBZ, RB, JJ, IN, PRP, V...  "
            ],
            "text/html": [
              "\n",
              "  <div id=\"df-614219d3-de61-49d1-a7f1-9c1bd2f94e9c\">\n",
              "    <div class=\"colab-df-container\">\n",
              "      <div>\n",
              "<style scoped>\n",
              "    .dataframe tbody tr th:only-of-type {\n",
              "        vertical-align: middle;\n",
              "    }\n",
              "\n",
              "    .dataframe tbody tr th {\n",
              "        vertical-align: top;\n",
              "    }\n",
              "\n",
              "    .dataframe thead th {\n",
              "        text-align: right;\n",
              "    }\n",
              "</style>\n",
              "<table border=\"1\" class=\"dataframe\">\n",
              "  <thead>\n",
              "    <tr style=\"text-align: right;\">\n",
              "      <th></th>\n",
              "      <th>sentence</th>\n",
              "      <th>labels</th>\n",
              "    </tr>\n",
              "  </thead>\n",
              "  <tbody>\n",
              "    <tr>\n",
              "      <th>0</th>\n",
              "      <td>[Pierre, Vinken, ,, 61, years, old, ,, will, j...</td>\n",
              "      <td>[NNP, NNP, ,, CD, NNS, JJ, ,, MD, VB, DT, NN, ...</td>\n",
              "    </tr>\n",
              "    <tr>\n",
              "      <th>1</th>\n",
              "      <td>[Mr., Vinken, is, chairman, of, Elsevier, N.V....</td>\n",
              "      <td>[NNP, NNP, VBZ, NN, IN, NNP, NNP, ,, DT, NNP, ...</td>\n",
              "    </tr>\n",
              "    <tr>\n",
              "      <th>2</th>\n",
              "      <td>[Rudolph, Agnew, ,, 55, years, old, and, forme...</td>\n",
              "      <td>[NNP, NNP, ,, CD, NNS, JJ, CC, JJ, NN, IN, NNP...</td>\n",
              "    </tr>\n",
              "    <tr>\n",
              "      <th>3</th>\n",
              "      <td>[A, form, of, asbestos, once, used, to, make, ...</td>\n",
              "      <td>[DT, NN, IN, NN, RB, VBN, TO, VB, NNP, NN, NNS...</td>\n",
              "    </tr>\n",
              "    <tr>\n",
              "      <th>4</th>\n",
              "      <td>[The, asbestos, fiber, ,, crocidolite, ,, is, ...</td>\n",
              "      <td>[DT, NN, NN, ,, NN, ,, VBZ, RB, JJ, IN, PRP, V...</td>\n",
              "    </tr>\n",
              "  </tbody>\n",
              "</table>\n",
              "</div>\n",
              "      <button class=\"colab-df-convert\" onclick=\"convertToInteractive('df-614219d3-de61-49d1-a7f1-9c1bd2f94e9c')\"\n",
              "              title=\"Convert this dataframe to an interactive table.\"\n",
              "              style=\"display:none;\">\n",
              "        \n",
              "  <svg xmlns=\"http://www.w3.org/2000/svg\" height=\"24px\"viewBox=\"0 0 24 24\"\n",
              "       width=\"24px\">\n",
              "    <path d=\"M0 0h24v24H0V0z\" fill=\"none\"/>\n",
              "    <path d=\"M18.56 5.44l.94 2.06.94-2.06 2.06-.94-2.06-.94-.94-2.06-.94 2.06-2.06.94zm-11 1L8.5 8.5l.94-2.06 2.06-.94-2.06-.94L8.5 2.5l-.94 2.06-2.06.94zm10 10l.94 2.06.94-2.06 2.06-.94-2.06-.94-.94-2.06-.94 2.06-2.06.94z\"/><path d=\"M17.41 7.96l-1.37-1.37c-.4-.4-.92-.59-1.43-.59-.52 0-1.04.2-1.43.59L10.3 9.45l-7.72 7.72c-.78.78-.78 2.05 0 2.83L4 21.41c.39.39.9.59 1.41.59.51 0 1.02-.2 1.41-.59l7.78-7.78 2.81-2.81c.8-.78.8-2.07 0-2.86zM5.41 20L4 18.59l7.72-7.72 1.47 1.35L5.41 20z\"/>\n",
              "  </svg>\n",
              "      </button>\n",
              "      \n",
              "  <style>\n",
              "    .colab-df-container {\n",
              "      display:flex;\n",
              "      flex-wrap:wrap;\n",
              "      gap: 12px;\n",
              "    }\n",
              "\n",
              "    .colab-df-convert {\n",
              "      background-color: #E8F0FE;\n",
              "      border: none;\n",
              "      border-radius: 50%;\n",
              "      cursor: pointer;\n",
              "      display: none;\n",
              "      fill: #1967D2;\n",
              "      height: 32px;\n",
              "      padding: 0 0 0 0;\n",
              "      width: 32px;\n",
              "    }\n",
              "\n",
              "    .colab-df-convert:hover {\n",
              "      background-color: #E2EBFA;\n",
              "      box-shadow: 0px 1px 2px rgba(60, 64, 67, 0.3), 0px 1px 3px 1px rgba(60, 64, 67, 0.15);\n",
              "      fill: #174EA6;\n",
              "    }\n",
              "\n",
              "    [theme=dark] .colab-df-convert {\n",
              "      background-color: #3B4455;\n",
              "      fill: #D2E3FC;\n",
              "    }\n",
              "\n",
              "    [theme=dark] .colab-df-convert:hover {\n",
              "      background-color: #434B5C;\n",
              "      box-shadow: 0px 1px 3px 1px rgba(0, 0, 0, 0.15);\n",
              "      filter: drop-shadow(0px 1px 2px rgba(0, 0, 0, 0.3));\n",
              "      fill: #FFFFFF;\n",
              "    }\n",
              "  </style>\n",
              "\n",
              "      <script>\n",
              "        const buttonEl =\n",
              "          document.querySelector('#df-614219d3-de61-49d1-a7f1-9c1bd2f94e9c button.colab-df-convert');\n",
              "        buttonEl.style.display =\n",
              "          google.colab.kernel.accessAllowed ? 'block' : 'none';\n",
              "\n",
              "        async function convertToInteractive(key) {\n",
              "          const element = document.querySelector('#df-614219d3-de61-49d1-a7f1-9c1bd2f94e9c');\n",
              "          const dataTable =\n",
              "            await google.colab.kernel.invokeFunction('convertToInteractive',\n",
              "                                                     [key], {});\n",
              "          if (!dataTable) return;\n",
              "\n",
              "          const docLinkHtml = 'Like what you see? Visit the ' +\n",
              "            '<a target=\"_blank\" href=https://colab.research.google.com/notebooks/data_table.ipynb>data table notebook</a>'\n",
              "            + ' to learn more about interactive tables.';\n",
              "          element.innerHTML = '';\n",
              "          dataTable['output_type'] = 'display_data';\n",
              "          await google.colab.output.renderOutput(dataTable, element);\n",
              "          const docLink = document.createElement('div');\n",
              "          docLink.innerHTML = docLinkHtml;\n",
              "          element.appendChild(docLink);\n",
              "        }\n",
              "      </script>\n",
              "    </div>\n",
              "  </div>\n",
              "  "
            ]
          },
          "metadata": {},
          "execution_count": 7
        }
      ],
      "source": [
        "df_dict[\"train\"].head()"
      ]
    },
    {
      "cell_type": "code",
      "execution_count": null,
      "metadata": {
        "colab": {
          "base_uri": "https://localhost:8080/"
        },
        "id": "kinbChSf56cz",
        "outputId": "eb6196dd-6cf6-4d6d-cc96-f1a412a0e619"
      },
      "outputs": [
        {
          "output_type": "execute_result",
          "data": {
            "text/plain": [
              "                                            sentence  \\\n",
              "0  [A, House-Senate, conference, approved, major,...   \n",
              "1  [For, the, Agency, for, International, Develop...   \n",
              "2  [The, conference, approved, at, least, $, 55, ...   \n",
              "3  [The, agreement, on, Poland, contrasts, with, ...   \n",
              "4  [These, fiscal, pressures, are, also, a, facto...   \n",
              "\n",
              "                                              labels  \n",
              "0  [DT, NNP, NN, VBD, JJ, NNS, IN, DT, NN, IN, JJ...  \n",
              "1  [IN, DT, NNP, IN, NNP, NNP, ,, NNS, VBD, $, CD...  \n",
              "2  [DT, NN, VBD, IN, JJS, $, CD, CD, IN, JJ, NN, ...  \n",
              "3  [DT, NN, IN, NNP, VBZ, IN, DT, JJ, NNS, VBG, I...  \n",
              "4  [DT, JJ, NNS, VBP, RB, DT, NN, IN, VBG, DT, NN...  "
            ],
            "text/html": [
              "\n",
              "  <div id=\"df-e953c355-ccbc-4c94-a0a9-8d6ee38da804\">\n",
              "    <div class=\"colab-df-container\">\n",
              "      <div>\n",
              "<style scoped>\n",
              "    .dataframe tbody tr th:only-of-type {\n",
              "        vertical-align: middle;\n",
              "    }\n",
              "\n",
              "    .dataframe tbody tr th {\n",
              "        vertical-align: top;\n",
              "    }\n",
              "\n",
              "    .dataframe thead th {\n",
              "        text-align: right;\n",
              "    }\n",
              "</style>\n",
              "<table border=\"1\" class=\"dataframe\">\n",
              "  <thead>\n",
              "    <tr style=\"text-align: right;\">\n",
              "      <th></th>\n",
              "      <th>sentence</th>\n",
              "      <th>labels</th>\n",
              "    </tr>\n",
              "  </thead>\n",
              "  <tbody>\n",
              "    <tr>\n",
              "      <th>0</th>\n",
              "      <td>[A, House-Senate, conference, approved, major,...</td>\n",
              "      <td>[DT, NNP, NN, VBD, JJ, NNS, IN, DT, NN, IN, JJ...</td>\n",
              "    </tr>\n",
              "    <tr>\n",
              "      <th>1</th>\n",
              "      <td>[For, the, Agency, for, International, Develop...</td>\n",
              "      <td>[IN, DT, NNP, IN, NNP, NNP, ,, NNS, VBD, $, CD...</td>\n",
              "    </tr>\n",
              "    <tr>\n",
              "      <th>2</th>\n",
              "      <td>[The, conference, approved, at, least, $, 55, ...</td>\n",
              "      <td>[DT, NN, VBD, IN, JJS, $, CD, CD, IN, JJ, NN, ...</td>\n",
              "    </tr>\n",
              "    <tr>\n",
              "      <th>3</th>\n",
              "      <td>[The, agreement, on, Poland, contrasts, with, ...</td>\n",
              "      <td>[DT, NN, IN, NNP, VBZ, IN, DT, JJ, NNS, VBG, I...</td>\n",
              "    </tr>\n",
              "    <tr>\n",
              "      <th>4</th>\n",
              "      <td>[These, fiscal, pressures, are, also, a, facto...</td>\n",
              "      <td>[DT, JJ, NNS, VBP, RB, DT, NN, IN, VBG, DT, NN...</td>\n",
              "    </tr>\n",
              "  </tbody>\n",
              "</table>\n",
              "</div>\n",
              "      <button class=\"colab-df-convert\" onclick=\"convertToInteractive('df-e953c355-ccbc-4c94-a0a9-8d6ee38da804')\"\n",
              "              title=\"Convert this dataframe to an interactive table.\"\n",
              "              style=\"display:none;\">\n",
              "        \n",
              "  <svg xmlns=\"http://www.w3.org/2000/svg\" height=\"24px\"viewBox=\"0 0 24 24\"\n",
              "       width=\"24px\">\n",
              "    <path d=\"M0 0h24v24H0V0z\" fill=\"none\"/>\n",
              "    <path d=\"M18.56 5.44l.94 2.06.94-2.06 2.06-.94-2.06-.94-.94-2.06-.94 2.06-2.06.94zm-11 1L8.5 8.5l.94-2.06 2.06-.94-2.06-.94L8.5 2.5l-.94 2.06-2.06.94zm10 10l.94 2.06.94-2.06 2.06-.94-2.06-.94-.94-2.06-.94 2.06-2.06.94z\"/><path d=\"M17.41 7.96l-1.37-1.37c-.4-.4-.92-.59-1.43-.59-.52 0-1.04.2-1.43.59L10.3 9.45l-7.72 7.72c-.78.78-.78 2.05 0 2.83L4 21.41c.39.39.9.59 1.41.59.51 0 1.02-.2 1.41-.59l7.78-7.78 2.81-2.81c.8-.78.8-2.07 0-2.86zM5.41 20L4 18.59l7.72-7.72 1.47 1.35L5.41 20z\"/>\n",
              "  </svg>\n",
              "      </button>\n",
              "      \n",
              "  <style>\n",
              "    .colab-df-container {\n",
              "      display:flex;\n",
              "      flex-wrap:wrap;\n",
              "      gap: 12px;\n",
              "    }\n",
              "\n",
              "    .colab-df-convert {\n",
              "      background-color: #E8F0FE;\n",
              "      border: none;\n",
              "      border-radius: 50%;\n",
              "      cursor: pointer;\n",
              "      display: none;\n",
              "      fill: #1967D2;\n",
              "      height: 32px;\n",
              "      padding: 0 0 0 0;\n",
              "      width: 32px;\n",
              "    }\n",
              "\n",
              "    .colab-df-convert:hover {\n",
              "      background-color: #E2EBFA;\n",
              "      box-shadow: 0px 1px 2px rgba(60, 64, 67, 0.3), 0px 1px 3px 1px rgba(60, 64, 67, 0.15);\n",
              "      fill: #174EA6;\n",
              "    }\n",
              "\n",
              "    [theme=dark] .colab-df-convert {\n",
              "      background-color: #3B4455;\n",
              "      fill: #D2E3FC;\n",
              "    }\n",
              "\n",
              "    [theme=dark] .colab-df-convert:hover {\n",
              "      background-color: #434B5C;\n",
              "      box-shadow: 0px 1px 3px 1px rgba(0, 0, 0, 0.15);\n",
              "      filter: drop-shadow(0px 1px 2px rgba(0, 0, 0, 0.3));\n",
              "      fill: #FFFFFF;\n",
              "    }\n",
              "  </style>\n",
              "\n",
              "      <script>\n",
              "        const buttonEl =\n",
              "          document.querySelector('#df-e953c355-ccbc-4c94-a0a9-8d6ee38da804 button.colab-df-convert');\n",
              "        buttonEl.style.display =\n",
              "          google.colab.kernel.accessAllowed ? 'block' : 'none';\n",
              "\n",
              "        async function convertToInteractive(key) {\n",
              "          const element = document.querySelector('#df-e953c355-ccbc-4c94-a0a9-8d6ee38da804');\n",
              "          const dataTable =\n",
              "            await google.colab.kernel.invokeFunction('convertToInteractive',\n",
              "                                                     [key], {});\n",
              "          if (!dataTable) return;\n",
              "\n",
              "          const docLinkHtml = 'Like what you see? Visit the ' +\n",
              "            '<a target=\"_blank\" href=https://colab.research.google.com/notebooks/data_table.ipynb>data table notebook</a>'\n",
              "            + ' to learn more about interactive tables.';\n",
              "          element.innerHTML = '';\n",
              "          dataTable['output_type'] = 'display_data';\n",
              "          await google.colab.output.renderOutput(dataTable, element);\n",
              "          const docLink = document.createElement('div');\n",
              "          docLink.innerHTML = docLinkHtml;\n",
              "          element.appendChild(docLink);\n",
              "        }\n",
              "      </script>\n",
              "    </div>\n",
              "  </div>\n",
              "  "
            ]
          },
          "metadata": {},
          "execution_count": 8
        }
      ],
      "source": [
        "df_dict[\"val\"].head()"
      ]
    },
    {
      "cell_type": "code",
      "execution_count": null,
      "metadata": {
        "colab": {
          "base_uri": "https://localhost:8080/"
        },
        "id": "D7U5NfKo57x6",
        "outputId": "75f3db1e-2f44-4062-c6b5-b7bad4daa562"
      },
      "outputs": [
        {
          "output_type": "execute_result",
          "data": {
            "text/plain": [
              "                                            sentence  \\\n",
              "0  [Intelogic, Trace, Inc., ,, San, Antonio, ,, T...   \n",
              "1  [The, move, boosts, Intelogic, Chairman, Asher...   \n",
              "2  [Mr., Ackerman, already, is, seeking, to, oust...   \n",
              "3  [The, action, followed, by, one, day, an, Inte...   \n",
              "4  [In, New, York, Stock, Exchange, composite, tr...   \n",
              "\n",
              "                                              labels  \n",
              "0  [NNP, NNP, NNP, ,, NNP, NNP, ,, NNP, ,, VBD, P...  \n",
              "1  [DT, NN, VBZ, NNP, NNP, NNP, NNP, POS, NN, TO,...  \n",
              "2  [NNP, NNP, RB, VBZ, VBG, TO, VB, NNP, NNP, IN,...  \n",
              "3  [DT, NN, VBN, IN, CD, NN, DT, NNP, NN, IN, PRP...  \n",
              "4  [IN, NNP, NNP, NNP, NNP, JJ, NN, NN, ,, NNP, N...  "
            ],
            "text/html": [
              "\n",
              "  <div id=\"df-dc9a53d3-fdff-4135-bca8-6d4574ef82f7\">\n",
              "    <div class=\"colab-df-container\">\n",
              "      <div>\n",
              "<style scoped>\n",
              "    .dataframe tbody tr th:only-of-type {\n",
              "        vertical-align: middle;\n",
              "    }\n",
              "\n",
              "    .dataframe tbody tr th {\n",
              "        vertical-align: top;\n",
              "    }\n",
              "\n",
              "    .dataframe thead th {\n",
              "        text-align: right;\n",
              "    }\n",
              "</style>\n",
              "<table border=\"1\" class=\"dataframe\">\n",
              "  <thead>\n",
              "    <tr style=\"text-align: right;\">\n",
              "      <th></th>\n",
              "      <th>sentence</th>\n",
              "      <th>labels</th>\n",
              "    </tr>\n",
              "  </thead>\n",
              "  <tbody>\n",
              "    <tr>\n",
              "      <th>0</th>\n",
              "      <td>[Intelogic, Trace, Inc., ,, San, Antonio, ,, T...</td>\n",
              "      <td>[NNP, NNP, NNP, ,, NNP, NNP, ,, NNP, ,, VBD, P...</td>\n",
              "    </tr>\n",
              "    <tr>\n",
              "      <th>1</th>\n",
              "      <td>[The, move, boosts, Intelogic, Chairman, Asher...</td>\n",
              "      <td>[DT, NN, VBZ, NNP, NNP, NNP, NNP, POS, NN, TO,...</td>\n",
              "    </tr>\n",
              "    <tr>\n",
              "      <th>2</th>\n",
              "      <td>[Mr., Ackerman, already, is, seeking, to, oust...</td>\n",
              "      <td>[NNP, NNP, RB, VBZ, VBG, TO, VB, NNP, NNP, IN,...</td>\n",
              "    </tr>\n",
              "    <tr>\n",
              "      <th>3</th>\n",
              "      <td>[The, action, followed, by, one, day, an, Inte...</td>\n",
              "      <td>[DT, NN, VBN, IN, CD, NN, DT, NNP, NN, IN, PRP...</td>\n",
              "    </tr>\n",
              "    <tr>\n",
              "      <th>4</th>\n",
              "      <td>[In, New, York, Stock, Exchange, composite, tr...</td>\n",
              "      <td>[IN, NNP, NNP, NNP, NNP, JJ, NN, NN, ,, NNP, N...</td>\n",
              "    </tr>\n",
              "  </tbody>\n",
              "</table>\n",
              "</div>\n",
              "      <button class=\"colab-df-convert\" onclick=\"convertToInteractive('df-dc9a53d3-fdff-4135-bca8-6d4574ef82f7')\"\n",
              "              title=\"Convert this dataframe to an interactive table.\"\n",
              "              style=\"display:none;\">\n",
              "        \n",
              "  <svg xmlns=\"http://www.w3.org/2000/svg\" height=\"24px\"viewBox=\"0 0 24 24\"\n",
              "       width=\"24px\">\n",
              "    <path d=\"M0 0h24v24H0V0z\" fill=\"none\"/>\n",
              "    <path d=\"M18.56 5.44l.94 2.06.94-2.06 2.06-.94-2.06-.94-.94-2.06-.94 2.06-2.06.94zm-11 1L8.5 8.5l.94-2.06 2.06-.94-2.06-.94L8.5 2.5l-.94 2.06-2.06.94zm10 10l.94 2.06.94-2.06 2.06-.94-2.06-.94-.94-2.06-.94 2.06-2.06.94z\"/><path d=\"M17.41 7.96l-1.37-1.37c-.4-.4-.92-.59-1.43-.59-.52 0-1.04.2-1.43.59L10.3 9.45l-7.72 7.72c-.78.78-.78 2.05 0 2.83L4 21.41c.39.39.9.59 1.41.59.51 0 1.02-.2 1.41-.59l7.78-7.78 2.81-2.81c.8-.78.8-2.07 0-2.86zM5.41 20L4 18.59l7.72-7.72 1.47 1.35L5.41 20z\"/>\n",
              "  </svg>\n",
              "      </button>\n",
              "      \n",
              "  <style>\n",
              "    .colab-df-container {\n",
              "      display:flex;\n",
              "      flex-wrap:wrap;\n",
              "      gap: 12px;\n",
              "    }\n",
              "\n",
              "    .colab-df-convert {\n",
              "      background-color: #E8F0FE;\n",
              "      border: none;\n",
              "      border-radius: 50%;\n",
              "      cursor: pointer;\n",
              "      display: none;\n",
              "      fill: #1967D2;\n",
              "      height: 32px;\n",
              "      padding: 0 0 0 0;\n",
              "      width: 32px;\n",
              "    }\n",
              "\n",
              "    .colab-df-convert:hover {\n",
              "      background-color: #E2EBFA;\n",
              "      box-shadow: 0px 1px 2px rgba(60, 64, 67, 0.3), 0px 1px 3px 1px rgba(60, 64, 67, 0.15);\n",
              "      fill: #174EA6;\n",
              "    }\n",
              "\n",
              "    [theme=dark] .colab-df-convert {\n",
              "      background-color: #3B4455;\n",
              "      fill: #D2E3FC;\n",
              "    }\n",
              "\n",
              "    [theme=dark] .colab-df-convert:hover {\n",
              "      background-color: #434B5C;\n",
              "      box-shadow: 0px 1px 3px 1px rgba(0, 0, 0, 0.15);\n",
              "      filter: drop-shadow(0px 1px 2px rgba(0, 0, 0, 0.3));\n",
              "      fill: #FFFFFF;\n",
              "    }\n",
              "  </style>\n",
              "\n",
              "      <script>\n",
              "        const buttonEl =\n",
              "          document.querySelector('#df-dc9a53d3-fdff-4135-bca8-6d4574ef82f7 button.colab-df-convert');\n",
              "        buttonEl.style.display =\n",
              "          google.colab.kernel.accessAllowed ? 'block' : 'none';\n",
              "\n",
              "        async function convertToInteractive(key) {\n",
              "          const element = document.querySelector('#df-dc9a53d3-fdff-4135-bca8-6d4574ef82f7');\n",
              "          const dataTable =\n",
              "            await google.colab.kernel.invokeFunction('convertToInteractive',\n",
              "                                                     [key], {});\n",
              "          if (!dataTable) return;\n",
              "\n",
              "          const docLinkHtml = 'Like what you see? Visit the ' +\n",
              "            '<a target=\"_blank\" href=https://colab.research.google.com/notebooks/data_table.ipynb>data table notebook</a>'\n",
              "            + ' to learn more about interactive tables.';\n",
              "          element.innerHTML = '';\n",
              "          dataTable['output_type'] = 'display_data';\n",
              "          await google.colab.output.renderOutput(dataTable, element);\n",
              "          const docLink = document.createElement('div');\n",
              "          docLink.innerHTML = docLinkHtml;\n",
              "          element.appendChild(docLink);\n",
              "        }\n",
              "      </script>\n",
              "    </div>\n",
              "  </div>\n",
              "  "
            ]
          },
          "metadata": {},
          "execution_count": 9
        }
      ],
      "source": [
        "df_dict[\"test\"].head()"
      ]
    },
    {
      "cell_type": "code",
      "execution_count": null,
      "metadata": {
        "id": "e2i-qWdRdjV-"
      },
      "outputs": [],
      "source": [
        "#Creating x and y starting from dataframe just built\n",
        "\n",
        "x = {\"train\": df_dict['train']['sentence'],\n",
        "     \"val\": df_dict['val']['sentence'],\n",
        "     \"test\": df_dict['test']['sentence']}\n",
        "\n",
        "y = {\"train\": df_dict['train']['labels'],\n",
        "     \"val\": df_dict['val']['labels'],\n",
        "     \"test\": df_dict['test']['labels']}"
      ]
    },
    {
      "cell_type": "markdown",
      "metadata": {
        "id": "Vf1URJEz-ADo"
      },
      "source": [
        "# Glove Embedding model, vocabulary and OOV detection"
      ]
    },
    {
      "cell_type": "markdown",
      "metadata": {
        "id": "_0Xhe6fjWvqv"
      },
      "source": [
        "## Load Glove embedding"
      ]
    },
    {
      "cell_type": "markdown",
      "source": [
        "We will start using embedding_dimension=50 to speed up the process. Anyway, at the end of this notebook we will move to embedding_dimension=300 to improve results"
      ],
      "metadata": {
        "id": "kNUzbs63pDpX"
      }
    },
    {
      "cell_type": "code",
      "execution_count": null,
      "metadata": {
        "id": "S5nCta0f9_X0"
      },
      "outputs": [],
      "source": [
        "def load_GloVe_embedding(embedding_dimension: int = 50) -> gensim.models.keyedvectors.KeyedVectors:\n",
        "    \"\"\"\n",
        "    Loads a pre-trained word embedding model via gensim library.\n",
        "\n",
        "    :param embedding_dimension: size of the embedding space to consider\n",
        "\n",
        "    :return\n",
        "        - pre-trained word embedding model (gensim KeyedVectors object)\n",
        "    \"\"\"\n",
        "    download_path = \"glove-wiki-gigaword-{}\".format(embedding_dimension)\n",
        "    try:\n",
        "        emb_model = gloader.load(download_path)\n",
        "    except ValueError as e:\n",
        "        print(\"Invalid embedding model name! Check the embedding dimension:\")\n",
        "        print(\"Glove: 50, 100, 200, 300\")\n",
        "        raise e\n",
        "\n",
        "    return emb_model"
      ]
    },
    {
      "cell_type": "code",
      "execution_count": null,
      "metadata": {
        "colab": {
          "base_uri": "https://localhost:8080/"
        },
        "id": "afdQh5i8CDsh",
        "outputId": "9830d4c5-7295-40cb-d784-6190a891a894"
      },
      "outputs": [
        {
          "output_type": "stream",
          "name": "stdout",
          "text": [
            "[==================================================] 100.0% 66.0/66.0MB downloaded\n"
          ]
        }
      ],
      "source": [
        "EMBEDDING_DIMENSION = 50\n",
        "glove_emb_model = load_GloVe_embedding(EMBEDDING_DIMENSION)"
      ]
    },
    {
      "cell_type": "markdown",
      "metadata": {
        "id": "qZUuz-bW_BO3"
      },
      "source": [
        "##Creating initial vocabulary"
      ]
    },
    {
      "cell_type": "code",
      "execution_count": null,
      "metadata": {
        "id": "l98tkgAW_DGT"
      },
      "outputs": [],
      "source": [
        "from collections import OrderedDict\n",
        "\n",
        "def build_vocabulary(sr: pd.Series) -> List[str]:\n",
        "    \"\"\"\n",
        "    Given a series of sentences, so a series of list of words, builds the corresponding vocabulary.\n",
        "\n",
        "    :param sr: series of sentences, so a a series of list of words (pandas.Series)\n",
        "    :return:\n",
        "      - vocabulary: set of unique terms that build up the vocabulary (list)\n",
        "    \"\"\"\n",
        "    vocabulary = []\n",
        "    for sentence in sr:\n",
        "        for token in sentence:\n",
        "            if token not in vocabulary:\n",
        "                vocabulary.append(token)\n",
        "\n",
        "    return vocabulary"
      ]
    },
    {
      "cell_type": "code",
      "execution_count": null,
      "metadata": {
        "colab": {
          "base_uri": "https://localhost:8080/"
        },
        "id": "9D37IdA4AeHo",
        "outputId": "428e6c49-ff95-4cf8-c903-160a0a6d3dbf"
      },
      "outputs": [
        {
          "output_type": "stream",
          "name": "stdout",
          "text": [
            "[Debug] train vocabulary size: 8009\n",
            "[Debug] val vocabulary size: 5892\n",
            "[Debug] test vocabulary size: 3623\n"
          ]
        }
      ],
      "source": [
        "vocabulary_dict = {}  #dict containing the vocabulary of every split (train, validation, test)\n",
        "for split in df_dict.keys():\n",
        "    vocabulary_dict[split] = build_vocabulary(x[split])\n",
        "    print(f'[Debug] {split} vocabulary size: {len(vocabulary_dict[split])}')"
      ]
    },
    {
      "cell_type": "markdown",
      "metadata": {
        "id": "mzQ6qRPF_86z"
      },
      "source": [
        "## OOV detection"
      ]
    },
    {
      "cell_type": "code",
      "execution_count": null,
      "metadata": {
        "id": "hvm7cbv1BYtq"
      },
      "outputs": [],
      "source": [
        "def check_OOV_terms(vocabulary: Iterable[str],\n",
        "                    word_listing: List[str])  -> List[str]:\n",
        "    \"\"\"\n",
        "    Checks differences between two vocabularies\n",
        "\n",
        "    :param \n",
        "        - vocabulary: vocabulary to which the second one must be compared against \n",
        "        - word_listing: dataset specific vocabulary (list)\n",
        "\n",
        "    :return\n",
        "        - oov: list of unique OOV terms (terms in word_listing that are not in vocabulary)\n",
        "    \"\"\"\n",
        "    embedding_vocabulary = set(vocabulary)\n",
        "    oov = set(word_listing).difference(embedding_vocabulary)\n",
        "    return list(oov)"
      ]
    },
    {
      "cell_type": "code",
      "execution_count": null,
      "metadata": {
        "colab": {
          "base_uri": "https://localhost:8080/"
        },
        "id": "H2MnS5ilADqv",
        "outputId": "61845916-7a00-4208-9b4a-d39c57f88b48"
      },
      "outputs": [
        {
          "output_type": "stream",
          "name": "stdout",
          "text": [
            "Total OOV terms: 2346 (29.29%)\n"
          ]
        }
      ],
      "source": [
        "OOV1 = check_OOV_terms(glove_emb_model.vocab.keys(), vocabulary_dict[\"train\"])  #initial vocabulary is the GloVe one, the other is the train one\n",
        "OOV1_percentage = float(len(OOV1)) * 100 / len(vocabulary_dict[\"train\"])\n",
        "print(f\"Total OOV terms: {len(OOV1)} ({OOV1_percentage:.2f}%)\")"
      ]
    },
    {
      "cell_type": "markdown",
      "metadata": {
        "id": "zPySrACEC5D3"
      },
      "source": [
        "There are many OOV terms, but we have not done any pre-processing yet. Indeed, a straight forward one is to adopt the same case as Glove. Indeed, we have changed every word to lowercase and looked again for OOV."
      ]
    },
    {
      "cell_type": "code",
      "execution_count": null,
      "metadata": {
        "colab": {
          "base_uri": "https://localhost:8080/"
        },
        "id": "CB364Xx_C2vo",
        "outputId": "8b9cd18a-21d2-49ba-fa99-4b17104999fa"
      },
      "outputs": [
        {
          "output_type": "stream",
          "name": "stdout",
          "text": [
            "Total OOV terms: 359 (4.48%)\n"
          ]
        }
      ],
      "source": [
        "OOV1_lowercase = check_OOV_terms(glove_emb_model.vocab.keys(), [v.lower() for v in vocabulary_dict[\"train\"]])\n",
        "OOV1_lowercase_percentage = float(len(OOV1_lowercase)) * 100 / len(vocabulary_dict[\"train\"])\n",
        "print(f\"Total OOV terms: {len(OOV1_lowercase)} ({OOV1_lowercase_percentage:.2f}%)\")"
      ]
    },
    {
      "cell_type": "markdown",
      "source": [
        "Indeed, just moving to lowercase we have dramatically decreased the number of OOV of train vocabulary versus GloVe vocabulary. \n",
        "\n",
        "Now, we have to inspect the remaining OOV words to see which further preprocessing can be useful."
      ],
      "metadata": {
        "id": "VTXrd8_BsocH"
      }
    },
    {
      "cell_type": "code",
      "execution_count": null,
      "metadata": {
        "colab": {
          "base_uri": "https://localhost:8080/"
        },
        "id": "sWzR_D1dGI-u",
        "outputId": "c4855741-7772-4367-b3d9-5935cafcdfcd"
      },
      "outputs": [
        {
          "output_type": "stream",
          "name": "stdout",
          "text": [
            "automotive-lighting\n",
            "twindam\n",
            "sharedata\n",
            "cash-rich\n",
            "language-housekeeper\n",
            "rubinfien\n",
            "test-preparation\n",
            "post-hearing\n",
            "malizia\n",
            "family-planning\n",
            "non-biodegradable\n",
            "rate-sensitive\n",
            "sino-u.s.\n",
            "ghkm\n",
            "futures-related\n",
            "84-month\n",
            "lower-priority\n",
            "trettien\n",
            "2,303,328\n",
            "16,072\n",
            "446.62\n",
            "rapanelli\n",
            "co-developers\n",
            "collective-bargaining\n",
            "69-point\n",
            "autions\n",
            "mouth-up\n",
            "trading-company\n",
            "war-rationed\n",
            "year-earlier\n",
            "hummerstone\n",
            "18,444\n",
            "merger-related\n",
            "twin-jet\n",
            "1.8415\n",
            "lap-shoulder\n",
            "auto-safety\n",
            "investor-relations\n",
            "5.276\n",
            "delwin\n",
            "pramual\n",
            "electric-utility\n",
            "subskills\n",
            "biondi-santi\n",
            "social-studies\n",
            "497.34\n",
            "14,821\n",
            "safe-deposit\n",
            "12,252\n",
            "236.79\n",
            "northy\n",
            "forest-products\n",
            "2645.90\n",
            "wheel-loader\n",
            "college-bowl\n",
            "trockenbeerenauslesen\n",
            "nih-appointed\n",
            "ratners\n",
            "3\\/4\n",
            "six-bottle\n",
            "two-sevenths\n",
            "samnick\n",
            "asset-sale\n",
            "school-district\n",
            "271,124\n",
            "student-test\n",
            "life-insurance\n",
            "nagymaros\n",
            "money-fund\n",
            "equal-opportunity\n",
            "high-balance\n",
            "times-stock\n",
            "ensrud\n",
            "replacement-car\n",
            "stock-index\n",
            "374.20\n",
            "3057\n",
            "money-center\n",
            "big-ticket\n",
            "derel\n",
            "besuboru\n",
            "bumkins\n",
            "computer-system-design\n",
            "high-rate\n",
            "1.5755\n",
            "non-encapsulating\n",
            "norwick\n",
            "anti-abortionists\n",
            "127.03\n",
            "38.375\n",
            "church-goers\n",
            "when-issued\n",
            "built-from-kit\n",
            "light-truck\n",
            "secilia\n",
            "teacher-cadet\n",
            "macmillan\\/mcgraw-hill\n",
            "90-cent-an-hour\n",
            "11,762\n",
            "415.8\n",
            "62%-owned\n",
            "wheeland\n",
            "satrum\n",
            "sometimes-exhausting\n",
            "training-wage\n",
            "coche-dury\n",
            "mehrens\n",
            "pattenden\n",
            "building-products\n",
            "352.7\n",
            "crocidolite\n",
            "cop-killer\n",
            "95,142\n",
            "morale-damaging\n",
            "savers\\/investors\n",
            "capital-gains\n",
            "one-upsmanship\n",
            "bell-ringer\n",
            "computer-driven\n",
            "identity-management\n",
            "ingersoll-rand\n",
            "buttoned-down\n",
            "low-ability\n",
            "revenue-desperate\n",
            "industrial-production\n",
            "dust-up\n",
            "makato\n",
            "new-home\n",
            "six-packs\n",
            "shirt-sleeved\n",
            "red-flag\n",
            "water-authority\n",
            "8300s\n",
            "energy-services\n",
            "retin-a\n",
            "382-37\n",
            "-rrb-\n",
            "c.j.b.\n",
            "video-viewing\n",
            "polyproplene\n",
            "13,056\n",
            "veselich\n",
            "yeargin\n",
            "vitulli\n",
            "374.19\n",
            "82,389\n",
            "subminimum\n",
            "savings-and-loan\n",
            "akerfeldt\n",
            "index-related\n",
            "yen-support\n",
            "school-board\n",
            "anti-china\n",
            "micronite\n",
            "antitrust-law\n",
            "sogo-shosha\n",
            "home-market\n",
            "hallwood\n",
            "subindustry\n",
            "search-and-seizure\n",
            "sell-offs\n",
            "wtd\n",
            "sport-utility\n",
            "nearly-30\n",
            "fetal-tissue\n",
            "purhasing\n",
            "odd-sounding\n",
            "macmillan\\/mcgraw\n",
            "4.898\n",
            "marketing-communications\n",
            "pre-1917\n",
            "top-yielding\n",
            "foreign-led\n",
            "jerritts\n",
            "page-one\n",
            "side-crash\n",
            "preparatives\n",
            "230-215\n",
            "telephone-information\n",
            "1.457\n",
            "foreign-stock\n",
            "chinchon\n",
            "integra-a\n",
            "bald-faced\n",
            "449.04\n",
            "centerbank\n",
            "ctbs\n",
            "kalipharma\n",
            "recession-inspired\n",
            "tissue-transplant\n",
            "wfrr\n",
            "red-blooded\n",
            "-lrb-\n",
            "sub-segments\n",
            "monchecourt\n",
            "three-sevenths\n",
            "test-coaching\n",
            "one-country\n",
            "unenticing\n",
            "pro-forma\n",
            "change-ringing\n",
            "wine-buying\n",
            "machine-gun-toting\n",
            "year-ago\n",
            "three-lawyer\n",
            "500,004\n",
            "flightiness\n",
            "food-shop\n",
            "univest\n",
            "ft-se\n",
            "colonsville\n",
            "143.93\n",
            "3.253\n",
            "142.85\n",
            "amphobiles\n",
            "iran\\/contra\n",
            "government-certified\n",
            "mortgage-based\n",
            "prize-fighter\n",
            "market-share\n",
            "stock-manipulation\n",
            "520-lawyer\n",
            "summer\\/winter\n",
            "weisfield\n",
            "ac-130u\n",
            "sacramento-based\n",
            "thin-lipped\n",
            "incentive-bonus\n",
            "lezovich\n",
            "security-type\n",
            "school-research\n",
            "mininum-wage\n",
            "forest-product\n",
            "sanderoff\n",
            "nekoosa\n",
            "stirlen\n",
            "romanee-conti\n",
            "macheski\n",
            "ntg\n",
            "100,980\n",
            "bridgestone\\/firestone\n",
            "solaia\n",
            "nissho-iwai\n",
            "sub-markets\n",
            "erbamont\n",
            "corton-charlemagne\n",
            "program-trading\n",
            "tiphook\n",
            "drag-down\n",
            "test-prep\n",
            "cray-3\n",
            "we-japanese\n",
            "automotive-parts\n",
            "old-house\n",
            "1\\/10th\n",
            "beer-belly\n",
            "school-improvement\n",
            "70-a-share\n",
            "moleculon\n",
            "pennview\n",
            "lafite-rothschild\n",
            "muscolina\n",
            "1\\/2\n",
            "37-a-share\n",
            "senate-house\n",
            "nipponese\n",
            "30,841\n",
            "c-90\n",
            "pianist-comedian\n",
            "rexinger\n",
            "low-ball\n",
            "cotran\n",
            "securities-based\n",
            "creator's\n",
            "eight-count\n",
            "less-serious\n",
            "front-seat\n",
            "roof-crush\n",
            "chemplus\n",
            "737.5\n",
            "-rcb-\n",
            "durable-goods\n",
            "vinken\n",
            "143.08\n",
            "yen-denominated\n",
            "rope-sight\n",
            "deposits-a\n",
            "pre-1933\n",
            "abortion-related\n",
            "glenham\n",
            "floating-rate\n",
            "7\\/8\n",
            "aslacton\n",
            "jalaalwalikraam\n",
            "higher-salaried\n",
            "index-arbitrage\n",
            "9,118\n",
            "uzi-model\n",
            "state-supervised\n",
            "1\\/4\n",
            "greenmailer\n",
            "money-market\n",
            "one-yen\n",
            "705.6\n",
            "purepac\n",
            "more-efficient\n",
            "278.7\n",
            "product-design\n",
            "nesb\n",
            "bermuda-based\n",
            "subskill\n",
            "chafic\n",
            "pathlogy\n",
            "intellectual-property\n",
            "direct-investment\n",
            "bellringers\n",
            "5\\/8\n",
            "sometimes-tawdry\n",
            "meinders\n",
            "3,288,453\n",
            "4,393,237\n",
            "tarwhine\n",
            "415.6\n",
            "dollar-yen\n",
            "gingl\n",
            "superpremiums\n",
            "achievement-test\n",
            "re-thought\n",
            "circuit-breaker\n",
            "236.74\n",
            "sticker-shock\n",
            "index-options\n",
            "ariail\n",
            "custom-chip\n",
            "car-safety\n",
            "chong-sik\n",
            "16.125\n",
            "boorse\n",
            "62.625\n",
            "436.01\n",
            "test-practice\n",
            "456.64\n",
            "chilver\n",
            "143.80\n",
            "small-company\n",
            "limited-partnership\n",
            "-lcb-\n",
            "junk-bond\n",
            "361,376\n",
            "anti-takeover\n",
            "landonne\n",
            "detective-story\n",
            "unfair-trade\n",
            "alurralde\n",
            "234.4\n",
            "highest-pitched\n",
            "dead-eyed\n",
            "drobnick\n",
            "synergistics\n"
          ]
        }
      ],
      "source": [
        "print(\"\\n\".join(OOV1_lowercase))"
      ]
    },
    {
      "cell_type": "markdown",
      "source": [
        "Printing the whole list of OOV words, we have the following types of OOV words:\n",
        "\n",
        "*   **Compound words**: in most of the cases they are composed by words that are in the vocabulary\n",
        "*   **Decimal numbers**: they need to be defined as class, simply because it is not realistic to encode all decimal numbers (they are too many)\n",
        "*   **Rational numbers**: e.g. 1\\/4 , they are similar to decimal numbers. Note that they have a backslash that will be removed to bring them to the standard form of rational numbers. Similarly for compound words separated by \"\\/\" instead of \"-\" we will perform a replacement\n",
        "*   **Brackets**: instead of being represented with their symbols like the rest of punctuation, their acronym is use (e.g. -lcb- stands for \"left curly bracket\")\n",
        "\n",
        "\n"
      ],
      "metadata": {
        "id": "DVE0aMK3tLDM"
      }
    },
    {
      "cell_type": "markdown",
      "metadata": {
        "id": "b5RNdNYYHYwQ"
      },
      "source": [
        "# Preprocessing\n",
        "To further reduce the number of OOV words, we will perform the following preprocessing steps:\n",
        "\n",
        "\n",
        "\n",
        "1.   Change all the words to lowercase\n",
        "2.   Replace \\\\/ with /\n",
        "3.   Replace left bracket symbols\n",
        "4.   Replace right bracket symbols\n",
        "5.   Replace rational numbers with \"#number#\" placeholder\n",
        "6.   Replace decimal numbers with \"#number#\" placeholder\n",
        "7.   Replace compound words' separator: compound words previously separated by \"\\\\/\" are separated by \"/\" after performing step 2., so now we will replace \"/\" with \"-\"\n",
        "\n",
        "\n",
        "\n",
        "\n",
        "\n"
      ]
    },
    {
      "cell_type": "code",
      "execution_count": null,
      "metadata": {
        "id": "d9H61yyiHYbT"
      },
      "outputs": [],
      "source": [
        "def preprocessing(content_list: List[str]) -> List[str]:\n",
        "    \"\"\"\n",
        "    Preprocess a list a strings: applied to every sentence (a sentence is a list of words) \n",
        "\n",
        "    :param \n",
        "        - content_list: list of string to be preprocessed \n",
        "\n",
        "    :return\n",
        "        - content_list_preprocessed: preprocessed list\n",
        "    \"\"\"\n",
        "\n",
        "    placeholder = \"#number#\"\n",
        "    re_slashes = re.compile('\\\\\\/')  #pattern \\/ \n",
        "    re_rational = re.compile('\\d+\\/\\d+')  #pattern rational number (e.g. 1/5)\n",
        "    re_number = re.compile('[+-]?(\\d*[.])\\d+')  #pattern decimal number (e.g. 3.14)\n",
        "    re_left_bracket = re.compile('(-lrb-)|(-lcb-)')  #pattern left bracket\n",
        "    re_right_bracket = re.compile('(-rrb-)|(-rcb-)')  #pattern right bracket\n",
        "    re_slashed_words = re.compile(\"(\\w*)\\/(\\w*)\")  #a slash separating words will be replaced with a dash, following the trend of the dataset, where composed words are in the form word-word\n",
        "\n",
        "    content_list_preprocessed = [content.lower() for content in content_list]  #change to lowercase\n",
        "    content_list_preprocessed = [re_slashes.sub(\"/\", content) for content in content_list_preprocessed] #replace \\/ with /\n",
        "    content_list_preprocessed = [re_left_bracket.sub(\"(\", content) for content in content_list_preprocessed]  #replace left bracket symbols\n",
        "    content_list_preprocessed = [re_right_bracket.sub(\")\", content) for content in content_list_preprocessed]  #replace right bracket symbols\n",
        "    content_list_preprocessed = [placeholder if re.match(re_rational, content) else content for content in content_list_preprocessed]  #replace rational numbers with a placeholder\n",
        "    content_list_preprocessed = [placeholder if re.match(re_number, content) else content for content in content_list_preprocessed]  #replace decimal numbers with a placeholder\n",
        "    content_list_preprocessed = [content.replace(\"/\", \"-\") if re.match(re_slashed_words, content) else content for content in content_list_preprocessed]  #replace compound words' separator \n",
        "\n",
        "    return content_list_preprocessed"
      ]
    },
    {
      "cell_type": "markdown",
      "metadata": {
        "id": "OzNl0nSGdEwd"
      },
      "source": [
        "Preprocessing the training set"
      ]
    },
    {
      "cell_type": "code",
      "execution_count": null,
      "metadata": {
        "id": "GyjnI2JZbADI"
      },
      "outputs": [],
      "source": [
        "x_train_preprocessed = x[\"train\"].apply(preprocessing)"
      ]
    },
    {
      "cell_type": "markdown",
      "metadata": {
        "id": "M-Vw8s63garq"
      },
      "source": [
        "Building the new vocabulary after preprocessing"
      ]
    },
    {
      "cell_type": "code",
      "execution_count": null,
      "metadata": {
        "colab": {
          "base_uri": "https://localhost:8080/"
        },
        "id": "KcxlVwQFgaRr",
        "outputId": "6d5f7454-fde5-4e22-daf6-1206c6a6f1d4"
      },
      "outputs": [
        {
          "output_type": "stream",
          "name": "stdout",
          "text": [
            "[Debug] train vocabulary size after preprocessing: 7214\n",
            "Total OOV terms after preprocessing: 318 (4.41%)\n"
          ]
        }
      ],
      "source": [
        "train_vocabulary_preprocessed = build_vocabulary(x_train_preprocessed)\n",
        "print(f'[Debug] train vocabulary size after preprocessing: {len(train_vocabulary_preprocessed)}')\n",
        "\n",
        "OOV1_preprocessed = check_OOV_terms(glove_emb_model.vocab.keys(), train_vocabulary_preprocessed)\n",
        "OOV1_preprocessed_percentage = float(len(OOV1_preprocessed)) * 100 / len(train_vocabulary_preprocessed)\n",
        "print(f\"Total OOV terms after preprocessing: {len(OOV1_preprocessed)} ({OOV1_preprocessed_percentage:.2f}%)\")"
      ]
    },
    {
      "cell_type": "markdown",
      "metadata": {
        "id": "j5OLPRGc6svj"
      },
      "source": [
        "It can be seen that the number of OOV words has decreased with respect to the the non preprocessed data. Also note that many oov words are compound ones, for which a specific embedding will be created (see Embedding Matrix section).\n",
        "\n",
        "Similarly to train data, we apply preprocessing to validation and test splits."
      ]
    },
    {
      "cell_type": "code",
      "execution_count": null,
      "metadata": {
        "id": "MEec69AT_KEw"
      },
      "outputs": [],
      "source": [
        "x_pre = {\"train\": x_train_preprocessed,\n",
        "        \"val\": x[\"val\"].apply(preprocessing),\n",
        "        \"test\": x[\"test\"].apply(preprocessing)}"
      ]
    },
    {
      "cell_type": "markdown",
      "metadata": {
        "id": "EElOhl9F-x9-"
      },
      "source": [
        "# Vocabulary creation and mapping\n",
        "We will create the complete vocabulary starting from an empty one, then adding sequencially GloVe, train, validation and test vocabularies.  \n",
        "\n",
        "Then we will map words and labels (part of speech) to numbers, following the mapping built with the vocabulary."
      ]
    },
    {
      "cell_type": "code",
      "execution_count": null,
      "metadata": {
        "id": "_j91cRBqAN1x"
      },
      "outputs": [],
      "source": [
        "def extend_vocabulary(word_to_idx_original: Dict[str, int],\n",
        "                      words_to_add: List[str]) -> Tuple[Dict[str, int],Dict[int, str]]:\n",
        "  \"\"\"\n",
        "    Given a mapping between word and indeces, it adds oov words at the end of the dictionary.\n",
        "    Note that this method can be used also to create a word_to_id vocabulary mapping from scratches: word_to_idx_original will be an empty dict, words_to_add the list of the starting words (for us GloVe vocabulary)\n",
        "\n",
        "    :param \n",
        "        - word_to_idx_original: dictionary with key=word and value=index to which the word is mapped\n",
        "        - words_to_add: list of words to compare with word_to_idx_original. If a word is not found, then it must be inserted in the dictionary\n",
        "    :return:\n",
        "        - word_to_idx_extended: word_to_idx with new words\n",
        "        - idx_to_word_extended: swapped version of word_to_idx_extended (keys and values are swapped)\n",
        "  \"\"\"\n",
        "  word_to_idx_extended = copy.deepcopy(word_to_idx_original)  #deep copy is needed, otherwise python does not create a copy but only a reference to the already existing object, thus reflecting changes on both\n",
        "  idx = len(word_to_idx_extended.keys())\n",
        "  if idx == 0: \n",
        "    idx = 1  #position 0 is reserved\n",
        "\n",
        "  for sentence in words_to_add:\n",
        "      for token in sentence:\n",
        "          if token not in word_to_idx_extended:\n",
        "              word_to_idx_extended[token] = idx \n",
        "              idx += 1\n",
        "  idx_to_word_extended = {v: k for k, v in word_to_idx_extended.items()}\n",
        "\n",
        "  return word_to_idx_extended, idx_to_word_extended\n",
        "\n",
        "def encode_into_numbers(sentences: List[List[str]],\n",
        "                        word_to_idx_mapping: Dict[str, int]) -> List[List[int]]:\n",
        "    \"\"\"\n",
        "    Encode every word of every sentence into an integer following the word mapping\n",
        "\n",
        "    :param \n",
        "        - sentences: sentences whose words have to be encoded into numbers following word_to_idx_mapping (list of list of strings)\n",
        "        - word_to_idx_mapping: dictionary with key=word and value=index to which the word is mapped\n",
        "    :return:\n",
        "        - encoded_data: sentences'encoding (list of list of integers)\n",
        "    \"\"\"\n",
        "    encoded_data = [[word_to_idx_mapping[token] for token in sentence] for sentence in sentences]\n",
        " \n",
        "    return encoded_data\n",
        "\n",
        "def decode_into_words(encoded_sentences: List[List[int]],\n",
        "                        idx_to_word_mapping: Dict[int,str]) -> List[List[str]]:\n",
        "    \"\"\"\n",
        "    Reverse the encoding, replacing numbers encodings with the corresponding word\n",
        "\n",
        "    :param \n",
        "        - encoded_sentences: sentences to decode following idx_to_word_mapping (list of list of integers)\n",
        "        - idx_to_word_mapping: dictionary with key=index and value=word\n",
        "    :return:\n",
        "        - decoded_data: sentences'encoding (list of list of strings)\n",
        "    \"\"\"\n",
        "    decoded_data = [[idx_to_word_mapping[index] for index in sentence] for sentence in encoded_sentences]\n",
        " \n",
        "    return decoded_data"
      ]
    },
    {
      "cell_type": "markdown",
      "metadata": {
        "id": "HV32wJ90RamP"
      },
      "source": [
        "In the following cells we create the vocabulary mappings and then encode the words.\n",
        "\n",
        "Note that word_to_idx and idx_to_word mappings are incremental, this means that the validation vocabulary includes the train one, and the test one includes train and validation ones. This has been made according to the guidelines on the construction of V1, V2, V3, V4. All in all, the complete vocabulary is the one with _test suffix.\n",
        "\n",
        "Furthermore, in the embedding section the intermediate vocabularies will be used according to what they contain. For example, to compute the embedding matrix on the train set, we will use word_to_idx_train, while for validation word_to_idx_val, always proceeding in an incremental way."
      ]
    },
    {
      "cell_type": "code",
      "execution_count": null,
      "metadata": {
        "colab": {
          "base_uri": "https://localhost:8080/"
        },
        "id": "BbeQJNAlEzl2",
        "outputId": "fb4c5c7d-23e8-48de-c8a6-6fc737b07598"
      },
      "outputs": [
        {
          "output_type": "stream",
          "name": "stdout",
          "text": [
            "Train vocabulary size:  400318\n",
            "Validation vocabulary size:  400475\n",
            "Test vocabulary size:  400571\n"
          ]
        }
      ],
      "source": [
        "# Train mappings\n",
        "word_to_idx_train, idx_to_word_train = extend_vocabulary({}, [glove_emb_model.vocab.keys()] + x_pre[\"train\"].tolist())\n",
        "print(\"Train vocabulary size: \", len(word_to_idx_train))\n",
        "\n",
        "# Validation mappings\n",
        "word_to_idx_val, idx_to_word_val = extend_vocabulary(word_to_idx_train, x_pre[\"val\"].tolist())\n",
        "print(\"Validation vocabulary size: \", len(word_to_idx_val))\n",
        "\n",
        "# Test mappings\n",
        "word_to_idx_test, idx_to_word_test = extend_vocabulary(word_to_idx_val, x_pre[\"test\"].tolist())\n",
        "print(\"Test vocabulary size: \", len(word_to_idx_test))\n",
        "\n",
        "# x_enc is the dictionary containing preprocessed data which have been encoded\n",
        "# In the end, for evry split we will move from a list of list of words to a list of list of numbers\n",
        "x_enc = {\"train\": encode_into_numbers(x_pre[\"train\"].tolist(), word_to_idx_train),\n",
        "        \"val\": encode_into_numbers(x_pre[\"val\"].tolist(), word_to_idx_val),\n",
        "        \"test\": encode_into_numbers(x_pre[\"test\"].tolist(), word_to_idx_test)}"
      ]
    },
    {
      "cell_type": "markdown",
      "metadata": {
        "id": "qGsgMfcmRUIN"
      },
      "source": [
        "Encoding parts of speech. Clearly, pos' mappings are different from words' ones and must be kept separated, so we create another mapping from labels to numbers and viceversa."
      ]
    },
    {
      "cell_type": "code",
      "execution_count": null,
      "metadata": {
        "colab": {
          "base_uri": "https://localhost:8080/"
        },
        "id": "1PzlKA-eHJBr",
        "outputId": "ccca6c66-15d1-43e3-c363-28d8b9887865"
      },
      "outputs": [
        {
          "output_type": "stream",
          "name": "stdout",
          "text": [
            "In the dataset there are 45 distinct POS\n"
          ]
        }
      ],
      "source": [
        "# creating vocabulary mapping for the labels in the whole dataset\n",
        "label_to_idx, idx_to_label = extend_vocabulary({},  y[\"train\"].tolist() + y[\"val\"].tolist() + y[\"test\"].tolist())\n",
        "\n",
        "number_pos = len(label_to_idx)\n",
        "print(f\"In the dataset there are {number_pos} distinct POS\")\n",
        "\n",
        "y_enc = {\"train\": encode_into_numbers(y[\"train\"].tolist(), label_to_idx),\n",
        "        \"val\": encode_into_numbers(y[\"val\"].tolist(), label_to_idx),\n",
        "        \"test\": encode_into_numbers(y[\"test\"].tolist(), label_to_idx)}"
      ]
    },
    {
      "cell_type": "markdown",
      "source": [
        "Let's look at the sentencese to see if our pipeline is working as expected."
      ],
      "metadata": {
        "id": "x75yP0OrMqMM"
      }
    },
    {
      "cell_type": "code",
      "execution_count": null,
      "metadata": {
        "colab": {
          "base_uri": "https://localhost:8080/"
        },
        "id": "OdwaxJlw3AV0",
        "outputId": "2c9b5990-7fd8-4652-8311-038c32b8de58"
      },
      "outputs": [
        {
          "output_type": "stream",
          "name": "stdout",
          "text": [
            "Original sentence\n",
            "['Rekindled', 'hope', 'that', 'two', 'New', 'England', 'states', 'will', 'allow', 'broader', 'interstate', 'banking', 'boosted', 'Nasdaq', \"'s\", 'bank', 'stocks', ',', 'but', 'the', 'over-the-counter', 'market', 'was', 'up', 'only', 'slightly', 'in', 'lackluster', 'trading', '.']\n",
            "\n",
            "Preprocessed sentence\n",
            "['rekindled', 'hope', 'that', 'two', 'new', 'england', 'states', 'will', 'allow', 'broader', 'interstate', 'banking', 'boosted', 'nasdaq', \"'s\", 'bank', 'stocks', ',', 'but', 'the', 'over-the-counter', 'market', 'was', 'up', 'only', 'slightly', 'in', 'lackluster', 'trading', '.']\n",
            "\n",
            "Encoded sentence\n",
            "[30303, 825, 13, 56, 51, 564, 113, 44, 950, 3672, 6286, 2129, 5761, 4222, 10, 232, 896, 2, 35, 1, 72866, 212, 16, 61, 92, 2009, 7, 14427, 858, 3]\n",
            "\n",
            "Decoded sentence\n",
            "['rekindled', 'hope', 'that', 'two', 'new', 'england', 'states', 'will', 'allow', 'broader', 'interstate', 'banking', 'boosted', 'nasdaq', \"'s\", 'bank', 'stocks', ',', 'but', 'the', 'over-the-counter', 'market', 'was', 'up', 'only', 'slightly', 'in', 'lackluster', 'trading', '.']\n"
          ]
        }
      ],
      "source": [
        "example = np.random.randint(0, len(x_enc[\"train\"]))\n",
        "print(f\"Original sentence\")\n",
        "print(x[\"train\"][example])\n",
        "print(\"\\nPreprocessed sentence\")\n",
        "print([x_pre[\"train\"][example]][0])\n",
        "print(\"\\nEncoded sentence\")\n",
        "print([x_enc[\"train\"][example]][0])\n",
        "print(\"\\nDecoded sentence\")\n",
        "print(decode_into_words([x_enc[\"train\"][example]], idx_to_word_train)[0])"
      ]
    },
    {
      "cell_type": "markdown",
      "source": [
        "It can be seen that we are moving from the original sentence to its encoded version correctly, as decoding it we obtain the original one again (a part from the differences introduced by the irreversible preprocessing)\n",
        "\n",
        "The exact same considerations hold for pos tags, as shown in the example below."
      ],
      "metadata": {
        "id": "MTca4tc7MzDF"
      }
    },
    {
      "cell_type": "code",
      "execution_count": null,
      "metadata": {
        "colab": {
          "base_uri": "https://localhost:8080/"
        },
        "id": "e3G3-Pbx3ZmJ",
        "outputId": "321846ac-73d0-4d2f-fc17-fd5a030ecfd4"
      },
      "outputs": [
        {
          "output_type": "stream",
          "name": "stdout",
          "text": [
            "Original labels\n",
            "['DT', 'NN', 'VBD', 'IN', 'DT', 'JJ', 'NN', 'VBN', '``', 'DT', 'JJ', 'NN', 'NN', ',', \"''\", 'VBG', 'NNS', 'IN', 'JJ', 'NNS', ',', 'DT', 'NN', 'VBD', '.']\n",
            "\n",
            "Encoded labels\n",
            "[8, 9, 15, 10, 8, 5, 9, 16, 27, 8, 5, 9, 9, 2, 29, 13, 4, 10, 5, 4, 2, 8, 9, 15, 11]\n",
            "\n",
            "Decoded labels\n",
            "['DT', 'NN', 'VBD', 'IN', 'DT', 'JJ', 'NN', 'VBN', '``', 'DT', 'JJ', 'NN', 'NN', ',', \"''\", 'VBG', 'NNS', 'IN', 'JJ', 'NNS', ',', 'DT', 'NN', 'VBD', '.']\n"
          ]
        }
      ],
      "source": [
        "example = np.random.randint(0, len(y_enc[\"train\"]))\n",
        "print(f\"Original labels\")\n",
        "print(y[\"train\"][example])\n",
        "print(\"\\nEncoded labels\")\n",
        "print([y_enc[\"train\"][example]][0])\n",
        "print(\"\\nDecoded labels\")\n",
        "print(decode_into_words([y_enc[\"train\"][example]], idx_to_label)[0])"
      ]
    },
    {
      "cell_type": "markdown",
      "metadata": {
        "id": "mAv5AHB_REM5"
      },
      "source": [
        "# Embedding matrix"
      ]
    },
    {
      "cell_type": "markdown",
      "source": [
        "In order to create the embdedding matrix we decided to handle compound words' embeddings in the following way: \n",
        "\n",
        "\n",
        "1.   Split on the dash (\"-\")\n",
        "1.   Order the obtained words by length  \n",
        "2.   Try to get their embeddings starting from the longest word and going on until an embdedding is retrieved or all the subwords have been tried (which means that all the subwords are not in GloVe)\n",
        "3. If an embedding is found, use it as the compound word's one. If it is not found, assign a random embedding to the compund word.\n",
        "\n",
        "in addition, for non-compound words that are not in GloVe, we directly assign a random embedding."
      ],
      "metadata": {
        "id": "jC5pPEa1IkS1"
      }
    },
    {
      "cell_type": "code",
      "execution_count": null,
      "metadata": {
        "id": "QGCi8pguRH-5"
      },
      "outputs": [],
      "source": [
        "def get_dashed_embeddings(embedding_model: gensim.models.keyedvectors.KeyedVectors, \n",
        "                          word: str) -> float:\n",
        "  \"\"\"\n",
        "    Given an embedding_model and a word it returns its \"dashed embedding\" if the word contains a dash, None otherwise.\n",
        "    We defined dashed embeddings as the embedding of the longest word found in the embedding model.\n",
        "\n",
        "    :param \n",
        "        - embedding_model: embedding_model to be used\n",
        "        - words_to_add: list of words to compare with word_to_idx_original. If a word is not found, then it must be inserted in the dictionary\n",
        "    :return:\n",
        "        - embedding of the longest word in the compound one if it contains a dash and an embedding is found. Else, return None\n",
        "  \"\"\"\n",
        "  if \"-\" in word:\n",
        "    words_split = word.split(\"-\")\n",
        "    words_split.sort(key=len)  #getting the encoding of compound words starting from the longest one\n",
        "    for word_piece in words_split:\n",
        "      try:\n",
        "        return embedding_model[word]  #if a word is found, assign its embedding to the matrix element\n",
        "      except:\n",
        "        pass  #if the current word is not found, do nothing and try the next one\n",
        "  return None  # None is returned if the word does not contain a dash or if all the words in the compound one are not contained in the embedding model\n",
        "\n",
        "def build_embedding_matrix(embedding_model: gensim.models.keyedvectors.KeyedVectors,\n",
        "                           embedding_dimension: int,\n",
        "                           word_to_idx: Dict[str, int]) -> np.ndarray:\n",
        "    \"\"\"\n",
        "    Builds the embedding matrix starting from a pre-trained word embedding model\n",
        "\n",
        "    :param \n",
        "        - embedding_model: pre-trained word embedding model (gensim wrapper)\n",
        "        - embedding_dimension: dimension of the embedding\n",
        "        - word_to_idx: dictionary with key=word and value=index to which the word is mapped\n",
        "\n",
        "    :return\n",
        "        - embedding matrix\n",
        "    \"\"\"\n",
        "    embedding_matrix = np.zeros((len(word_to_idx)+1, embedding_dimension), dtype=np.float32)\n",
        "    \n",
        "    #adding all GloVe vocabularies embeddings\n",
        "    for word, idx in word_to_idx.items():\n",
        "      if word in embedding_model:\n",
        "          embedding_matrix[idx] = embedding_model[word]\n",
        "      else: \n",
        "          dashed_embedding = get_dashed_embeddings(embedding_model, word)\n",
        "          if dashed_embedding is None: #it means that word has no dash or all its subwords are oov\n",
        "              dashed_embedding = np.random.uniform(low=-0.05, high=0.05, size=embedding_dimension)\n",
        "          embedding_matrix[idx] = dashed_embedding\n",
        " \n",
        "    return embedding_matrix\n",
        "\n",
        "\n",
        "#This functions adds the embedding of OOV words to the embedding matrix. Note that it directly tries to find an embedding for dashed words and if none is retrieved it uses a uniform random distribution\n",
        "def extend_embedding_matrix(embedding_model: gensim.models.keyedvectors.KeyedVectors,\n",
        "                            embedding_matrix: np.ndarray,\n",
        "                            word_to_idx: Dict[str, int]) -> np.ndarray:\n",
        "    \"\"\"\n",
        "    Extend an embedding matrix adding words in word_to_idx that are oov\n",
        "\n",
        "    :param \n",
        "        - embedding_model: pre-trained word embedding model (gensim wrapper)\n",
        "        - embedding_matrix: starting embedding matrix\n",
        "        - word_to_idx: word mapping from which oov words must be retrieved\n",
        "\n",
        "    :return\n",
        "        - new embedding matrix: concatenation of the previous embedding matrix with the one of oov terms\n",
        "    \"\"\"\n",
        "\n",
        "    oov_terms = [key for key, idx in word_to_idx.items() if idx >= embedding_matrix.shape[0]] #all the terms mapped to an index greater than the vocabulary size (number of rows) are not in the embedding matrix \n",
        "    oov_embedding_matrix = np.zeros((len(oov_terms), embedding_matrix.shape[1]), dtype=np.float32)\n",
        "    \n",
        "    for idx, oov in enumerate(oov_terms):\n",
        "        dashed_embedding = get_dashed_embeddings(embedding_model, oov)\n",
        "        if dashed_embedding is None: #it means that word has no dash or all its subwords are oov\n",
        "            dashed_embedding = np.random.uniform(low=-0.05, high=0.05, size=embedding_matrix.shape[1])\n",
        "\n",
        "        oov_embedding_matrix[idx] = dashed_embedding\n",
        "\n",
        "    return np.concatenate([embedding_matrix, oov_embedding_matrix], axis=0)"
      ]
    },
    {
      "cell_type": "code",
      "execution_count": null,
      "metadata": {
        "colab": {
          "base_uri": "https://localhost:8080/"
        },
        "id": "ERNzAqnMELNB",
        "outputId": "0ac63464-268d-481c-9785-28e527b95396"
      },
      "outputs": [
        {
          "output_type": "stream",
          "name": "stderr",
          "text": [
            "100%|██████████| 400318/400318 [00:00<00:00, 411604.21it/s]\n"
          ]
        },
        {
          "output_type": "stream",
          "name": "stdout",
          "text": [
            "Embedding matrix with GloVe and train vocabulary has shape: (400319, 50)\n",
            "Embedding matrix after the extension with validation oov words has shape: (400475, 50)\n",
            "Embedding matrix after the extension with test oov words has shape: (400571, 50)\n"
          ]
        }
      ],
      "source": [
        "embedding_matrix = build_embedding_matrix(glove_emb_model, \n",
        "                                          EMBEDDING_DIMENSION,\n",
        "                                          word_to_idx_train)\n",
        "print(f\"Embedding matrix with GloVe and train vocabulary has shape: {embedding_matrix.shape}\")\n",
        "\n",
        "embedding_matrix = extend_embedding_matrix(glove_emb_model, \n",
        "                                          embedding_matrix,\n",
        "                                          word_to_idx_val)\n",
        "print(f\"Embedding matrix after the extension with validation oov words has shape: {embedding_matrix.shape}\")\n",
        "\n",
        "embedding_matrix = extend_embedding_matrix(glove_emb_model, \n",
        "                                          embedding_matrix,\n",
        "                                          word_to_idx_test)\n",
        "print(f\"Embedding matrix after the extension with test oov words has shape: {embedding_matrix.shape}\")"
      ]
    },
    {
      "cell_type": "markdown",
      "metadata": {
        "id": "2HIZO1d8SPFq"
      },
      "source": [
        "# Sequence length standardization \n",
        "Every sentence must have the same length as the others in the same split, otherwise we would hade different input sizes for the model. For this reason we are going to pad all the encoded sentences, adding the needed number of zeros at the end of each sentence. As a result, we are introducing another label (0) which is related to padding. For this purpose previously we forced the mapping to start from index 1. \n",
        "\n",
        "In addition, we encoded the labels using categorical representation (one-hot-encoding)."
      ]
    },
    {
      "cell_type": "code",
      "execution_count": null,
      "metadata": {
        "id": "PHtxPN12Xu12"
      },
      "outputs": [],
      "source": [
        "max_length_dict = {\"train\": len(max(x_enc[\"train\"], key=len)),\n",
        "                   \"val\": len(max(x_enc[\"val\"], key=len)),\n",
        "                   \"test\": len(max(x_enc[\"test\"], key=len))}\n",
        "\n",
        "number_pos = len(label_to_idx) + 1 #to add the padding\n",
        "x_st, y_st, y_cat = {}, {}, {}\n",
        "\n",
        "for key in max_length_dict.keys():\n",
        "    x_st[key] = pad_sequences(x_enc[key], maxlen=max_length_dict[key], padding='post')  #add 0s at the end to reach max_length\n",
        "    y_st[key] = pad_sequences(y_enc[key], maxlen=max_length_dict[key], padding='post')  #add 0s at the end to reach max_length\n",
        "    y_cat[key] = to_categorical(y_st[key], num_classes=number_pos)  #one-hot-encoding the labels"
      ]
    },
    {
      "cell_type": "code",
      "source": [
        "print(max_length_dict)"
      ],
      "metadata": {
        "colab": {
          "base_uri": "https://localhost:8080/"
        },
        "id": "f_Um3hK7IrGm",
        "outputId": "c47d3db1-c3ee-4193-c409-24be6fb5e3f9"
      },
      "execution_count": null,
      "outputs": [
        {
          "output_type": "stream",
          "name": "stdout",
          "text": [
            "{'train': 249, 'val': 81, 'test': 58}\n"
          ]
        }
      ]
    },
    {
      "cell_type": "markdown",
      "metadata": {
        "id": "yoFjfVeiiN4k"
      },
      "source": [
        "# Models\n",
        "In this section we will build the four models indicated in the assignment. Each of them has its section.\n",
        "\n",
        "All the models are stored in \"models\" dicitionary, in correspondance of key=model_name. The same happens for their histories, sotred in \"history\" dict."
      ]
    },
    {
      "cell_type": "code",
      "execution_count": null,
      "metadata": {
        "id": "51i4hAotnH_s"
      },
      "outputs": [],
      "source": [
        "models = {}\n",
        "history = {}\n",
        "batch_size = 10\n",
        "epochs = 30\n",
        "units = 100"
      ]
    },
    {
      "cell_type": "markdown",
      "metadata": {
        "id": "dzdywqEviQla"
      },
      "source": [
        "## Baseline model"
      ]
    },
    {
      "cell_type": "code",
      "execution_count": null,
      "metadata": {
        "id": "mJuzjdbijeLU"
      },
      "outputs": [],
      "source": [
        "def build_baseline_model(num_pos, \n",
        "                        embedding_matrix, \n",
        "                        name = 'baseline',\n",
        "                        units=units):\n",
        "  inputs = Input(shape=(None,), dtype=\"int32\")\n",
        "  \n",
        "  m = Embedding(input_dim=embedding_matrix.shape[0], \n",
        "                output_dim=embedding_matrix.shape[1],\n",
        "                mask_zero=True, \n",
        "                weights=[embedding_matrix], \n",
        "                trainable=False)(inputs)\n",
        "\n",
        "  m = Bidirectional(LSTM(units=units, return_sequences=True))(m)\n",
        "\n",
        "  m = Dense(num_pos, activation='softmax')(m)\n",
        "  return Model(inputs, m, name=name)"
      ]
    },
    {
      "cell_type": "code",
      "execution_count": null,
      "metadata": {
        "id": "AzKme1uQiYRC",
        "colab": {
          "base_uri": "https://localhost:8080/"
        },
        "outputId": "ba0c0d6c-0c8e-43f5-ab98-9848c10e7db0"
      },
      "outputs": [
        {
          "output_type": "stream",
          "name": "stdout",
          "text": [
            "Model: \"baseline\"\n",
            "_________________________________________________________________\n",
            " Layer (type)                Output Shape              Param #   \n",
            "=================================================================\n",
            " input_1 (InputLayer)        [(None, None)]            0         \n",
            "                                                                 \n",
            " embedding (Embedding)       (None, None, 50)          20028550  \n",
            "                                                                 \n",
            " bidirectional (Bidirectiona  (None, None, 200)        120800    \n",
            " l)                                                              \n",
            "                                                                 \n",
            " dense (Dense)               (None, None, 46)          9246      \n",
            "                                                                 \n",
            "=================================================================\n",
            "Total params: 20,158,596\n",
            "Trainable params: 130,046\n",
            "Non-trainable params: 20,028,550\n",
            "_________________________________________________________________\n"
          ]
        }
      ],
      "source": [
        "models[\"baseline\"] = build_baseline_model(num_pos = number_pos, \n",
        "                                          embedding_matrix = embedding_matrix, \n",
        "                                          name=\"baseline\")\n",
        "models[\"baseline\"].summary()"
      ]
    },
    {
      "cell_type": "code",
      "source": [
        "models['baseline'].compile(optimizer ='adam', \n",
        "                           loss = 'categorical_crossentropy', \n",
        "                           metrics = ['accuracy'])"
      ],
      "metadata": {
        "id": "3BuHK1jl-5D3"
      },
      "execution_count": null,
      "outputs": []
    },
    {
      "cell_type": "code",
      "execution_count": null,
      "metadata": {
        "colab": {
          "base_uri": "https://localhost:8080/"
        },
        "id": "E69SDCkmlv1h",
        "outputId": "e10f10f8-c73c-439f-d34f-d348c1c4ce65"
      },
      "outputs": [
        {
          "output_type": "stream",
          "name": "stdout",
          "text": [
            "Epoch 1/30\n",
            "197/197 [==============================] - 19s 34ms/step - loss: 0.1985 - accuracy: 0.4652 - val_loss: 0.3785 - val_accuracy: 0.6595\n",
            "Epoch 2/30\n",
            "197/197 [==============================] - 4s 19ms/step - loss: 0.0963 - accuracy: 0.7354 - val_loss: 0.2643 - val_accuracy: 0.7484\n",
            "Epoch 3/30\n",
            "197/197 [==============================] - 7s 34ms/step - loss: 0.0727 - accuracy: 0.7930 - val_loss: 0.2214 - val_accuracy: 0.7866\n",
            "Epoch 4/30\n",
            "197/197 [==============================] - 7s 35ms/step - loss: 0.0615 - accuracy: 0.8225 - val_loss: 0.1961 - val_accuracy: 0.8103\n",
            "Epoch 5/30\n",
            "197/197 [==============================] - 4s 19ms/step - loss: 0.0541 - accuracy: 0.8409 - val_loss: 0.1807 - val_accuracy: 0.8246\n",
            "Epoch 6/30\n",
            "197/197 [==============================] - 4s 19ms/step - loss: 0.0484 - accuracy: 0.8571 - val_loss: 0.1680 - val_accuracy: 0.8331\n",
            "Epoch 7/30\n",
            "197/197 [==============================] - 5s 24ms/step - loss: 0.0437 - accuracy: 0.8699 - val_loss: 0.1582 - val_accuracy: 0.8420\n",
            "Epoch 8/30\n",
            "197/197 [==============================] - 5s 27ms/step - loss: 0.0397 - accuracy: 0.8824 - val_loss: 0.1520 - val_accuracy: 0.8457\n",
            "Epoch 9/30\n",
            "197/197 [==============================] - 4s 19ms/step - loss: 0.0364 - accuracy: 0.8930 - val_loss: 0.1444 - val_accuracy: 0.8541\n",
            "Epoch 10/30\n",
            "197/197 [==============================] - 4s 19ms/step - loss: 0.0333 - accuracy: 0.9032 - val_loss: 0.1382 - val_accuracy: 0.8601\n",
            "Epoch 11/30\n",
            "197/197 [==============================] - 5s 27ms/step - loss: 0.0305 - accuracy: 0.9114 - val_loss: 0.1351 - val_accuracy: 0.8626\n",
            "Epoch 12/30\n",
            "197/197 [==============================] - 6s 31ms/step - loss: 0.0282 - accuracy: 0.9181 - val_loss: 0.1303 - val_accuracy: 0.8669\n",
            "Epoch 13/30\n",
            "197/197 [==============================] - 4s 19ms/step - loss: 0.0258 - accuracy: 0.9269 - val_loss: 0.1277 - val_accuracy: 0.8707\n",
            "Epoch 14/30\n",
            "197/197 [==============================] - 4s 19ms/step - loss: 0.0237 - accuracy: 0.9340 - val_loss: 0.1256 - val_accuracy: 0.8710\n",
            "Epoch 15/30\n",
            "197/197 [==============================] - 4s 19ms/step - loss: 0.0218 - accuracy: 0.9401 - val_loss: 0.1240 - val_accuracy: 0.8722\n",
            "Epoch 16/30\n",
            "197/197 [==============================] - 4s 22ms/step - loss: 0.0200 - accuracy: 0.9458 - val_loss: 0.1231 - val_accuracy: 0.8736\n",
            "Epoch 17/30\n",
            "197/197 [==============================] - 4s 19ms/step - loss: 0.0184 - accuracy: 0.9508 - val_loss: 0.1211 - val_accuracy: 0.8745\n",
            "Epoch 18/30\n",
            "197/197 [==============================] - 4s 20ms/step - loss: 0.0169 - accuracy: 0.9560 - val_loss: 0.1214 - val_accuracy: 0.8756\n",
            "Epoch 19/30\n",
            "197/197 [==============================] - 4s 19ms/step - loss: 0.0155 - accuracy: 0.9606 - val_loss: 0.1231 - val_accuracy: 0.8732\n",
            "Epoch 20/30\n",
            "197/197 [==============================] - 5s 24ms/step - loss: 0.0140 - accuracy: 0.9654 - val_loss: 0.1218 - val_accuracy: 0.8754\n",
            "Epoch 21/30\n",
            "197/197 [==============================] - 5s 28ms/step - loss: 0.0127 - accuracy: 0.9689 - val_loss: 0.1233 - val_accuracy: 0.8746\n",
            "Epoch 22/30\n",
            "197/197 [==============================] - 4s 19ms/step - loss: 0.0115 - accuracy: 0.9739 - val_loss: 0.1236 - val_accuracy: 0.8738\n",
            "Epoch 23/30\n",
            "197/197 [==============================] - 4s 19ms/step - loss: 0.0104 - accuracy: 0.9780 - val_loss: 0.1256 - val_accuracy: 0.8749\n",
            "Epoch 24/30\n",
            "197/197 [==============================] - 4s 19ms/step - loss: 0.0094 - accuracy: 0.9808 - val_loss: 0.1263 - val_accuracy: 0.8726\n",
            "Epoch 25/30\n",
            "197/197 [==============================] - 4s 19ms/step - loss: 0.0083 - accuracy: 0.9847 - val_loss: 0.1280 - val_accuracy: 0.8739\n",
            "Epoch 26/30\n",
            "197/197 [==============================] - 4s 23ms/step - loss: 0.0074 - accuracy: 0.9878 - val_loss: 0.1300 - val_accuracy: 0.8719\n",
            "Epoch 27/30\n",
            "197/197 [==============================] - 4s 19ms/step - loss: 0.0065 - accuracy: 0.9903 - val_loss: 0.1318 - val_accuracy: 0.8726\n",
            "Epoch 28/30\n",
            "197/197 [==============================] - 4s 19ms/step - loss: 0.0058 - accuracy: 0.9926 - val_loss: 0.1337 - val_accuracy: 0.8716\n",
            "Epoch 29/30\n",
            "197/197 [==============================] - 4s 19ms/step - loss: 0.0051 - accuracy: 0.9943 - val_loss: 0.1372 - val_accuracy: 0.8702\n",
            "Epoch 30/30\n",
            "197/197 [==============================] - 4s 19ms/step - loss: 0.0045 - accuracy: 0.9952 - val_loss: 0.1384 - val_accuracy: 0.8711\n"
          ]
        }
      ],
      "source": [
        "history['baseline'] = models['baseline'].fit(x=x_st[\"train\"], \n",
        "                   y=y_cat[\"train\"], \n",
        "                   batch_size=batch_size, \n",
        "                   epochs=epochs, \n",
        "                   validation_data=(x_st[\"val\"], y_cat[\"val\"]))"
      ]
    },
    {
      "cell_type": "code",
      "source": [
        "models[\"baseline\"].save_weights('./baseline.h5')"
      ],
      "metadata": {
        "id": "CKaMP6rBKP4T"
      },
      "execution_count": null,
      "outputs": []
    },
    {
      "cell_type": "markdown",
      "source": [
        "## Baseline with GRU instead of LSTM"
      ],
      "metadata": {
        "id": "i7frWEJB-OS7"
      }
    },
    {
      "cell_type": "code",
      "execution_count": null,
      "metadata": {
        "id": "ZQ8e1t7MzP2O"
      },
      "outputs": [],
      "source": [
        "def build_baseline_model_with_GRU(num_pos, \n",
        "                        embedding_matrix, \n",
        "                        name = 'baseline_with_GRU',\n",
        "                        units=units):\n",
        "  inputs = Input(shape=(None,), dtype=\"int32\")\n",
        "  \n",
        "  m = Embedding(input_dim=embedding_matrix.shape[0], \n",
        "                output_dim=embedding_matrix.shape[1],\n",
        "                mask_zero=True, \n",
        "                weights=[embedding_matrix], \n",
        "                trainable=False)(inputs)\n",
        "\n",
        "  m = Bidirectional(GRU(units=units, return_sequences=True))(m)\n",
        "\n",
        "  m = Dense(num_pos, activation='softmax')(m)\n",
        "  return Model(inputs, m, name=name)"
      ]
    },
    {
      "cell_type": "code",
      "source": [
        "models[\"baseline_with_GRU\"] = build_baseline_model_with_GRU(num_pos = number_pos, \n",
        "                                          embedding_matrix = embedding_matrix, \n",
        "                                          name=\"baseline_with_GRU\")\n",
        "models[\"baseline_with_GRU\"].summary()"
      ],
      "metadata": {
        "colab": {
          "base_uri": "https://localhost:8080/"
        },
        "id": "DPmIObbS-7JN",
        "outputId": "90cc3ef7-141f-41a1-c772-c1f0e67da069"
      },
      "execution_count": null,
      "outputs": [
        {
          "output_type": "stream",
          "name": "stdout",
          "text": [
            "Model: \"baseline_with_GRU\"\n",
            "_________________________________________________________________\n",
            " Layer (type)                Output Shape              Param #   \n",
            "=================================================================\n",
            " input_2 (InputLayer)        [(None, None)]            0         \n",
            "                                                                 \n",
            " embedding_1 (Embedding)     (None, None, 50)          20028550  \n",
            "                                                                 \n",
            " bidirectional_1 (Bidirectio  (None, None, 200)        91200     \n",
            " nal)                                                            \n",
            "                                                                 \n",
            " dense_1 (Dense)             (None, None, 46)          9246      \n",
            "                                                                 \n",
            "=================================================================\n",
            "Total params: 20,128,996\n",
            "Trainable params: 100,446\n",
            "Non-trainable params: 20,028,550\n",
            "_________________________________________________________________\n"
          ]
        }
      ]
    },
    {
      "cell_type": "code",
      "source": [
        "models['baseline_with_GRU'].compile(optimizer ='adam', \n",
        "                           loss = 'categorical_crossentropy', \n",
        "                           metrics = ['accuracy'])"
      ],
      "metadata": {
        "id": "PhrXQ3qS_GPp"
      },
      "execution_count": null,
      "outputs": []
    },
    {
      "cell_type": "code",
      "source": [
        "history['baseline_with_GRU'] = models['baseline_with_GRU'].fit(x=x_st[\"train\"], \n",
        "                   y=y_cat[\"train\"], \n",
        "                   batch_size=batch_size, \n",
        "                   epochs=epochs, \n",
        "                   validation_data=(x_st[\"val\"], y_cat[\"val\"]))"
      ],
      "metadata": {
        "colab": {
          "base_uri": "https://localhost:8080/"
        },
        "id": "dDZ1wgbp_GqG",
        "outputId": "409c33de-c521-4fc7-faa7-cd61914347fd"
      },
      "execution_count": null,
      "outputs": [
        {
          "output_type": "stream",
          "name": "stdout",
          "text": [
            "Epoch 1/30\n",
            "197/197 [==============================] - 14s 31ms/step - loss: 0.1675 - accuracy: 0.5539 - val_loss: 0.2987 - val_accuracy: 0.7239\n",
            "Epoch 2/30\n",
            "197/197 [==============================] - 4s 20ms/step - loss: 0.0775 - accuracy: 0.7795 - val_loss: 0.2214 - val_accuracy: 0.7826\n",
            "Epoch 3/30\n",
            "197/197 [==============================] - 4s 18ms/step - loss: 0.0603 - accuracy: 0.8220 - val_loss: 0.1901 - val_accuracy: 0.8101\n",
            "Epoch 4/30\n",
            "197/197 [==============================] - 4s 19ms/step - loss: 0.0511 - accuracy: 0.8471 - val_loss: 0.1673 - val_accuracy: 0.8336\n",
            "Epoch 5/30\n",
            "197/197 [==============================] - 4s 20ms/step - loss: 0.0446 - accuracy: 0.8643 - val_loss: 0.1547 - val_accuracy: 0.8460\n",
            "Epoch 6/30\n",
            "197/197 [==============================] - 6s 29ms/step - loss: 0.0393 - accuracy: 0.8821 - val_loss: 0.1441 - val_accuracy: 0.8540\n",
            "Epoch 7/30\n",
            "197/197 [==============================] - 6s 29ms/step - loss: 0.0351 - accuracy: 0.8956 - val_loss: 0.1358 - val_accuracy: 0.8611\n",
            "Epoch 8/30\n",
            "197/197 [==============================] - 5s 26ms/step - loss: 0.0315 - accuracy: 0.9065 - val_loss: 0.1311 - val_accuracy: 0.8655\n",
            "Epoch 9/30\n",
            "197/197 [==============================] - 5s 26ms/step - loss: 0.0284 - accuracy: 0.9153 - val_loss: 0.1266 - val_accuracy: 0.8698\n",
            "Epoch 10/30\n",
            "197/197 [==============================] - 5s 26ms/step - loss: 0.0255 - accuracy: 0.9244 - val_loss: 0.1228 - val_accuracy: 0.8723\n",
            "Epoch 11/30\n",
            "197/197 [==============================] - 4s 22ms/step - loss: 0.0231 - accuracy: 0.9336 - val_loss: 0.1215 - val_accuracy: 0.8740\n",
            "Epoch 12/30\n",
            "197/197 [==============================] - 4s 19ms/step - loss: 0.0207 - accuracy: 0.9410 - val_loss: 0.1182 - val_accuracy: 0.8765\n",
            "Epoch 13/30\n",
            "197/197 [==============================] - 4s 19ms/step - loss: 0.0187 - accuracy: 0.9477 - val_loss: 0.1186 - val_accuracy: 0.8764\n",
            "Epoch 14/30\n",
            "197/197 [==============================] - 4s 18ms/step - loss: 0.0167 - accuracy: 0.9549 - val_loss: 0.1176 - val_accuracy: 0.8783\n",
            "Epoch 15/30\n",
            "197/197 [==============================] - 4s 22ms/step - loss: 0.0149 - accuracy: 0.9617 - val_loss: 0.1185 - val_accuracy: 0.8760\n",
            "Epoch 16/30\n",
            "197/197 [==============================] - 4s 18ms/step - loss: 0.0132 - accuracy: 0.9670 - val_loss: 0.1186 - val_accuracy: 0.8773\n",
            "Epoch 17/30\n",
            "197/197 [==============================] - 4s 19ms/step - loss: 0.0117 - accuracy: 0.9725 - val_loss: 0.1198 - val_accuracy: 0.8774\n",
            "Epoch 18/30\n",
            "197/197 [==============================] - 4s 19ms/step - loss: 0.0103 - accuracy: 0.9769 - val_loss: 0.1229 - val_accuracy: 0.8756\n",
            "Epoch 19/30\n",
            "197/197 [==============================] - 4s 19ms/step - loss: 0.0090 - accuracy: 0.9809 - val_loss: 0.1254 - val_accuracy: 0.8749\n",
            "Epoch 20/30\n",
            "197/197 [==============================] - 4s 19ms/step - loss: 0.0078 - accuracy: 0.9854 - val_loss: 0.1267 - val_accuracy: 0.8749\n",
            "Epoch 21/30\n",
            "197/197 [==============================] - 4s 18ms/step - loss: 0.0067 - accuracy: 0.9889 - val_loss: 0.1283 - val_accuracy: 0.8739\n",
            "Epoch 22/30\n",
            "197/197 [==============================] - 4s 18ms/step - loss: 0.0057 - accuracy: 0.9918 - val_loss: 0.1322 - val_accuracy: 0.8725\n",
            "Epoch 23/30\n",
            "197/197 [==============================] - 4s 18ms/step - loss: 0.0049 - accuracy: 0.9938 - val_loss: 0.1348 - val_accuracy: 0.8732\n",
            "Epoch 24/30\n",
            "197/197 [==============================] - 4s 22ms/step - loss: 0.0041 - accuracy: 0.9960 - val_loss: 0.1366 - val_accuracy: 0.8713\n",
            "Epoch 25/30\n",
            "197/197 [==============================] - 6s 29ms/step - loss: 0.0035 - accuracy: 0.9975 - val_loss: 0.1397 - val_accuracy: 0.8725\n",
            "Epoch 26/30\n",
            "197/197 [==============================] - 5s 25ms/step - loss: 0.0030 - accuracy: 0.9981 - val_loss: 0.1436 - val_accuracy: 0.8711\n",
            "Epoch 27/30\n",
            "197/197 [==============================] - 5s 27ms/step - loss: 0.0025 - accuracy: 0.9988 - val_loss: 0.1458 - val_accuracy: 0.8703\n",
            "Epoch 28/30\n",
            "197/197 [==============================] - 4s 22ms/step - loss: 0.0021 - accuracy: 0.9992 - val_loss: 0.1494 - val_accuracy: 0.8707\n",
            "Epoch 29/30\n",
            "197/197 [==============================] - 4s 22ms/step - loss: 0.0018 - accuracy: 0.9995 - val_loss: 0.1525 - val_accuracy: 0.8697\n",
            "Epoch 30/30\n",
            "197/197 [==============================] - 4s 21ms/step - loss: 0.0015 - accuracy: 0.9997 - val_loss: 0.1554 - val_accuracy: 0.8692\n"
          ]
        }
      ]
    },
    {
      "cell_type": "code",
      "source": [
        "models[\"baseline_with_GRU\"].save_weights('./baseline_with_GRU.h5')"
      ],
      "metadata": {
        "id": "MKmKVmxmK-SK"
      },
      "execution_count": null,
      "outputs": []
    },
    {
      "cell_type": "markdown",
      "source": [
        "## Baseline with an additional LSTM"
      ],
      "metadata": {
        "id": "RTAMzroP_YH0"
      }
    },
    {
      "cell_type": "code",
      "execution_count": null,
      "metadata": {
        "id": "zB2ojg28_YH1"
      },
      "outputs": [],
      "source": [
        "def build_baseline_model_with_additional_LSTM(num_pos, \n",
        "                        embedding_matrix, \n",
        "                        name = 'baseline_with_2_LSTM',\n",
        "                        units=units):\n",
        "  inputs = Input(shape=(None,), dtype=\"int32\")\n",
        "  \n",
        "  m = Embedding(input_dim=embedding_matrix.shape[0], \n",
        "                output_dim=embedding_matrix.shape[1],\n",
        "                mask_zero=True, \n",
        "                weights=[embedding_matrix], \n",
        "                trainable=False)(inputs)\n",
        "\n",
        "  m = Bidirectional(LSTM(units=units, return_sequences=True))(m)\n",
        "  m = LSTM(units=units, return_sequences=True)(m)\n",
        "  m = Dense(num_pos, activation='softmax')(m)\n",
        "  return Model(inputs, m, name=name)"
      ]
    },
    {
      "cell_type": "code",
      "source": [
        "models[\"baseline_with_2_LSTM\"] = build_baseline_model_with_additional_LSTM(num_pos = number_pos, \n",
        "                                          embedding_matrix = embedding_matrix, \n",
        "                                          name=\"baseline_with_2_LSTM\")\n",
        "models[\"baseline_with_2_LSTM\"].summary()"
      ],
      "metadata": {
        "colab": {
          "base_uri": "https://localhost:8080/"
        },
        "id": "W7uCYf9u_YH1",
        "outputId": "1d8c7047-1f40-4a53-e60c-531bda2a0a9a"
      },
      "execution_count": null,
      "outputs": [
        {
          "output_type": "stream",
          "name": "stdout",
          "text": [
            "Model: \"baseline_with_2_LSTM\"\n",
            "_________________________________________________________________\n",
            " Layer (type)                Output Shape              Param #   \n",
            "=================================================================\n",
            " input_3 (InputLayer)        [(None, None)]            0         \n",
            "                                                                 \n",
            " embedding_2 (Embedding)     (None, None, 50)          20028550  \n",
            "                                                                 \n",
            " bidirectional_2 (Bidirectio  (None, None, 200)        120800    \n",
            " nal)                                                            \n",
            "                                                                 \n",
            " lstm_2 (LSTM)               (None, None, 100)         120400    \n",
            "                                                                 \n",
            " dense_2 (Dense)             (None, None, 46)          4646      \n",
            "                                                                 \n",
            "=================================================================\n",
            "Total params: 20,274,396\n",
            "Trainable params: 245,846\n",
            "Non-trainable params: 20,028,550\n",
            "_________________________________________________________________\n"
          ]
        }
      ]
    },
    {
      "cell_type": "code",
      "source": [
        "models['baseline_with_2_LSTM'].compile(optimizer ='adam', \n",
        "                           loss = 'categorical_crossentropy', \n",
        "                           metrics = ['accuracy'])"
      ],
      "metadata": {
        "id": "JhGdRZs0_YH2"
      },
      "execution_count": null,
      "outputs": []
    },
    {
      "cell_type": "code",
      "source": [
        "history['baseline_with_2_LSTM'] = models['baseline_with_2_LSTM'].fit(x=x_st[\"train\"], \n",
        "                   y=y_cat[\"train\"], \n",
        "                   batch_size=batch_size, \n",
        "                   epochs=epochs, \n",
        "                   validation_data=(x_st[\"val\"], y_cat[\"val\"]))"
      ],
      "metadata": {
        "colab": {
          "base_uri": "https://localhost:8080/"
        },
        "id": "TX1BcD8G_YH2",
        "outputId": "78516e9b-e705-4de1-fc4b-f8e88ab0b411"
      },
      "execution_count": null,
      "outputs": [
        {
          "output_type": "stream",
          "name": "stdout",
          "text": [
            "Epoch 1/30\n",
            "197/197 [==============================] - 26s 60ms/step - loss: 0.2188 - accuracy: 0.3797 - val_loss: 0.4222 - val_accuracy: 0.6041\n",
            "Epoch 2/30\n",
            "197/197 [==============================] - 7s 35ms/step - loss: 0.1039 - accuracy: 0.7094 - val_loss: 0.2754 - val_accuracy: 0.7402\n",
            "Epoch 3/30\n",
            "197/197 [==============================] - 7s 33ms/step - loss: 0.0737 - accuracy: 0.7889 - val_loss: 0.2216 - val_accuracy: 0.7884\n",
            "Epoch 4/30\n",
            "197/197 [==============================] - 7s 35ms/step - loss: 0.0594 - accuracy: 0.8274 - val_loss: 0.1909 - val_accuracy: 0.8143\n",
            "Epoch 5/30\n",
            "197/197 [==============================] - 6s 31ms/step - loss: 0.0502 - accuracy: 0.8527 - val_loss: 0.1679 - val_accuracy: 0.8366\n",
            "Epoch 6/30\n",
            "197/197 [==============================] - 6s 28ms/step - loss: 0.0431 - accuracy: 0.8734 - val_loss: 0.1539 - val_accuracy: 0.8476\n",
            "Epoch 7/30\n",
            "197/197 [==============================] - 7s 37ms/step - loss: 0.0376 - accuracy: 0.8891 - val_loss: 0.1423 - val_accuracy: 0.8576\n",
            "Epoch 8/30\n",
            "197/197 [==============================] - 7s 36ms/step - loss: 0.0333 - accuracy: 0.9030 - val_loss: 0.1350 - val_accuracy: 0.8631\n",
            "Epoch 9/30\n",
            "197/197 [==============================] - 7s 34ms/step - loss: 0.0298 - accuracy: 0.9122 - val_loss: 0.1278 - val_accuracy: 0.8720\n",
            "Epoch 10/30\n",
            "197/197 [==============================] - 7s 35ms/step - loss: 0.0265 - accuracy: 0.9238 - val_loss: 0.1255 - val_accuracy: 0.8727\n",
            "Epoch 11/30\n",
            "197/197 [==============================] - 6s 32ms/step - loss: 0.0237 - accuracy: 0.9314 - val_loss: 0.1239 - val_accuracy: 0.8737\n",
            "Epoch 12/30\n",
            "197/197 [==============================] - 8s 38ms/step - loss: 0.0211 - accuracy: 0.9402 - val_loss: 0.1184 - val_accuracy: 0.8825\n",
            "Epoch 13/30\n",
            "197/197 [==============================] - 7s 37ms/step - loss: 0.0186 - accuracy: 0.9477 - val_loss: 0.1187 - val_accuracy: 0.8810\n",
            "Epoch 14/30\n",
            "197/197 [==============================] - 7s 36ms/step - loss: 0.0166 - accuracy: 0.9533 - val_loss: 0.1169 - val_accuracy: 0.8826\n",
            "Epoch 15/30\n",
            "197/197 [==============================] - 5s 27ms/step - loss: 0.0145 - accuracy: 0.9615 - val_loss: 0.1175 - val_accuracy: 0.8836\n",
            "Epoch 16/30\n",
            "197/197 [==============================] - 5s 27ms/step - loss: 0.0126 - accuracy: 0.9666 - val_loss: 0.1194 - val_accuracy: 0.8828\n",
            "Epoch 17/30\n",
            "197/197 [==============================] - 5s 26ms/step - loss: 0.0108 - accuracy: 0.9732 - val_loss: 0.1186 - val_accuracy: 0.8832\n",
            "Epoch 18/30\n",
            "197/197 [==============================] - 8s 40ms/step - loss: 0.0093 - accuracy: 0.9783 - val_loss: 0.1222 - val_accuracy: 0.8821\n",
            "Epoch 19/30\n",
            "197/197 [==============================] - 8s 39ms/step - loss: 0.0079 - accuracy: 0.9828 - val_loss: 0.1252 - val_accuracy: 0.8813\n",
            "Epoch 20/30\n",
            "197/197 [==============================] - 6s 33ms/step - loss: 0.0067 - accuracy: 0.9870 - val_loss: 0.1264 - val_accuracy: 0.8825\n",
            "Epoch 21/30\n",
            "197/197 [==============================] - 5s 26ms/step - loss: 0.0055 - accuracy: 0.9899 - val_loss: 0.1280 - val_accuracy: 0.8824\n",
            "Epoch 22/30\n",
            "197/197 [==============================] - 6s 29ms/step - loss: 0.0045 - accuracy: 0.9931 - val_loss: 0.1307 - val_accuracy: 0.8817\n",
            "Epoch 23/30\n",
            "197/197 [==============================] - 8s 38ms/step - loss: 0.0038 - accuracy: 0.9952 - val_loss: 0.1374 - val_accuracy: 0.8823\n",
            "Epoch 24/30\n",
            "197/197 [==============================] - 5s 26ms/step - loss: 0.0031 - accuracy: 0.9961 - val_loss: 0.1396 - val_accuracy: 0.8801\n",
            "Epoch 25/30\n",
            "197/197 [==============================] - 7s 37ms/step - loss: 0.0025 - accuracy: 0.9976 - val_loss: 0.1402 - val_accuracy: 0.8814\n",
            "Epoch 26/30\n",
            "197/197 [==============================] - 6s 33ms/step - loss: 0.0020 - accuracy: 0.9984 - val_loss: 0.1433 - val_accuracy: 0.8819\n",
            "Epoch 27/30\n",
            "197/197 [==============================] - 5s 27ms/step - loss: 0.0017 - accuracy: 0.9988 - val_loss: 0.1450 - val_accuracy: 0.8820\n",
            "Epoch 28/30\n",
            "197/197 [==============================] - 6s 32ms/step - loss: 0.0014 - accuracy: 0.9992 - val_loss: 0.1499 - val_accuracy: 0.8810\n",
            "Epoch 29/30\n",
            "197/197 [==============================] - 6s 33ms/step - loss: 0.0012 - accuracy: 0.9993 - val_loss: 0.1523 - val_accuracy: 0.8804\n",
            "Epoch 30/30\n",
            "197/197 [==============================] - 7s 36ms/step - loss: 0.0010 - accuracy: 0.9996 - val_loss: 0.1545 - val_accuracy: 0.8808\n"
          ]
        }
      ]
    },
    {
      "cell_type": "code",
      "source": [
        "models[\"baseline_with_2_LSTM\"].save_weights('./baseline_with_2_LSTM.h5')"
      ],
      "metadata": {
        "id": "bR7rOzWXLDgf"
      },
      "execution_count": null,
      "outputs": []
    },
    {
      "cell_type": "markdown",
      "source": [
        "## Baseline with an additional Dense layer"
      ],
      "metadata": {
        "id": "ZdF3KP3rB7ee"
      }
    },
    {
      "cell_type": "code",
      "execution_count": null,
      "metadata": {
        "id": "Fgx9xO5xB7em"
      },
      "outputs": [],
      "source": [
        "def build_baseline_model_with_additional_Dense(num_pos, \n",
        "                        embedding_matrix, \n",
        "                        name = 'baseline_with_2_Dense',\n",
        "                        units=units):\n",
        "  inputs = Input(shape=(None,), dtype=\"int32\")\n",
        "  \n",
        "  m = Embedding(input_dim=embedding_matrix.shape[0], \n",
        "                output_dim=embedding_matrix.shape[1],\n",
        "                mask_zero=True, \n",
        "                weights=[embedding_matrix], \n",
        "                trainable=False)(inputs)\n",
        "\n",
        "  m = Bidirectional(LSTM(units=units, return_sequences=True))(m)\n",
        "  m = Dense(100, activation='relu')(m)\n",
        "  m = Dense(num_pos, activation='softmax')(m)\n",
        "  return Model(inputs, m, name=name)"
      ]
    },
    {
      "cell_type": "code",
      "source": [
        "models[\"baseline_with_2_Dense\"] = build_baseline_model_with_additional_Dense(num_pos = number_pos, \n",
        "                                          embedding_matrix = embedding_matrix, \n",
        "                                          name=\"baseline_with_2_Dense\")\n",
        "models[\"baseline_with_2_Dense\"].summary()"
      ],
      "metadata": {
        "colab": {
          "base_uri": "https://localhost:8080/"
        },
        "outputId": "0843435f-4246-462c-e952-4ce496dd6909",
        "id": "ALHF_0eAB7en"
      },
      "execution_count": null,
      "outputs": [
        {
          "output_type": "stream",
          "name": "stdout",
          "text": [
            "Model: \"baseline_with_2_Dense\"\n",
            "_________________________________________________________________\n",
            " Layer (type)                Output Shape              Param #   \n",
            "=================================================================\n",
            " input_4 (InputLayer)        [(None, None)]            0         \n",
            "                                                                 \n",
            " embedding_3 (Embedding)     (None, None, 50)          20028550  \n",
            "                                                                 \n",
            " bidirectional_3 (Bidirectio  (None, None, 200)        120800    \n",
            " nal)                                                            \n",
            "                                                                 \n",
            " dense_3 (Dense)             (None, None, 100)         20100     \n",
            "                                                                 \n",
            " dense_4 (Dense)             (None, None, 46)          4646      \n",
            "                                                                 \n",
            "=================================================================\n",
            "Total params: 20,174,096\n",
            "Trainable params: 145,546\n",
            "Non-trainable params: 20,028,550\n",
            "_________________________________________________________________\n"
          ]
        }
      ]
    },
    {
      "cell_type": "code",
      "source": [
        "models['baseline_with_2_Dense'].compile(optimizer ='adam', \n",
        "                           loss = 'categorical_crossentropy', \n",
        "                           metrics = ['accuracy'])"
      ],
      "metadata": {
        "id": "j90F7D1IB7en"
      },
      "execution_count": null,
      "outputs": []
    },
    {
      "cell_type": "code",
      "source": [
        "history['baseline_with_2_Dense'] = models['baseline_with_2_Dense'].fit(x=x_st[\"train\"], \n",
        "                   y=y_cat[\"train\"], \n",
        "                   batch_size=batch_size, \n",
        "                   epochs=epochs, \n",
        "                   validation_data=(x_st[\"val\"], y_cat[\"val\"]))"
      ],
      "metadata": {
        "colab": {
          "base_uri": "https://localhost:8080/"
        },
        "id": "Z36602FdB7en",
        "outputId": "579b22b9-2129-4e50-b060-b0d6893f3071"
      },
      "execution_count": null,
      "outputs": [
        {
          "output_type": "stream",
          "name": "stdout",
          "text": [
            "Epoch 1/30\n",
            "197/197 [==============================] - 19s 40ms/step - loss: 0.1862 - accuracy: 0.4890 - val_loss: 0.3178 - val_accuracy: 0.7041\n",
            "Epoch 2/30\n",
            "197/197 [==============================] - 5s 23ms/step - loss: 0.0815 - accuracy: 0.7630 - val_loss: 0.2287 - val_accuracy: 0.7724\n",
            "Epoch 3/30\n",
            "197/197 [==============================] - 5s 24ms/step - loss: 0.0616 - accuracy: 0.8152 - val_loss: 0.1948 - val_accuracy: 0.8060\n",
            "Epoch 4/30\n",
            "197/197 [==============================] - 4s 20ms/step - loss: 0.0508 - accuracy: 0.8462 - val_loss: 0.1673 - val_accuracy: 0.8326\n",
            "Epoch 5/30\n",
            "197/197 [==============================] - 4s 20ms/step - loss: 0.0437 - accuracy: 0.8655 - val_loss: 0.1506 - val_accuracy: 0.8478\n",
            "Epoch 6/30\n",
            "197/197 [==============================] - 4s 21ms/step - loss: 0.0379 - accuracy: 0.8853 - val_loss: 0.1405 - val_accuracy: 0.8558\n",
            "Epoch 7/30\n",
            "197/197 [==============================] - 4s 20ms/step - loss: 0.0333 - accuracy: 0.8991 - val_loss: 0.1348 - val_accuracy: 0.8631\n",
            "Epoch 8/30\n",
            "197/197 [==============================] - 4s 20ms/step - loss: 0.0295 - accuracy: 0.9111 - val_loss: 0.1269 - val_accuracy: 0.8688\n",
            "Epoch 9/30\n",
            "197/197 [==============================] - 4s 20ms/step - loss: 0.0265 - accuracy: 0.9188 - val_loss: 0.1243 - val_accuracy: 0.8728\n",
            "Epoch 10/30\n",
            "197/197 [==============================] - 4s 21ms/step - loss: 0.0236 - accuracy: 0.9281 - val_loss: 0.1264 - val_accuracy: 0.8696\n",
            "Epoch 11/30\n",
            "197/197 [==============================] - 5s 27ms/step - loss: 0.0213 - accuracy: 0.9353 - val_loss: 0.1168 - val_accuracy: 0.8806\n",
            "Epoch 12/30\n",
            "197/197 [==============================] - 4s 20ms/step - loss: 0.0187 - accuracy: 0.9445 - val_loss: 0.1170 - val_accuracy: 0.8806\n",
            "Epoch 13/30\n",
            "197/197 [==============================] - 4s 20ms/step - loss: 0.0164 - accuracy: 0.9517 - val_loss: 0.1197 - val_accuracy: 0.8803\n",
            "Epoch 14/30\n",
            "197/197 [==============================] - 4s 20ms/step - loss: 0.0147 - accuracy: 0.9565 - val_loss: 0.1199 - val_accuracy: 0.8807\n",
            "Epoch 15/30\n",
            "197/197 [==============================] - 5s 24ms/step - loss: 0.0126 - accuracy: 0.9631 - val_loss: 0.1209 - val_accuracy: 0.8797\n",
            "Epoch 16/30\n",
            "197/197 [==============================] - 5s 24ms/step - loss: 0.0112 - accuracy: 0.9681 - val_loss: 0.1231 - val_accuracy: 0.8822\n",
            "Epoch 17/30\n",
            "197/197 [==============================] - 4s 19ms/step - loss: 0.0094 - accuracy: 0.9747 - val_loss: 0.1250 - val_accuracy: 0.8821\n",
            "Epoch 18/30\n",
            "197/197 [==============================] - 4s 20ms/step - loss: 0.0080 - accuracy: 0.9795 - val_loss: 0.1291 - val_accuracy: 0.8800\n",
            "Epoch 19/30\n",
            "197/197 [==============================] - 5s 27ms/step - loss: 0.0068 - accuracy: 0.9834 - val_loss: 0.1340 - val_accuracy: 0.8801\n",
            "Epoch 20/30\n",
            "197/197 [==============================] - 4s 19ms/step - loss: 0.0056 - accuracy: 0.9873 - val_loss: 0.1387 - val_accuracy: 0.8786\n",
            "Epoch 21/30\n",
            "197/197 [==============================] - 4s 23ms/step - loss: 0.0046 - accuracy: 0.9908 - val_loss: 0.1419 - val_accuracy: 0.8794\n",
            "Epoch 22/30\n",
            "197/197 [==============================] - 5s 26ms/step - loss: 0.0037 - accuracy: 0.9931 - val_loss: 0.1460 - val_accuracy: 0.8776\n",
            "Epoch 23/30\n",
            "197/197 [==============================] - 4s 20ms/step - loss: 0.0032 - accuracy: 0.9946 - val_loss: 0.1548 - val_accuracy: 0.8771\n",
            "Epoch 24/30\n",
            "197/197 [==============================] - 4s 20ms/step - loss: 0.0024 - accuracy: 0.9970 - val_loss: 0.1581 - val_accuracy: 0.8771\n",
            "Epoch 25/30\n",
            "197/197 [==============================] - 4s 20ms/step - loss: 0.0018 - accuracy: 0.9982 - val_loss: 0.1607 - val_accuracy: 0.8793\n",
            "Epoch 26/30\n",
            "197/197 [==============================] - 4s 20ms/step - loss: 0.0016 - accuracy: 0.9983 - val_loss: 0.1703 - val_accuracy: 0.8772\n",
            "Epoch 27/30\n",
            "197/197 [==============================] - 4s 20ms/step - loss: 0.0012 - accuracy: 0.9991 - val_loss: 0.1718 - val_accuracy: 0.8777\n",
            "Epoch 28/30\n",
            "197/197 [==============================] - 4s 20ms/step - loss: 0.0010 - accuracy: 0.9994 - val_loss: 0.1746 - val_accuracy: 0.8784\n",
            "Epoch 29/30\n",
            "197/197 [==============================] - 4s 20ms/step - loss: 7.3066e-04 - accuracy: 0.9996 - val_loss: 0.1791 - val_accuracy: 0.8782\n",
            "Epoch 30/30\n",
            "197/197 [==============================] - 4s 20ms/step - loss: 5.8986e-04 - accuracy: 0.9997 - val_loss: 0.1849 - val_accuracy: 0.8771\n"
          ]
        }
      ]
    },
    {
      "cell_type": "code",
      "source": [
        "models[\"baseline_with_2_Dense\"].save_weights('./baseline_with_2_Dense.h5')"
      ],
      "metadata": {
        "id": "TqK24DvuLIQ1"
      },
      "execution_count": null,
      "outputs": []
    },
    {
      "cell_type": "markdown",
      "source": [
        "# Evaluation"
      ],
      "metadata": {
        "id": "fytMiTJSFF00"
      }
    },
    {
      "cell_type": "markdown",
      "source": [
        "## F1 score"
      ],
      "metadata": {
        "id": "it4lzbh7Yv-z"
      }
    },
    {
      "cell_type": "markdown",
      "source": [
        "To exclude punctuation, we are going to check the content of our label vocabulary. Inside this dictionary we have all the labels used above. Since the goal is to exclude them from f1-score computation, we will create a list of these special pos that will be used at evaluation time."
      ],
      "metadata": {
        "id": "XHlG4HYWKdSq"
      }
    },
    {
      "cell_type": "code",
      "source": [
        "print(\" \".join(label_to_idx.keys()))"
      ],
      "metadata": {
        "colab": {
          "base_uri": "https://localhost:8080/"
        },
        "id": "z6fmPinbHSlL",
        "outputId": "be9dbfc4-0889-455a-916f-11a1cb99b4dc"
      },
      "execution_count": null,
      "outputs": [
        {
          "output_type": "stream",
          "name": "stdout",
          "text": [
            "NNP , CD NNS JJ MD VB DT NN IN . VBZ VBG CC VBD VBN RB TO PRP RBR WDT VBP RP PRP$ JJS POS `` EX '' WP : JJR WRB $ NNPS WP$ -LRB- -RRB- PDT RBS FW UH SYM LS #\n"
          ]
        }
      ]
    },
    {
      "cell_type": "code",
      "source": [
        "punctuation = [\",\", \".\", '``', \"''\", ':', '$', '-LRB-','-RRB-','#']\n",
        "punctuation_enc = encode_into_numbers([punctuation], label_to_idx)[0]\n",
        "punctuation_enc.append(0) #padding symbol\n",
        "print(punctuation_enc)"
      ],
      "metadata": {
        "colab": {
          "base_uri": "https://localhost:8080/"
        },
        "id": "8EbB_Q_bUVoy",
        "outputId": "0b0c3977-b1c0-4d0f-c553-cb45569a93fe"
      },
      "execution_count": null,
      "outputs": [
        {
          "output_type": "stream",
          "name": "stdout",
          "text": [
            "[2, 11, 27, 29, 31, 34, 37, 38, 45, 0]\n"
          ]
        }
      ]
    },
    {
      "cell_type": "code",
      "source": [
        "def compute_f1(model, x, y_true, punctuation):\n",
        "    \"\"\"\n",
        "    Given a model, the data x to feed to the model, the ground truth labels and punctuation encodings, return f1-score\n",
        "\n",
        "    :param \n",
        "        - model: model to be used\n",
        "        - x: input data (standardized version of the encoded sentences)\n",
        "        - y_true: ground truth labels (one-hot-encoded)\n",
        "        - punctuation: punctuation encodings to exclude from f1-score computation\n",
        "    :return:\n",
        "        - f1_score with macro average\n",
        "    \"\"\"\n",
        "    y_true = np.argmax(y_true, axis=2).flatten()\n",
        "    y_pred = np.argmax(model.predict(x), axis=2).flatten()\n",
        "    \n",
        "    mask = np.in1d(y_true, punctuation_enc, invert=True)  #mask to exclude punctuation symbols\n",
        "    unique_pos = [pos for pos in np.unique(y_true) if not pos in punctuation_enc]\n",
        "\n",
        "    return f1_score(y_true[mask], \n",
        "                    y_pred[mask], \n",
        "                    average='macro', \n",
        "                    labels=unique_pos, \n",
        "                    zero_division=0)"
      ],
      "metadata": {
        "id": "_3gTiEYHFMyP"
      },
      "execution_count": null,
      "outputs": []
    },
    {
      "cell_type": "markdown",
      "source": [
        "Now we compute f1-score on the validation set for all the models built up to now."
      ],
      "metadata": {
        "id": "10dKLKPBXUF1"
      }
    },
    {
      "cell_type": "code",
      "source": [
        "f1_scores = {key: compute_f1(models[key],x_st[\"val\"],y_cat[\"val\"], punctuation_enc) for key in models.keys()}\n",
        "f1_scores = {k: v for k, v in sorted(f1_scores.items(), key=lambda item: item[1], reverse=True)}  #sort dictionary by f1-score values\n",
        "print()\n",
        "for model, score in f1_scores.items():\n",
        "  print(f\"Model {model} f1-score on validation set: {score:.5f}\")"
      ],
      "metadata": {
        "colab": {
          "base_uri": "https://localhost:8080/"
        },
        "id": "X1_NpLlpXJsJ",
        "outputId": "d4f2e057-6004-4f5d-9614-195110788c6c"
      },
      "execution_count": null,
      "outputs": [
        {
          "output_type": "stream",
          "name": "stdout",
          "text": [
            "41/41 [==============================] - 3s 7ms/step\n",
            "41/41 [==============================] - 3s 7ms/step\n",
            "41/41 [==============================] - 4s 10ms/step\n",
            "41/41 [==============================] - 3s 8ms/step\n",
            "\n",
            "Model baseline f1-score on validation set: 0.75249\n",
            "Model baseline_with_2_LSTM f1-score on validation set: 0.74335\n",
            "Model baseline_with_2_Dense f1-score on validation set: 0.73415\n",
            "Model baseline_with_GRU f1-score on validation set: 0.72501\n"
          ]
        }
      ]
    },
    {
      "cell_type": "markdown",
      "source": [
        "According to the f1-score computed on validation set, the best model is the baseline. "
      ],
      "metadata": {
        "id": "S6DrrQAlYCVO"
      }
    },
    {
      "cell_type": "code",
      "source": [
        "best_model = models[list(f1_scores.keys())[0]]\n",
        "best_model.name"
      ],
      "metadata": {
        "colab": {
          "base_uri": "https://localhost:8080/",
          "height": 36
        },
        "id": "35pcJJlpsLWY",
        "outputId": "f88d7f51-0229-468b-dd8b-a0c459cec5d9"
      },
      "execution_count": null,
      "outputs": [
        {
          "output_type": "execute_result",
          "data": {
            "text/plain": [
              "'baseline'"
            ],
            "application/vnd.google.colaboratory.intrinsic+json": {
              "type": "string"
            }
          },
          "metadata": {},
          "execution_count": 57
        }
      ]
    },
    {
      "cell_type": "markdown",
      "source": [
        "## History inspection\n",
        "To better understand how the models are performing, we can use training histories and plot loss and accuracy for all of them. In the first column we can see loss' plots, in the second one the accuracy. There is also a cross gray cross on the point of minimum loss (epoch, loss) and the one of maximum accuracy (epoch, accuracy)."
      ],
      "metadata": {
        "id": "Qrrm53qAY0lY"
      }
    },
    {
      "cell_type": "code",
      "source": [
        "def plot_history(history_dict):\n",
        "  fig, axes = plt.subplots(nrows=len(history_dict.keys()), ncols=2, figsize=(4*len(history_dict.keys()), 16))\n",
        "  for idx, model in enumerate(history_dict.keys()):\n",
        "    model_history = history_dict[model].history\n",
        "\n",
        "    loss = pd.DataFrame(np.array([model_history['loss'], model_history['val_loss']]).T, columns=['Train', 'Validation'])\n",
        "    min_loss = loss['Validation'].min()\n",
        "    min_loss_idx = loss['Validation'].idxmin()\n",
        "    accuracy = pd.DataFrame(np.array([model_history['accuracy'], model_history['val_accuracy']]).T, columns=['Train', 'Validation'])\n",
        "    max_acc = accuracy['Validation'].max()\n",
        "    max_acc_idx = accuracy['Validation'].idxmax()\n",
        "\n",
        "    sb.lineplot(data=loss, ax=axes[idx][0])\n",
        "    sb.lineplot(data=accuracy, ax=axes[idx][1])\n",
        "\n",
        "    axes[idx][0].axhline(min_loss, color='lightgray', linestyle='-')\n",
        "    axes[idx][0].axvline(min_loss_idx, color='lightgray', linestyle='-')\n",
        "    axes[idx][1].axhline(max_acc, color='lightgray', linestyle='-')\n",
        "    axes[idx][1].axvline(max_acc_idx, color='lightgray', linestyle='-')\n",
        "\n",
        "    axes[idx][0].set_xlabel('Epochs')\n",
        "    axes[idx][1].set_xlabel('Epochs')\n",
        "    axes[idx][0].set_ylabel('Loss')\n",
        "    axes[idx][1].set_ylabel('Accuracy')\n",
        "    axes[idx][0].set_title(f\"{model} loss\")\n",
        "    axes[idx][1].set_title(f\"{model} accuracy\")\n",
        "\n",
        "  fig.tight_layout()\n",
        "  plt.show()"
      ],
      "metadata": {
        "id": "Jb3lUpfiY6pD"
      },
      "execution_count": null,
      "outputs": []
    },
    {
      "cell_type": "code",
      "source": [
        "plot_history(history)"
      ],
      "metadata": {
        "id": "Vdg1HQiapqA0",
        "colab": {
          "base_uri": "https://localhost:8080/",
          "height": 1000
        },
        "outputId": "b56fbfe2-c09c-4c7b-f91b-9b61d4c1b17f"
      },
      "execution_count": null,
      "outputs": [
        {
          "output_type": "display_data",
          "data": {
            "text/plain": [
              "<Figure size 1152x1152 with 8 Axes>"
            ],
            "image/png": "[encoded data removed]"
          },
          "metadata": {
            "needs_background": "light"
          }
        }
      ]
    },
    {
      "cell_type": "markdown",
      "source": [
        "The charts show that all the models are overfitting, as they reach the minimum value for validation loss between epoch number 10 and 15. and then it starts increasing again. Accuracy reaches a plateau too. As a result, something to reduce overfitting has to be done in order to improve model performances."
      ],
      "metadata": {
        "id": "vkWzrYKXZHiM"
      }
    },
    {
      "cell_type": "markdown",
      "source": [
        "# Improving the best model\n",
        "The baseline model is the best one up to this point, so we are going to try to improve its performances. \n",
        "\n",
        "\n"
      ],
      "metadata": {
        "id": "VFKzK_bApBDY"
      }
    },
    {
      "cell_type": "markdown",
      "source": [
        "A straightforward modification is to move to GloVe embedding with size 300, as up to now the one with size 50 has been used. This new embedding is much heavier than the previous one, but is ensures better results. Considering this, all the following models will use the embedding matrix built with this new embedding size.\n",
        "\n",
        "We are also going to test what happens if we increase to 200 the number of LSTM hidden units, which previously were set to 100. \n",
        "\n",
        "Finally, as already pointed out, it is clear that the model starts to overfit, so we will introduce a dropout layer and droput on the LSTM layer to check if it is going to reduce overfitting."
      ],
      "metadata": {
        "id": "ayLNdjmHp7Np"
      }
    },
    {
      "cell_type": "code",
      "source": [
        "EMBEDDING_DIMENSION_BIGGER = 300\n",
        "units_bigger = 200\n",
        "dropout_percentage = 0.2"
      ],
      "metadata": {
        "id": "H2cMkpDKHu2I"
      },
      "execution_count": null,
      "outputs": []
    },
    {
      "cell_type": "code",
      "source": [
        "glove_emb_model_bigger = load_GloVe_embedding(EMBEDDING_DIMENSION_BIGGER)"
      ],
      "metadata": {
        "id": "-Lg6NyPptoJ-",
        "colab": {
          "base_uri": "https://localhost:8080/"
        },
        "outputId": "25ba9a12-2dd1-4558-a50f-d2f7f99ee746"
      },
      "execution_count": null,
      "outputs": [
        {
          "output_type": "stream",
          "name": "stdout",
          "text": [
            "[==================================================] 100.0% 376.1/376.1MB downloaded\n"
          ]
        }
      ]
    },
    {
      "cell_type": "code",
      "source": [
        "embedding_matrix_bigger = build_embedding_matrix(glove_emb_model_bigger, \n",
        "                                                EMBEDDING_DIMENSION_BIGGER,\n",
        "                                                word_to_idx_train)\n",
        "print(embedding_matrix_bigger.shape)\n",
        "\n",
        "embedding_matrix_bigger = extend_embedding_matrix(glove_emb_model_bigger, \n",
        "                                                  embedding_matrix_bigger,\n",
        "                                                  word_to_idx_val)\n",
        "print(embedding_matrix_bigger.shape)\n",
        "\n",
        "embedding_matrix_bigger = extend_embedding_matrix(glove_emb_model_bigger, \n",
        "                                                  embedding_matrix_bigger,\n",
        "                                                  word_to_idx_test)\n",
        "print(embedding_matrix_bigger.shape)"
      ],
      "metadata": {
        "colab": {
          "base_uri": "https://localhost:8080/"
        },
        "id": "LBBMeIgpG5wZ",
        "outputId": "5aade747-287a-431c-eb82-f148fb780d35"
      },
      "execution_count": null,
      "outputs": [
        {
          "output_type": "stream",
          "name": "stderr",
          "text": [
            "100%|██████████| 400318/400318 [00:02<00:00, 181397.03it/s]\n"
          ]
        },
        {
          "output_type": "stream",
          "name": "stdout",
          "text": [
            "(400319, 300)\n",
            "(400475, 300)\n",
            "(400571, 300)\n"
          ]
        }
      ]
    },
    {
      "cell_type": "code",
      "source": [
        "def build_final_model(num_pos, \n",
        "                      embedding_matrix, \n",
        "                      name = 'final',\n",
        "                      units = units_bigger, \n",
        "                      dropout_layer = True,\n",
        "                      dropout_LSTM = True,\n",
        "                      dropout_percentage = dropout_percentage):\n",
        "  inputs = Input(shape=(None,), dtype=\"int32\")\n",
        "\n",
        "  \n",
        "  m = Embedding(input_dim=embedding_matrix.shape[0], \n",
        "                output_dim=embedding_matrix.shape[1],\n",
        "                mask_zero=True, \n",
        "                weights=[embedding_matrix], \n",
        "                trainable=False)(inputs)\n",
        "\n",
        "  if dropout_layer:\n",
        "    m = Dropout(dropout_percentage)(m)\n",
        "\n",
        "  if dropout_LSTM:\n",
        "    m = Bidirectional(LSTM(units=units, return_sequences=True, dropout=dropout_percentage))(m)\n",
        "  else:\n",
        "    m = Bidirectional(LSTM(units=units, return_sequences=True))(m)\n",
        "\n",
        "  m = Dense(num_pos, activation='softmax')(m)\n",
        "\n",
        "  return Model(inputs, m, name=name)"
      ],
      "metadata": {
        "id": "CSxVArvAHb6M"
      },
      "execution_count": null,
      "outputs": []
    },
    {
      "cell_type": "code",
      "source": [
        "final_models = {}\n",
        "final_models_history = {}\n",
        "final_models_f1_scores = {}"
      ],
      "metadata": {
        "id": "qI30HhVYbP3D"
      },
      "execution_count": null,
      "outputs": []
    },
    {
      "cell_type": "markdown",
      "source": [
        "### Final model with more LSTM hidden units, a dropout layer and dropout on LSTM"
      ],
      "metadata": {
        "id": "lTV8gJPwYWBc"
      }
    },
    {
      "cell_type": "code",
      "source": [
        "final_models['units_bigger-dropout_layer-dropout_LSTM'] = build_final_model(num_pos = number_pos, \n",
        "                                embedding_matrix = embedding_matrix_bigger, \n",
        "                                name = \"units_bigger-dropout_layer-dropout_LSTM\",\n",
        "                                units = units_bigger,\n",
        "                                dropout_layer = True,\n",
        "                                dropout_LSTM = True,\n",
        "                                dropout_percentage = dropout_percentage) "
      ],
      "metadata": {
        "id": "aKvIE742I7y6"
      },
      "execution_count": null,
      "outputs": []
    },
    {
      "cell_type": "code",
      "source": [
        "final_models['units_bigger-dropout_layer-dropout_LSTM'].summary()"
      ],
      "metadata": {
        "colab": {
          "base_uri": "https://localhost:8080/"
        },
        "id": "OxatNV0VKEIM",
        "outputId": "0a909aeb-b001-4c8f-9d34-328a94d52dc9"
      },
      "execution_count": null,
      "outputs": [
        {
          "output_type": "stream",
          "name": "stdout",
          "text": [
            "Model: \"units_bigger-dropout_layer-dropout_LSTM\"\n",
            "_________________________________________________________________\n",
            " Layer (type)                Output Shape              Param #   \n",
            "=================================================================\n",
            " input_6 (InputLayer)        [(None, None)]            0         \n",
            "                                                                 \n",
            " embedding_5 (Embedding)     (None, None, 300)         120171300 \n",
            "                                                                 \n",
            " dropout_1 (Dropout)         (None, None, 300)         0         \n",
            "                                                                 \n",
            " bidirectional_5 (Bidirectio  (None, None, 400)        801600    \n",
            " nal)                                                            \n",
            "                                                                 \n",
            " dense_6 (Dense)             (None, None, 46)          18446     \n",
            "                                                                 \n",
            "=================================================================\n",
            "Total params: 120,991,346\n",
            "Trainable params: 820,046\n",
            "Non-trainable params: 120,171,300\n",
            "_________________________________________________________________\n"
          ]
        }
      ]
    },
    {
      "cell_type": "code",
      "source": [
        "final_models['units_bigger-dropout_layer-dropout_LSTM'].compile(optimizer ='adam', \n",
        "                           loss = 'categorical_crossentropy', \n",
        "                           metrics = ['accuracy'])\n",
        "final_models_history['units_bigger-dropout_layer-dropout_LSTM'] = final_models['units_bigger-dropout_layer-dropout_LSTM'].fit(x=x_st[\"train\"], \n",
        "                   y=y_cat[\"train\"], \n",
        "                   batch_size=batch_size, \n",
        "                   epochs=epochs, \n",
        "                   validation_data=(x_st[\"val\"], y_cat[\"val\"]))"
      ],
      "metadata": {
        "colab": {
          "base_uri": "https://localhost:8080/"
        },
        "id": "dcRzUJJ0Jz-l",
        "outputId": "9894c560-7bcf-44fb-cff5-bbe0245090f2"
      },
      "execution_count": null,
      "outputs": [
        {
          "output_type": "stream",
          "name": "stdout",
          "text": [
            "Epoch 1/30\n",
            "197/197 [==============================] - 17s 43ms/step - loss: 0.1237 - accuracy: 0.6643 - val_loss: 0.1830 - val_accuracy: 0.8223\n",
            "Epoch 2/30\n",
            "197/197 [==============================] - 5s 27ms/step - loss: 0.0522 - accuracy: 0.8440 - val_loss: 0.1372 - val_accuracy: 0.8640\n",
            "Epoch 3/30\n",
            "197/197 [==============================] - 6s 30ms/step - loss: 0.0412 - accuracy: 0.8719 - val_loss: 0.1174 - val_accuracy: 0.8841\n",
            "Epoch 4/30\n",
            "197/197 [==============================] - 6s 31ms/step - loss: 0.0344 - accuracy: 0.8933 - val_loss: 0.1072 - val_accuracy: 0.8899\n",
            "Epoch 5/30\n",
            "197/197 [==============================] - 5s 23ms/step - loss: 0.0295 - accuracy: 0.9068 - val_loss: 0.0969 - val_accuracy: 0.9015\n",
            "Epoch 6/30\n",
            "197/197 [==============================] - 5s 24ms/step - loss: 0.0252 - accuracy: 0.9209 - val_loss: 0.0902 - val_accuracy: 0.9059\n",
            "Epoch 7/30\n",
            "197/197 [==============================] - 5s 25ms/step - loss: 0.0216 - accuracy: 0.9325 - val_loss: 0.0872 - val_accuracy: 0.9105\n",
            "Epoch 8/30\n",
            "197/197 [==============================] - 6s 29ms/step - loss: 0.0187 - accuracy: 0.9417 - val_loss: 0.0853 - val_accuracy: 0.9128\n",
            "Epoch 9/30\n",
            "197/197 [==============================] - 5s 28ms/step - loss: 0.0160 - accuracy: 0.9505 - val_loss: 0.0811 - val_accuracy: 0.9166\n",
            "Epoch 10/30\n",
            "197/197 [==============================] - 6s 30ms/step - loss: 0.0137 - accuracy: 0.9587 - val_loss: 0.0812 - val_accuracy: 0.9174\n",
            "Epoch 11/30\n",
            "197/197 [==============================] - 5s 27ms/step - loss: 0.0117 - accuracy: 0.9653 - val_loss: 0.0830 - val_accuracy: 0.9155\n",
            "Epoch 12/30\n",
            "197/197 [==============================] - 4s 21ms/step - loss: 0.0101 - accuracy: 0.9690 - val_loss: 0.0811 - val_accuracy: 0.9184\n",
            "Epoch 13/30\n",
            "197/197 [==============================] - 4s 21ms/step - loss: 0.0086 - accuracy: 0.9749 - val_loss: 0.0791 - val_accuracy: 0.9215\n",
            "Epoch 14/30\n",
            "197/197 [==============================] - 4s 21ms/step - loss: 0.0075 - accuracy: 0.9793 - val_loss: 0.0818 - val_accuracy: 0.9193\n",
            "Epoch 15/30\n",
            "197/197 [==============================] - 4s 22ms/step - loss: 0.0066 - accuracy: 0.9818 - val_loss: 0.0811 - val_accuracy: 0.9196\n",
            "Epoch 16/30\n",
            "197/197 [==============================] - 6s 28ms/step - loss: 0.0056 - accuracy: 0.9850 - val_loss: 0.0810 - val_accuracy: 0.9222\n",
            "Epoch 17/30\n",
            "197/197 [==============================] - 6s 29ms/step - loss: 0.0051 - accuracy: 0.9866 - val_loss: 0.0821 - val_accuracy: 0.9217\n",
            "Epoch 18/30\n",
            "197/197 [==============================] - 7s 33ms/step - loss: 0.0044 - accuracy: 0.9884 - val_loss: 0.0871 - val_accuracy: 0.9180\n",
            "Epoch 19/30\n",
            "197/197 [==============================] - 6s 29ms/step - loss: 0.0039 - accuracy: 0.9905 - val_loss: 0.0848 - val_accuracy: 0.9199\n",
            "Epoch 20/30\n",
            "197/197 [==============================] - 6s 30ms/step - loss: 0.0035 - accuracy: 0.9909 - val_loss: 0.0857 - val_accuracy: 0.9211\n",
            "Epoch 21/30\n",
            "197/197 [==============================] - 5s 27ms/step - loss: 0.0032 - accuracy: 0.9920 - val_loss: 0.0867 - val_accuracy: 0.9217\n",
            "Epoch 22/30\n",
            "197/197 [==============================] - 6s 30ms/step - loss: 0.0030 - accuracy: 0.9925 - val_loss: 0.0886 - val_accuracy: 0.9214\n",
            "Epoch 23/30\n",
            "197/197 [==============================] - 6s 29ms/step - loss: 0.0028 - accuracy: 0.9928 - val_loss: 0.0923 - val_accuracy: 0.9187\n",
            "Epoch 24/30\n",
            "197/197 [==============================] - 6s 28ms/step - loss: 0.0025 - accuracy: 0.9938 - val_loss: 0.0906 - val_accuracy: 0.9221\n",
            "Epoch 25/30\n",
            "197/197 [==============================] - 6s 31ms/step - loss: 0.0024 - accuracy: 0.9942 - val_loss: 0.0910 - val_accuracy: 0.9214\n",
            "Epoch 26/30\n",
            "197/197 [==============================] - 5s 28ms/step - loss: 0.0022 - accuracy: 0.9947 - val_loss: 0.0910 - val_accuracy: 0.9216\n",
            "Epoch 27/30\n",
            "197/197 [==============================] - 4s 21ms/step - loss: 0.0021 - accuracy: 0.9951 - val_loss: 0.0938 - val_accuracy: 0.9207\n",
            "Epoch 28/30\n",
            "197/197 [==============================] - 6s 31ms/step - loss: 0.0019 - accuracy: 0.9954 - val_loss: 0.0918 - val_accuracy: 0.9228\n",
            "Epoch 29/30\n",
            "197/197 [==============================] - 5s 26ms/step - loss: 0.0018 - accuracy: 0.9956 - val_loss: 0.0951 - val_accuracy: 0.9219\n",
            "Epoch 30/30\n",
            "197/197 [==============================] - 4s 21ms/step - loss: 0.0017 - accuracy: 0.9958 - val_loss: 0.0951 - val_accuracy: 0.9210\n"
          ]
        }
      ]
    },
    {
      "cell_type": "code",
      "source": [
        "final_models[\"units_bigger-dropout_layer-dropout_LSTM\"].save_weights('./units_bigger-dropout_layer-dropout_LSTM.h5')"
      ],
      "metadata": {
        "id": "TFUml6V-daxH"
      },
      "execution_count": null,
      "outputs": []
    },
    {
      "cell_type": "code",
      "source": [
        "final_models_f1_scores[\"units_bigger-dropout_layer-dropout_LSTM\"] = compute_f1(final_models[\"units_bigger-dropout_layer-dropout_LSTM\"],x_st[\"val\"],y_cat[\"val\"],punctuation_enc)\n",
        "final_models_f1_scores[\"units_bigger-dropout_layer-dropout_LSTM\"]"
      ],
      "metadata": {
        "colab": {
          "base_uri": "https://localhost:8080/"
        },
        "id": "0RdYmRq_Kbb6",
        "outputId": "a4f4a5e4-a75a-493b-f219-d789e7f546a8"
      },
      "execution_count": null,
      "outputs": [
        {
          "output_type": "stream",
          "name": "stdout",
          "text": [
            "41/41 [==============================] - 3s 8ms/step\n"
          ]
        },
        {
          "output_type": "execute_result",
          "data": {
            "text/plain": [
              "0.820229426270687"
            ]
          },
          "metadata": {},
          "execution_count": 73
        }
      ]
    },
    {
      "cell_type": "markdown",
      "source": [
        "### Final model with smaller number of LSTM hidden units, dropout layer and dropout on LSTM"
      ],
      "metadata": {
        "id": "RsT_nmVpeG4g"
      }
    },
    {
      "cell_type": "code",
      "source": [
        "final_models['dropout_layer-dropout_LSTM'] = build_final_model(num_pos = number_pos, \n",
        "                                embedding_matrix = embedding_matrix_bigger, \n",
        "                                name = \"dropout_layer-dropout_LSTM\",\n",
        "                                units = units,\n",
        "                                dropout_layer = True,\n",
        "                                dropout_LSTM = True,\n",
        "                                dropout_percentage = dropout_percentage) "
      ],
      "metadata": {
        "id": "gmqSuoHTeG4h"
      },
      "execution_count": null,
      "outputs": []
    },
    {
      "cell_type": "code",
      "source": [
        "final_models['dropout_layer-dropout_LSTM'].summary()"
      ],
      "metadata": {
        "colab": {
          "base_uri": "https://localhost:8080/"
        },
        "outputId": "b05b8db0-1a56-4d17-8d7e-67f010f0a799",
        "id": "sAzkcQgbeG4h"
      },
      "execution_count": null,
      "outputs": [
        {
          "output_type": "stream",
          "name": "stdout",
          "text": [
            "Model: \"dropout_layer-dropout_LSTM\"\n",
            "_________________________________________________________________\n",
            " Layer (type)                Output Shape              Param #   \n",
            "=================================================================\n",
            " input_7 (InputLayer)        [(None, None)]            0         \n",
            "                                                                 \n",
            " embedding_6 (Embedding)     (None, None, 300)         120171300 \n",
            "                                                                 \n",
            " dropout_2 (Dropout)         (None, None, 300)         0         \n",
            "                                                                 \n",
            " bidirectional_6 (Bidirectio  (None, None, 200)        320800    \n",
            " nal)                                                            \n",
            "                                                                 \n",
            " dense_7 (Dense)             (None, None, 46)          9246      \n",
            "                                                                 \n",
            "=================================================================\n",
            "Total params: 120,501,346\n",
            "Trainable params: 330,046\n",
            "Non-trainable params: 120,171,300\n",
            "_________________________________________________________________\n"
          ]
        }
      ]
    },
    {
      "cell_type": "code",
      "source": [
        "final_models['dropout_layer-dropout_LSTM'].compile(optimizer ='adam', \n",
        "                           loss = 'categorical_crossentropy', \n",
        "                           metrics = ['accuracy'])\n",
        "\n",
        "final_models_history['dropout_layer-dropout_LSTM'] = final_models['dropout_layer-dropout_LSTM'].fit(x=x_st[\"train\"], \n",
        "                   y=y_cat[\"train\"], \n",
        "                   batch_size=batch_size, \n",
        "                   epochs=epochs, \n",
        "                   validation_data=(x_st[\"val\"], y_cat[\"val\"]))"
      ],
      "metadata": {
        "colab": {
          "base_uri": "https://localhost:8080/"
        },
        "outputId": "c0e45528-466c-40d3-d560-3b4c862f8a9c",
        "id": "TV1E6j2qeG4i"
      },
      "execution_count": null,
      "outputs": [
        {
          "output_type": "stream",
          "name": "stdout",
          "text": [
            "Epoch 1/30\n",
            "197/197 [==============================] - 14s 34ms/step - loss: 0.1499 - accuracy: 0.6038 - val_loss: 0.2271 - val_accuracy: 0.7909\n",
            "Epoch 2/30\n",
            "197/197 [==============================] - 4s 21ms/step - loss: 0.0628 - accuracy: 0.8197 - val_loss: 0.1571 - val_accuracy: 0.8501\n",
            "Epoch 3/30\n",
            "197/197 [==============================] - 4s 21ms/step - loss: 0.0481 - accuracy: 0.8542 - val_loss: 0.1341 - val_accuracy: 0.8702\n",
            "Epoch 4/30\n",
            "197/197 [==============================] - 4s 21ms/step - loss: 0.0408 - accuracy: 0.8771 - val_loss: 0.1191 - val_accuracy: 0.8795\n",
            "Epoch 5/30\n",
            "197/197 [==============================] - 4s 22ms/step - loss: 0.0357 - accuracy: 0.8899 - val_loss: 0.1089 - val_accuracy: 0.8897\n",
            "Epoch 6/30\n",
            "197/197 [==============================] - 4s 23ms/step - loss: 0.0317 - accuracy: 0.9025 - val_loss: 0.1005 - val_accuracy: 0.8981\n",
            "Epoch 7/30\n",
            "197/197 [==============================] - 4s 22ms/step - loss: 0.0283 - accuracy: 0.9127 - val_loss: 0.0946 - val_accuracy: 0.9020\n",
            "Epoch 8/30\n",
            "197/197 [==============================] - 4s 21ms/step - loss: 0.0256 - accuracy: 0.9215 - val_loss: 0.0919 - val_accuracy: 0.9065\n",
            "Epoch 9/30\n",
            "197/197 [==============================] - 4s 21ms/step - loss: 0.0230 - accuracy: 0.9292 - val_loss: 0.0875 - val_accuracy: 0.9108\n",
            "Epoch 10/30\n",
            "197/197 [==============================] - 4s 21ms/step - loss: 0.0205 - accuracy: 0.9381 - val_loss: 0.0846 - val_accuracy: 0.9131\n",
            "Epoch 11/30\n",
            "197/197 [==============================] - 4s 21ms/step - loss: 0.0187 - accuracy: 0.9433 - val_loss: 0.0824 - val_accuracy: 0.9155\n",
            "Epoch 12/30\n",
            "197/197 [==============================] - 5s 25ms/step - loss: 0.0171 - accuracy: 0.9480 - val_loss: 0.0794 - val_accuracy: 0.9179\n",
            "Epoch 13/30\n",
            "197/197 [==============================] - 6s 30ms/step - loss: 0.0156 - accuracy: 0.9529 - val_loss: 0.0785 - val_accuracy: 0.9191\n",
            "Epoch 14/30\n",
            "197/197 [==============================] - 5s 28ms/step - loss: 0.0144 - accuracy: 0.9570 - val_loss: 0.0766 - val_accuracy: 0.9214\n",
            "Epoch 15/30\n",
            "197/197 [==============================] - 7s 34ms/step - loss: 0.0132 - accuracy: 0.9606 - val_loss: 0.0760 - val_accuracy: 0.9215\n",
            "Epoch 16/30\n",
            "197/197 [==============================] - 4s 21ms/step - loss: 0.0121 - accuracy: 0.9627 - val_loss: 0.0772 - val_accuracy: 0.9209\n",
            "Epoch 17/30\n",
            "197/197 [==============================] - 5s 23ms/step - loss: 0.0115 - accuracy: 0.9655 - val_loss: 0.0745 - val_accuracy: 0.9237\n",
            "Epoch 18/30\n",
            "197/197 [==============================] - 4s 22ms/step - loss: 0.0103 - accuracy: 0.9694 - val_loss: 0.0768 - val_accuracy: 0.9207\n",
            "Epoch 19/30\n",
            "197/197 [==============================] - 7s 33ms/step - loss: 0.0096 - accuracy: 0.9716 - val_loss: 0.0770 - val_accuracy: 0.9234\n",
            "Epoch 20/30\n",
            "197/197 [==============================] - 6s 29ms/step - loss: 0.0089 - accuracy: 0.9732 - val_loss: 0.0764 - val_accuracy: 0.9243\n",
            "Epoch 21/30\n",
            "197/197 [==============================] - 4s 22ms/step - loss: 0.0084 - accuracy: 0.9749 - val_loss: 0.0747 - val_accuracy: 0.9261\n",
            "Epoch 22/30\n",
            "197/197 [==============================] - 6s 31ms/step - loss: 0.0082 - accuracy: 0.9753 - val_loss: 0.0763 - val_accuracy: 0.9239\n",
            "Epoch 23/30\n",
            "197/197 [==============================] - 4s 22ms/step - loss: 0.0072 - accuracy: 0.9781 - val_loss: 0.0777 - val_accuracy: 0.9245\n",
            "Epoch 24/30\n",
            "197/197 [==============================] - 4s 21ms/step - loss: 0.0069 - accuracy: 0.9792 - val_loss: 0.0757 - val_accuracy: 0.9254\n",
            "Epoch 25/30\n",
            "197/197 [==============================] - 4s 23ms/step - loss: 0.0064 - accuracy: 0.9804 - val_loss: 0.0785 - val_accuracy: 0.9252\n",
            "Epoch 26/30\n",
            "197/197 [==============================] - 4s 20ms/step - loss: 0.0060 - accuracy: 0.9828 - val_loss: 0.0789 - val_accuracy: 0.9264\n",
            "Epoch 27/30\n",
            "197/197 [==============================] - 4s 20ms/step - loss: 0.0056 - accuracy: 0.9836 - val_loss: 0.0795 - val_accuracy: 0.9246\n",
            "Epoch 28/30\n",
            "197/197 [==============================] - 4s 21ms/step - loss: 0.0055 - accuracy: 0.9840 - val_loss: 0.0788 - val_accuracy: 0.9253\n",
            "Epoch 29/30\n",
            "197/197 [==============================] - 5s 25ms/step - loss: 0.0051 - accuracy: 0.9858 - val_loss: 0.0821 - val_accuracy: 0.9237\n",
            "Epoch 30/30\n",
            "197/197 [==============================] - 6s 30ms/step - loss: 0.0049 - accuracy: 0.9860 - val_loss: 0.0795 - val_accuracy: 0.9262\n"
          ]
        }
      ]
    },
    {
      "cell_type": "code",
      "source": [
        "final_models[\"dropout_layer-dropout_LSTM\"].save_weights('./dropout_layer-dropout_LSTM.h5')"
      ],
      "metadata": {
        "id": "PinvhU5LeG4i"
      },
      "execution_count": null,
      "outputs": []
    },
    {
      "cell_type": "code",
      "source": [
        "final_models_f1_scores[\"dropout_layer-dropout_LSTM\"] = compute_f1(final_models[\"dropout_layer-dropout_LSTM\"],x_st[\"val\"],y_cat[\"val\"],punctuation_enc)\n",
        "final_models_f1_scores[\"dropout_layer-dropout_LSTM\"]"
      ],
      "metadata": {
        "colab": {
          "base_uri": "https://localhost:8080/"
        },
        "id": "z5bYtoY5eG4j",
        "outputId": "828bcd2e-c984-488b-dc3b-3156f1214ed8"
      },
      "execution_count": null,
      "outputs": [
        {
          "output_type": "stream",
          "name": "stdout",
          "text": [
            "41/41 [==============================] - 4s 9ms/step\n"
          ]
        },
        {
          "output_type": "execute_result",
          "data": {
            "text/plain": [
              "0.8046806082148137"
            ]
          },
          "metadata": {},
          "execution_count": 78
        }
      ]
    },
    {
      "cell_type": "markdown",
      "source": [
        "### Final model with more LSTM hidden units and a dropout layer"
      ],
      "metadata": {
        "id": "FG04_USsfRrb"
      }
    },
    {
      "cell_type": "code",
      "source": [
        "final_models['units_bigger-dropout_layer'] = build_final_model(num_pos = number_pos, \n",
        "                                embedding_matrix = embedding_matrix_bigger, \n",
        "                                name = \"units_bigger-dropout_layer\",\n",
        "                                units = units_bigger,\n",
        "                                dropout_layer = True,\n",
        "                                dropout_LSTM = False,\n",
        "                                dropout_percentage = dropout_percentage) "
      ],
      "metadata": {
        "id": "Uo3Hq0EpfRrc"
      },
      "execution_count": null,
      "outputs": []
    },
    {
      "cell_type": "code",
      "source": [
        "final_models['units_bigger-dropout_layer'].summary()"
      ],
      "metadata": {
        "colab": {
          "base_uri": "https://localhost:8080/"
        },
        "outputId": "f637e719-3867-45f5-e79e-5ef14ffcbcf6",
        "id": "hVkgLZ-9fRrc"
      },
      "execution_count": null,
      "outputs": [
        {
          "output_type": "stream",
          "name": "stdout",
          "text": [
            "Model: \"units_bigger-dropout_layer\"\n",
            "_________________________________________________________________\n",
            " Layer (type)                Output Shape              Param #   \n",
            "=================================================================\n",
            " input_8 (InputLayer)        [(None, None)]            0         \n",
            "                                                                 \n",
            " embedding_7 (Embedding)     (None, None, 300)         120171300 \n",
            "                                                                 \n",
            " dropout_3 (Dropout)         (None, None, 300)         0         \n",
            "                                                                 \n",
            " bidirectional_7 (Bidirectio  (None, None, 400)        801600    \n",
            " nal)                                                            \n",
            "                                                                 \n",
            " dense_8 (Dense)             (None, None, 46)          18446     \n",
            "                                                                 \n",
            "=================================================================\n",
            "Total params: 120,991,346\n",
            "Trainable params: 820,046\n",
            "Non-trainable params: 120,171,300\n",
            "_________________________________________________________________\n"
          ]
        }
      ]
    },
    {
      "cell_type": "code",
      "source": [
        "final_models['units_bigger-dropout_layer'].compile(optimizer ='adam', \n",
        "                           loss = 'categorical_crossentropy', \n",
        "                           metrics = ['accuracy'])\n",
        "\n",
        "final_models_history['units_bigger-dropout_layer'] = final_models['units_bigger-dropout_layer'].fit(x=x_st[\"train\"], \n",
        "                   y=y_cat[\"train\"], \n",
        "                   batch_size=batch_size, \n",
        "                   epochs=epochs, \n",
        "                   validation_data=(x_st[\"val\"], y_cat[\"val\"]))"
      ],
      "metadata": {
        "colab": {
          "base_uri": "https://localhost:8080/"
        },
        "outputId": "26efca54-d439-42c3-e813-c5140154fba3",
        "id": "RNChkSYCfRrd"
      },
      "execution_count": null,
      "outputs": [
        {
          "output_type": "stream",
          "name": "stdout",
          "text": [
            "Epoch 1/30\n",
            "197/197 [==============================] - 17s 34ms/step - loss: 0.1193 - accuracy: 0.6813 - val_loss: 0.1768 - val_accuracy: 0.8310\n",
            "Epoch 2/30\n",
            "197/197 [==============================] - 4s 20ms/step - loss: 0.0475 - accuracy: 0.8591 - val_loss: 0.1318 - val_accuracy: 0.8696\n",
            "Epoch 3/30\n",
            "197/197 [==============================] - 4s 20ms/step - loss: 0.0362 - accuracy: 0.8884 - val_loss: 0.1124 - val_accuracy: 0.8878\n",
            "Epoch 4/30\n",
            "197/197 [==============================] - 4s 21ms/step - loss: 0.0292 - accuracy: 0.9104 - val_loss: 0.1011 - val_accuracy: 0.8951\n",
            "Epoch 5/30\n",
            "197/197 [==============================] - 4s 20ms/step - loss: 0.0240 - accuracy: 0.9262 - val_loss: 0.0936 - val_accuracy: 0.9032\n",
            "Epoch 6/30\n",
            "197/197 [==============================] - 4s 22ms/step - loss: 0.0195 - accuracy: 0.9418 - val_loss: 0.0870 - val_accuracy: 0.9092\n",
            "Epoch 7/30\n",
            "197/197 [==============================] - 4s 20ms/step - loss: 0.0160 - accuracy: 0.9524 - val_loss: 0.0841 - val_accuracy: 0.9132\n",
            "Epoch 8/30\n",
            "197/197 [==============================] - 5s 26ms/step - loss: 0.0130 - accuracy: 0.9621 - val_loss: 0.0861 - val_accuracy: 0.9108\n",
            "Epoch 9/30\n",
            "197/197 [==============================] - 4s 20ms/step - loss: 0.0107 - accuracy: 0.9696 - val_loss: 0.0808 - val_accuracy: 0.9168\n",
            "Epoch 10/30\n",
            "197/197 [==============================] - 4s 20ms/step - loss: 0.0084 - accuracy: 0.9781 - val_loss: 0.0818 - val_accuracy: 0.9167\n",
            "Epoch 11/30\n",
            "197/197 [==============================] - 4s 20ms/step - loss: 0.0068 - accuracy: 0.9821 - val_loss: 0.0838 - val_accuracy: 0.9158\n",
            "Epoch 12/30\n",
            "197/197 [==============================] - 4s 20ms/step - loss: 0.0056 - accuracy: 0.9857 - val_loss: 0.0829 - val_accuracy: 0.9177\n",
            "Epoch 13/30\n",
            "197/197 [==============================] - 4s 20ms/step - loss: 0.0044 - accuracy: 0.9906 - val_loss: 0.0834 - val_accuracy: 0.9181\n",
            "Epoch 14/30\n",
            "197/197 [==============================] - 4s 21ms/step - loss: 0.0037 - accuracy: 0.9921 - val_loss: 0.0874 - val_accuracy: 0.9174\n",
            "Epoch 15/30\n",
            "197/197 [==============================] - 4s 19ms/step - loss: 0.0032 - accuracy: 0.9933 - val_loss: 0.0864 - val_accuracy: 0.9169\n",
            "Epoch 16/30\n",
            "197/197 [==============================] - 5s 23ms/step - loss: 0.0025 - accuracy: 0.9955 - val_loss: 0.0887 - val_accuracy: 0.9175\n",
            "Epoch 17/30\n",
            "197/197 [==============================] - 4s 20ms/step - loss: 0.0022 - accuracy: 0.9961 - val_loss: 0.0905 - val_accuracy: 0.9179\n",
            "Epoch 18/30\n",
            "197/197 [==============================] - 4s 20ms/step - loss: 0.0018 - accuracy: 0.9975 - val_loss: 0.0927 - val_accuracy: 0.9176\n",
            "Epoch 19/30\n",
            "197/197 [==============================] - 4s 20ms/step - loss: 0.0016 - accuracy: 0.9977 - val_loss: 0.0925 - val_accuracy: 0.9178\n",
            "Epoch 20/30\n",
            "197/197 [==============================] - 4s 19ms/step - loss: 0.0014 - accuracy: 0.9979 - val_loss: 0.0927 - val_accuracy: 0.9176\n",
            "Epoch 21/30\n",
            "197/197 [==============================] - 5s 25ms/step - loss: 0.0013 - accuracy: 0.9979 - val_loss: 0.0947 - val_accuracy: 0.9184\n",
            "Epoch 22/30\n",
            "197/197 [==============================] - 6s 32ms/step - loss: 0.0013 - accuracy: 0.9977 - val_loss: 0.0950 - val_accuracy: 0.9185\n",
            "Epoch 23/30\n",
            "197/197 [==============================] - 6s 31ms/step - loss: 0.0012 - accuracy: 0.9978 - val_loss: 0.0969 - val_accuracy: 0.9162\n",
            "Epoch 24/30\n",
            "197/197 [==============================] - 6s 29ms/step - loss: 0.0010 - accuracy: 0.9985 - val_loss: 0.0972 - val_accuracy: 0.9183\n",
            "Epoch 25/30\n",
            "197/197 [==============================] - 4s 20ms/step - loss: 9.6039e-04 - accuracy: 0.9985 - val_loss: 0.0983 - val_accuracy: 0.9191\n",
            "Epoch 26/30\n",
            "197/197 [==============================] - 5s 25ms/step - loss: 8.1872e-04 - accuracy: 0.9989 - val_loss: 0.0982 - val_accuracy: 0.9188\n",
            "Epoch 27/30\n",
            "197/197 [==============================] - 7s 36ms/step - loss: 7.6087e-04 - accuracy: 0.9988 - val_loss: 0.1008 - val_accuracy: 0.9192\n",
            "Epoch 28/30\n",
            "197/197 [==============================] - 5s 25ms/step - loss: 8.9312e-04 - accuracy: 0.9985 - val_loss: 0.1059 - val_accuracy: 0.9159\n",
            "Epoch 29/30\n",
            "197/197 [==============================] - 6s 28ms/step - loss: 9.2817e-04 - accuracy: 0.9981 - val_loss: 0.1041 - val_accuracy: 0.9179\n",
            "Epoch 30/30\n",
            "197/197 [==============================] - 5s 27ms/step - loss: 7.6038e-04 - accuracy: 0.9986 - val_loss: 0.1042 - val_accuracy: 0.9173\n"
          ]
        }
      ]
    },
    {
      "cell_type": "code",
      "source": [
        "final_models[\"units_bigger-dropout_layer\"].save_weights('./units_bigger-dropout_layer.h5')"
      ],
      "metadata": {
        "id": "sM8IjjunfRrd"
      },
      "execution_count": null,
      "outputs": []
    },
    {
      "cell_type": "code",
      "source": [
        "final_models_f1_scores[\"units_bigger-dropout_layer\"] = compute_f1(final_models[\"units_bigger-dropout_layer\"],x_st[\"val\"],y_cat[\"val\"],punctuation_enc)\n",
        "final_models_f1_scores[\"units_bigger-dropout_layer\"]"
      ],
      "metadata": {
        "colab": {
          "base_uri": "https://localhost:8080/"
        },
        "id": "89M3YeQ-fRrd",
        "outputId": "6d2ff69e-5434-4e93-c169-799c73188745"
      },
      "execution_count": null,
      "outputs": [
        {
          "output_type": "stream",
          "name": "stdout",
          "text": [
            "41/41 [==============================] - 3s 8ms/step\n"
          ]
        },
        {
          "output_type": "execute_result",
          "data": {
            "text/plain": [
              "0.7784102167702677"
            ]
          },
          "metadata": {},
          "execution_count": 83
        }
      ]
    },
    {
      "cell_type": "markdown",
      "source": [
        "### Final model with more LSTM hidden units and dropout on LSTM"
      ],
      "metadata": {
        "id": "nhmqyuEAhOzv"
      }
    },
    {
      "cell_type": "code",
      "source": [
        "final_models['units_bigger-dropout_LSTM'] = build_final_model(num_pos = number_pos, \n",
        "                                embedding_matrix = embedding_matrix_bigger, \n",
        "                                name = \"units_bigger-dropout_LSTM\",\n",
        "                                units = units_bigger,\n",
        "                                dropout_layer = False,\n",
        "                                dropout_LSTM = True,\n",
        "                                dropout_percentage = dropout_percentage) "
      ],
      "metadata": {
        "id": "_cX6TMUthOzw"
      },
      "execution_count": null,
      "outputs": []
    },
    {
      "cell_type": "code",
      "source": [
        "final_models['units_bigger-dropout_LSTM'].summary()"
      ],
      "metadata": {
        "colab": {
          "base_uri": "https://localhost:8080/"
        },
        "outputId": "025b45cf-9a15-4e3b-e78a-3acf57e15b40",
        "id": "uFB-npJKhOzw"
      },
      "execution_count": null,
      "outputs": [
        {
          "output_type": "stream",
          "name": "stdout",
          "text": [
            "Model: \"units_bigger-dropout_LSTM\"\n",
            "_________________________________________________________________\n",
            " Layer (type)                Output Shape              Param #   \n",
            "=================================================================\n",
            " input_9 (InputLayer)        [(None, None)]            0         \n",
            "                                                                 \n",
            " embedding_8 (Embedding)     (None, None, 300)         120171300 \n",
            "                                                                 \n",
            " bidirectional_8 (Bidirectio  (None, None, 400)        801600    \n",
            " nal)                                                            \n",
            "                                                                 \n",
            " dense_9 (Dense)             (None, None, 46)          18446     \n",
            "                                                                 \n",
            "=================================================================\n",
            "Total params: 120,991,346\n",
            "Trainable params: 820,046\n",
            "Non-trainable params: 120,171,300\n",
            "_________________________________________________________________\n"
          ]
        }
      ]
    },
    {
      "cell_type": "code",
      "source": [
        "final_models['units_bigger-dropout_LSTM'].compile(optimizer ='adam', \n",
        "                           loss = 'categorical_crossentropy', \n",
        "                           metrics = ['accuracy'])\n",
        "\n",
        "final_models_history['units_bigger-dropout_LSTM'] = final_models['units_bigger-dropout_LSTM'].fit(x=x_st[\"train\"], \n",
        "                   y=y_cat[\"train\"], \n",
        "                   batch_size=batch_size, \n",
        "                   epochs=epochs, \n",
        "                   validation_data=(x_st[\"val\"], y_cat[\"val\"]))"
      ],
      "metadata": {
        "colab": {
          "base_uri": "https://localhost:8080/"
        },
        "outputId": "fe8d3b6e-3ccf-4faa-ab83-b80d4651efdc",
        "id": "BxcgnKUVhOzx"
      },
      "execution_count": null,
      "outputs": [
        {
          "output_type": "stream",
          "name": "stdout",
          "text": [
            "Epoch 1/30\n",
            "197/197 [==============================] - 19s 50ms/step - loss: 0.1188 - accuracy: 0.6821 - val_loss: 0.1754 - val_accuracy: 0.8342\n",
            "Epoch 2/30\n",
            "197/197 [==============================] - 4s 21ms/step - loss: 0.0460 - accuracy: 0.8641 - val_loss: 0.1309 - val_accuracy: 0.8700\n",
            "Epoch 3/30\n",
            "197/197 [==============================] - 5s 26ms/step - loss: 0.0348 - accuracy: 0.8942 - val_loss: 0.1126 - val_accuracy: 0.8869\n",
            "Epoch 4/30\n",
            "197/197 [==============================] - 6s 29ms/step - loss: 0.0281 - accuracy: 0.9150 - val_loss: 0.1030 - val_accuracy: 0.8931\n",
            "Epoch 5/30\n",
            "197/197 [==============================] - 4s 20ms/step - loss: 0.0231 - accuracy: 0.9286 - val_loss: 0.0948 - val_accuracy: 0.9025\n",
            "Epoch 6/30\n",
            "197/197 [==============================] - 4s 20ms/step - loss: 0.0187 - accuracy: 0.9438 - val_loss: 0.0878 - val_accuracy: 0.9083\n",
            "Epoch 7/30\n",
            "197/197 [==============================] - 4s 20ms/step - loss: 0.0154 - accuracy: 0.9544 - val_loss: 0.0856 - val_accuracy: 0.9113\n",
            "Epoch 8/30\n",
            "197/197 [==============================] - 4s 20ms/step - loss: 0.0122 - accuracy: 0.9647 - val_loss: 0.0879 - val_accuracy: 0.9094\n",
            "Epoch 9/30\n",
            "197/197 [==============================] - 4s 21ms/step - loss: 0.0100 - accuracy: 0.9720 - val_loss: 0.0834 - val_accuracy: 0.9146\n",
            "Epoch 10/30\n",
            "197/197 [==============================] - 5s 24ms/step - loss: 0.0078 - accuracy: 0.9797 - val_loss: 0.0835 - val_accuracy: 0.9158\n",
            "Epoch 11/30\n",
            "197/197 [==============================] - 4s 20ms/step - loss: 0.0062 - accuracy: 0.9847 - val_loss: 0.0843 - val_accuracy: 0.9166\n",
            "Epoch 12/30\n",
            "197/197 [==============================] - 4s 20ms/step - loss: 0.0049 - accuracy: 0.9894 - val_loss: 0.0859 - val_accuracy: 0.9155\n",
            "Epoch 13/30\n",
            "197/197 [==============================] - 4s 20ms/step - loss: 0.0037 - accuracy: 0.9927 - val_loss: 0.0870 - val_accuracy: 0.9178\n",
            "Epoch 14/30\n",
            "197/197 [==============================] - 4s 22ms/step - loss: 0.0033 - accuracy: 0.9938 - val_loss: 0.0874 - val_accuracy: 0.9175\n",
            "Epoch 15/30\n",
            "197/197 [==============================] - 6s 32ms/step - loss: 0.0026 - accuracy: 0.9954 - val_loss: 0.0883 - val_accuracy: 0.9176\n",
            "Epoch 16/30\n",
            "197/197 [==============================] - 5s 24ms/step - loss: 0.0021 - accuracy: 0.9970 - val_loss: 0.0903 - val_accuracy: 0.9171\n",
            "Epoch 17/30\n",
            "197/197 [==============================] - 5s 28ms/step - loss: 0.0018 - accuracy: 0.9976 - val_loss: 0.0913 - val_accuracy: 0.9188\n",
            "Epoch 18/30\n",
            "197/197 [==============================] - 5s 26ms/step - loss: 0.0015 - accuracy: 0.9981 - val_loss: 0.0932 - val_accuracy: 0.9176\n",
            "Epoch 19/30\n",
            "197/197 [==============================] - 5s 27ms/step - loss: 0.0013 - accuracy: 0.9983 - val_loss: 0.0960 - val_accuracy: 0.9171\n",
            "Epoch 20/30\n",
            "197/197 [==============================] - 6s 29ms/step - loss: 0.0013 - accuracy: 0.9982 - val_loss: 0.0963 - val_accuracy: 0.9181\n",
            "Epoch 21/30\n",
            "197/197 [==============================] - 5s 23ms/step - loss: 0.0011 - accuracy: 0.9985 - val_loss: 0.0958 - val_accuracy: 0.9188\n",
            "Epoch 22/30\n",
            "197/197 [==============================] - 4s 20ms/step - loss: 0.0011 - accuracy: 0.9984 - val_loss: 0.0985 - val_accuracy: 0.9174\n",
            "Epoch 23/30\n",
            "197/197 [==============================] - 4s 20ms/step - loss: 0.0011 - accuracy: 0.9981 - val_loss: 0.0990 - val_accuracy: 0.9176\n",
            "Epoch 24/30\n",
            "197/197 [==============================] - 4s 20ms/step - loss: 8.0478e-04 - accuracy: 0.9990 - val_loss: 0.1010 - val_accuracy: 0.9186\n",
            "Epoch 25/30\n",
            "197/197 [==============================] - 5s 24ms/step - loss: 7.4962e-04 - accuracy: 0.9991 - val_loss: 0.1026 - val_accuracy: 0.9188\n",
            "Epoch 26/30\n",
            "197/197 [==============================] - 6s 29ms/step - loss: 7.1310e-04 - accuracy: 0.9989 - val_loss: 0.1043 - val_accuracy: 0.9173\n",
            "Epoch 27/30\n",
            "197/197 [==============================] - 6s 28ms/step - loss: 7.2886e-04 - accuracy: 0.9988 - val_loss: 0.1053 - val_accuracy: 0.9180\n",
            "Epoch 28/30\n",
            "197/197 [==============================] - 6s 32ms/step - loss: 8.4991e-04 - accuracy: 0.9985 - val_loss: 0.1054 - val_accuracy: 0.9176\n",
            "Epoch 29/30\n",
            "197/197 [==============================] - 4s 19ms/step - loss: 8.2081e-04 - accuracy: 0.9983 - val_loss: 0.1086 - val_accuracy: 0.9154\n",
            "Epoch 30/30\n",
            "197/197 [==============================] - 4s 22ms/step - loss: 7.4156e-04 - accuracy: 0.9984 - val_loss: 0.1048 - val_accuracy: 0.9183\n"
          ]
        }
      ]
    },
    {
      "cell_type": "code",
      "source": [
        "final_models[\"units_bigger-dropout_LSTM\"].save_weights('./units_bigger-dropout_LSTM.h5')"
      ],
      "metadata": {
        "id": "hEjy8-iohOzx"
      },
      "execution_count": null,
      "outputs": []
    },
    {
      "cell_type": "code",
      "source": [
        "final_models_f1_scores[\"units_bigger-dropout_LSTM\"] = compute_f1(final_models[\"units_bigger-dropout_LSTM\"],x_st[\"val\"],y_cat[\"val\"],punctuation_enc)\n",
        "final_models_f1_scores[\"units_bigger-dropout_LSTM\"]"
      ],
      "metadata": {
        "colab": {
          "base_uri": "https://localhost:8080/"
        },
        "id": "jesaInWlhOzy",
        "outputId": "19f4135c-1993-4e4e-de4f-9f9b64f258b2"
      },
      "execution_count": null,
      "outputs": [
        {
          "output_type": "stream",
          "name": "stdout",
          "text": [
            "41/41 [==============================] - 3s 8ms/step\n"
          ]
        },
        {
          "output_type": "execute_result",
          "data": {
            "text/plain": [
              "0.7938554666976743"
            ]
          },
          "metadata": {},
          "execution_count": 88
        }
      ]
    },
    {
      "cell_type": "markdown",
      "source": [
        "### Final model with only bigger embedding size"
      ],
      "metadata": {
        "id": "1LOJJ7FSjn2C"
      }
    },
    {
      "cell_type": "markdown",
      "source": [
        "Since all the models have similar f1-scores,it might be that the improvement is only due to the increase in embedding size. So, we want to check the performances of the baseline model with embedding size=300"
      ],
      "metadata": {
        "id": "NCm0jE_GbTWz"
      }
    },
    {
      "cell_type": "code",
      "source": [
        "final_models['bigger_embedding_size'] = build_final_model(num_pos = number_pos, \n",
        "                                embedding_matrix = embedding_matrix_bigger, \n",
        "                                name = \"bigger_embedding_size\",\n",
        "                                units = units,\n",
        "                                dropout_layer = False,\n",
        "                                dropout_LSTM = False) "
      ],
      "metadata": {
        "id": "xfqTZCTajn2D"
      },
      "execution_count": null,
      "outputs": []
    },
    {
      "cell_type": "code",
      "source": [
        "final_models['bigger_embedding_size'].summary()"
      ],
      "metadata": {
        "colab": {
          "base_uri": "https://localhost:8080/"
        },
        "outputId": "2fdbe529-321a-43b3-c2a8-aefbb7e672a4",
        "id": "biZToKa9jn2E"
      },
      "execution_count": null,
      "outputs": [
        {
          "output_type": "stream",
          "name": "stdout",
          "text": [
            "Model: \"bigger_embedding_size\"\n",
            "_________________________________________________________________\n",
            " Layer (type)                Output Shape              Param #   \n",
            "=================================================================\n",
            " input_10 (InputLayer)       [(None, None)]            0         \n",
            "                                                                 \n",
            " embedding_9 (Embedding)     (None, None, 300)         120171300 \n",
            "                                                                 \n",
            " bidirectional_9 (Bidirectio  (None, None, 200)        320800    \n",
            " nal)                                                            \n",
            "                                                                 \n",
            " dense_10 (Dense)            (None, None, 46)          9246      \n",
            "                                                                 \n",
            "=================================================================\n",
            "Total params: 120,501,346\n",
            "Trainable params: 330,046\n",
            "Non-trainable params: 120,171,300\n",
            "_________________________________________________________________\n"
          ]
        }
      ]
    },
    {
      "cell_type": "code",
      "source": [
        "final_models['bigger_embedding_size'].compile(optimizer ='adam', \n",
        "                           loss = 'categorical_crossentropy', \n",
        "                           metrics = ['accuracy'])\n",
        "\n",
        "final_models_history['bigger_embedding_size'] = final_models['bigger_embedding_size'].fit(x=x_st[\"train\"], \n",
        "                   y=y_cat[\"train\"], \n",
        "                   batch_size=batch_size, \n",
        "                   epochs=epochs, \n",
        "                   validation_data=(x_st[\"val\"], y_cat[\"val\"]))"
      ],
      "metadata": {
        "colab": {
          "base_uri": "https://localhost:8080/"
        },
        "outputId": "2b574683-4089-4ea9-c02f-97e5c7f2ed0c",
        "id": "dHPjiTTmjn2F"
      },
      "execution_count": null,
      "outputs": [
        {
          "output_type": "stream",
          "name": "stdout",
          "text": [
            "Epoch 1/30\n",
            "197/197 [==============================] - 14s 34ms/step - loss: 0.1389 - accuracy: 0.6387 - val_loss: 0.2147 - val_accuracy: 0.8047\n",
            "Epoch 2/30\n",
            "197/197 [==============================] - 4s 20ms/step - loss: 0.0518 - accuracy: 0.8566 - val_loss: 0.1479 - val_accuracy: 0.8607\n",
            "Epoch 3/30\n",
            "197/197 [==============================] - 4s 21ms/step - loss: 0.0366 - accuracy: 0.8960 - val_loss: 0.1249 - val_accuracy: 0.8810\n",
            "Epoch 4/30\n",
            "197/197 [==============================] - 4s 20ms/step - loss: 0.0288 - accuracy: 0.9190 - val_loss: 0.1093 - val_accuracy: 0.8927\n",
            "Epoch 5/30\n",
            "197/197 [==============================] - 4s 20ms/step - loss: 0.0233 - accuracy: 0.9330 - val_loss: 0.1004 - val_accuracy: 0.8997\n",
            "Epoch 6/30\n",
            "197/197 [==============================] - 4s 20ms/step - loss: 0.0190 - accuracy: 0.9478 - val_loss: 0.0935 - val_accuracy: 0.9049\n",
            "Epoch 7/30\n",
            "197/197 [==============================] - 4s 20ms/step - loss: 0.0155 - accuracy: 0.9591 - val_loss: 0.0899 - val_accuracy: 0.9087\n",
            "Epoch 8/30\n",
            "197/197 [==============================] - 4s 21ms/step - loss: 0.0125 - accuracy: 0.9683 - val_loss: 0.0896 - val_accuracy: 0.9106\n",
            "Epoch 9/30\n",
            "197/197 [==============================] - 4s 21ms/step - loss: 0.0101 - accuracy: 0.9761 - val_loss: 0.0857 - val_accuracy: 0.9138\n",
            "Epoch 10/30\n",
            "197/197 [==============================] - 4s 21ms/step - loss: 0.0080 - accuracy: 0.9831 - val_loss: 0.0859 - val_accuracy: 0.9144\n",
            "Epoch 11/30\n",
            "197/197 [==============================] - 4s 22ms/step - loss: 0.0063 - accuracy: 0.9883 - val_loss: 0.0861 - val_accuracy: 0.9150\n",
            "Epoch 12/30\n",
            "197/197 [==============================] - 5s 24ms/step - loss: 0.0048 - accuracy: 0.9923 - val_loss: 0.0866 - val_accuracy: 0.9150\n",
            "Epoch 13/30\n",
            "197/197 [==============================] - 4s 21ms/step - loss: 0.0038 - accuracy: 0.9950 - val_loss: 0.0885 - val_accuracy: 0.9149\n",
            "Epoch 14/30\n",
            "197/197 [==============================] - 4s 21ms/step - loss: 0.0029 - accuracy: 0.9968 - val_loss: 0.0889 - val_accuracy: 0.9148\n",
            "Epoch 15/30\n",
            "197/197 [==============================] - 4s 21ms/step - loss: 0.0023 - accuracy: 0.9981 - val_loss: 0.0907 - val_accuracy: 0.9136\n",
            "Epoch 16/30\n",
            "197/197 [==============================] - 4s 21ms/step - loss: 0.0018 - accuracy: 0.9990 - val_loss: 0.0921 - val_accuracy: 0.9131\n",
            "Epoch 17/30\n",
            "197/197 [==============================] - 4s 20ms/step - loss: 0.0014 - accuracy: 0.9992 - val_loss: 0.0946 - val_accuracy: 0.9140\n",
            "Epoch 18/30\n",
            "197/197 [==============================] - 4s 20ms/step - loss: 0.0012 - accuracy: 0.9996 - val_loss: 0.0959 - val_accuracy: 0.9138\n",
            "Epoch 19/30\n",
            "197/197 [==============================] - 4s 20ms/step - loss: 9.1487e-04 - accuracy: 0.9999 - val_loss: 0.0984 - val_accuracy: 0.9128\n",
            "Epoch 20/30\n",
            "197/197 [==============================] - 4s 21ms/step - loss: 7.5152e-04 - accuracy: 0.9999 - val_loss: 0.0994 - val_accuracy: 0.9135\n",
            "Epoch 21/30\n",
            "197/197 [==============================] - 4s 21ms/step - loss: 6.2428e-04 - accuracy: 0.9999 - val_loss: 0.1009 - val_accuracy: 0.9134\n",
            "Epoch 22/30\n",
            "197/197 [==============================] - 4s 21ms/step - loss: 5.2221e-04 - accuracy: 0.9999 - val_loss: 0.1022 - val_accuracy: 0.9134\n",
            "Epoch 23/30\n",
            "197/197 [==============================] - 4s 21ms/step - loss: 4.2765e-04 - accuracy: 1.0000 - val_loss: 0.1046 - val_accuracy: 0.9133\n",
            "Epoch 24/30\n",
            "197/197 [==============================] - 4s 20ms/step - loss: 3.6073e-04 - accuracy: 1.0000 - val_loss: 0.1055 - val_accuracy: 0.9133\n",
            "Epoch 25/30\n",
            "197/197 [==============================] - 4s 20ms/step - loss: 3.5278e-04 - accuracy: 0.9999 - val_loss: 0.1089 - val_accuracy: 0.9098\n",
            "Epoch 26/30\n",
            "197/197 [==============================] - 4s 20ms/step - loss: 3.5934e-04 - accuracy: 0.9999 - val_loss: 0.1081 - val_accuracy: 0.9128\n",
            "Epoch 27/30\n",
            "197/197 [==============================] - 4s 21ms/step - loss: 2.5690e-04 - accuracy: 1.0000 - val_loss: 0.1097 - val_accuracy: 0.9129\n",
            "Epoch 28/30\n",
            "197/197 [==============================] - 4s 21ms/step - loss: 2.0185e-04 - accuracy: 1.0000 - val_loss: 0.1117 - val_accuracy: 0.9127\n",
            "Epoch 29/30\n",
            "197/197 [==============================] - 4s 21ms/step - loss: 1.7228e-04 - accuracy: 1.0000 - val_loss: 0.1131 - val_accuracy: 0.9123\n",
            "Epoch 30/30\n",
            "197/197 [==============================] - 4s 21ms/step - loss: 1.4917e-04 - accuracy: 1.0000 - val_loss: 0.1143 - val_accuracy: 0.9126\n"
          ]
        }
      ]
    },
    {
      "cell_type": "code",
      "source": [
        "final_models[\"bigger_embedding_size\"].save_weights('./bigger_embedding_size.h5')"
      ],
      "metadata": {
        "id": "tq6vJ58gjn2G"
      },
      "execution_count": null,
      "outputs": []
    },
    {
      "cell_type": "code",
      "source": [
        "final_models_f1_scores[\"bigger_embedding_size\"] = compute_f1(final_models[\"bigger_embedding_size\"],x_st[\"val\"],y_cat[\"val\"],punctuation_enc)\n",
        "final_models_f1_scores[\"bigger_embedding_size\"]"
      ],
      "metadata": {
        "colab": {
          "base_uri": "https://localhost:8080/"
        },
        "outputId": "0c3834ee-7737-4f66-ad9a-cec84d3ef17a",
        "id": "_62C4gqvjn2G"
      },
      "execution_count": null,
      "outputs": [
        {
          "output_type": "stream",
          "name": "stdout",
          "text": [
            "41/41 [==============================] - 3s 8ms/step\n"
          ]
        },
        {
          "output_type": "execute_result",
          "data": {
            "text/plain": [
              "0.7761067233879755"
            ]
          },
          "metadata": {},
          "execution_count": 93
        }
      ]
    },
    {
      "cell_type": "markdown",
      "source": [
        "### Compute f1-scores for the new models"
      ],
      "metadata": {
        "id": "bO6eDit0cjoh"
      }
    },
    {
      "cell_type": "code",
      "source": [
        "final_models_f1_scores = {k: v for k, v in sorted(final_models_f1_scores.items(), key=lambda item: item[1], reverse=True)}  #sort dictionary by f1-score values\n",
        "for model, score in final_models_f1_scores.items():\n",
        "  print(f\"Model {model} f1-score on validation set: {score:.5f}\")"
      ],
      "metadata": {
        "colab": {
          "base_uri": "https://localhost:8080/"
        },
        "id": "nHOKvLgDcnmz",
        "outputId": "3624c4d1-ab3e-4aed-e8fb-a596d084dfdc"
      },
      "execution_count": null,
      "outputs": [
        {
          "output_type": "stream",
          "name": "stdout",
          "text": [
            "Model units_bigger-dropout_layer-dropout_LSTM f1-score on validation set: 0.82023\n",
            "Model dropout_layer-dropout_LSTM f1-score on validation set: 0.80468\n",
            "Model units_bigger-dropout_LSTM f1-score on validation set: 0.79386\n",
            "Model units_bigger-dropout_layer f1-score on validation set: 0.77841\n",
            "Model bigger_embedding_size f1-score on validation set: 0.77611\n"
          ]
        }
      ]
    },
    {
      "cell_type": "code",
      "source": [
        "best_two_models = [final_models[list(final_models_f1_scores.keys())[0]], final_models[list(final_models_f1_scores.keys())[1]]]"
      ],
      "metadata": {
        "id": "q67DHhxXdUVy"
      },
      "execution_count": null,
      "outputs": []
    },
    {
      "cell_type": "markdown",
      "source": [
        "According to f1-scores computed on the validation set, the best model is the "
      ],
      "metadata": {
        "id": "a_3FdzPxc4hU"
      }
    },
    {
      "cell_type": "markdown",
      "source": [
        "### Check final models' histories"
      ],
      "metadata": {
        "id": "bA-PMiaqkYhL"
      }
    },
    {
      "cell_type": "markdown",
      "source": [
        "Similarly to what we did for the starting models, we want to check the history of the new ones to see if we have been able to actually improve them."
      ],
      "metadata": {
        "id": "deoR_9wfcCIl"
      }
    },
    {
      "cell_type": "code",
      "source": [
        "plot_history(final_models_history)"
      ],
      "metadata": {
        "colab": {
          "base_uri": "https://localhost:8080/",
          "height": 1000
        },
        "id": "OYIW1TpWkdIo",
        "outputId": "dd57f184-f660-4e7f-90b8-9958ffd9e80e"
      },
      "execution_count": null,
      "outputs": [
        {
          "output_type": "display_data",
          "data": {
            "text/plain": [
              "<Figure size 1440x1152 with 10 Axes>"
            ],
            "image/png": "[encoded data removed]"
          },
          "metadata": {
            "needs_background": "light"
          }
        }
      ]
    },
    {
      "cell_type": "markdown",
      "source": [
        "# Final evaluation on test set"
      ],
      "metadata": {
        "id": "127lQqFIcDIF"
      }
    },
    {
      "cell_type": "code",
      "source": [
        "f1_scores_test = {}"
      ],
      "metadata": {
        "id": "aX2G4moTQXBd"
      },
      "execution_count": null,
      "outputs": []
    },
    {
      "cell_type": "code",
      "source": [
        "for model in best_two_models:\n",
        "  f1_scores_test[model.name] = compute_f1(model,x_st[\"test\"],y_cat[\"test\"],punctuation_enc)\n",
        "for key, value in f1_scores_test.items():\n",
        "  print(f\"{key} model has f1-score on the test set equal to {value:.5}\")"
      ],
      "metadata": {
        "colab": {
          "base_uri": "https://localhost:8080/"
        },
        "id": "528p21iwQPL6",
        "outputId": "7e409023-e433-414c-8414-c50b8c7b028c"
      },
      "execution_count": null,
      "outputs": [
        {
          "output_type": "stream",
          "name": "stdout",
          "text": [
            "21/21 [==============================] - 0s 8ms/step\n",
            "21/21 [==============================] - 0s 7ms/step\n",
            "units_bigger-dropout_layer-dropout_LSTM model has f1-score on the test set equal to 0.84279\n",
            "dropout_layer-dropout_LSTM model has f1-score on the test set equal to 0.84699\n"
          ]
        }
      ]
    }
  ],
  "metadata": {
    "accelerator": "GPU",
    "colab": {
      "collapsed_sections": [
        "MQ0PSVGsWZBW",
        "sI97CALV0C34",
        "Vf1URJEz-ADo",
        "_0Xhe6fjWvqv",
        "qZUuz-bW_BO3",
        "mzQ6qRPF_86z",
        "b5RNdNYYHYwQ",
        "EElOhl9F-x9-",
        "mAv5AHB_REM5",
        "2HIZO1d8SPFq",
        "dzdywqEviQla",
        "i7frWEJB-OS7",
        "RTAMzroP_YH0",
        "ZdF3KP3rB7ee",
        "it4lzbh7Yv-z",
        "Qrrm53qAY0lY",
        "lTV8gJPwYWBc",
        "RsT_nmVpeG4g",
        "FG04_USsfRrb",
        "nhmqyuEAhOzv",
        "1LOJJ7FSjn2C",
        "bO6eDit0cjoh"
      ],
      "provenance": []
    },
    "gpuClass": "standard",
    "kernelspec": {
      "display_name": "Python 3",
      "name": "python3"
    },
    "language_info": {
      "name": "python"
    }
  },
  "nbformat": 4,
  "nbformat_minor": 0
}