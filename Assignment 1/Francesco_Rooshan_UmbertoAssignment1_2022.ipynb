{
  "cells": [
    {
      "cell_type": "code",
      "execution_count": 1,
      "metadata": {
        "id": "iE-OJaA7wap3"
      },
      "outputs": [],
      "source": [
        "#General imports\n",
        "import copy\n",
        "import gensim\n",
        "import gensim.downloader as gloader\n",
        "import matplotlib.pyplot as plt\n",
        "import numpy as np  \n",
        "import os  \n",
        "import pandas as pd  \n",
        "import random\n",
        "import re\n",
        "import seaborn as sb\n",
        "import sys \n",
        "from tqdm import tqdm\n",
        "from typing import Iterable, List, Dict, Tuple, Set\n",
        "import urllib.request  \n",
        "import zipfile  \n",
        "\n",
        "#sklearn and tensorflow imports\n",
        "from sklearn.metrics import f1_score, precision_score, recall_score, confusion_matrix, ConfusionMatrixDisplay\n",
        "from tensorflow.keras.layers import Bidirectional, Dense, Dropout, Embedding, GRU, Input, LSTM\n",
        "from tensorflow.keras.models import Model\n",
        "from tensorflow.keras.preprocessing.sequence import pad_sequences\n",
        "from tensorflow.keras.utils import to_categorical\n",
        "import tensorflow as tf"
      ]
    },
    {
      "cell_type": "code",
      "source": [
        "#fixed seeds to get reproducible results\n",
        "random.seed(42)\n",
        "np.random.seed(42)\n",
        "tf.random.set_seed(42)\n",
        "os.environ['TF_DETERMINISTIC_OPS'] = '1'"
      ],
      "metadata": {
        "id": "OwtabSzSZIBd"
      },
      "execution_count": 2,
      "outputs": []
    },
    {
      "cell_type": "markdown",
      "metadata": {
        "id": "jXlE3OHGzaYq"
      },
      "source": [
        "#Bulding the dataframe"
      ]
    },
    {
      "cell_type": "markdown",
      "metadata": {
        "id": "MQ0PSVGsWZBW"
      },
      "source": [
        "## Dataset download and extraction"
      ]
    },
    {
      "cell_type": "code",
      "execution_count": 3,
      "metadata": {
        "colab": {
          "base_uri": "https://localhost:8080/"
        },
        "id": "JIj22FhCyKoA",
        "outputId": "39de972f-9740-4afc-919b-a8f53c9c982d"
      },
      "outputs": [
        {
          "output_type": "stream",
          "name": "stdout",
          "text": [
            "Current working directory: /content\n",
            "Successful download\n",
            "Successful extraction\n"
          ]
        }
      ],
      "source": [
        "DATASET_NAME = \"dataset.zip\"\n",
        "DATASET_FOLDERNAME = \"Dataset\"\n",
        "DATASET_SUBFOLDER = \"dependency_treebank/\"\n",
        "SPLIT_DISTRIBUTION = [100, 150, 199]  #indeces to split in train, validation and test. \n",
        "\n",
        "working_folder = os.getcwd()\n",
        "\n",
        "print(\"Current working directory: \" + str(working_folder))\n",
        "\n",
        "dataset_folder = os.path.join(os.getcwd(), DATASET_FOLDERNAME)\n",
        "\n",
        "if not os.path.exists(dataset_folder):\n",
        "    os.makedirs(dataset_folder)\n",
        "\n",
        "url = 'https://raw.githubusercontent.com/nltk/nltk_data/gh-pages/packages/corpora/dependency_treebank.zip'\n",
        "\n",
        "dataset_path = os.path.join(dataset_folder, \"dataset.zip\")\n",
        "\n",
        "if not os.path.exists(dataset_path):\n",
        "    urllib.request.urlretrieve(url, dataset_path)\n",
        "    print(\"Successful download\")\n",
        "\n",
        "with zipfile.ZipFile(dataset_path, 'r') as zip_ref:\n",
        "    zip_ref.extractall(dataset_folder)\n",
        "    print(\"Successful extraction\")\n",
        "\n",
        "dataset_folder = os.path.join(dataset_folder, DATASET_SUBFOLDER)"
      ]
    },
    {
      "cell_type": "code",
      "execution_count": 4,
      "metadata": {
        "colab": {
          "base_uri": "https://localhost:8080/"
        },
        "id": "ekoJOGSg7CDd",
        "outputId": "9a836d19-799c-4feb-db96-a85955fe792d"
      },
      "outputs": [
        {
          "output_type": "stream",
          "name": "stdout",
          "text": [
            "/content/Dataset/dependency_treebank/\n"
          ]
        }
      ],
      "source": [
        "print(dataset_folder)"
      ]
    },
    {
      "cell_type": "markdown",
      "metadata": {
        "id": "sI97CALV0C34"
      },
      "source": [
        "## Dataframe construction"
      ]
    },
    {
      "cell_type": "code",
      "execution_count": 5,
      "metadata": {
        "id": "JpNObbHg0HqV"
      },
      "outputs": [],
      "source": [
        "def encode_dataset(dataset_folder: str, \n",
        "                   split_dist: list(), ) -> Dict[str,pd.DataFrame]:\n",
        "    \"\"\"\n",
        "    Encode the dataset into three dataframes, returned in a dict.\n",
        "\n",
        "    :param \n",
        "        - dataset_folder: folder of the extracted dataset\n",
        "        - split_dist: list of indeces to be used to split in train, validation and test\n",
        "\n",
        "    :return\n",
        "        - df_dict: dictionary of train, validation and test dataframes\n",
        "    \"\"\"\n",
        "    \n",
        "    #dictionary of dataframes to return\n",
        "    df_dict = {\"train\": pd.DataFrame(columns=['sentence', 'labels']),\n",
        "                \"val\": pd.DataFrame(columns=['sentence', 'labels']),\n",
        "                \"test\":pd.DataFrame(columns=['sentence', 'labels'])}\n",
        "    split = \"\"\n",
        "\n",
        "    for filename in sorted(os.listdir(dataset_folder)): #files are read following the order\n",
        "        file_path = os.path.join(dataset_folder, filename)\n",
        "        try:\n",
        "            if os.path.isfile(file_path):\n",
        "                with open(file_path, mode='r', encoding='utf-8') as text_file:\n",
        "                    # read it and extract \n",
        "                    document_number = filename.split(\"_\")[1].split(\".\")[0]\n",
        "\n",
        "                    if int(document_number) <= split_dist[0]:  #find the split the file belongs to\n",
        "                        split = \"train\"\n",
        "                    elif split_dist[0] < int(document_number) <= split_dist[1]:\n",
        "                        split = \"val\"\n",
        "                    else:\n",
        "                        split = \"test\"\n",
        "\n",
        "                    df_file = pd.read_table(\n",
        "                        file_path, \n",
        "                        delimiter='\\t', \n",
        "                        names=['word', 'label'], \n",
        "                        usecols=[0,1],\n",
        "                        skip_blank_lines=False)\n",
        "                    \n",
        "                    #splitting file content in sentences\n",
        "                    idx = list(df_file.loc[df_file.isnull()['word']].index) #sentences are divided by a blank line, interpreted as a null value. \n",
        "                    idx.append(len(df_file))\n",
        "                    prev = 0\n",
        "                    for sep in idx:    #to split in sentences, word are read from idx \"prev\" to \"sep\", which is why we add len(df_file) to the list of indeces\n",
        "                        df_sentence = pd.DataFrame({\n",
        "                            'sentence': [df_file['word'][prev:sep].to_list()],  #sentence column contains the list of words forming the sentence \n",
        "                            'labels': [df_file['label'][prev:sep].to_list()]})  #labels column contains the list of labels associated with the words forming the sentence \n",
        "                        df_dict[split] = pd.concat([df_dict[split], df_sentence], ignore_index=True)  #adding the row to the appropriate dataframe (according to the split)\n",
        "                        prev = sep + 1\n",
        "                    \n",
        "        except Exception as e:\n",
        "            print('Failed to process %s. Reason: %s' % (file_path, e))\n",
        "            sys.exit(0)\n",
        "\n",
        "    return df_dict"
      ]
    },
    {
      "cell_type": "code",
      "execution_count": 6,
      "metadata": {
        "id": "ocXNiUzD5bOv"
      },
      "outputs": [],
      "source": [
        "df_dict = encode_dataset(dataset_folder, SPLIT_DISTRIBUTION)"
      ]
    },
    {
      "cell_type": "code",
      "execution_count": 7,
      "metadata": {
        "colab": {
          "base_uri": "https://localhost:8080/",
          "height": 0
        },
        "id": "FW074bfD54DK",
        "outputId": "ab8dae24-a092-49b4-d125-e3bb6542712f"
      },
      "outputs": [
        {
          "output_type": "execute_result",
          "data": {
            "text/plain": [
              "                                            sentence  \\\n",
              "0  [Pierre, Vinken, ,, 61, years, old, ,, will, j...   \n",
              "1  [Mr., Vinken, is, chairman, of, Elsevier, N.V....   \n",
              "2  [Rudolph, Agnew, ,, 55, years, old, and, forme...   \n",
              "3  [A, form, of, asbestos, once, used, to, make, ...   \n",
              "4  [The, asbestos, fiber, ,, crocidolite, ,, is, ...   \n",
              "\n",
              "                                              labels  \n",
              "0  [NNP, NNP, ,, CD, NNS, JJ, ,, MD, VB, DT, NN, ...  \n",
              "1  [NNP, NNP, VBZ, NN, IN, NNP, NNP, ,, DT, NNP, ...  \n",
              "2  [NNP, NNP, ,, CD, NNS, JJ, CC, JJ, NN, IN, NNP...  \n",
              "3  [DT, NN, IN, NN, RB, VBN, TO, VB, NNP, NN, NNS...  \n",
              "4  [DT, NN, NN, ,, NN, ,, VBZ, RB, JJ, IN, PRP, V...  "
            ],
            "text/html": [
              "\n",
              "  <div id=\"df-f809f078-012f-44e3-b40b-cb40f4d1f2b7\">\n",
              "    <div class=\"colab-df-container\">\n",
              "      <div>\n",
              "<style scoped>\n",
              "    .dataframe tbody tr th:only-of-type {\n",
              "        vertical-align: middle;\n",
              "    }\n",
              "\n",
              "    .dataframe tbody tr th {\n",
              "        vertical-align: top;\n",
              "    }\n",
              "\n",
              "    .dataframe thead th {\n",
              "        text-align: right;\n",
              "    }\n",
              "</style>\n",
              "<table border=\"1\" class=\"dataframe\">\n",
              "  <thead>\n",
              "    <tr style=\"text-align: right;\">\n",
              "      <th></th>\n",
              "      <th>sentence</th>\n",
              "      <th>labels</th>\n",
              "    </tr>\n",
              "  </thead>\n",
              "  <tbody>\n",
              "    <tr>\n",
              "      <th>0</th>\n",
              "      <td>[Pierre, Vinken, ,, 61, years, old, ,, will, j...</td>\n",
              "      <td>[NNP, NNP, ,, CD, NNS, JJ, ,, MD, VB, DT, NN, ...</td>\n",
              "    </tr>\n",
              "    <tr>\n",
              "      <th>1</th>\n",
              "      <td>[Mr., Vinken, is, chairman, of, Elsevier, N.V....</td>\n",
              "      <td>[NNP, NNP, VBZ, NN, IN, NNP, NNP, ,, DT, NNP, ...</td>\n",
              "    </tr>\n",
              "    <tr>\n",
              "      <th>2</th>\n",
              "      <td>[Rudolph, Agnew, ,, 55, years, old, and, forme...</td>\n",
              "      <td>[NNP, NNP, ,, CD, NNS, JJ, CC, JJ, NN, IN, NNP...</td>\n",
              "    </tr>\n",
              "    <tr>\n",
              "      <th>3</th>\n",
              "      <td>[A, form, of, asbestos, once, used, to, make, ...</td>\n",
              "      <td>[DT, NN, IN, NN, RB, VBN, TO, VB, NNP, NN, NNS...</td>\n",
              "    </tr>\n",
              "    <tr>\n",
              "      <th>4</th>\n",
              "      <td>[The, asbestos, fiber, ,, crocidolite, ,, is, ...</td>\n",
              "      <td>[DT, NN, NN, ,, NN, ,, VBZ, RB, JJ, IN, PRP, V...</td>\n",
              "    </tr>\n",
              "  </tbody>\n",
              "</table>\n",
              "</div>\n",
              "      <button class=\"colab-df-convert\" onclick=\"convertToInteractive('df-f809f078-012f-44e3-b40b-cb40f4d1f2b7')\"\n",
              "              title=\"Convert this dataframe to an interactive table.\"\n",
              "              style=\"display:none;\">\n",
              "        \n",
              "  <svg xmlns=\"http://www.w3.org/2000/svg\" height=\"24px\"viewBox=\"0 0 24 24\"\n",
              "       width=\"24px\">\n",
              "    <path d=\"M0 0h24v24H0V0z\" fill=\"none\"/>\n",
              "    <path d=\"M18.56 5.44l.94 2.06.94-2.06 2.06-.94-2.06-.94-.94-2.06-.94 2.06-2.06.94zm-11 1L8.5 8.5l.94-2.06 2.06-.94-2.06-.94L8.5 2.5l-.94 2.06-2.06.94zm10 10l.94 2.06.94-2.06 2.06-.94-2.06-.94-.94-2.06-.94 2.06-2.06.94z\"/><path d=\"M17.41 7.96l-1.37-1.37c-.4-.4-.92-.59-1.43-.59-.52 0-1.04.2-1.43.59L10.3 9.45l-7.72 7.72c-.78.78-.78 2.05 0 2.83L4 21.41c.39.39.9.59 1.41.59.51 0 1.02-.2 1.41-.59l7.78-7.78 2.81-2.81c.8-.78.8-2.07 0-2.86zM5.41 20L4 18.59l7.72-7.72 1.47 1.35L5.41 20z\"/>\n",
              "  </svg>\n",
              "      </button>\n",
              "      \n",
              "  <style>\n",
              "    .colab-df-container {\n",
              "      display:flex;\n",
              "      flex-wrap:wrap;\n",
              "      gap: 12px;\n",
              "    }\n",
              "\n",
              "    .colab-df-convert {\n",
              "      background-color: #E8F0FE;\n",
              "      border: none;\n",
              "      border-radius: 50%;\n",
              "      cursor: pointer;\n",
              "      display: none;\n",
              "      fill: #1967D2;\n",
              "      height: 32px;\n",
              "      padding: 0 0 0 0;\n",
              "      width: 32px;\n",
              "    }\n",
              "\n",
              "    .colab-df-convert:hover {\n",
              "      background-color: #E2EBFA;\n",
              "      box-shadow: 0px 1px 2px rgba(60, 64, 67, 0.3), 0px 1px 3px 1px rgba(60, 64, 67, 0.15);\n",
              "      fill: #174EA6;\n",
              "    }\n",
              "\n",
              "    [theme=dark] .colab-df-convert {\n",
              "      background-color: #3B4455;\n",
              "      fill: #D2E3FC;\n",
              "    }\n",
              "\n",
              "    [theme=dark] .colab-df-convert:hover {\n",
              "      background-color: #434B5C;\n",
              "      box-shadow: 0px 1px 3px 1px rgba(0, 0, 0, 0.15);\n",
              "      filter: drop-shadow(0px 1px 2px rgba(0, 0, 0, 0.3));\n",
              "      fill: #FFFFFF;\n",
              "    }\n",
              "  </style>\n",
              "\n",
              "      <script>\n",
              "        const buttonEl =\n",
              "          document.querySelector('#df-f809f078-012f-44e3-b40b-cb40f4d1f2b7 button.colab-df-convert');\n",
              "        buttonEl.style.display =\n",
              "          google.colab.kernel.accessAllowed ? 'block' : 'none';\n",
              "\n",
              "        async function convertToInteractive(key) {\n",
              "          const element = document.querySelector('#df-f809f078-012f-44e3-b40b-cb40f4d1f2b7');\n",
              "          const dataTable =\n",
              "            await google.colab.kernel.invokeFunction('convertToInteractive',\n",
              "                                                     [key], {});\n",
              "          if (!dataTable) return;\n",
              "\n",
              "          const docLinkHtml = 'Like what you see? Visit the ' +\n",
              "            '<a target=\"_blank\" href=https://colab.research.google.com/notebooks/data_table.ipynb>data table notebook</a>'\n",
              "            + ' to learn more about interactive tables.';\n",
              "          element.innerHTML = '';\n",
              "          dataTable['output_type'] = 'display_data';\n",
              "          await google.colab.output.renderOutput(dataTable, element);\n",
              "          const docLink = document.createElement('div');\n",
              "          docLink.innerHTML = docLinkHtml;\n",
              "          element.appendChild(docLink);\n",
              "        }\n",
              "      </script>\n",
              "    </div>\n",
              "  </div>\n",
              "  "
            ]
          },
          "metadata": {},
          "execution_count": 7
        }
      ],
      "source": [
        "df_dict[\"train\"].head()"
      ]
    },
    {
      "cell_type": "code",
      "execution_count": 8,
      "metadata": {
        "colab": {
          "base_uri": "https://localhost:8080/",
          "height": 0
        },
        "id": "kinbChSf56cz",
        "outputId": "310a2e88-b98b-49b4-98de-9b4e2d78002c"
      },
      "outputs": [
        {
          "output_type": "execute_result",
          "data": {
            "text/plain": [
              "                                            sentence  \\\n",
              "0  [A, House-Senate, conference, approved, major,...   \n",
              "1  [For, the, Agency, for, International, Develop...   \n",
              "2  [The, conference, approved, at, least, $, 55, ...   \n",
              "3  [The, agreement, on, Poland, contrasts, with, ...   \n",
              "4  [These, fiscal, pressures, are, also, a, facto...   \n",
              "\n",
              "                                              labels  \n",
              "0  [DT, NNP, NN, VBD, JJ, NNS, IN, DT, NN, IN, JJ...  \n",
              "1  [IN, DT, NNP, IN, NNP, NNP, ,, NNS, VBD, $, CD...  \n",
              "2  [DT, NN, VBD, IN, JJS, $, CD, CD, IN, JJ, NN, ...  \n",
              "3  [DT, NN, IN, NNP, VBZ, IN, DT, JJ, NNS, VBG, I...  \n",
              "4  [DT, JJ, NNS, VBP, RB, DT, NN, IN, VBG, DT, NN...  "
            ],
            "text/html": [
              "\n",
              "  <div id=\"df-691807e4-9716-4d87-87e2-71d5d6b9ce4e\">\n",
              "    <div class=\"colab-df-container\">\n",
              "      <div>\n",
              "<style scoped>\n",
              "    .dataframe tbody tr th:only-of-type {\n",
              "        vertical-align: middle;\n",
              "    }\n",
              "\n",
              "    .dataframe tbody tr th {\n",
              "        vertical-align: top;\n",
              "    }\n",
              "\n",
              "    .dataframe thead th {\n",
              "        text-align: right;\n",
              "    }\n",
              "</style>\n",
              "<table border=\"1\" class=\"dataframe\">\n",
              "  <thead>\n",
              "    <tr style=\"text-align: right;\">\n",
              "      <th></th>\n",
              "      <th>sentence</th>\n",
              "      <th>labels</th>\n",
              "    </tr>\n",
              "  </thead>\n",
              "  <tbody>\n",
              "    <tr>\n",
              "      <th>0</th>\n",
              "      <td>[A, House-Senate, conference, approved, major,...</td>\n",
              "      <td>[DT, NNP, NN, VBD, JJ, NNS, IN, DT, NN, IN, JJ...</td>\n",
              "    </tr>\n",
              "    <tr>\n",
              "      <th>1</th>\n",
              "      <td>[For, the, Agency, for, International, Develop...</td>\n",
              "      <td>[IN, DT, NNP, IN, NNP, NNP, ,, NNS, VBD, $, CD...</td>\n",
              "    </tr>\n",
              "    <tr>\n",
              "      <th>2</th>\n",
              "      <td>[The, conference, approved, at, least, $, 55, ...</td>\n",
              "      <td>[DT, NN, VBD, IN, JJS, $, CD, CD, IN, JJ, NN, ...</td>\n",
              "    </tr>\n",
              "    <tr>\n",
              "      <th>3</th>\n",
              "      <td>[The, agreement, on, Poland, contrasts, with, ...</td>\n",
              "      <td>[DT, NN, IN, NNP, VBZ, IN, DT, JJ, NNS, VBG, I...</td>\n",
              "    </tr>\n",
              "    <tr>\n",
              "      <th>4</th>\n",
              "      <td>[These, fiscal, pressures, are, also, a, facto...</td>\n",
              "      <td>[DT, JJ, NNS, VBP, RB, DT, NN, IN, VBG, DT, NN...</td>\n",
              "    </tr>\n",
              "  </tbody>\n",
              "</table>\n",
              "</div>\n",
              "      <button class=\"colab-df-convert\" onclick=\"convertToInteractive('df-691807e4-9716-4d87-87e2-71d5d6b9ce4e')\"\n",
              "              title=\"Convert this dataframe to an interactive table.\"\n",
              "              style=\"display:none;\">\n",
              "        \n",
              "  <svg xmlns=\"http://www.w3.org/2000/svg\" height=\"24px\"viewBox=\"0 0 24 24\"\n",
              "       width=\"24px\">\n",
              "    <path d=\"M0 0h24v24H0V0z\" fill=\"none\"/>\n",
              "    <path d=\"M18.56 5.44l.94 2.06.94-2.06 2.06-.94-2.06-.94-.94-2.06-.94 2.06-2.06.94zm-11 1L8.5 8.5l.94-2.06 2.06-.94-2.06-.94L8.5 2.5l-.94 2.06-2.06.94zm10 10l.94 2.06.94-2.06 2.06-.94-2.06-.94-.94-2.06-.94 2.06-2.06.94z\"/><path d=\"M17.41 7.96l-1.37-1.37c-.4-.4-.92-.59-1.43-.59-.52 0-1.04.2-1.43.59L10.3 9.45l-7.72 7.72c-.78.78-.78 2.05 0 2.83L4 21.41c.39.39.9.59 1.41.59.51 0 1.02-.2 1.41-.59l7.78-7.78 2.81-2.81c.8-.78.8-2.07 0-2.86zM5.41 20L4 18.59l7.72-7.72 1.47 1.35L5.41 20z\"/>\n",
              "  </svg>\n",
              "      </button>\n",
              "      \n",
              "  <style>\n",
              "    .colab-df-container {\n",
              "      display:flex;\n",
              "      flex-wrap:wrap;\n",
              "      gap: 12px;\n",
              "    }\n",
              "\n",
              "    .colab-df-convert {\n",
              "      background-color: #E8F0FE;\n",
              "      border: none;\n",
              "      border-radius: 50%;\n",
              "      cursor: pointer;\n",
              "      display: none;\n",
              "      fill: #1967D2;\n",
              "      height: 32px;\n",
              "      padding: 0 0 0 0;\n",
              "      width: 32px;\n",
              "    }\n",
              "\n",
              "    .colab-df-convert:hover {\n",
              "      background-color: #E2EBFA;\n",
              "      box-shadow: 0px 1px 2px rgba(60, 64, 67, 0.3), 0px 1px 3px 1px rgba(60, 64, 67, 0.15);\n",
              "      fill: #174EA6;\n",
              "    }\n",
              "\n",
              "    [theme=dark] .colab-df-convert {\n",
              "      background-color: #3B4455;\n",
              "      fill: #D2E3FC;\n",
              "    }\n",
              "\n",
              "    [theme=dark] .colab-df-convert:hover {\n",
              "      background-color: #434B5C;\n",
              "      box-shadow: 0px 1px 3px 1px rgba(0, 0, 0, 0.15);\n",
              "      filter: drop-shadow(0px 1px 2px rgba(0, 0, 0, 0.3));\n",
              "      fill: #FFFFFF;\n",
              "    }\n",
              "  </style>\n",
              "\n",
              "      <script>\n",
              "        const buttonEl =\n",
              "          document.querySelector('#df-691807e4-9716-4d87-87e2-71d5d6b9ce4e button.colab-df-convert');\n",
              "        buttonEl.style.display =\n",
              "          google.colab.kernel.accessAllowed ? 'block' : 'none';\n",
              "\n",
              "        async function convertToInteractive(key) {\n",
              "          const element = document.querySelector('#df-691807e4-9716-4d87-87e2-71d5d6b9ce4e');\n",
              "          const dataTable =\n",
              "            await google.colab.kernel.invokeFunction('convertToInteractive',\n",
              "                                                     [key], {});\n",
              "          if (!dataTable) return;\n",
              "\n",
              "          const docLinkHtml = 'Like what you see? Visit the ' +\n",
              "            '<a target=\"_blank\" href=https://colab.research.google.com/notebooks/data_table.ipynb>data table notebook</a>'\n",
              "            + ' to learn more about interactive tables.';\n",
              "          element.innerHTML = '';\n",
              "          dataTable['output_type'] = 'display_data';\n",
              "          await google.colab.output.renderOutput(dataTable, element);\n",
              "          const docLink = document.createElement('div');\n",
              "          docLink.innerHTML = docLinkHtml;\n",
              "          element.appendChild(docLink);\n",
              "        }\n",
              "      </script>\n",
              "    </div>\n",
              "  </div>\n",
              "  "
            ]
          },
          "metadata": {},
          "execution_count": 8
        }
      ],
      "source": [
        "df_dict[\"val\"].head()"
      ]
    },
    {
      "cell_type": "code",
      "execution_count": 9,
      "metadata": {
        "colab": {
          "base_uri": "https://localhost:8080/",
          "height": 0
        },
        "id": "D7U5NfKo57x6",
        "outputId": "6031bb95-0ae9-4d0a-97cc-45ca19037f94"
      },
      "outputs": [
        {
          "output_type": "execute_result",
          "data": {
            "text/plain": [
              "                                            sentence  \\\n",
              "0  [Intelogic, Trace, Inc., ,, San, Antonio, ,, T...   \n",
              "1  [The, move, boosts, Intelogic, Chairman, Asher...   \n",
              "2  [Mr., Ackerman, already, is, seeking, to, oust...   \n",
              "3  [The, action, followed, by, one, day, an, Inte...   \n",
              "4  [In, New, York, Stock, Exchange, composite, tr...   \n",
              "\n",
              "                                              labels  \n",
              "0  [NNP, NNP, NNP, ,, NNP, NNP, ,, NNP, ,, VBD, P...  \n",
              "1  [DT, NN, VBZ, NNP, NNP, NNP, NNP, POS, NN, TO,...  \n",
              "2  [NNP, NNP, RB, VBZ, VBG, TO, VB, NNP, NNP, IN,...  \n",
              "3  [DT, NN, VBN, IN, CD, NN, DT, NNP, NN, IN, PRP...  \n",
              "4  [IN, NNP, NNP, NNP, NNP, JJ, NN, NN, ,, NNP, N...  "
            ],
            "text/html": [
              "\n",
              "  <div id=\"df-e97736da-e407-4066-a609-03a6825c753e\">\n",
              "    <div class=\"colab-df-container\">\n",
              "      <div>\n",
              "<style scoped>\n",
              "    .dataframe tbody tr th:only-of-type {\n",
              "        vertical-align: middle;\n",
              "    }\n",
              "\n",
              "    .dataframe tbody tr th {\n",
              "        vertical-align: top;\n",
              "    }\n",
              "\n",
              "    .dataframe thead th {\n",
              "        text-align: right;\n",
              "    }\n",
              "</style>\n",
              "<table border=\"1\" class=\"dataframe\">\n",
              "  <thead>\n",
              "    <tr style=\"text-align: right;\">\n",
              "      <th></th>\n",
              "      <th>sentence</th>\n",
              "      <th>labels</th>\n",
              "    </tr>\n",
              "  </thead>\n",
              "  <tbody>\n",
              "    <tr>\n",
              "      <th>0</th>\n",
              "      <td>[Intelogic, Trace, Inc., ,, San, Antonio, ,, T...</td>\n",
              "      <td>[NNP, NNP, NNP, ,, NNP, NNP, ,, NNP, ,, VBD, P...</td>\n",
              "    </tr>\n",
              "    <tr>\n",
              "      <th>1</th>\n",
              "      <td>[The, move, boosts, Intelogic, Chairman, Asher...</td>\n",
              "      <td>[DT, NN, VBZ, NNP, NNP, NNP, NNP, POS, NN, TO,...</td>\n",
              "    </tr>\n",
              "    <tr>\n",
              "      <th>2</th>\n",
              "      <td>[Mr., Ackerman, already, is, seeking, to, oust...</td>\n",
              "      <td>[NNP, NNP, RB, VBZ, VBG, TO, VB, NNP, NNP, IN,...</td>\n",
              "    </tr>\n",
              "    <tr>\n",
              "      <th>3</th>\n",
              "      <td>[The, action, followed, by, one, day, an, Inte...</td>\n",
              "      <td>[DT, NN, VBN, IN, CD, NN, DT, NNP, NN, IN, PRP...</td>\n",
              "    </tr>\n",
              "    <tr>\n",
              "      <th>4</th>\n",
              "      <td>[In, New, York, Stock, Exchange, composite, tr...</td>\n",
              "      <td>[IN, NNP, NNP, NNP, NNP, JJ, NN, NN, ,, NNP, N...</td>\n",
              "    </tr>\n",
              "  </tbody>\n",
              "</table>\n",
              "</div>\n",
              "      <button class=\"colab-df-convert\" onclick=\"convertToInteractive('df-e97736da-e407-4066-a609-03a6825c753e')\"\n",
              "              title=\"Convert this dataframe to an interactive table.\"\n",
              "              style=\"display:none;\">\n",
              "        \n",
              "  <svg xmlns=\"http://www.w3.org/2000/svg\" height=\"24px\"viewBox=\"0 0 24 24\"\n",
              "       width=\"24px\">\n",
              "    <path d=\"M0 0h24v24H0V0z\" fill=\"none\"/>\n",
              "    <path d=\"M18.56 5.44l.94 2.06.94-2.06 2.06-.94-2.06-.94-.94-2.06-.94 2.06-2.06.94zm-11 1L8.5 8.5l.94-2.06 2.06-.94-2.06-.94L8.5 2.5l-.94 2.06-2.06.94zm10 10l.94 2.06.94-2.06 2.06-.94-2.06-.94-.94-2.06-.94 2.06-2.06.94z\"/><path d=\"M17.41 7.96l-1.37-1.37c-.4-.4-.92-.59-1.43-.59-.52 0-1.04.2-1.43.59L10.3 9.45l-7.72 7.72c-.78.78-.78 2.05 0 2.83L4 21.41c.39.39.9.59 1.41.59.51 0 1.02-.2 1.41-.59l7.78-7.78 2.81-2.81c.8-.78.8-2.07 0-2.86zM5.41 20L4 18.59l7.72-7.72 1.47 1.35L5.41 20z\"/>\n",
              "  </svg>\n",
              "      </button>\n",
              "      \n",
              "  <style>\n",
              "    .colab-df-container {\n",
              "      display:flex;\n",
              "      flex-wrap:wrap;\n",
              "      gap: 12px;\n",
              "    }\n",
              "\n",
              "    .colab-df-convert {\n",
              "      background-color: #E8F0FE;\n",
              "      border: none;\n",
              "      border-radius: 50%;\n",
              "      cursor: pointer;\n",
              "      display: none;\n",
              "      fill: #1967D2;\n",
              "      height: 32px;\n",
              "      padding: 0 0 0 0;\n",
              "      width: 32px;\n",
              "    }\n",
              "\n",
              "    .colab-df-convert:hover {\n",
              "      background-color: #E2EBFA;\n",
              "      box-shadow: 0px 1px 2px rgba(60, 64, 67, 0.3), 0px 1px 3px 1px rgba(60, 64, 67, 0.15);\n",
              "      fill: #174EA6;\n",
              "    }\n",
              "\n",
              "    [theme=dark] .colab-df-convert {\n",
              "      background-color: #3B4455;\n",
              "      fill: #D2E3FC;\n",
              "    }\n",
              "\n",
              "    [theme=dark] .colab-df-convert:hover {\n",
              "      background-color: #434B5C;\n",
              "      box-shadow: 0px 1px 3px 1px rgba(0, 0, 0, 0.15);\n",
              "      filter: drop-shadow(0px 1px 2px rgba(0, 0, 0, 0.3));\n",
              "      fill: #FFFFFF;\n",
              "    }\n",
              "  </style>\n",
              "\n",
              "      <script>\n",
              "        const buttonEl =\n",
              "          document.querySelector('#df-e97736da-e407-4066-a609-03a6825c753e button.colab-df-convert');\n",
              "        buttonEl.style.display =\n",
              "          google.colab.kernel.accessAllowed ? 'block' : 'none';\n",
              "\n",
              "        async function convertToInteractive(key) {\n",
              "          const element = document.querySelector('#df-e97736da-e407-4066-a609-03a6825c753e');\n",
              "          const dataTable =\n",
              "            await google.colab.kernel.invokeFunction('convertToInteractive',\n",
              "                                                     [key], {});\n",
              "          if (!dataTable) return;\n",
              "\n",
              "          const docLinkHtml = 'Like what you see? Visit the ' +\n",
              "            '<a target=\"_blank\" href=https://colab.research.google.com/notebooks/data_table.ipynb>data table notebook</a>'\n",
              "            + ' to learn more about interactive tables.';\n",
              "          element.innerHTML = '';\n",
              "          dataTable['output_type'] = 'display_data';\n",
              "          await google.colab.output.renderOutput(dataTable, element);\n",
              "          const docLink = document.createElement('div');\n",
              "          docLink.innerHTML = docLinkHtml;\n",
              "          element.appendChild(docLink);\n",
              "        }\n",
              "      </script>\n",
              "    </div>\n",
              "  </div>\n",
              "  "
            ]
          },
          "metadata": {},
          "execution_count": 9
        }
      ],
      "source": [
        "df_dict[\"test\"].head()"
      ]
    },
    {
      "cell_type": "code",
      "execution_count": 10,
      "metadata": {
        "id": "e2i-qWdRdjV-"
      },
      "outputs": [],
      "source": [
        "#Creating x and y starting from dataframe just built\n",
        "\n",
        "x = {\"train\": df_dict['train']['sentence'],\n",
        "     \"val\": df_dict['val']['sentence'],\n",
        "     \"test\": df_dict['test']['sentence']}\n",
        "\n",
        "y = {\"train\": df_dict['train']['labels'],\n",
        "     \"val\": df_dict['val']['labels'],\n",
        "     \"test\": df_dict['test']['labels']}"
      ]
    },
    {
      "cell_type": "markdown",
      "metadata": {
        "id": "Vf1URJEz-ADo"
      },
      "source": [
        "# Glove Embedding model, vocabulary and OOV detection"
      ]
    },
    {
      "cell_type": "markdown",
      "metadata": {
        "id": "_0Xhe6fjWvqv"
      },
      "source": [
        "## Load Glove embedding"
      ]
    },
    {
      "cell_type": "markdown",
      "source": [
        "We will start using embedding_dimension=50 to speed up the process. Anyway, at the end of this notebook we will move to embedding_dimension=300 to improve results"
      ],
      "metadata": {
        "id": "kNUzbs63pDpX"
      }
    },
    {
      "cell_type": "code",
      "execution_count": 11,
      "metadata": {
        "id": "S5nCta0f9_X0"
      },
      "outputs": [],
      "source": [
        "def load_GloVe_embedding(embedding_dimension: int = 50) -> gensim.models.keyedvectors.KeyedVectors:\n",
        "    \"\"\"\n",
        "    Loads a pre-trained word embedding model via gensim library.\n",
        "\n",
        "    :param embedding_dimension: size of the embedding space to consider\n",
        "\n",
        "    :return\n",
        "        - pre-trained word embedding model (gensim KeyedVectors object)\n",
        "    \"\"\"\n",
        "    download_path = \"glove-wiki-gigaword-{}\".format(embedding_dimension)\n",
        "    try:\n",
        "        emb_model = gloader.load(download_path)\n",
        "    except ValueError as e:\n",
        "        print(\"Invalid embedding model name! Check the embedding dimension:\")\n",
        "        print(\"Glove: 50, 100, 200, 300\")\n",
        "        raise e\n",
        "\n",
        "    return emb_model"
      ]
    },
    {
      "cell_type": "code",
      "execution_count": 12,
      "metadata": {
        "colab": {
          "base_uri": "https://localhost:8080/"
        },
        "id": "afdQh5i8CDsh",
        "outputId": "a8eb3300-bf25-474d-8daa-550a1a6bcc87"
      },
      "outputs": [
        {
          "output_type": "stream",
          "name": "stdout",
          "text": [
            "[==================================================] 100.0% 66.0/66.0MB downloaded\n"
          ]
        }
      ],
      "source": [
        "EMBEDDING_DIMENSION = 50\n",
        "glove_emb_model = load_GloVe_embedding(EMBEDDING_DIMENSION)"
      ]
    },
    {
      "cell_type": "markdown",
      "metadata": {
        "id": "qZUuz-bW_BO3"
      },
      "source": [
        "##Creating initial vocabulary"
      ]
    },
    {
      "cell_type": "code",
      "execution_count": 13,
      "metadata": {
        "id": "l98tkgAW_DGT"
      },
      "outputs": [],
      "source": [
        "from collections import OrderedDict\n",
        "\n",
        "def build_vocabulary(sr: pd.Series) -> List[str]:\n",
        "    \"\"\"\n",
        "    Given a series of sentences, so a series of list of words, builds the corresponding vocabulary.\n",
        "\n",
        "    :param sr: series of sentences, so a a series of list of words (pandas.Series)\n",
        "    :return:\n",
        "      - vocabulary: set of unique terms that build up the vocabulary (list)\n",
        "    \"\"\"\n",
        "    vocabulary = []\n",
        "    for sentence in sr:\n",
        "        for token in sentence:\n",
        "            if token not in vocabulary:\n",
        "                vocabulary.append(token)\n",
        "\n",
        "    return vocabulary"
      ]
    },
    {
      "cell_type": "code",
      "execution_count": 14,
      "metadata": {
        "colab": {
          "base_uri": "https://localhost:8080/"
        },
        "id": "9D37IdA4AeHo",
        "outputId": "a3c9b1b2-7d30-46e2-9d44-a3e75b84db8d"
      },
      "outputs": [
        {
          "output_type": "stream",
          "name": "stdout",
          "text": [
            "[Debug] train vocabulary size: 8009\n",
            "[Debug] val vocabulary size: 5892\n",
            "[Debug] test vocabulary size: 3623\n"
          ]
        }
      ],
      "source": [
        "vocabulary_dict = {}  #dict containing the vocabulary of every split (train, validation, test)\n",
        "for split in df_dict.keys():\n",
        "    vocabulary_dict[split] = build_vocabulary(x[split])\n",
        "    print(f'[Debug] {split} vocabulary size: {len(vocabulary_dict[split])}')"
      ]
    },
    {
      "cell_type": "markdown",
      "metadata": {
        "id": "mzQ6qRPF_86z"
      },
      "source": [
        "## OOV detection"
      ]
    },
    {
      "cell_type": "code",
      "execution_count": 15,
      "metadata": {
        "id": "hvm7cbv1BYtq"
      },
      "outputs": [],
      "source": [
        "def check_OOV_terms(vocabulary: Iterable[str],\n",
        "                    word_listing: List[str])  -> List[str]:\n",
        "    \"\"\"\n",
        "    Checks differences between two vocabularies\n",
        "\n",
        "    :param \n",
        "        - vocabulary: vocabulary to which the second one must be compared against \n",
        "        - word_listing: dataset specific vocabulary (list)\n",
        "\n",
        "    :return\n",
        "        - oov: list of unique OOV terms (terms in word_listing that are not in vocabulary)\n",
        "    \"\"\"\n",
        "    embedding_vocabulary = set(vocabulary)\n",
        "    oov = set(word_listing).difference(embedding_vocabulary)\n",
        "    return list(oov)"
      ]
    },
    {
      "cell_type": "code",
      "execution_count": 16,
      "metadata": {
        "colab": {
          "base_uri": "https://localhost:8080/"
        },
        "id": "H2MnS5ilADqv",
        "outputId": "4778f684-97b3-4c62-a6eb-d24e849c6e14"
      },
      "outputs": [
        {
          "output_type": "stream",
          "name": "stdout",
          "text": [
            "Total OOV terms: 2346 (29.29%)\n"
          ]
        }
      ],
      "source": [
        "OOV1 = check_OOV_terms(glove_emb_model.vocab.keys(), vocabulary_dict[\"train\"])  #initial vocabulary is the GloVe one, the other is the train one\n",
        "OOV1_percentage = float(len(OOV1)) * 100 / len(vocabulary_dict[\"train\"])\n",
        "print(f\"Total OOV terms: {len(OOV1)} ({OOV1_percentage:.2f}%)\")"
      ]
    },
    {
      "cell_type": "markdown",
      "metadata": {
        "id": "zPySrACEC5D3"
      },
      "source": [
        "There are many OOV terms, but we have not done any pre-processing yet. Indeed, a straight forward one is to adopt the same case as Glove. Indeed, we have changed every word to lowercase and looked again for OOV."
      ]
    },
    {
      "cell_type": "code",
      "execution_count": 17,
      "metadata": {
        "colab": {
          "base_uri": "https://localhost:8080/"
        },
        "id": "CB364Xx_C2vo",
        "outputId": "a81a9f4a-311e-41db-dba5-200bfbaee27b"
      },
      "outputs": [
        {
          "output_type": "stream",
          "name": "stdout",
          "text": [
            "Total OOV terms: 359 (4.48%)\n"
          ]
        }
      ],
      "source": [
        "OOV1_lowercase = check_OOV_terms(glove_emb_model.vocab.keys(), [v.lower() for v in vocabulary_dict[\"train\"]])\n",
        "OOV1_lowercase_percentage = float(len(OOV1_lowercase)) * 100 / len(vocabulary_dict[\"train\"])\n",
        "print(f\"Total OOV terms: {len(OOV1_lowercase)} ({OOV1_lowercase_percentage:.2f}%)\")"
      ]
    },
    {
      "cell_type": "markdown",
      "source": [
        "Indeed, just moving to lowercase we have dramatically decreased the number of OOV of train vocabulary versus GloVe vocabulary. \n",
        "\n",
        "Now, we have to inspect the remaining OOV words to see which further preprocessing can be useful."
      ],
      "metadata": {
        "id": "VTXrd8_BsocH"
      }
    },
    {
      "cell_type": "code",
      "execution_count": 18,
      "metadata": {
        "colab": {
          "base_uri": "https://localhost:8080/"
        },
        "id": "sWzR_D1dGI-u",
        "outputId": "82e30ff0-2b43-45b5-ffbd-a7047c31e16d"
      },
      "outputs": [
        {
          "output_type": "stream",
          "name": "stdout",
          "text": [
            "two-sevenths\n",
            "rexinger\n",
            "chemplus\n",
            "dead-eyed\n",
            "index-related\n",
            "small-company\n",
            "electric-utility\n",
            "bellringers\n",
            "cotran\n",
            "sub-markets\n",
            "we-japanese\n",
            "limited-partnership\n",
            "2,303,328\n",
            "page-one\n",
            "737.5\n",
            "pre-1933\n",
            "six-bottle\n",
            "374.20\n",
            "one-country\n",
            "identity-management\n",
            "year-ago\n",
            "3.253\n",
            "sogo-shosha\n",
            "school-board\n",
            "highest-pitched\n",
            "pathlogy\n",
            "makato\n",
            "video-viewing\n",
            "trettien\n",
            "money-center\n",
            "stirlen\n",
            "143.93\n",
            "year-earlier\n",
            "collective-bargaining\n",
            "preparatives\n",
            "beer-belly\n",
            "energy-services\n",
            "pre-1917\n",
            "shirt-sleeved\n",
            "352.7\n",
            "money-fund\n",
            "equal-opportunity\n",
            "70-a-share\n",
            "bridgestone\\/firestone\n",
            "state-supervised\n",
            "index-arbitrage\n",
            "besuboru\n",
            "secilia\n",
            "iran\\/contra\n",
            "amphobiles\n",
            "1.8415\n",
            "ghkm\n",
            "unenticing\n",
            "test-practice\n",
            "durable-goods\n",
            "pennview\n",
            "superpremiums\n",
            "univest\n",
            "sub-segments\n",
            "12,252\n",
            "anti-china\n",
            "junk-bond\n",
            "ensrud\n",
            "mehrens\n",
            "520-lawyer\n",
            "northy\n",
            "anti-abortionists\n",
            "side-crash\n",
            "pianist-comedian\n",
            "low-ability\n",
            "purhasing\n",
            "62%-owned\n",
            "tarwhine\n",
            "lezovich\n",
            "student-test\n",
            "meinders\n",
            "old-house\n",
            "rubinfien\n",
            "5.276\n",
            "3057\n",
            "bermuda-based\n",
            "chilver\n",
            "deposits-a\n",
            "2645.90\n",
            "church-goers\n",
            "sometimes-exhausting\n",
            "stock-manipulation\n",
            "415.6\n",
            "wine-buying\n",
            "three-sevenths\n",
            "war-rationed\n",
            "test-prep\n",
            "school-improvement\n",
            "post-hearing\n",
            "143.08\n",
            "re-thought\n",
            "nagymaros\n",
            "thin-lipped\n",
            "nearly-30\n",
            "vinken\n",
            "uzi-model\n",
            "computer-system-design\n",
            "nipponese\n",
            "water-authority\n",
            "weisfield\n",
            "circuit-breaker\n",
            "language-housekeeper\n",
            "278.7\n",
            "127.03\n",
            "integra-a\n",
            "asset-sale\n",
            "automotive-lighting\n",
            "drobnick\n",
            "one-upsmanship\n",
            "95,142\n",
            "sport-utility\n",
            "senate-house\n",
            "landonne\n",
            "monchecourt\n",
            "14,821\n",
            "446.62\n",
            "forest-products\n",
            "705.6\n",
            "solaia\n",
            "training-wage\n",
            "wheel-loader\n",
            "flightiness\n",
            "1\\/4\n",
            "high-rate\n",
            "497.34\n",
            "forest-product\n",
            "floating-rate\n",
            "kalipharma\n",
            "pattenden\n",
            "low-ball\n",
            "change-ringing\n",
            "purepac\n",
            "red-flag\n",
            "moleculon\n",
            "market-share\n",
            "one-yen\n",
            "rope-sight\n",
            "sanderoff\n",
            "home-market\n",
            "food-shop\n",
            "vitulli\n",
            "4,393,237\n",
            "sacramento-based\n",
            "delwin\n",
            "safe-deposit\n",
            "teacher-cadet\n",
            "samnick\n",
            "hummerstone\n",
            "449.04\n",
            "456.64\n",
            "akerfeldt\n",
            "red-blooded\n",
            "anti-takeover\n",
            "lap-shoulder\n",
            "direct-investment\n",
            "twin-jet\n",
            "malizia\n",
            "co-developers\n",
            "romanee-conti\n",
            "college-bowl\n",
            "1.5755\n",
            "family-planning\n",
            "yen-denominated\n",
            "mouth-up\n",
            "twindam\n",
            "143.80\n",
            "-rrb-\n",
            "100,980\n",
            "computer-driven\n",
            "polyproplene\n",
            "chinchon\n",
            "-lcb-\n",
            "three-lawyer\n",
            "incentive-bonus\n",
            "jalaalwalikraam\n",
            "prize-fighter\n",
            "detective-story\n",
            "rapanelli\n",
            "custom-chip\n",
            "index-options\n",
            "8300s\n",
            "500,004\n",
            "autions\n",
            "marketing-communications\n",
            "test-coaching\n",
            "361,376\n",
            "life-insurance\n",
            "sell-offs\n",
            "macmillan\\/mcgraw-hill\n",
            "ntg\n",
            "investor-relations\n",
            "37-a-share\n",
            "84-month\n",
            "3\\/4\n",
            "satrum\n",
            "c-90\n",
            "trading-company\n",
            "coche-dury\n",
            "more-efficient\n",
            "wfrr\n",
            "abortion-related\n",
            "5\\/8\n",
            "pro-forma\n",
            "374.19\n",
            "234.4\n",
            "lower-priority\n",
            "436.01\n",
            "1.457\n",
            "futures-related\n",
            "drag-down\n",
            "mininum-wage\n",
            "program-trading\n",
            "when-issued\n",
            "stock-index\n",
            "retin-a\n",
            "ratners\n",
            "non-biodegradable\n",
            "cop-killer\n",
            "big-ticket\n",
            "tissue-transplant\n",
            "-rcb-\n",
            "foreign-led\n",
            "7\\/8\n",
            "16,072\n",
            "boorse\n",
            "erbamont\n",
            "morale-damaging\n",
            "subminimum\n",
            "built-from-kit\n",
            "rate-sensitive\n",
            "11,762\n",
            "school-research\n",
            "chong-sik\n",
            "government-certified\n",
            "odd-sounding\n",
            "bumkins\n",
            "chafic\n",
            "3,288,453\n",
            "achievement-test\n",
            "82,389\n",
            "nekoosa\n",
            "pramual\n",
            "savings-and-loan\n",
            "sino-u.s.\n",
            "industrial-production\n",
            "yen-support\n",
            "foreign-stock\n",
            "six-packs\n",
            "muscolina\n",
            "search-and-seizure\n",
            "sometimes-tawdry\n",
            "18,444\n",
            "hallwood\n",
            "colonsville\n",
            "corton-charlemagne\n",
            "merger-related\n",
            "veselich\n",
            "subskill\n",
            "13,056\n",
            "tiphook\n",
            "building-products\n",
            "38.375\n",
            "dust-up\n",
            "new-home\n",
            "lafite-rothschild\n",
            "less-serious\n",
            "subindustry\n",
            "1\\/10th\n",
            "antitrust-law\n",
            "unfair-trade\n",
            "creator's\n",
            "230-215\n",
            "derel\n",
            "aslacton\n",
            "90-cent-an-hour\n",
            "telephone-information\n",
            "4.898\n",
            "wtd\n",
            "securities-based\n",
            "nesb\n",
            "bell-ringer\n",
            "-lrb-\n",
            "top-yielding\n",
            "ariail\n",
            "centerbank\n",
            "sharedata\n",
            "nih-appointed\n",
            "382-37\n",
            "yeargin\n",
            "synergistics\n",
            "capital-gains\n",
            "jerritts\n",
            "crocidolite\n",
            "security-type\n",
            "test-preparation\n",
            "ingersoll-rand\n",
            "cray-3\n",
            "69-point\n",
            "money-market\n",
            "social-studies\n",
            "sticker-shock\n",
            "bald-faced\n",
            "auto-safety\n",
            "wheeland\n",
            "light-truck\n",
            "gingl\n",
            "30,841\n",
            "ac-130u\n",
            "machine-gun-toting\n",
            "replacement-car\n",
            "savers\\/investors\n",
            "62.625\n",
            "9,118\n",
            "norwick\n",
            "trockenbeerenauslesen\n",
            "236.79\n",
            "c.j.b.\n",
            "glenham\n",
            "415.8\n",
            "higher-salaried\n",
            "revenue-desperate\n",
            "biondi-santi\n",
            "dollar-yen\n",
            "macheski\n",
            "subskills\n",
            "cash-rich\n",
            "236.74\n",
            "recession-inspired\n",
            "greenmailer\n",
            "271,124\n",
            "product-design\n",
            "intellectual-property\n",
            "car-safety\n",
            "ft-se\n",
            "school-district\n",
            "front-seat\n",
            "high-balance\n",
            "fetal-tissue\n",
            "macmillan\\/mcgraw\n",
            "nissho-iwai\n",
            "micronite\n",
            "alurralde\n",
            "ctbs\n",
            "1\\/2\n",
            "142.85\n",
            "buttoned-down\n",
            "automotive-parts\n",
            "roof-crush\n",
            "non-encapsulating\n",
            "16.125\n",
            "eight-count\n",
            "mortgage-based\n",
            "summer\\/winter\n",
            "times-stock\n"
          ]
        }
      ],
      "source": [
        "print(\"\\n\".join(OOV1_lowercase))"
      ]
    },
    {
      "cell_type": "markdown",
      "source": [
        "Printing the whole list of OOV words, we have the following types of OOV words:\n",
        "\n",
        "*   **Compound words**: in most of the cases they are composed by words that are in the vocabulary\n",
        "*   **Decimal numbers**: they need to be defined as class, simply because it is not realistic to encode all decimal numbers (they are too many)\n",
        "*   **Rational numbers**: e.g. 1\\/4 , they are similar to decimal numbers. Note that they have a backslash that will be removed to bring them to the standard form of rational numbers. Similarly for compound words separated by \"\\/\" instead of \"-\" we will perform a replacement\n",
        "*   **Brackets**: instead of being represented with their symbols like the rest of punctuation, their acronym is use (e.g. -lcb- stands for \"left curly bracket\")\n",
        "\n",
        "\n"
      ],
      "metadata": {
        "id": "DVE0aMK3tLDM"
      }
    },
    {
      "cell_type": "markdown",
      "metadata": {
        "id": "b5RNdNYYHYwQ"
      },
      "source": [
        "# Preprocessing\n",
        "To further reduce the number of OOV words, we will perform the following preprocessing steps:\n",
        "\n",
        "\n",
        "\n",
        "1.   Change all the words to lowercase\n",
        "2.   Replace \\\\/ with /\n",
        "3.   Replace left bracket symbols\n",
        "4.   Replace right bracket symbols\n",
        "5.   Replace rational numbers with \"#number#\" placeholder\n",
        "6.   Replace decimal numbers with \"#number#\" placeholder\n",
        "7.   Replace compound words' separator: compound words previously separated by \"\\\\/\" are separated by \"/\" after performing step 2., so now we will replace \"/\" with \"-\"\n",
        "\n",
        "\n",
        "\n",
        "\n",
        "\n"
      ]
    },
    {
      "cell_type": "code",
      "execution_count": 19,
      "metadata": {
        "id": "d9H61yyiHYbT"
      },
      "outputs": [],
      "source": [
        "def preprocessing(content_list: List[str]) -> List[str]:\n",
        "    \"\"\"\n",
        "    Preprocess a list a strings: applied to every sentence (a sentence is a list of words) \n",
        "\n",
        "    :param \n",
        "        - content_list: list of string to be preprocessed \n",
        "\n",
        "    :return\n",
        "        - content_list_preprocessed: preprocessed list\n",
        "    \"\"\"\n",
        "\n",
        "    placeholder = \"#number#\"\n",
        "    re_slashes = re.compile('\\\\\\/')  #pattern \\/ \n",
        "    re_rational = re.compile('\\d+\\/\\d+')  #pattern rational number (e.g. 1/5)\n",
        "    re_number = re.compile('[+-]?(\\d*[.])\\d+')  #pattern decimal number (e.g. 3.14)\n",
        "    re_left_bracket = re.compile('(-lrb-)|(-lcb-)')  #pattern left bracket\n",
        "    re_right_bracket = re.compile('(-rrb-)|(-rcb-)')  #pattern right bracket\n",
        "    re_slashed_words = re.compile(\"(\\w*)\\/(\\w*)\")  #a slash separating words will be replaced with a dash, following the trend of the dataset, where composed words are in the form word-word\n",
        "\n",
        "    content_list_preprocessed = [content.lower() for content in content_list]  #change to lowercase\n",
        "    content_list_preprocessed = [re_slashes.sub(\"/\", content) for content in content_list_preprocessed] #replace \\/ with /\n",
        "    content_list_preprocessed = [re_left_bracket.sub(\"(\", content) for content in content_list_preprocessed]  #replace left bracket symbols\n",
        "    content_list_preprocessed = [re_right_bracket.sub(\")\", content) for content in content_list_preprocessed]  #replace right bracket symbols\n",
        "    content_list_preprocessed = [placeholder if re.match(re_rational, content) else content for content in content_list_preprocessed]  #replace rational numbers with a placeholder\n",
        "    content_list_preprocessed = [placeholder if re.match(re_number, content) else content for content in content_list_preprocessed]  #replace decimal numbers with a placeholder\n",
        "    content_list_preprocessed = [content.replace(\"/\", \"-\") if re.match(re_slashed_words, content) else content for content in content_list_preprocessed]  #replace compound words' separator \n",
        "\n",
        "    return content_list_preprocessed"
      ]
    },
    {
      "cell_type": "markdown",
      "metadata": {
        "id": "OzNl0nSGdEwd"
      },
      "source": [
        "Preprocessing the training set"
      ]
    },
    {
      "cell_type": "code",
      "execution_count": 20,
      "metadata": {
        "id": "GyjnI2JZbADI"
      },
      "outputs": [],
      "source": [
        "x_train_preprocessed = x[\"train\"].apply(preprocessing)"
      ]
    },
    {
      "cell_type": "markdown",
      "metadata": {
        "id": "M-Vw8s63garq"
      },
      "source": [
        "Building the new vocabulary after preprocessing"
      ]
    },
    {
      "cell_type": "code",
      "execution_count": 21,
      "metadata": {
        "colab": {
          "base_uri": "https://localhost:8080/"
        },
        "id": "KcxlVwQFgaRr",
        "outputId": "fcd77f8c-72b1-4e5f-fc59-16f400668d27"
      },
      "outputs": [
        {
          "output_type": "stream",
          "name": "stdout",
          "text": [
            "[Debug] train vocabulary size after preprocessing: 7214\n",
            "Total OOV terms after preprocessing: 318 (4.41%)\n"
          ]
        }
      ],
      "source": [
        "train_vocabulary_preprocessed = build_vocabulary(x_train_preprocessed)\n",
        "print(f'[Debug] train vocabulary size after preprocessing: {len(train_vocabulary_preprocessed)}')\n",
        "\n",
        "OOV1_preprocessed = check_OOV_terms(glove_emb_model.vocab.keys(), train_vocabulary_preprocessed)\n",
        "OOV1_preprocessed_percentage = float(len(OOV1_preprocessed)) * 100 / len(train_vocabulary_preprocessed)\n",
        "print(f\"Total OOV terms after preprocessing: {len(OOV1_preprocessed)} ({OOV1_preprocessed_percentage:.2f}%)\")"
      ]
    },
    {
      "cell_type": "markdown",
      "metadata": {
        "id": "j5OLPRGc6svj"
      },
      "source": [
        "It can be seen that the number of OOV words has decreased with respect to the the non preprocessed data. Also note that many oov words are compound ones, for which a specific embedding will be created (see Embedding Matrix section).\n",
        "\n",
        "Similarly to train data, we apply preprocessing to validation and test splits."
      ]
    },
    {
      "cell_type": "code",
      "execution_count": 22,
      "metadata": {
        "id": "MEec69AT_KEw"
      },
      "outputs": [],
      "source": [
        "x_pre = {\"train\": x_train_preprocessed,\n",
        "        \"val\": x[\"val\"].apply(preprocessing),\n",
        "        \"test\": x[\"test\"].apply(preprocessing)}"
      ]
    },
    {
      "cell_type": "markdown",
      "metadata": {
        "id": "EElOhl9F-x9-"
      },
      "source": [
        "# Vocabulary creation and encoding\n",
        "We will create the complete vocabulary starting from an empty one, then adding sequencially GloVe, train, validation and test vocabularies.  \n",
        "\n",
        "Then we will map words and labels (part of speech) to numbers, following the mapping built with the vocabulary."
      ]
    },
    {
      "cell_type": "code",
      "execution_count": 23,
      "metadata": {
        "id": "_j91cRBqAN1x"
      },
      "outputs": [],
      "source": [
        "def extend_vocabulary(word_to_idx_original: Dict[str, int],\n",
        "                      words_to_add: List[str]) -> Tuple[Dict[str, int],Dict[int, str]]:\n",
        "  \"\"\"\n",
        "    Given a mapping between word and indeces, it adds oov words at the end of the dictionary.\n",
        "    Note that this method can be used also to create a word_to_id vocabulary mapping from scratches: word_to_idx_original will be an empty dict, words_to_add the list of the starting words (for us GloVe vocabulary)\n",
        "\n",
        "    :param \n",
        "        - word_to_idx_original: dictionary with key=word and value=index to which the word is mapped\n",
        "        - words_to_add: list of words to compare with word_to_idx_original. If a word is not found, then it must be inserted in the dictionary\n",
        "    :return:\n",
        "        - word_to_idx_extended: word_to_idx with new words\n",
        "        - idx_to_word_extended: swapped version of word_to_idx_extended (keys and values are swapped)\n",
        "  \"\"\"\n",
        "  word_to_idx_extended = copy.deepcopy(word_to_idx_original)  #deep copy is needed, otherwise python does not create a copy but only a reference to the already existing object, thus reflecting changes on both\n",
        "  idx = len(word_to_idx_extended.keys())\n",
        "  if idx == 0: \n",
        "    idx = 1  #position 0 is reserved\n",
        "\n",
        "  for sentence in words_to_add:\n",
        "      for token in sentence:\n",
        "          if token not in word_to_idx_extended:\n",
        "              word_to_idx_extended[token] = idx \n",
        "              idx += 1\n",
        "  idx_to_word_extended = {v: k for k, v in word_to_idx_extended.items()}\n",
        "\n",
        "  return word_to_idx_extended, idx_to_word_extended\n",
        "\n",
        "def encode_into_numbers(sentences: List[List[str]],\n",
        "                        word_to_idx_mapping: Dict[str, int]) -> List[List[int]]:\n",
        "    \"\"\"\n",
        "    Encode every word of every sentence into an integer following the word mapping\n",
        "\n",
        "    :param \n",
        "        - sentences: sentences whose words have to be encoded into numbers following word_to_idx_mapping (list of list of strings)\n",
        "        - word_to_idx_mapping: dictionary with key=word and value=index to which the word is mapped\n",
        "    :return:\n",
        "        - encoded_data: sentences'encoding (list of list of integers)\n",
        "    \"\"\"\n",
        "    encoded_data = [[word_to_idx_mapping[token] for token in sentence] for sentence in sentences]\n",
        " \n",
        "    return encoded_data\n",
        "\n",
        "def decode_into_words(encoded_sentences: List[List[int]],\n",
        "                        idx_to_word_mapping: Dict[int,str]) -> List[List[str]]:\n",
        "    \"\"\"\n",
        "    Reverse the encoding, replacing numbers encodings with the corresponding word\n",
        "\n",
        "    :param \n",
        "        - encoded_sentences: sentences to decode following idx_to_word_mapping (list of list of integers)\n",
        "        - idx_to_word_mapping: dictionary with key=index and value=word\n",
        "    :return:\n",
        "        - decoded_data: sentences'encoding (list of list of strings)\n",
        "    \"\"\"\n",
        "    decoded_data = [[idx_to_word_mapping[index] for index in sentence] for sentence in encoded_sentences]\n",
        " \n",
        "    return decoded_data"
      ]
    },
    {
      "cell_type": "markdown",
      "metadata": {
        "id": "HV32wJ90RamP"
      },
      "source": [
        "In the following cells we create the vocabulary mappings and then encode the words.\n",
        "\n",
        "Note that word_to_idx and idx_to_word mappings are incremental, this means that the validation vocabulary includes the train one, and the test one includes train and validation ones. This has been made according to the guidelines on the construction of V1, V2, V3, V4. All in all, the complete vocabulary is the one with _test suffix.\n",
        "\n",
        "Furthermore, in the embedding section the intermediate vocabularies will be used according to what they contain. For example, to compute the embedding matrix on the train set, we will use word_to_idx_train, while for validation word_to_idx_val, always proceeding in an incremental way."
      ]
    },
    {
      "cell_type": "code",
      "execution_count": 24,
      "metadata": {
        "colab": {
          "base_uri": "https://localhost:8080/"
        },
        "id": "BbeQJNAlEzl2",
        "outputId": "3e2298af-ee3b-415e-fd36-0b66bff1dc08"
      },
      "outputs": [
        {
          "output_type": "stream",
          "name": "stdout",
          "text": [
            "Train vocabulary size:  400318\n",
            "Validation vocabulary size:  400475\n",
            "Test vocabulary size:  400571\n"
          ]
        }
      ],
      "source": [
        "# Train mappings\n",
        "word_to_idx_train, idx_to_word_train = extend_vocabulary({}, [glove_emb_model.vocab.keys()] + x_pre[\"train\"].tolist())\n",
        "print(\"Train vocabulary size: \", len(word_to_idx_train))\n",
        "\n",
        "# Validation mappings\n",
        "word_to_idx_val, idx_to_word_val = extend_vocabulary(word_to_idx_train, x_pre[\"val\"].tolist())\n",
        "print(\"Validation vocabulary size: \", len(word_to_idx_val))\n",
        "\n",
        "# Test mappings\n",
        "word_to_idx_test, idx_to_word_test = extend_vocabulary(word_to_idx_val, x_pre[\"test\"].tolist())\n",
        "print(\"Test vocabulary size: \", len(word_to_idx_test))\n",
        "\n",
        "# x_enc is the dictionary containing preprocessed data which have been encoded\n",
        "# In the end, for evry split we will move from a list of list of words to a list of list of numbers\n",
        "x_enc = {\"train\": encode_into_numbers(x_pre[\"train\"].tolist(), word_to_idx_train),\n",
        "        \"val\": encode_into_numbers(x_pre[\"val\"].tolist(), word_to_idx_val),\n",
        "        \"test\": encode_into_numbers(x_pre[\"test\"].tolist(), word_to_idx_test)}"
      ]
    },
    {
      "cell_type": "markdown",
      "metadata": {
        "id": "qGsgMfcmRUIN"
      },
      "source": [
        "Encoding parts of speech. Clearly, pos' mappings are different from words' ones and must be kept separated, so we create another mapping from labels to numbers and viceversa."
      ]
    },
    {
      "cell_type": "code",
      "execution_count": 25,
      "metadata": {
        "colab": {
          "base_uri": "https://localhost:8080/"
        },
        "id": "1PzlKA-eHJBr",
        "outputId": "185fb872-7fc9-4587-8c24-c04d44a55ff3"
      },
      "outputs": [
        {
          "output_type": "stream",
          "name": "stdout",
          "text": [
            "In the dataset there are 45 distinct POS\n"
          ]
        }
      ],
      "source": [
        "# creating vocabulary mapping for the labels in the whole dataset\n",
        "label_to_idx, idx_to_label = extend_vocabulary({},  y[\"train\"].tolist() + y[\"val\"].tolist() + y[\"test\"].tolist())\n",
        "\n",
        "number_pos = len(label_to_idx)\n",
        "print(f\"In the dataset there are {number_pos} distinct POS\")\n",
        "\n",
        "y_enc = {\"train\": encode_into_numbers(y[\"train\"].tolist(), label_to_idx),\n",
        "        \"val\": encode_into_numbers(y[\"val\"].tolist(), label_to_idx),\n",
        "        \"test\": encode_into_numbers(y[\"test\"].tolist(), label_to_idx)}"
      ]
    },
    {
      "cell_type": "markdown",
      "source": [
        "Let's look at the sentencese to see if our pipeline is working as expected."
      ],
      "metadata": {
        "id": "x75yP0OrMqMM"
      }
    },
    {
      "cell_type": "code",
      "execution_count": 26,
      "metadata": {
        "colab": {
          "base_uri": "https://localhost:8080/"
        },
        "id": "OdwaxJlw3AV0",
        "outputId": "6dc015ff-6497-4c73-a203-cbf1a8762821"
      },
      "outputs": [
        {
          "output_type": "stream",
          "name": "stdout",
          "text": [
            "Original sentence\n",
            "['From', 'an', 'advertising', 'standpoint', ',', 'the', 'problem', 'is', 'these', 'offenders', 'are', 'likely', 'to', 'be', 'some', 'of', 'the', 'same', 'folks', 'that', 'are', 'major', 'magazine', 'advertisers', 'these', 'days', '.']\n",
            "\n",
            "Preprocessed sentence\n",
            "['from', 'an', 'advertising', 'standpoint', ',', 'the', 'problem', 'is', 'these', 'offenders', 'are', 'likely', 'to', 'be', 'some', 'of', 'the', 'same', 'folks', 'that', 'are', 'major', 'magazine', 'advertisers', 'these', 'days', '.']\n",
            "\n",
            "Encoded sentence\n",
            "[26, 30, 2554, 15295, 2, 1, 748, 15, 159, 8982, 33, 648, 5, 31, 78, 4, 1, 216, 6230, 13, 33, 225, 1231, 10332, 159, 250, 3]\n",
            "\n",
            "Decoded sentence\n",
            "['from', 'an', 'advertising', 'standpoint', ',', 'the', 'problem', 'is', 'these', 'offenders', 'are', 'likely', 'to', 'be', 'some', 'of', 'the', 'same', 'folks', 'that', 'are', 'major', 'magazine', 'advertisers', 'these', 'days', '.']\n"
          ]
        }
      ],
      "source": [
        "example = np.random.randint(0, len(x_enc[\"train\"]))\n",
        "print(f\"Original sentence\")\n",
        "print(x[\"train\"][example])\n",
        "print(\"\\nPreprocessed sentence\")\n",
        "print([x_pre[\"train\"][example]][0])\n",
        "print(\"\\nEncoded sentence\")\n",
        "print([x_enc[\"train\"][example]][0])\n",
        "print(\"\\nDecoded sentence\")\n",
        "print(decode_into_words([x_enc[\"train\"][example]], idx_to_word_train)[0])"
      ]
    },
    {
      "cell_type": "markdown",
      "source": [
        "It can be seen that we are moving from the original sentence to its encoded version correctly, as decoding it we obtain the original one again (a part from the differences introduced by the irreversible preprocessing)\n",
        "\n",
        "The exact same considerations hold for pos tags, as shown in the example below."
      ],
      "metadata": {
        "id": "MTca4tc7MzDF"
      }
    },
    {
      "cell_type": "code",
      "execution_count": 27,
      "metadata": {
        "colab": {
          "base_uri": "https://localhost:8080/"
        },
        "id": "e3G3-Pbx3ZmJ",
        "outputId": "92b0647b-d659-4928-a55d-cf2f60ce805e"
      },
      "outputs": [
        {
          "output_type": "stream",
          "name": "stdout",
          "text": [
            "Original labels\n",
            "['DT', 'JJ', 'NNS', 'VBP', 'JJ', 'JJ', 'NNP', 'NNS', 'IN', 'JJ', 'NNS', 'CC', 'NNS', ',', 'RB', 'VBG', 'PRP$', 'NN', 'IN', 'NNS', 'IN', 'JJ', 'NNS', 'MD', 'RB', 'VB', '.']\n",
            "\n",
            "Encoded labels\n",
            "[8, 5, 4, 22, 5, 5, 1, 4, 10, 5, 4, 14, 4, 2, 17, 13, 24, 9, 10, 4, 10, 5, 4, 6, 17, 7, 11]\n",
            "\n",
            "Decoded labels\n",
            "['DT', 'JJ', 'NNS', 'VBP', 'JJ', 'JJ', 'NNP', 'NNS', 'IN', 'JJ', 'NNS', 'CC', 'NNS', ',', 'RB', 'VBG', 'PRP$', 'NN', 'IN', 'NNS', 'IN', 'JJ', 'NNS', 'MD', 'RB', 'VB', '.']\n"
          ]
        }
      ],
      "source": [
        "example = np.random.randint(0, len(y_enc[\"train\"]))\n",
        "print(f\"Original labels\")\n",
        "print(y[\"train\"][example])\n",
        "print(\"\\nEncoded labels\")\n",
        "print([y_enc[\"train\"][example]][0])\n",
        "print(\"\\nDecoded labels\")\n",
        "print(decode_into_words([y_enc[\"train\"][example]], idx_to_label)[0])"
      ]
    },
    {
      "cell_type": "markdown",
      "metadata": {
        "id": "mAv5AHB_REM5"
      },
      "source": [
        "# Embedding matrix"
      ]
    },
    {
      "cell_type": "markdown",
      "source": [
        "In order to create the embdedding matrix we decided to handle compound words' embeddings in the following way: \n",
        "\n",
        "\n",
        "1.   Split on the dash (\"-\")\n",
        "1.   Order the obtained words by length  \n",
        "2.   Try to get their embeddings starting from the longest word and going on until an embdedding is retrieved or all the subwords have been tried (which means that all the subwords are not in GloVe)\n",
        "3. If an embedding is found, use it as the compound word's one. If it is not found, assign a random embedding to the compund word.\n",
        "\n",
        "in addition, for non-compound words that are not in GloVe, we directly assign a random embedding."
      ],
      "metadata": {
        "id": "jC5pPEa1IkS1"
      }
    },
    {
      "cell_type": "code",
      "execution_count": 28,
      "metadata": {
        "id": "QGCi8pguRH-5"
      },
      "outputs": [],
      "source": [
        "def get_dashed_embeddings(embedding_model: gensim.models.keyedvectors.KeyedVectors, \n",
        "                          word: str) -> float:\n",
        "  \"\"\"\n",
        "    Given an embedding_model and a word it returns its \"dashed embedding\" if the word contains a dash, None otherwise.\n",
        "    We defined dashed embeddings as the embedding of the longest word found in the embedding model.\n",
        "\n",
        "    :param \n",
        "        - embedding_model: embedding_model to be used\n",
        "        - words_to_add: list of words to compare with word_to_idx_original. If a word is not found, then it must be inserted in the dictionary\n",
        "    :return:\n",
        "        - embedding of the longest word in the compound one if it contains a dash and an embedding is found. Else, return None\n",
        "  \"\"\"\n",
        "  if \"-\" in word:\n",
        "    words_split = word.split(\"-\")\n",
        "    words_split.sort(key=len)  #getting the encoding of compound words starting from the longest one\n",
        "    for word_piece in words_split:\n",
        "      try:\n",
        "        return embedding_model[word]  #if a word is found, assign its embedding to the matrix element\n",
        "      except:\n",
        "        pass  #if the current word is not found, do nothing and try the next one\n",
        "  return None  # None is returned if the word does not contain a dash or if all the words in the compound one are not contained in the embedding model\n",
        "\n",
        "def build_embedding_matrix(embedding_model: gensim.models.keyedvectors.KeyedVectors,\n",
        "                           embedding_dimension: int,\n",
        "                           word_to_idx: Dict[str, int]) -> np.ndarray:\n",
        "    \"\"\"\n",
        "    Builds the embedding matrix starting from a pre-trained word embedding model\n",
        "\n",
        "    :param \n",
        "        - embedding_model: pre-trained word embedding model (gensim wrapper)\n",
        "        - embedding_dimension: dimension of the embedding\n",
        "        - word_to_idx: dictionary with key=word and value=index to which the word is mapped\n",
        "\n",
        "    :return\n",
        "        - embedding matrix\n",
        "    \"\"\"\n",
        "    embedding_matrix = np.zeros((len(word_to_idx)+1, embedding_dimension), dtype=np.float32)\n",
        "    \n",
        "    #adding all GloVe vocabularies embeddings\n",
        "    for word, idx in word_to_idx.items():\n",
        "      if word in embedding_model:\n",
        "          embedding_matrix[idx] = embedding_model[word]\n",
        "      else: \n",
        "          dashed_embedding = get_dashed_embeddings(embedding_model, word)\n",
        "          if dashed_embedding is None: #it means that word has no dash or all its subwords are oov\n",
        "              dashed_embedding = np.random.uniform(low=-0.05, high=0.05, size=embedding_dimension)\n",
        "          embedding_matrix[idx] = dashed_embedding\n",
        " \n",
        "    return embedding_matrix\n",
        "\n",
        "\n",
        "#This functions adds the embedding of OOV words to the embedding matrix. Note that it directly tries to find an embedding for dashed words and if none is retrieved it uses a uniform random distribution\n",
        "def extend_embedding_matrix(embedding_model: gensim.models.keyedvectors.KeyedVectors,\n",
        "                            embedding_matrix: np.ndarray,\n",
        "                            word_to_idx: Dict[str, int]) -> np.ndarray:\n",
        "    \"\"\"\n",
        "    Extend an embedding matrix adding words in word_to_idx that are oov\n",
        "\n",
        "    :param \n",
        "        - embedding_model: pre-trained word embedding model (gensim wrapper)\n",
        "        - embedding_matrix: starting embedding matrix\n",
        "        - word_to_idx: word mapping from which oov words must be retrieved\n",
        "\n",
        "    :return\n",
        "        - new embedding matrix: concatenation of the previous embedding matrix with the one of oov terms\n",
        "    \"\"\"\n",
        "\n",
        "    oov_terms = [key for key, idx in word_to_idx.items() if idx >= embedding_matrix.shape[0]] #all the terms mapped to an index greater than the vocabulary size (number of rows) are not in the embedding matrix \n",
        "    oov_embedding_matrix = np.zeros((len(oov_terms), embedding_matrix.shape[1]), dtype=np.float32)\n",
        "    \n",
        "    for idx, oov in enumerate(oov_terms):\n",
        "        dashed_embedding = get_dashed_embeddings(embedding_model, oov)\n",
        "        if dashed_embedding is None: #it means that word has no dash or all its subwords are oov\n",
        "            dashed_embedding = np.random.uniform(low=-0.05, high=0.05, size=embedding_matrix.shape[1])\n",
        "\n",
        "        oov_embedding_matrix[idx] = dashed_embedding\n",
        "\n",
        "    return np.concatenate([embedding_matrix, oov_embedding_matrix], axis=0)"
      ]
    },
    {
      "cell_type": "code",
      "execution_count": 29,
      "metadata": {
        "colab": {
          "base_uri": "https://localhost:8080/"
        },
        "id": "ERNzAqnMELNB",
        "outputId": "210ad06e-7751-4ab5-9b07-f96be14b4649"
      },
      "outputs": [
        {
          "output_type": "stream",
          "name": "stdout",
          "text": [
            "Embedding matrix with GloVe and train vocabulary has shape: (400319, 50)\n",
            "Embedding matrix after the extension with validation oov words has shape: (400475, 50)\n",
            "Embedding matrix after the extension with test oov words has shape: (400571, 50)\n"
          ]
        }
      ],
      "source": [
        "embedding_matrix = build_embedding_matrix(glove_emb_model, \n",
        "                                          EMBEDDING_DIMENSION,\n",
        "                                          word_to_idx_train)\n",
        "print(f\"Embedding matrix with GloVe and train vocabulary has shape: {embedding_matrix.shape}\")\n",
        "\n",
        "embedding_matrix = extend_embedding_matrix(glove_emb_model, \n",
        "                                          embedding_matrix,\n",
        "                                          word_to_idx_val)\n",
        "print(f\"Embedding matrix after the extension with validation oov words has shape: {embedding_matrix.shape}\")\n",
        "\n",
        "embedding_matrix = extend_embedding_matrix(glove_emb_model, \n",
        "                                          embedding_matrix,\n",
        "                                          word_to_idx_test)\n",
        "print(f\"Embedding matrix after the extension with test oov words has shape: {embedding_matrix.shape}\")"
      ]
    },
    {
      "cell_type": "markdown",
      "metadata": {
        "id": "2HIZO1d8SPFq"
      },
      "source": [
        "# Sequence length standardization \n",
        "Every sentence must have the same length as the others in the same split, otherwise we would hade different input sizes for the model. For this reason we are going to pad all the encoded sentences, adding the needed number of zeros at the end of each sentence. As a result, we are introducing another label (0) which is related to padding. For this purpose previously we forced the mapping to start from index 1. \n",
        "\n",
        "In addition, we encoded the labels using categorical representation (one-hot-encoding)."
      ]
    },
    {
      "cell_type": "code",
      "execution_count": 30,
      "metadata": {
        "id": "PHtxPN12Xu12"
      },
      "outputs": [],
      "source": [
        "max_length_dict = {\"train\": len(max(x_enc[\"train\"], key=len)),\n",
        "                   \"val\": len(max(x_enc[\"val\"], key=len)),\n",
        "                   \"test\": len(max(x_enc[\"test\"], key=len))}\n",
        "\n",
        "number_pos = len(label_to_idx) + 1 #to add the padding\n",
        "x_st, y_st, y_cat = {}, {}, {}\n",
        "\n",
        "for key in max_length_dict.keys():\n",
        "    x_st[key] = pad_sequences(x_enc[key], maxlen=max_length_dict[key], padding='post')  #add 0s at the end to reach max_length\n",
        "    y_st[key] = pad_sequences(y_enc[key], maxlen=max_length_dict[key], padding='post')  #add 0s at the end to reach max_length\n",
        "    y_cat[key] = to_categorical(y_st[key], num_classes=number_pos)  #one-hot-encoding the labels"
      ]
    },
    {
      "cell_type": "code",
      "source": [
        "print(max_length_dict)"
      ],
      "metadata": {
        "colab": {
          "base_uri": "https://localhost:8080/"
        },
        "id": "f_Um3hK7IrGm",
        "outputId": "f996eaa4-25a5-4d29-e765-cb1241938004"
      },
      "execution_count": 31,
      "outputs": [
        {
          "output_type": "stream",
          "name": "stdout",
          "text": [
            "{'train': 249, 'val': 81, 'test': 58}\n"
          ]
        }
      ]
    },
    {
      "cell_type": "markdown",
      "metadata": {
        "id": "yoFjfVeiiN4k"
      },
      "source": [
        "# Models\n",
        "In this section we will build the four models indicated in the assignment. Each of them has its section.\n",
        "\n",
        "All the models are stored in \"models\" dicitionary, in correspondance of key=model_name. The same happens for their histories, sotred in \"history\" dict."
      ]
    },
    {
      "cell_type": "code",
      "execution_count": 32,
      "metadata": {
        "id": "51i4hAotnH_s"
      },
      "outputs": [],
      "source": [
        "models = {}\n",
        "history = {}\n",
        "batch_size = 16\n",
        "epochs = 30\n",
        "units = 100"
      ]
    },
    {
      "cell_type": "markdown",
      "metadata": {
        "id": "dzdywqEviQla"
      },
      "source": [
        "## Baseline model"
      ]
    },
    {
      "cell_type": "code",
      "execution_count": 33,
      "metadata": {
        "id": "mJuzjdbijeLU"
      },
      "outputs": [],
      "source": [
        "def build_baseline_model(num_pos, \n",
        "                        embedding_matrix, \n",
        "                        name = 'baseline',\n",
        "                        units=units):\n",
        "  inputs = Input(shape=(None,), dtype=\"int32\")\n",
        "  \n",
        "  m = Embedding(input_dim=embedding_matrix.shape[0], \n",
        "                output_dim=embedding_matrix.shape[1],\n",
        "                mask_zero=True, \n",
        "                weights=[embedding_matrix], \n",
        "                trainable=False)(inputs)\n",
        "\n",
        "  m = Bidirectional(LSTM(units=units, return_sequences=True))(m)\n",
        "\n",
        "  m = Dense(num_pos, activation='softmax')(m)\n",
        "  return Model(inputs, m, name=name)"
      ]
    },
    {
      "cell_type": "code",
      "execution_count": 34,
      "metadata": {
        "id": "AzKme1uQiYRC",
        "colab": {
          "base_uri": "https://localhost:8080/"
        },
        "outputId": "72735dfe-f0ee-494f-c1c8-f417a524c9b9"
      },
      "outputs": [
        {
          "output_type": "stream",
          "name": "stdout",
          "text": [
            "Model: \"baseline\"\n",
            "_________________________________________________________________\n",
            " Layer (type)                Output Shape              Param #   \n",
            "=================================================================\n",
            " input_1 (InputLayer)        [(None, None)]            0         \n",
            "                                                                 \n",
            " embedding (Embedding)       (None, None, 50)          20028550  \n",
            "                                                                 \n",
            " bidirectional (Bidirectiona  (None, None, 200)        120800    \n",
            " l)                                                              \n",
            "                                                                 \n",
            " dense (Dense)               (None, None, 46)          9246      \n",
            "                                                                 \n",
            "=================================================================\n",
            "Total params: 20,158,596\n",
            "Trainable params: 130,046\n",
            "Non-trainable params: 20,028,550\n",
            "_________________________________________________________________\n"
          ]
        }
      ],
      "source": [
        "models[\"baseline\"] = build_baseline_model(num_pos = number_pos, \n",
        "                                          embedding_matrix = embedding_matrix, \n",
        "                                          name=\"baseline\")\n",
        "models[\"baseline\"].summary()"
      ]
    },
    {
      "cell_type": "code",
      "source": [
        "models['baseline'].compile(optimizer ='adam', \n",
        "                           loss = 'categorical_crossentropy', \n",
        "                           metrics = ['accuracy'])"
      ],
      "metadata": {
        "id": "3BuHK1jl-5D3"
      },
      "execution_count": 35,
      "outputs": []
    },
    {
      "cell_type": "code",
      "execution_count": 36,
      "metadata": {
        "colab": {
          "base_uri": "https://localhost:8080/"
        },
        "id": "E69SDCkmlv1h",
        "outputId": "19129e28-6104-4d01-ceca-4cca9b3e514e"
      },
      "outputs": [
        {
          "output_type": "stream",
          "name": "stdout",
          "text": [
            "Epoch 1/30\n",
            "123/123 [==============================] - 17s 42ms/step - loss: 0.2257 - accuracy: 0.3913 - val_loss: 0.4625 - val_accuracy: 0.5890\n",
            "Epoch 2/30\n",
            "123/123 [==============================] - 2s 20ms/step - loss: 0.1168 - accuracy: 0.6865 - val_loss: 0.3069 - val_accuracy: 0.7161\n",
            "Epoch 3/30\n",
            "123/123 [==============================] - 4s 36ms/step - loss: 0.0850 - accuracy: 0.7615 - val_loss: 0.2511 - val_accuracy: 0.7609\n",
            "Epoch 4/30\n",
            "123/123 [==============================] - 5s 38ms/step - loss: 0.0711 - accuracy: 0.7959 - val_loss: 0.2204 - val_accuracy: 0.7882\n",
            "Epoch 5/30\n",
            "123/123 [==============================] - 5s 40ms/step - loss: 0.0624 - accuracy: 0.8187 - val_loss: 0.2019 - val_accuracy: 0.8061\n",
            "Epoch 6/30\n",
            "123/123 [==============================] - 5s 37ms/step - loss: 0.0563 - accuracy: 0.8355 - val_loss: 0.1877 - val_accuracy: 0.8161\n",
            "Epoch 7/30\n",
            "123/123 [==============================] - 5s 42ms/step - loss: 0.0515 - accuracy: 0.8482 - val_loss: 0.1772 - val_accuracy: 0.8252\n",
            "Epoch 8/30\n",
            "123/123 [==============================] - 3s 21ms/step - loss: 0.0473 - accuracy: 0.8609 - val_loss: 0.1693 - val_accuracy: 0.8307\n",
            "Epoch 9/30\n",
            "123/123 [==============================] - 4s 34ms/step - loss: 0.0438 - accuracy: 0.8719 - val_loss: 0.1612 - val_accuracy: 0.8383\n",
            "Epoch 10/30\n",
            "123/123 [==============================] - 3s 21ms/step - loss: 0.0406 - accuracy: 0.8804 - val_loss: 0.1543 - val_accuracy: 0.8453\n",
            "Epoch 11/30\n",
            "123/123 [==============================] - 3s 21ms/step - loss: 0.0378 - accuracy: 0.8893 - val_loss: 0.1490 - val_accuracy: 0.8511\n",
            "Epoch 12/30\n",
            "123/123 [==============================] - 2s 20ms/step - loss: 0.0353 - accuracy: 0.8972 - val_loss: 0.1446 - val_accuracy: 0.8543\n",
            "Epoch 13/30\n",
            "123/123 [==============================] - 2s 19ms/step - loss: 0.0328 - accuracy: 0.9057 - val_loss: 0.1405 - val_accuracy: 0.8578\n",
            "Epoch 14/30\n",
            "123/123 [==============================] - 2s 20ms/step - loss: 0.0307 - accuracy: 0.9123 - val_loss: 0.1375 - val_accuracy: 0.8618\n",
            "Epoch 15/30\n",
            "123/123 [==============================] - 2s 20ms/step - loss: 0.0287 - accuracy: 0.9186 - val_loss: 0.1340 - val_accuracy: 0.8642\n",
            "Epoch 16/30\n",
            "123/123 [==============================] - 2s 20ms/step - loss: 0.0269 - accuracy: 0.9242 - val_loss: 0.1317 - val_accuracy: 0.8651\n",
            "Epoch 17/30\n",
            "123/123 [==============================] - 2s 20ms/step - loss: 0.0251 - accuracy: 0.9302 - val_loss: 0.1291 - val_accuracy: 0.8673\n",
            "Epoch 18/30\n",
            "123/123 [==============================] - 2s 20ms/step - loss: 0.0235 - accuracy: 0.9358 - val_loss: 0.1270 - val_accuracy: 0.8696\n",
            "Epoch 19/30\n",
            "123/123 [==============================] - 3s 22ms/step - loss: 0.0221 - accuracy: 0.9401 - val_loss: 0.1277 - val_accuracy: 0.8681\n",
            "Epoch 20/30\n",
            "123/123 [==============================] - 4s 30ms/step - loss: 0.0206 - accuracy: 0.9451 - val_loss: 0.1260 - val_accuracy: 0.8707\n",
            "Epoch 21/30\n",
            "123/123 [==============================] - 4s 33ms/step - loss: 0.0192 - accuracy: 0.9489 - val_loss: 0.1247 - val_accuracy: 0.8715\n",
            "Epoch 22/30\n",
            "123/123 [==============================] - 4s 33ms/step - loss: 0.0179 - accuracy: 0.9530 - val_loss: 0.1238 - val_accuracy: 0.8731\n",
            "Epoch 23/30\n",
            "123/123 [==============================] - 3s 20ms/step - loss: 0.0167 - accuracy: 0.9568 - val_loss: 0.1248 - val_accuracy: 0.8713\n",
            "Epoch 24/30\n",
            "123/123 [==============================] - 3s 22ms/step - loss: 0.0155 - accuracy: 0.9611 - val_loss: 0.1237 - val_accuracy: 0.8729\n",
            "Epoch 25/30\n",
            "123/123 [==============================] - 3s 24ms/step - loss: 0.0144 - accuracy: 0.9644 - val_loss: 0.1241 - val_accuracy: 0.8741\n",
            "Epoch 26/30\n",
            "123/123 [==============================] - 2s 20ms/step - loss: 0.0133 - accuracy: 0.9689 - val_loss: 0.1252 - val_accuracy: 0.8726\n",
            "Epoch 27/30\n",
            "123/123 [==============================] - 2s 19ms/step - loss: 0.0123 - accuracy: 0.9723 - val_loss: 0.1260 - val_accuracy: 0.8730\n",
            "Epoch 28/30\n",
            "123/123 [==============================] - 3s 26ms/step - loss: 0.0114 - accuracy: 0.9751 - val_loss: 0.1264 - val_accuracy: 0.8731\n",
            "Epoch 29/30\n",
            "123/123 [==============================] - 4s 29ms/step - loss: 0.0104 - accuracy: 0.9785 - val_loss: 0.1306 - val_accuracy: 0.8694\n",
            "Epoch 30/30\n",
            "123/123 [==============================] - 2s 20ms/step - loss: 0.0096 - accuracy: 0.9820 - val_loss: 0.1285 - val_accuracy: 0.8710\n"
          ]
        }
      ],
      "source": [
        "history['baseline'] = models['baseline'].fit(x=x_st[\"train\"], \n",
        "                   y=y_cat[\"train\"], \n",
        "                   batch_size=batch_size, \n",
        "                   epochs=epochs, \n",
        "                   validation_data=(x_st[\"val\"], y_cat[\"val\"]))"
      ]
    },
    {
      "cell_type": "code",
      "source": [
        "models[\"baseline\"].save_weights('./baseline.h5')"
      ],
      "metadata": {
        "id": "CKaMP6rBKP4T"
      },
      "execution_count": 37,
      "outputs": []
    },
    {
      "cell_type": "markdown",
      "source": [
        "## Baseline with GRU instead of LSTM"
      ],
      "metadata": {
        "id": "i7frWEJB-OS7"
      }
    },
    {
      "cell_type": "code",
      "execution_count": 38,
      "metadata": {
        "id": "ZQ8e1t7MzP2O"
      },
      "outputs": [],
      "source": [
        "def build_baseline_model_with_GRU(num_pos, \n",
        "                        embedding_matrix, \n",
        "                        name = 'baseline_with_GRU',\n",
        "                        units=units):\n",
        "  inputs = Input(shape=(None,), dtype=\"int32\")\n",
        "  \n",
        "  m = Embedding(input_dim=embedding_matrix.shape[0], \n",
        "                output_dim=embedding_matrix.shape[1],\n",
        "                mask_zero=True, \n",
        "                weights=[embedding_matrix], \n",
        "                trainable=False)(inputs)\n",
        "\n",
        "  m = Bidirectional(GRU(units=units, return_sequences=True))(m)\n",
        "\n",
        "  m = Dense(num_pos, activation='softmax')(m)\n",
        "  return Model(inputs, m, name=name)"
      ]
    },
    {
      "cell_type": "code",
      "source": [
        "models[\"baseline_with_GRU\"] = build_baseline_model_with_GRU(num_pos = number_pos, \n",
        "                                          embedding_matrix = embedding_matrix, \n",
        "                                          name=\"baseline_with_GRU\")\n",
        "models[\"baseline_with_GRU\"].summary()"
      ],
      "metadata": {
        "colab": {
          "base_uri": "https://localhost:8080/"
        },
        "id": "DPmIObbS-7JN",
        "outputId": "742ced56-09c4-4e4b-bdb6-7b46c87ff974"
      },
      "execution_count": 39,
      "outputs": [
        {
          "output_type": "stream",
          "name": "stdout",
          "text": [
            "Model: \"baseline_with_GRU\"\n",
            "_________________________________________________________________\n",
            " Layer (type)                Output Shape              Param #   \n",
            "=================================================================\n",
            " input_2 (InputLayer)        [(None, None)]            0         \n",
            "                                                                 \n",
            " embedding_1 (Embedding)     (None, None, 50)          20028550  \n",
            "                                                                 \n",
            " bidirectional_1 (Bidirectio  (None, None, 200)        91200     \n",
            " nal)                                                            \n",
            "                                                                 \n",
            " dense_1 (Dense)             (None, None, 46)          9246      \n",
            "                                                                 \n",
            "=================================================================\n",
            "Total params: 20,128,996\n",
            "Trainable params: 100,446\n",
            "Non-trainable params: 20,028,550\n",
            "_________________________________________________________________\n"
          ]
        }
      ]
    },
    {
      "cell_type": "code",
      "source": [
        "models['baseline_with_GRU'].compile(optimizer ='adam', \n",
        "                           loss = 'categorical_crossentropy', \n",
        "                           metrics = ['accuracy'])"
      ],
      "metadata": {
        "id": "PhrXQ3qS_GPp"
      },
      "execution_count": 40,
      "outputs": []
    },
    {
      "cell_type": "code",
      "source": [
        "history['baseline_with_GRU'] = models['baseline_with_GRU'].fit(x=x_st[\"train\"], \n",
        "                   y=y_cat[\"train\"], \n",
        "                   batch_size=batch_size, \n",
        "                   epochs=epochs, \n",
        "                   validation_data=(x_st[\"val\"], y_cat[\"val\"]))"
      ],
      "metadata": {
        "colab": {
          "base_uri": "https://localhost:8080/"
        },
        "id": "dDZ1wgbp_GqG",
        "outputId": "e4a88783-b58e-49ff-909a-208322bb129c"
      },
      "execution_count": 41,
      "outputs": [
        {
          "output_type": "stream",
          "name": "stdout",
          "text": [
            "Epoch 1/30\n",
            "123/123 [==============================] - 13s 49ms/step - loss: 0.1954 - accuracy: 0.4845 - val_loss: 0.3601 - val_accuracy: 0.6745\n",
            "Epoch 2/30\n",
            "123/123 [==============================] - 4s 32ms/step - loss: 0.0917 - accuracy: 0.7467 - val_loss: 0.2492 - val_accuracy: 0.7636\n",
            "Epoch 3/30\n",
            "123/123 [==============================] - 3s 25ms/step - loss: 0.0692 - accuracy: 0.8006 - val_loss: 0.2117 - val_accuracy: 0.7940\n",
            "Epoch 4/30\n",
            "123/123 [==============================] - 3s 24ms/step - loss: 0.0587 - accuracy: 0.8264 - val_loss: 0.1868 - val_accuracy: 0.8164\n",
            "Epoch 5/30\n",
            "123/123 [==============================] - 2s 20ms/step - loss: 0.0515 - accuracy: 0.8460 - val_loss: 0.1716 - val_accuracy: 0.8306\n",
            "Epoch 6/30\n",
            "123/123 [==============================] - 2s 19ms/step - loss: 0.0461 - accuracy: 0.8616 - val_loss: 0.1594 - val_accuracy: 0.8403\n",
            "Epoch 7/30\n",
            "123/123 [==============================] - 2s 20ms/step - loss: 0.0417 - accuracy: 0.8747 - val_loss: 0.1501 - val_accuracy: 0.8496\n",
            "Epoch 8/30\n",
            "123/123 [==============================] - 2s 19ms/step - loss: 0.0379 - accuracy: 0.8877 - val_loss: 0.1434 - val_accuracy: 0.8542\n",
            "Epoch 9/30\n",
            "123/123 [==============================] - 2s 19ms/step - loss: 0.0346 - accuracy: 0.8960 - val_loss: 0.1373 - val_accuracy: 0.8606\n",
            "Epoch 10/30\n",
            "123/123 [==============================] - 2s 18ms/step - loss: 0.0316 - accuracy: 0.9061 - val_loss: 0.1319 - val_accuracy: 0.8653\n",
            "Epoch 11/30\n",
            "123/123 [==============================] - 2s 19ms/step - loss: 0.0290 - accuracy: 0.9138 - val_loss: 0.1280 - val_accuracy: 0.8688\n",
            "Epoch 12/30\n",
            "123/123 [==============================] - 2s 19ms/step - loss: 0.0267 - accuracy: 0.9220 - val_loss: 0.1241 - val_accuracy: 0.8722\n",
            "Epoch 13/30\n",
            "123/123 [==============================] - 2s 19ms/step - loss: 0.0245 - accuracy: 0.9296 - val_loss: 0.1226 - val_accuracy: 0.8728\n",
            "Epoch 14/30\n",
            "123/123 [==============================] - 2s 19ms/step - loss: 0.0225 - accuracy: 0.9362 - val_loss: 0.1213 - val_accuracy: 0.8729\n",
            "Epoch 15/30\n",
            "123/123 [==============================] - 2s 20ms/step - loss: 0.0207 - accuracy: 0.9415 - val_loss: 0.1198 - val_accuracy: 0.8749\n",
            "Epoch 16/30\n",
            "123/123 [==============================] - 2s 20ms/step - loss: 0.0190 - accuracy: 0.9477 - val_loss: 0.1185 - val_accuracy: 0.8765\n",
            "Epoch 17/30\n",
            "123/123 [==============================] - 3s 25ms/step - loss: 0.0175 - accuracy: 0.9533 - val_loss: 0.1182 - val_accuracy: 0.8769\n",
            "Epoch 18/30\n",
            "123/123 [==============================] - 2s 20ms/step - loss: 0.0159 - accuracy: 0.9588 - val_loss: 0.1188 - val_accuracy: 0.8760\n",
            "Epoch 19/30\n",
            "123/123 [==============================] - 2s 19ms/step - loss: 0.0145 - accuracy: 0.9630 - val_loss: 0.1197 - val_accuracy: 0.8766\n",
            "Epoch 20/30\n",
            "123/123 [==============================] - 2s 19ms/step - loss: 0.0132 - accuracy: 0.9679 - val_loss: 0.1202 - val_accuracy: 0.8760\n",
            "Epoch 21/30\n",
            "123/123 [==============================] - 2s 20ms/step - loss: 0.0119 - accuracy: 0.9717 - val_loss: 0.1197 - val_accuracy: 0.8768\n",
            "Epoch 22/30\n",
            "123/123 [==============================] - 2s 19ms/step - loss: 0.0107 - accuracy: 0.9763 - val_loss: 0.1213 - val_accuracy: 0.8762\n",
            "Epoch 23/30\n",
            "123/123 [==============================] - 2s 19ms/step - loss: 0.0096 - accuracy: 0.9806 - val_loss: 0.1228 - val_accuracy: 0.8767\n",
            "Epoch 24/30\n",
            "123/123 [==============================] - 2s 19ms/step - loss: 0.0087 - accuracy: 0.9836 - val_loss: 0.1244 - val_accuracy: 0.8750\n",
            "Epoch 25/30\n",
            "123/123 [==============================] - 3s 22ms/step - loss: 0.0077 - accuracy: 0.9861 - val_loss: 0.1260 - val_accuracy: 0.8754\n",
            "Epoch 26/30\n",
            "123/123 [==============================] - 2s 18ms/step - loss: 0.0069 - accuracy: 0.9895 - val_loss: 0.1282 - val_accuracy: 0.8746\n",
            "Epoch 27/30\n",
            "123/123 [==============================] - 4s 33ms/step - loss: 0.0060 - accuracy: 0.9918 - val_loss: 0.1307 - val_accuracy: 0.8728\n",
            "Epoch 28/30\n",
            "123/123 [==============================] - 5s 38ms/step - loss: 0.0054 - accuracy: 0.9934 - val_loss: 0.1322 - val_accuracy: 0.8728\n",
            "Epoch 29/30\n",
            "123/123 [==============================] - 2s 20ms/step - loss: 0.0047 - accuracy: 0.9953 - val_loss: 0.1350 - val_accuracy: 0.8720\n",
            "Epoch 30/30\n",
            "123/123 [==============================] - 2s 19ms/step - loss: 0.0042 - accuracy: 0.9963 - val_loss: 0.1365 - val_accuracy: 0.8717\n"
          ]
        }
      ]
    },
    {
      "cell_type": "code",
      "source": [
        "models[\"baseline_with_GRU\"].save_weights('./baseline_with_GRU.h5')"
      ],
      "metadata": {
        "id": "MKmKVmxmK-SK"
      },
      "execution_count": 42,
      "outputs": []
    },
    {
      "cell_type": "markdown",
      "source": [
        "## Baseline with an additional LSTM"
      ],
      "metadata": {
        "id": "RTAMzroP_YH0"
      }
    },
    {
      "cell_type": "code",
      "execution_count": 43,
      "metadata": {
        "id": "zB2ojg28_YH1"
      },
      "outputs": [],
      "source": [
        "def build_baseline_model_with_additional_LSTM(num_pos, \n",
        "                        embedding_matrix, \n",
        "                        name = 'baseline_with_2_LSTM',\n",
        "                        units=units):\n",
        "  inputs = Input(shape=(None,), dtype=\"int32\")\n",
        "  \n",
        "  m = Embedding(input_dim=embedding_matrix.shape[0], \n",
        "                output_dim=embedding_matrix.shape[1],\n",
        "                mask_zero=True, \n",
        "                weights=[embedding_matrix], \n",
        "                trainable=False)(inputs)\n",
        "\n",
        "  m = Bidirectional(LSTM(units=units, return_sequences=True))(m)\n",
        "  m = LSTM(units=units, return_sequences=True)(m)\n",
        "  m = Dense(num_pos, activation='softmax')(m)\n",
        "  return Model(inputs, m, name=name)"
      ]
    },
    {
      "cell_type": "code",
      "source": [
        "models[\"baseline_with_2_LSTM\"] = build_baseline_model_with_additional_LSTM(num_pos = number_pos, \n",
        "                                          embedding_matrix = embedding_matrix, \n",
        "                                          name=\"baseline_with_2_LSTM\")\n",
        "models[\"baseline_with_2_LSTM\"].summary()"
      ],
      "metadata": {
        "colab": {
          "base_uri": "https://localhost:8080/"
        },
        "id": "W7uCYf9u_YH1",
        "outputId": "80675ff8-d39f-4731-809d-314aa43ea9fe"
      },
      "execution_count": 44,
      "outputs": [
        {
          "output_type": "stream",
          "name": "stdout",
          "text": [
            "Model: \"baseline_with_2_LSTM\"\n",
            "_________________________________________________________________\n",
            " Layer (type)                Output Shape              Param #   \n",
            "=================================================================\n",
            " input_3 (InputLayer)        [(None, None)]            0         \n",
            "                                                                 \n",
            " embedding_2 (Embedding)     (None, None, 50)          20028550  \n",
            "                                                                 \n",
            " bidirectional_2 (Bidirectio  (None, None, 200)        120800    \n",
            " nal)                                                            \n",
            "                                                                 \n",
            " lstm_2 (LSTM)               (None, None, 100)         120400    \n",
            "                                                                 \n",
            " dense_2 (Dense)             (None, None, 46)          4646      \n",
            "                                                                 \n",
            "=================================================================\n",
            "Total params: 20,274,396\n",
            "Trainable params: 245,846\n",
            "Non-trainable params: 20,028,550\n",
            "_________________________________________________________________\n"
          ]
        }
      ]
    },
    {
      "cell_type": "code",
      "source": [
        "models['baseline_with_2_LSTM'].compile(optimizer ='adam', \n",
        "                           loss = 'categorical_crossentropy', \n",
        "                           metrics = ['accuracy'])"
      ],
      "metadata": {
        "id": "JhGdRZs0_YH2"
      },
      "execution_count": 45,
      "outputs": []
    },
    {
      "cell_type": "code",
      "source": [
        "history['baseline_with_2_LSTM'] = models['baseline_with_2_LSTM'].fit(x=x_st[\"train\"], \n",
        "                   y=y_cat[\"train\"], \n",
        "                   batch_size=batch_size, \n",
        "                   epochs=epochs, \n",
        "                   validation_data=(x_st[\"val\"], y_cat[\"val\"]))"
      ],
      "metadata": {
        "colab": {
          "base_uri": "https://localhost:8080/"
        },
        "id": "TX1BcD8G_YH2",
        "outputId": "1277bf46-4560-47e7-9858-31673615833c"
      },
      "execution_count": 46,
      "outputs": [
        {
          "output_type": "stream",
          "name": "stdout",
          "text": [
            "Epoch 1/30\n",
            "123/123 [==============================] - 18s 61ms/step - loss: 0.2484 - accuracy: 0.2969 - val_loss: 0.5381 - val_accuracy: 0.5076\n",
            "Epoch 2/30\n",
            "123/123 [==============================] - 4s 29ms/step - loss: 0.1342 - accuracy: 0.6215 - val_loss: 0.3450 - val_accuracy: 0.6786\n",
            "Epoch 3/30\n",
            "123/123 [==============================] - 3s 28ms/step - loss: 0.0929 - accuracy: 0.7405 - val_loss: 0.2652 - val_accuracy: 0.7494\n",
            "Epoch 4/30\n",
            "123/123 [==============================] - 4s 34ms/step - loss: 0.0739 - accuracy: 0.7897 - val_loss: 0.2236 - val_accuracy: 0.7858\n",
            "Epoch 5/30\n",
            "123/123 [==============================] - 4s 36ms/step - loss: 0.0623 - accuracy: 0.8193 - val_loss: 0.1978 - val_accuracy: 0.8124\n",
            "Epoch 6/30\n",
            "123/123 [==============================] - 4s 29ms/step - loss: 0.0539 - accuracy: 0.8447 - val_loss: 0.1793 - val_accuracy: 0.8244\n",
            "Epoch 7/30\n",
            "123/123 [==============================] - 3s 28ms/step - loss: 0.0475 - accuracy: 0.8619 - val_loss: 0.1654 - val_accuracy: 0.8371\n",
            "Epoch 8/30\n",
            "123/123 [==============================] - 4s 29ms/step - loss: 0.0425 - accuracy: 0.8763 - val_loss: 0.1547 - val_accuracy: 0.8456\n",
            "Epoch 9/30\n",
            "123/123 [==============================] - 4s 29ms/step - loss: 0.0383 - accuracy: 0.8876 - val_loss: 0.1459 - val_accuracy: 0.8532\n",
            "Epoch 10/30\n",
            "123/123 [==============================] - 5s 44ms/step - loss: 0.0348 - accuracy: 0.8980 - val_loss: 0.1377 - val_accuracy: 0.8626\n",
            "Epoch 11/30\n",
            "123/123 [==============================] - 3s 28ms/step - loss: 0.0317 - accuracy: 0.9073 - val_loss: 0.1329 - val_accuracy: 0.8652\n",
            "Epoch 12/30\n",
            "123/123 [==============================] - 4s 29ms/step - loss: 0.0292 - accuracy: 0.9152 - val_loss: 0.1284 - val_accuracy: 0.8720\n",
            "Epoch 13/30\n",
            "123/123 [==============================] - 3s 28ms/step - loss: 0.0266 - accuracy: 0.9236 - val_loss: 0.1260 - val_accuracy: 0.8751\n",
            "Epoch 14/30\n",
            "123/123 [==============================] - 4s 30ms/step - loss: 0.0242 - accuracy: 0.9309 - val_loss: 0.1212 - val_accuracy: 0.8785\n",
            "Epoch 15/30\n",
            "123/123 [==============================] - 4s 30ms/step - loss: 0.0221 - accuracy: 0.9381 - val_loss: 0.1210 - val_accuracy: 0.8815\n",
            "Epoch 16/30\n",
            "123/123 [==============================] - 4s 30ms/step - loss: 0.0202 - accuracy: 0.9440 - val_loss: 0.1198 - val_accuracy: 0.8825\n",
            "Epoch 17/30\n",
            "123/123 [==============================] - 6s 50ms/step - loss: 0.0186 - accuracy: 0.9483 - val_loss: 0.1173 - val_accuracy: 0.8838\n",
            "Epoch 18/30\n",
            "123/123 [==============================] - 5s 44ms/step - loss: 0.0165 - accuracy: 0.9551 - val_loss: 0.1172 - val_accuracy: 0.8834\n",
            "Epoch 19/30\n",
            "123/123 [==============================] - 7s 60ms/step - loss: 0.0151 - accuracy: 0.9594 - val_loss: 0.1205 - val_accuracy: 0.8816\n",
            "Epoch 20/30\n",
            "123/123 [==============================] - 4s 35ms/step - loss: 0.0135 - accuracy: 0.9651 - val_loss: 0.1183 - val_accuracy: 0.8842\n",
            "Epoch 21/30\n",
            "123/123 [==============================] - 4s 31ms/step - loss: 0.0120 - accuracy: 0.9691 - val_loss: 0.1198 - val_accuracy: 0.8838\n",
            "Epoch 22/30\n",
            "123/123 [==============================] - 4s 33ms/step - loss: 0.0106 - accuracy: 0.9745 - val_loss: 0.1214 - val_accuracy: 0.8848\n",
            "Epoch 23/30\n",
            "123/123 [==============================] - 4s 33ms/step - loss: 0.0094 - accuracy: 0.9788 - val_loss: 0.1229 - val_accuracy: 0.8842\n",
            "Epoch 24/30\n",
            "123/123 [==============================] - 3s 28ms/step - loss: 0.0083 - accuracy: 0.9826 - val_loss: 0.1261 - val_accuracy: 0.8815\n",
            "Epoch 25/30\n",
            "123/123 [==============================] - 3s 28ms/step - loss: 0.0073 - accuracy: 0.9859 - val_loss: 0.1263 - val_accuracy: 0.8838\n",
            "Epoch 26/30\n",
            "123/123 [==============================] - 4s 29ms/step - loss: 0.0063 - accuracy: 0.9891 - val_loss: 0.1333 - val_accuracy: 0.8804\n",
            "Epoch 27/30\n",
            "123/123 [==============================] - 3s 28ms/step - loss: 0.0056 - accuracy: 0.9905 - val_loss: 0.1301 - val_accuracy: 0.8840\n",
            "Epoch 28/30\n",
            "123/123 [==============================] - 3s 28ms/step - loss: 0.0047 - accuracy: 0.9931 - val_loss: 0.1332 - val_accuracy: 0.8823\n",
            "Epoch 29/30\n",
            "123/123 [==============================] - 5s 37ms/step - loss: 0.0042 - accuracy: 0.9944 - val_loss: 0.1367 - val_accuracy: 0.8812\n",
            "Epoch 30/30\n",
            "123/123 [==============================] - 4s 29ms/step - loss: 0.0036 - accuracy: 0.9956 - val_loss: 0.1388 - val_accuracy: 0.8822\n"
          ]
        }
      ]
    },
    {
      "cell_type": "code",
      "source": [
        "models[\"baseline_with_2_LSTM\"].save_weights('./baseline_with_2_LSTM.h5')"
      ],
      "metadata": {
        "id": "bR7rOzWXLDgf"
      },
      "execution_count": 47,
      "outputs": []
    },
    {
      "cell_type": "markdown",
      "source": [
        "## Baseline with an additional Dense layer"
      ],
      "metadata": {
        "id": "ZdF3KP3rB7ee"
      }
    },
    {
      "cell_type": "code",
      "execution_count": 48,
      "metadata": {
        "id": "Fgx9xO5xB7em"
      },
      "outputs": [],
      "source": [
        "def build_baseline_model_with_additional_Dense(num_pos, \n",
        "                        embedding_matrix, \n",
        "                        name = 'baseline_with_2_Dense',\n",
        "                        units=units):\n",
        "  inputs = Input(shape=(None,), dtype=\"int32\")\n",
        "  \n",
        "  m = Embedding(input_dim=embedding_matrix.shape[0], \n",
        "                output_dim=embedding_matrix.shape[1],\n",
        "                mask_zero=True, \n",
        "                weights=[embedding_matrix], \n",
        "                trainable=False)(inputs)\n",
        "\n",
        "  m = Bidirectional(LSTM(units=units, return_sequences=True))(m)\n",
        "  m = Dense(100, activation='relu')(m)\n",
        "  m = Dense(num_pos, activation='softmax')(m)\n",
        "  return Model(inputs, m, name=name)"
      ]
    },
    {
      "cell_type": "code",
      "source": [
        "models[\"baseline_with_2_Dense\"] = build_baseline_model_with_additional_Dense(num_pos = number_pos, \n",
        "                                          embedding_matrix = embedding_matrix, \n",
        "                                          name=\"baseline_with_2_Dense\")\n",
        "models[\"baseline_with_2_Dense\"].summary()"
      ],
      "metadata": {
        "colab": {
          "base_uri": "https://localhost:8080/"
        },
        "outputId": "477dcea4-7164-4f66-bacc-69cbd67999b8",
        "id": "ALHF_0eAB7en"
      },
      "execution_count": 49,
      "outputs": [
        {
          "output_type": "stream",
          "name": "stdout",
          "text": [
            "Model: \"baseline_with_2_Dense\"\n",
            "_________________________________________________________________\n",
            " Layer (type)                Output Shape              Param #   \n",
            "=================================================================\n",
            " input_4 (InputLayer)        [(None, None)]            0         \n",
            "                                                                 \n",
            " embedding_3 (Embedding)     (None, None, 50)          20028550  \n",
            "                                                                 \n",
            " bidirectional_3 (Bidirectio  (None, None, 200)        120800    \n",
            " nal)                                                            \n",
            "                                                                 \n",
            " dense_3 (Dense)             (None, None, 100)         20100     \n",
            "                                                                 \n",
            " dense_4 (Dense)             (None, None, 46)          4646      \n",
            "                                                                 \n",
            "=================================================================\n",
            "Total params: 20,174,096\n",
            "Trainable params: 145,546\n",
            "Non-trainable params: 20,028,550\n",
            "_________________________________________________________________\n"
          ]
        }
      ]
    },
    {
      "cell_type": "code",
      "source": [
        "models['baseline_with_2_Dense'].compile(optimizer ='adam', \n",
        "                           loss = 'categorical_crossentropy', \n",
        "                           metrics = ['accuracy'])"
      ],
      "metadata": {
        "id": "j90F7D1IB7en"
      },
      "execution_count": 50,
      "outputs": []
    },
    {
      "cell_type": "code",
      "source": [
        "history['baseline_with_2_Dense'] = models['baseline_with_2_Dense'].fit(x=x_st[\"train\"], \n",
        "                   y=y_cat[\"train\"], \n",
        "                   batch_size=batch_size, \n",
        "                   epochs=epochs, \n",
        "                   validation_data=(x_st[\"val\"], y_cat[\"val\"]))"
      ],
      "metadata": {
        "colab": {
          "base_uri": "https://localhost:8080/"
        },
        "id": "Z36602FdB7en",
        "outputId": "56de0876-cc09-49da-b098-7a138dde3dfb"
      },
      "execution_count": 51,
      "outputs": [
        {
          "output_type": "stream",
          "name": "stdout",
          "text": [
            "Epoch 1/30\n",
            "123/123 [==============================] - 15s 51ms/step - loss: 0.2156 - accuracy: 0.4106 - val_loss: 0.3928 - val_accuracy: 0.6353\n",
            "Epoch 2/30\n",
            "123/123 [==============================] - 3s 22ms/step - loss: 0.0978 - accuracy: 0.7221 - val_loss: 0.2658 - val_accuracy: 0.7386\n",
            "Epoch 3/30\n",
            "123/123 [==============================] - 3s 27ms/step - loss: 0.0719 - accuracy: 0.7885 - val_loss: 0.2203 - val_accuracy: 0.7841\n",
            "Epoch 4/30\n",
            "123/123 [==============================] - 5s 40ms/step - loss: 0.0598 - accuracy: 0.8204 - val_loss: 0.1907 - val_accuracy: 0.8102\n",
            "Epoch 5/30\n",
            "123/123 [==============================] - 4s 30ms/step - loss: 0.0518 - accuracy: 0.8432 - val_loss: 0.1725 - val_accuracy: 0.8300\n",
            "Epoch 6/30\n",
            "123/123 [==============================] - 3s 27ms/step - loss: 0.0456 - accuracy: 0.8624 - val_loss: 0.1617 - val_accuracy: 0.8354\n",
            "Epoch 7/30\n",
            "123/123 [==============================] - 3s 25ms/step - loss: 0.0409 - accuracy: 0.8771 - val_loss: 0.1510 - val_accuracy: 0.8480\n",
            "Epoch 8/30\n",
            "123/123 [==============================] - 3s 21ms/step - loss: 0.0369 - accuracy: 0.8889 - val_loss: 0.1461 - val_accuracy: 0.8521\n",
            "Epoch 9/30\n",
            "123/123 [==============================] - 3s 24ms/step - loss: 0.0335 - accuracy: 0.8993 - val_loss: 0.1374 - val_accuracy: 0.8596\n",
            "Epoch 10/30\n",
            "123/123 [==============================] - 3s 28ms/step - loss: 0.0305 - accuracy: 0.9078 - val_loss: 0.1322 - val_accuracy: 0.8650\n",
            "Epoch 11/30\n",
            "123/123 [==============================] - 3s 22ms/step - loss: 0.0278 - accuracy: 0.9169 - val_loss: 0.1276 - val_accuracy: 0.8705\n",
            "Epoch 12/30\n",
            "123/123 [==============================] - 3s 22ms/step - loss: 0.0253 - accuracy: 0.9244 - val_loss: 0.1252 - val_accuracy: 0.8721\n",
            "Epoch 13/30\n",
            "123/123 [==============================] - 3s 21ms/step - loss: 0.0231 - accuracy: 0.9311 - val_loss: 0.1241 - val_accuracy: 0.8759\n",
            "Epoch 14/30\n",
            "123/123 [==============================] - 3s 28ms/step - loss: 0.0210 - accuracy: 0.9373 - val_loss: 0.1228 - val_accuracy: 0.8753\n",
            "Epoch 15/30\n",
            "123/123 [==============================] - 4s 33ms/step - loss: 0.0190 - accuracy: 0.9440 - val_loss: 0.1206 - val_accuracy: 0.8797\n",
            "Epoch 16/30\n",
            "123/123 [==============================] - 5s 37ms/step - loss: 0.0172 - accuracy: 0.9496 - val_loss: 0.1222 - val_accuracy: 0.8789\n",
            "Epoch 17/30\n",
            "123/123 [==============================] - 4s 35ms/step - loss: 0.0158 - accuracy: 0.9537 - val_loss: 0.1193 - val_accuracy: 0.8828\n",
            "Epoch 18/30\n",
            "123/123 [==============================] - 3s 21ms/step - loss: 0.0139 - accuracy: 0.9599 - val_loss: 0.1219 - val_accuracy: 0.8802\n",
            "Epoch 19/30\n",
            "123/123 [==============================] - 3s 25ms/step - loss: 0.0125 - accuracy: 0.9659 - val_loss: 0.1252 - val_accuracy: 0.8776\n",
            "Epoch 20/30\n",
            "123/123 [==============================] - 3s 21ms/step - loss: 0.0112 - accuracy: 0.9694 - val_loss: 0.1272 - val_accuracy: 0.8785\n",
            "Epoch 21/30\n",
            "123/123 [==============================] - 3s 21ms/step - loss: 0.0099 - accuracy: 0.9738 - val_loss: 0.1296 - val_accuracy: 0.8791\n",
            "Epoch 22/30\n",
            "123/123 [==============================] - 3s 21ms/step - loss: 0.0086 - accuracy: 0.9777 - val_loss: 0.1299 - val_accuracy: 0.8786\n",
            "Epoch 23/30\n",
            "123/123 [==============================] - 4s 30ms/step - loss: 0.0075 - accuracy: 0.9819 - val_loss: 0.1353 - val_accuracy: 0.8785\n",
            "Epoch 24/30\n",
            "123/123 [==============================] - 3s 22ms/step - loss: 0.0065 - accuracy: 0.9851 - val_loss: 0.1359 - val_accuracy: 0.8785\n",
            "Epoch 25/30\n",
            "123/123 [==============================] - 3s 21ms/step - loss: 0.0054 - accuracy: 0.9896 - val_loss: 0.1388 - val_accuracy: 0.8794\n",
            "Epoch 26/30\n",
            "123/123 [==============================] - 3s 21ms/step - loss: 0.0046 - accuracy: 0.9917 - val_loss: 0.1432 - val_accuracy: 0.8779\n",
            "Epoch 27/30\n",
            "123/123 [==============================] - 3s 21ms/step - loss: 0.0039 - accuracy: 0.9936 - val_loss: 0.1458 - val_accuracy: 0.8774\n",
            "Epoch 28/30\n",
            "123/123 [==============================] - 3s 21ms/step - loss: 0.0033 - accuracy: 0.9955 - val_loss: 0.1507 - val_accuracy: 0.8780\n",
            "Epoch 29/30\n",
            "123/123 [==============================] - 3s 21ms/step - loss: 0.0027 - accuracy: 0.9970 - val_loss: 0.1563 - val_accuracy: 0.8757\n",
            "Epoch 30/30\n",
            "123/123 [==============================] - 3s 20ms/step - loss: 0.0023 - accuracy: 0.9974 - val_loss: 0.1589 - val_accuracy: 0.8753\n"
          ]
        }
      ]
    },
    {
      "cell_type": "code",
      "source": [
        "models[\"baseline_with_2_Dense\"].save_weights('./baseline_with_2_Dense.h5')"
      ],
      "metadata": {
        "id": "TqK24DvuLIQ1"
      },
      "execution_count": 52,
      "outputs": []
    },
    {
      "cell_type": "markdown",
      "source": [
        "# Evaluation"
      ],
      "metadata": {
        "id": "fytMiTJSFF00"
      }
    },
    {
      "cell_type": "markdown",
      "source": [
        "## F1 score"
      ],
      "metadata": {
        "id": "it4lzbh7Yv-z"
      }
    },
    {
      "cell_type": "markdown",
      "source": [
        "To exclude punctuation, we are going to check the content of our label vocabulary. Inside this dictionary we have all the labels used above. Since the goal is to exclude them from f1-score computation, we will create a list of these special pos that will be used at evaluation time."
      ],
      "metadata": {
        "id": "XHlG4HYWKdSq"
      }
    },
    {
      "cell_type": "code",
      "source": [
        "print(\" \".join(label_to_idx.keys()))"
      ],
      "metadata": {
        "colab": {
          "base_uri": "https://localhost:8080/"
        },
        "id": "z6fmPinbHSlL",
        "outputId": "54164d16-230d-4a77-a273-8b5095c80f50"
      },
      "execution_count": 53,
      "outputs": [
        {
          "output_type": "stream",
          "name": "stdout",
          "text": [
            "NNP , CD NNS JJ MD VB DT NN IN . VBZ VBG CC VBD VBN RB TO PRP RBR WDT VBP RP PRP$ JJS POS `` EX '' WP : JJR WRB $ NNPS WP$ -LRB- -RRB- PDT RBS FW UH SYM LS #\n"
          ]
        }
      ]
    },
    {
      "cell_type": "code",
      "source": [
        "punctuation = [\",\", \".\", '``', \"''\", ':', '$', '-LRB-','-RRB-','#']\n",
        "punctuation_enc = encode_into_numbers([punctuation], label_to_idx)[0]\n",
        "punctuation_enc.append(0) #padding symbol\n",
        "print(punctuation_enc)"
      ],
      "metadata": {
        "colab": {
          "base_uri": "https://localhost:8080/"
        },
        "id": "8EbB_Q_bUVoy",
        "outputId": "9516a12d-5178-45f1-fbf3-a5574a588a17"
      },
      "execution_count": 54,
      "outputs": [
        {
          "output_type": "stream",
          "name": "stdout",
          "text": [
            "[2, 11, 27, 29, 31, 34, 37, 38, 45, 0]\n"
          ]
        }
      ]
    },
    {
      "cell_type": "code",
      "source": [
        "def compute_f1(model, x, y_true, punctuation, return_length=False):\n",
        "    \"\"\"\n",
        "    Given a model, the data x to feed to the model, the ground truth labels and punctuation encodings, return f1-score\n",
        "\n",
        "    :param \n",
        "        - model: model to be used\n",
        "        - x: input data (standardized version of the encoded sentences)\n",
        "        - y_true: ground truth labels (one-hot-encoded)\n",
        "        - punctuation: punctuation encodings to exclude from f1-score computation\n",
        "        - return_length: return the number of samples after punctuation remotion\n",
        "    :return:\n",
        "        - f1_score with macro average\n",
        "    \"\"\"\n",
        "    y_true = np.argmax(y_true, axis=2).flatten()\n",
        "    y_pred = np.argmax(model.predict(x), axis=2).flatten()\n",
        "    \n",
        "    mask = np.in1d(y_true, punctuation, invert=True)  #mask to exclude punctuation symbols\n",
        "    unique_pos = [pos for pos in np.unique(y_true) if not pos in punctuation]\n",
        "\n",
        "    if return_length:\n",
        "        print(f\"Number of samples after masking: {len(y_true[mask])}\")\n",
        "    return f1_score(y_true[mask], \n",
        "                    y_pred[mask], \n",
        "                    average='macro', \n",
        "                    labels=unique_pos, \n",
        "                    zero_division=0)"
      ],
      "metadata": {
        "id": "_3gTiEYHFMyP"
      },
      "execution_count": 134,
      "outputs": []
    },
    {
      "cell_type": "markdown",
      "source": [
        "Now we compute f1-score on the validation set for all the models built up to now."
      ],
      "metadata": {
        "id": "10dKLKPBXUF1"
      }
    },
    {
      "cell_type": "code",
      "source": [
        "f1_scores = {key: compute_f1(models[key],x_st[\"val\"],y_cat[\"val\"], punctuation_enc) for key in models.keys()}\n",
        "f1_scores = {k: v for k, v in sorted(f1_scores.items(), key=lambda item: item[1], reverse=True)}  #sort dictionary by f1-score values\n",
        "print()\n",
        "for model, score in f1_scores.items():\n",
        "  print(f\"Model {model} f1-score on validation set: {score:.5f}\")"
      ],
      "metadata": {
        "colab": {
          "base_uri": "https://localhost:8080/"
        },
        "id": "X1_NpLlpXJsJ",
        "outputId": "54ef3852-9437-4993-8c21-e6f5f3df2d32"
      },
      "execution_count": 56,
      "outputs": [
        {
          "output_type": "stream",
          "name": "stdout",
          "text": [
            "41/41 [==============================] - 3s 8ms/step\n",
            "41/41 [==============================] - 3s 7ms/step\n",
            "41/41 [==============================] - 4s 10ms/step\n",
            "41/41 [==============================] - 3s 8ms/step\n",
            "\n",
            "Model baseline f1-score on validation set: 0.73387\n",
            "Model baseline_with_GRU f1-score on validation set: 0.73238\n",
            "Model baseline_with_2_LSTM f1-score on validation set: 0.73069\n",
            "Model baseline_with_2_Dense f1-score on validation set: 0.72315\n"
          ]
        }
      ]
    },
    {
      "cell_type": "markdown",
      "source": [
        "According to the f1-score computed on validation set, the best model is the baseline. "
      ],
      "metadata": {
        "id": "S6DrrQAlYCVO"
      }
    },
    {
      "cell_type": "code",
      "source": [
        "best_model = models[list(f1_scores.keys())[0]]\n",
        "best_model.name"
      ],
      "metadata": {
        "colab": {
          "base_uri": "https://localhost:8080/",
          "height": 35
        },
        "id": "35pcJJlpsLWY",
        "outputId": "f944dc8c-26e9-4e0b-dfb5-0416f22076d1"
      },
      "execution_count": 57,
      "outputs": [
        {
          "output_type": "execute_result",
          "data": {
            "text/plain": [
              "'baseline'"
            ],
            "application/vnd.google.colaboratory.intrinsic+json": {
              "type": "string"
            }
          },
          "metadata": {},
          "execution_count": 57
        }
      ]
    },
    {
      "cell_type": "markdown",
      "source": [
        "## History inspection\n",
        "To better understand how the models are performing, we can use training histories and plot loss and accuracy for all of them. In the first column we can see loss' plots, in the second one the accuracy. There is also a cross gray cross on the point of minimum loss (epoch, loss) and the one of maximum accuracy (epoch, accuracy)."
      ],
      "metadata": {
        "id": "Qrrm53qAY0lY"
      }
    },
    {
      "cell_type": "code",
      "source": [
        "def plot_history(history_dict):\n",
        "  fig, axes = plt.subplots(nrows=len(history_dict.keys()), ncols=2, figsize=(4*len(history_dict.keys()), 16))\n",
        "  for idx, model in enumerate(history_dict.keys()):\n",
        "    model_history = history_dict[model].history\n",
        "\n",
        "    loss = pd.DataFrame(np.array([model_history['loss'], model_history['val_loss']]).T, columns=['Train', 'Validation'])\n",
        "    min_loss = loss['Validation'].min()\n",
        "    min_loss_idx = loss['Validation'].idxmin()\n",
        "    accuracy = pd.DataFrame(np.array([model_history['accuracy'], model_history['val_accuracy']]).T, columns=['Train', 'Validation'])\n",
        "    max_acc = accuracy['Validation'].max()\n",
        "    max_acc_idx = accuracy['Validation'].idxmax()\n",
        "\n",
        "    sb.lineplot(data=loss, ax=axes[idx][0])\n",
        "    sb.lineplot(data=accuracy, ax=axes[idx][1])\n",
        "\n",
        "    axes[idx][0].axhline(min_loss, color='lightgray', linestyle='-')\n",
        "    axes[idx][0].axvline(min_loss_idx, color='lightgray', linestyle='-')\n",
        "    axes[idx][1].axhline(max_acc, color='lightgray', linestyle='-')\n",
        "    axes[idx][1].axvline(max_acc_idx, color='lightgray', linestyle='-')\n",
        "\n",
        "    axes[idx][0].set_xlabel('Epochs')\n",
        "    axes[idx][1].set_xlabel('Epochs')\n",
        "    axes[idx][0].set_ylabel('Loss')\n",
        "    axes[idx][1].set_ylabel('Accuracy')\n",
        "    axes[idx][0].set_title(f\"{model} loss\")\n",
        "    axes[idx][1].set_title(f\"{model} accuracy\")\n",
        "\n",
        "  fig.tight_layout()\n",
        "  plt.show()"
      ],
      "metadata": {
        "id": "Jb3lUpfiY6pD"
      },
      "execution_count": 60,
      "outputs": []
    },
    {
      "cell_type": "code",
      "source": [
        "plot_history(history)"
      ],
      "metadata": {
        "id": "Vdg1HQiapqA0",
        "colab": {
          "base_uri": "https://localhost:8080/",
          "height": 1000
        },
        "outputId": "24f257f5-0955-4ea3-8df4-b4542da6fb1f"
      },
      "execution_count": 61,
      "outputs": [
        {
          "output_type": "display_data",
          "data": {
            "text/plain": [
              "<Figure size 1152x1152 with 8 Axes>"
            ],
            "image/png": "[encoded data removed]"
          },
          "metadata": {
            "needs_background": "light"
          }
        }
      ]
    },
    {
      "cell_type": "markdown",
      "source": [
        "The charts show that all the models are overfitting, as they reach the minimum value for validation loss between epoch number 10 and 15. and then it starts increasing again. Accuracy reaches a plateau too. As a result, something to reduce overfitting has to be done in order to improve model performances."
      ],
      "metadata": {
        "id": "vkWzrYKXZHiM"
      }
    },
    {
      "cell_type": "markdown",
      "source": [
        "# Improving the best model\n",
        "The baseline model is the best one up to this point, so we are going to try to improve its performances. \n",
        "\n",
        "\n"
      ],
      "metadata": {
        "id": "VFKzK_bApBDY"
      }
    },
    {
      "cell_type": "markdown",
      "source": [
        "A straightforward modification is to move to GloVe embedding with size 300, as up to now the one with size 50 has been used. This new embedding is much heavier than the previous one, but is ensures better results. Considering this, all the following models will use the embedding matrix built with this new embedding size.\n",
        "\n",
        "We are also going to test what happens if we increase to 200 the number of LSTM hidden units, which previously were set to 100. \n",
        "\n",
        "Finally, as already pointed out, it is clear that the model starts to overfit, so we will introduce a dropout layer and droput on the LSTM layer to check if it is going to reduce overfitting."
      ],
      "metadata": {
        "id": "ayLNdjmHp7Np"
      }
    },
    {
      "cell_type": "code",
      "source": [
        "EMBEDDING_DIMENSION_BIGGER = 300\n",
        "units_bigger = 200\n",
        "dropout_percentage = 0.2"
      ],
      "metadata": {
        "id": "H2cMkpDKHu2I"
      },
      "execution_count": 62,
      "outputs": []
    },
    {
      "cell_type": "code",
      "source": [
        "glove_emb_model_bigger = load_GloVe_embedding(EMBEDDING_DIMENSION_BIGGER)"
      ],
      "metadata": {
        "id": "-Lg6NyPptoJ-",
        "colab": {
          "base_uri": "https://localhost:8080/"
        },
        "outputId": "cd35b3cc-d7b8-44dc-8713-817dff16b7f8"
      },
      "execution_count": 63,
      "outputs": [
        {
          "output_type": "stream",
          "name": "stdout",
          "text": [
            "[==================================================] 100.0% 376.1/376.1MB downloaded\n"
          ]
        }
      ]
    },
    {
      "cell_type": "code",
      "source": [
        "embedding_matrix_bigger = build_embedding_matrix(glove_emb_model_bigger, \n",
        "                                                EMBEDDING_DIMENSION_BIGGER,\n",
        "                                                word_to_idx_train)\n",
        "print(embedding_matrix_bigger.shape)\n",
        "\n",
        "embedding_matrix_bigger = extend_embedding_matrix(glove_emb_model_bigger, \n",
        "                                                  embedding_matrix_bigger,\n",
        "                                                  word_to_idx_val)\n",
        "print(embedding_matrix_bigger.shape)\n",
        "\n",
        "embedding_matrix_bigger = extend_embedding_matrix(glove_emb_model_bigger, \n",
        "                                                  embedding_matrix_bigger,\n",
        "                                                  word_to_idx_test)\n",
        "print(embedding_matrix_bigger.shape)"
      ],
      "metadata": {
        "colab": {
          "base_uri": "https://localhost:8080/"
        },
        "id": "LBBMeIgpG5wZ",
        "outputId": "a5b9d347-1e2d-4740-ab98-3bf4d08e5cdb"
      },
      "execution_count": 64,
      "outputs": [
        {
          "output_type": "stream",
          "name": "stdout",
          "text": [
            "(400319, 300)\n",
            "(400475, 300)\n",
            "(400571, 300)\n"
          ]
        }
      ]
    },
    {
      "cell_type": "code",
      "source": [
        "def build_final_model(num_pos, \n",
        "                      embedding_matrix, \n",
        "                      name = 'final',\n",
        "                      units = units_bigger, \n",
        "                      dropout_layer = True,\n",
        "                      dropout_LSTM = True,\n",
        "                      dropout_percentage = dropout_percentage):\n",
        "  \n",
        "  \"\"\"\n",
        "    Return a model defined according to the parameters.\n",
        "\n",
        "    :param \n",
        "        - num_pos: number of pos labels\n",
        "        - embedding_matrix: embedding matrix to use in the embedding layer\n",
        "        - name: model name\n",
        "        - units: number of LSTM hidden units to use\n",
        "        - dropout_layer: if True, add a dropout layer between the embedding and the BiLSTM one\n",
        "        - dropout_LSTM: if True, add dropout to the LSTM layer (using its parameter)\n",
        "        - dropout_percentage: dropout value to use\n",
        "    :return:\n",
        "        - the model\n",
        "  \"\"\"\n",
        "  inputs = Input(shape=(None,), dtype=\"int32\")\n",
        "\n",
        "  \n",
        "  m = Embedding(input_dim=embedding_matrix.shape[0], \n",
        "                output_dim=embedding_matrix.shape[1],\n",
        "                mask_zero=True, \n",
        "                weights=[embedding_matrix], \n",
        "                trainable=False)(inputs)\n",
        "\n",
        "  if dropout_layer:\n",
        "    m = Dropout(dropout_percentage)(m)\n",
        "\n",
        "  if dropout_LSTM:\n",
        "    m = Bidirectional(LSTM(units=units, return_sequences=True, dropout=dropout_percentage))(m)\n",
        "  else:\n",
        "    m = Bidirectional(LSTM(units=units, return_sequences=True))(m)\n",
        "\n",
        "  m = Dense(num_pos, activation='softmax')(m)\n",
        "\n",
        "  return Model(inputs, m, name=name)"
      ],
      "metadata": {
        "id": "CSxVArvAHb6M"
      },
      "execution_count": 65,
      "outputs": []
    },
    {
      "cell_type": "code",
      "source": [
        "final_models = {}\n",
        "final_models_history = {}\n",
        "final_models_f1_scores = {}"
      ],
      "metadata": {
        "id": "qI30HhVYbP3D"
      },
      "execution_count": 66,
      "outputs": []
    },
    {
      "cell_type": "markdown",
      "source": [
        "### Final model with more LSTM hidden units, a dropout layer and dropout on LSTM"
      ],
      "metadata": {
        "id": "lTV8gJPwYWBc"
      }
    },
    {
      "cell_type": "code",
      "source": [
        "final_models['units_bigger-dropout_layer-dropout_LSTM'] = build_final_model(num_pos = number_pos, \n",
        "                                embedding_matrix = embedding_matrix_bigger, \n",
        "                                name = \"units_bigger-dropout_layer-dropout_LSTM\",\n",
        "                                units = units_bigger,\n",
        "                                dropout_layer = True,\n",
        "                                dropout_LSTM = True,\n",
        "                                dropout_percentage = dropout_percentage) "
      ],
      "metadata": {
        "id": "aKvIE742I7y6"
      },
      "execution_count": 67,
      "outputs": []
    },
    {
      "cell_type": "code",
      "source": [
        "final_models['units_bigger-dropout_layer-dropout_LSTM'].summary()"
      ],
      "metadata": {
        "colab": {
          "base_uri": "https://localhost:8080/"
        },
        "id": "OxatNV0VKEIM",
        "outputId": "7c8c6ee8-8e22-4609-f539-41999be0fc90"
      },
      "execution_count": 68,
      "outputs": [
        {
          "output_type": "stream",
          "name": "stdout",
          "text": [
            "Model: \"units_bigger-dropout_layer-dropout_LSTM\"\n",
            "_________________________________________________________________\n",
            " Layer (type)                Output Shape              Param #   \n",
            "=================================================================\n",
            " input_5 (InputLayer)        [(None, None)]            0         \n",
            "                                                                 \n",
            " embedding_4 (Embedding)     (None, None, 300)         120171300 \n",
            "                                                                 \n",
            " dropout (Dropout)           (None, None, 300)         0         \n",
            "                                                                 \n",
            " bidirectional_4 (Bidirectio  (None, None, 400)        801600    \n",
            " nal)                                                            \n",
            "                                                                 \n",
            " dense_5 (Dense)             (None, None, 46)          18446     \n",
            "                                                                 \n",
            "=================================================================\n",
            "Total params: 120,991,346\n",
            "Trainable params: 820,046\n",
            "Non-trainable params: 120,171,300\n",
            "_________________________________________________________________\n"
          ]
        }
      ]
    },
    {
      "cell_type": "code",
      "source": [
        "final_models['units_bigger-dropout_layer-dropout_LSTM'].compile(optimizer ='adam', \n",
        "                           loss = 'categorical_crossentropy', \n",
        "                           metrics = ['accuracy'])\n",
        "final_models_history['units_bigger-dropout_layer-dropout_LSTM'] = final_models['units_bigger-dropout_layer-dropout_LSTM'].fit(x=x_st[\"train\"], \n",
        "                   y=y_cat[\"train\"], \n",
        "                   batch_size=batch_size, \n",
        "                   epochs=epochs, \n",
        "                   validation_data=(x_st[\"val\"], y_cat[\"val\"]))"
      ],
      "metadata": {
        "colab": {
          "base_uri": "https://localhost:8080/"
        },
        "id": "dcRzUJJ0Jz-l",
        "outputId": "d282b1dc-e5bc-4dfd-c31e-297febde44b7"
      },
      "execution_count": 69,
      "outputs": [
        {
          "output_type": "stream",
          "name": "stdout",
          "text": [
            "Epoch 1/30\n",
            "123/123 [==============================] - 14s 49ms/step - loss: 0.1463 - accuracy: 0.6089 - val_loss: 0.2148 - val_accuracy: 0.8016\n",
            "Epoch 2/30\n",
            "123/123 [==============================] - 3s 23ms/step - loss: 0.0597 - accuracy: 0.8234 - val_loss: 0.1537 - val_accuracy: 0.8506\n",
            "Epoch 3/30\n",
            "123/123 [==============================] - 4s 31ms/step - loss: 0.0462 - accuracy: 0.8585 - val_loss: 0.1329 - val_accuracy: 0.8692\n",
            "Epoch 4/30\n",
            "123/123 [==============================] - 6s 46ms/step - loss: 0.0391 - accuracy: 0.8790 - val_loss: 0.1159 - val_accuracy: 0.8839\n",
            "Epoch 5/30\n",
            "123/123 [==============================] - 5s 40ms/step - loss: 0.0338 - accuracy: 0.8934 - val_loss: 0.1077 - val_accuracy: 0.8925\n",
            "Epoch 6/30\n",
            "123/123 [==============================] - 3s 25ms/step - loss: 0.0296 - accuracy: 0.9076 - val_loss: 0.0989 - val_accuracy: 0.8987\n",
            "Epoch 7/30\n",
            "123/123 [==============================] - 3s 27ms/step - loss: 0.0262 - accuracy: 0.9178 - val_loss: 0.0946 - val_accuracy: 0.9022\n",
            "Epoch 8/30\n",
            "123/123 [==============================] - 4s 35ms/step - loss: 0.0230 - accuracy: 0.9293 - val_loss: 0.0902 - val_accuracy: 0.9066\n",
            "Epoch 9/30\n",
            "123/123 [==============================] - 3s 23ms/step - loss: 0.0204 - accuracy: 0.9373 - val_loss: 0.0878 - val_accuracy: 0.9095\n",
            "Epoch 10/30\n",
            "123/123 [==============================] - 3s 22ms/step - loss: 0.0180 - accuracy: 0.9449 - val_loss: 0.0853 - val_accuracy: 0.9112\n",
            "Epoch 11/30\n",
            "123/123 [==============================] - 5s 37ms/step - loss: 0.0161 - accuracy: 0.9504 - val_loss: 0.0826 - val_accuracy: 0.9141\n",
            "Epoch 12/30\n",
            "123/123 [==============================] - 3s 23ms/step - loss: 0.0142 - accuracy: 0.9568 - val_loss: 0.0806 - val_accuracy: 0.9167\n",
            "Epoch 13/30\n",
            "123/123 [==============================] - 3s 27ms/step - loss: 0.0124 - accuracy: 0.9635 - val_loss: 0.0807 - val_accuracy: 0.9173\n",
            "Epoch 14/30\n",
            "123/123 [==============================] - 3s 22ms/step - loss: 0.0109 - accuracy: 0.9677 - val_loss: 0.0790 - val_accuracy: 0.9185\n",
            "Epoch 15/30\n",
            "123/123 [==============================] - 3s 23ms/step - loss: 0.0096 - accuracy: 0.9722 - val_loss: 0.0796 - val_accuracy: 0.9194\n",
            "Epoch 16/30\n",
            "123/123 [==============================] - 3s 23ms/step - loss: 0.0083 - accuracy: 0.9764 - val_loss: 0.0805 - val_accuracy: 0.9190\n",
            "Epoch 17/30\n",
            "123/123 [==============================] - 3s 24ms/step - loss: 0.0075 - accuracy: 0.9792 - val_loss: 0.0794 - val_accuracy: 0.9209\n",
            "Epoch 18/30\n",
            "123/123 [==============================] - 4s 35ms/step - loss: 0.0067 - accuracy: 0.9818 - val_loss: 0.0811 - val_accuracy: 0.9201\n",
            "Epoch 19/30\n",
            "123/123 [==============================] - 4s 32ms/step - loss: 0.0060 - accuracy: 0.9843 - val_loss: 0.0839 - val_accuracy: 0.9177\n",
            "Epoch 20/30\n",
            "123/123 [==============================] - 3s 26ms/step - loss: 0.0053 - accuracy: 0.9866 - val_loss: 0.0817 - val_accuracy: 0.9218\n",
            "Epoch 21/30\n",
            "123/123 [==============================] - 3s 22ms/step - loss: 0.0046 - accuracy: 0.9889 - val_loss: 0.0826 - val_accuracy: 0.9202\n",
            "Epoch 22/30\n",
            "123/123 [==============================] - 3s 22ms/step - loss: 0.0042 - accuracy: 0.9894 - val_loss: 0.0820 - val_accuracy: 0.9213\n",
            "Epoch 23/30\n",
            "123/123 [==============================] - 3s 22ms/step - loss: 0.0038 - accuracy: 0.9914 - val_loss: 0.0854 - val_accuracy: 0.9210\n",
            "Epoch 24/30\n",
            "123/123 [==============================] - 3s 22ms/step - loss: 0.0034 - accuracy: 0.9924 - val_loss: 0.0847 - val_accuracy: 0.9211\n",
            "Epoch 25/30\n",
            "123/123 [==============================] - 3s 27ms/step - loss: 0.0034 - accuracy: 0.9920 - val_loss: 0.0862 - val_accuracy: 0.9210\n",
            "Epoch 26/30\n",
            "123/123 [==============================] - 3s 24ms/step - loss: 0.0029 - accuracy: 0.9933 - val_loss: 0.0868 - val_accuracy: 0.9207\n",
            "Epoch 27/30\n",
            "123/123 [==============================] - 3s 23ms/step - loss: 0.0027 - accuracy: 0.9943 - val_loss: 0.0884 - val_accuracy: 0.9205\n",
            "Epoch 28/30\n",
            "123/123 [==============================] - 4s 31ms/step - loss: 0.0025 - accuracy: 0.9945 - val_loss: 0.0894 - val_accuracy: 0.9195\n",
            "Epoch 29/30\n",
            "123/123 [==============================] - 3s 26ms/step - loss: 0.0025 - accuracy: 0.9939 - val_loss: 0.0893 - val_accuracy: 0.9191\n",
            "Epoch 30/30\n",
            "123/123 [==============================] - 4s 31ms/step - loss: 0.0021 - accuracy: 0.9959 - val_loss: 0.0892 - val_accuracy: 0.9214\n"
          ]
        }
      ]
    },
    {
      "cell_type": "code",
      "source": [
        "final_models[\"units_bigger-dropout_layer-dropout_LSTM\"].save_weights('./units_bigger-dropout_layer-dropout_LSTM.h5')"
      ],
      "metadata": {
        "id": "TFUml6V-daxH"
      },
      "execution_count": 70,
      "outputs": []
    },
    {
      "cell_type": "code",
      "source": [
        "final_models_f1_scores[\"units_bigger-dropout_layer-dropout_LSTM\"] = compute_f1(final_models[\"units_bigger-dropout_layer-dropout_LSTM\"],x_st[\"val\"],y_cat[\"val\"],punctuation_enc)\n",
        "final_models_f1_scores[\"units_bigger-dropout_layer-dropout_LSTM\"]"
      ],
      "metadata": {
        "colab": {
          "base_uri": "https://localhost:8080/"
        },
        "id": "0RdYmRq_Kbb6",
        "outputId": "d7ca6453-bb83-4f2f-add4-bc071a8f33d0"
      },
      "execution_count": 71,
      "outputs": [
        {
          "output_type": "stream",
          "name": "stdout",
          "text": [
            "41/41 [==============================] - 4s 8ms/step\n"
          ]
        },
        {
          "output_type": "execute_result",
          "data": {
            "text/plain": [
              "0.8111953658125617"
            ]
          },
          "metadata": {},
          "execution_count": 71
        }
      ]
    },
    {
      "cell_type": "markdown",
      "source": [
        "### Final model with smaller number of LSTM hidden units, dropout layer and dropout on LSTM"
      ],
      "metadata": {
        "id": "RsT_nmVpeG4g"
      }
    },
    {
      "cell_type": "code",
      "source": [
        "final_models['dropout_layer-dropout_LSTM'] = build_final_model(num_pos = number_pos, \n",
        "                                embedding_matrix = embedding_matrix_bigger, \n",
        "                                name = \"dropout_layer-dropout_LSTM\",\n",
        "                                units = units,\n",
        "                                dropout_layer = True,\n",
        "                                dropout_LSTM = True,\n",
        "                                dropout_percentage = dropout_percentage) "
      ],
      "metadata": {
        "id": "gmqSuoHTeG4h"
      },
      "execution_count": 72,
      "outputs": []
    },
    {
      "cell_type": "code",
      "source": [
        "final_models['dropout_layer-dropout_LSTM'].summary()"
      ],
      "metadata": {
        "colab": {
          "base_uri": "https://localhost:8080/"
        },
        "outputId": "50de0775-fa12-4cb2-f76e-b67f02131bf2",
        "id": "sAzkcQgbeG4h"
      },
      "execution_count": 73,
      "outputs": [
        {
          "output_type": "stream",
          "name": "stdout",
          "text": [
            "Model: \"dropout_layer-dropout_LSTM\"\n",
            "_________________________________________________________________\n",
            " Layer (type)                Output Shape              Param #   \n",
            "=================================================================\n",
            " input_6 (InputLayer)        [(None, None)]            0         \n",
            "                                                                 \n",
            " embedding_5 (Embedding)     (None, None, 300)         120171300 \n",
            "                                                                 \n",
            " dropout_1 (Dropout)         (None, None, 300)         0         \n",
            "                                                                 \n",
            " bidirectional_5 (Bidirectio  (None, None, 200)        320800    \n",
            " nal)                                                            \n",
            "                                                                 \n",
            " dense_6 (Dense)             (None, None, 46)          9246      \n",
            "                                                                 \n",
            "=================================================================\n",
            "Total params: 120,501,346\n",
            "Trainable params: 330,046\n",
            "Non-trainable params: 120,171,300\n",
            "_________________________________________________________________\n"
          ]
        }
      ]
    },
    {
      "cell_type": "code",
      "source": [
        "final_models['dropout_layer-dropout_LSTM'].compile(optimizer ='adam', \n",
        "                           loss = 'categorical_crossentropy', \n",
        "                           metrics = ['accuracy'])\n",
        "\n",
        "final_models_history['dropout_layer-dropout_LSTM'] = final_models['dropout_layer-dropout_LSTM'].fit(x=x_st[\"train\"], \n",
        "                   y=y_cat[\"train\"], \n",
        "                   batch_size=batch_size, \n",
        "                   epochs=epochs, \n",
        "                   validation_data=(x_st[\"val\"], y_cat[\"val\"]))"
      ],
      "metadata": {
        "colab": {
          "base_uri": "https://localhost:8080/"
        },
        "outputId": "98df726e-bf8c-4556-a576-fa562ef7303b",
        "id": "TV1E6j2qeG4i"
      },
      "execution_count": 74,
      "outputs": [
        {
          "output_type": "stream",
          "name": "stdout",
          "text": [
            "Epoch 1/30\n",
            "123/123 [==============================] - 15s 47ms/step - loss: 0.1757 - accuracy: 0.5459 - val_loss: 0.2796 - val_accuracy: 0.7542\n",
            "Epoch 2/30\n",
            "123/123 [==============================] - 3s 22ms/step - loss: 0.0745 - accuracy: 0.7925 - val_loss: 0.1829 - val_accuracy: 0.8295\n",
            "Epoch 3/30\n",
            "123/123 [==============================] - 3s 22ms/step - loss: 0.0555 - accuracy: 0.8384 - val_loss: 0.1522 - val_accuracy: 0.8567\n",
            "Epoch 4/30\n",
            "123/123 [==============================] - 3s 22ms/step - loss: 0.0469 - accuracy: 0.8605 - val_loss: 0.1319 - val_accuracy: 0.8718\n",
            "Epoch 5/30\n",
            "123/123 [==============================] - 3s 22ms/step - loss: 0.0411 - accuracy: 0.8740 - val_loss: 0.1197 - val_accuracy: 0.8826\n",
            "Epoch 6/30\n",
            "123/123 [==============================] - 3s 23ms/step - loss: 0.0367 - accuracy: 0.8880 - val_loss: 0.1109 - val_accuracy: 0.8896\n",
            "Epoch 7/30\n",
            "123/123 [==============================] - 4s 29ms/step - loss: 0.0333 - accuracy: 0.8975 - val_loss: 0.1043 - val_accuracy: 0.8945\n",
            "Epoch 8/30\n",
            "123/123 [==============================] - 4s 28ms/step - loss: 0.0303 - accuracy: 0.9079 - val_loss: 0.0997 - val_accuracy: 0.8994\n",
            "Epoch 9/30\n",
            "123/123 [==============================] - 3s 23ms/step - loss: 0.0277 - accuracy: 0.9154 - val_loss: 0.0940 - val_accuracy: 0.9043\n",
            "Epoch 10/30\n",
            "123/123 [==============================] - 3s 22ms/step - loss: 0.0257 - accuracy: 0.9211 - val_loss: 0.0912 - val_accuracy: 0.9066\n",
            "Epoch 11/30\n",
            "123/123 [==============================] - 3s 22ms/step - loss: 0.0237 - accuracy: 0.9267 - val_loss: 0.0869 - val_accuracy: 0.9112\n",
            "Epoch 12/30\n",
            "123/123 [==============================] - 3s 23ms/step - loss: 0.0220 - accuracy: 0.9318 - val_loss: 0.0847 - val_accuracy: 0.9136\n",
            "Epoch 13/30\n",
            "123/123 [==============================] - 3s 22ms/step - loss: 0.0201 - accuracy: 0.9394 - val_loss: 0.0828 - val_accuracy: 0.9151\n",
            "Epoch 14/30\n",
            "123/123 [==============================] - 3s 22ms/step - loss: 0.0187 - accuracy: 0.9420 - val_loss: 0.0800 - val_accuracy: 0.9171\n",
            "Epoch 15/30\n",
            "123/123 [==============================] - 3s 22ms/step - loss: 0.0173 - accuracy: 0.9469 - val_loss: 0.0791 - val_accuracy: 0.9188\n",
            "Epoch 16/30\n",
            "123/123 [==============================] - 3s 23ms/step - loss: 0.0163 - accuracy: 0.9502 - val_loss: 0.0791 - val_accuracy: 0.9184\n",
            "Epoch 17/30\n",
            "123/123 [==============================] - 3s 22ms/step - loss: 0.0149 - accuracy: 0.9545 - val_loss: 0.0753 - val_accuracy: 0.9230\n",
            "Epoch 18/30\n",
            "123/123 [==============================] - 3s 23ms/step - loss: 0.0141 - accuracy: 0.9572 - val_loss: 0.0770 - val_accuracy: 0.9206\n",
            "Epoch 19/30\n",
            "123/123 [==============================] - 3s 23ms/step - loss: 0.0131 - accuracy: 0.9610 - val_loss: 0.0771 - val_accuracy: 0.9210\n",
            "Epoch 20/30\n",
            "123/123 [==============================] - 3s 23ms/step - loss: 0.0122 - accuracy: 0.9631 - val_loss: 0.0749 - val_accuracy: 0.9243\n",
            "Epoch 21/30\n",
            "123/123 [==============================] - 4s 29ms/step - loss: 0.0113 - accuracy: 0.9658 - val_loss: 0.0739 - val_accuracy: 0.9240\n",
            "Epoch 22/30\n",
            "123/123 [==============================] - 3s 26ms/step - loss: 0.0106 - accuracy: 0.9682 - val_loss: 0.0740 - val_accuracy: 0.9243\n",
            "Epoch 23/30\n",
            "123/123 [==============================] - 3s 23ms/step - loss: 0.0102 - accuracy: 0.9694 - val_loss: 0.0758 - val_accuracy: 0.9235\n",
            "Epoch 24/30\n",
            "123/123 [==============================] - 3s 23ms/step - loss: 0.0096 - accuracy: 0.9709 - val_loss: 0.0731 - val_accuracy: 0.9252\n",
            "Epoch 25/30\n",
            "123/123 [==============================] - 3s 23ms/step - loss: 0.0092 - accuracy: 0.9721 - val_loss: 0.0744 - val_accuracy: 0.9258\n",
            "Epoch 26/30\n",
            "123/123 [==============================] - 5s 40ms/step - loss: 0.0084 - accuracy: 0.9755 - val_loss: 0.0746 - val_accuracy: 0.9254\n",
            "Epoch 27/30\n",
            "123/123 [==============================] - 4s 33ms/step - loss: 0.0080 - accuracy: 0.9764 - val_loss: 0.0765 - val_accuracy: 0.9251\n",
            "Epoch 28/30\n",
            "123/123 [==============================] - 3s 27ms/step - loss: 0.0075 - accuracy: 0.9781 - val_loss: 0.0752 - val_accuracy: 0.9244\n",
            "Epoch 29/30\n",
            "123/123 [==============================] - 3s 23ms/step - loss: 0.0072 - accuracy: 0.9782 - val_loss: 0.0763 - val_accuracy: 0.9240\n",
            "Epoch 30/30\n",
            "123/123 [==============================] - 3s 25ms/step - loss: 0.0067 - accuracy: 0.9808 - val_loss: 0.0755 - val_accuracy: 0.9261\n"
          ]
        }
      ]
    },
    {
      "cell_type": "code",
      "source": [
        "final_models[\"dropout_layer-dropout_LSTM\"].save_weights('./dropout_layer-dropout_LSTM.h5')"
      ],
      "metadata": {
        "id": "PinvhU5LeG4i"
      },
      "execution_count": 75,
      "outputs": []
    },
    {
      "cell_type": "code",
      "source": [
        "final_models_f1_scores[\"dropout_layer-dropout_LSTM\"] = compute_f1(final_models[\"dropout_layer-dropout_LSTM\"],x_st[\"val\"],y_cat[\"val\"],punctuation_enc)\n",
        "final_models_f1_scores[\"dropout_layer-dropout_LSTM\"]"
      ],
      "metadata": {
        "colab": {
          "base_uri": "https://localhost:8080/"
        },
        "id": "z5bYtoY5eG4j",
        "outputId": "8c66a8e1-ac6b-40d0-9612-0be99d4d14f1"
      },
      "execution_count": 76,
      "outputs": [
        {
          "output_type": "stream",
          "name": "stdout",
          "text": [
            "41/41 [==============================] - 4s 9ms/step\n"
          ]
        },
        {
          "output_type": "execute_result",
          "data": {
            "text/plain": [
              "0.793308309286383"
            ]
          },
          "metadata": {},
          "execution_count": 76
        }
      ]
    },
    {
      "cell_type": "markdown",
      "source": [
        "### Final model with more LSTM hidden units and a dropout layer"
      ],
      "metadata": {
        "id": "FG04_USsfRrb"
      }
    },
    {
      "cell_type": "code",
      "source": [
        "final_models['units_bigger-dropout_layer'] = build_final_model(num_pos = number_pos, \n",
        "                                embedding_matrix = embedding_matrix_bigger, \n",
        "                                name = \"units_bigger-dropout_layer\",\n",
        "                                units = units_bigger,\n",
        "                                dropout_layer = True,\n",
        "                                dropout_LSTM = False,\n",
        "                                dropout_percentage = dropout_percentage) "
      ],
      "metadata": {
        "id": "Uo3Hq0EpfRrc"
      },
      "execution_count": 77,
      "outputs": []
    },
    {
      "cell_type": "code",
      "source": [
        "final_models['units_bigger-dropout_layer'].summary()"
      ],
      "metadata": {
        "colab": {
          "base_uri": "https://localhost:8080/"
        },
        "outputId": "498a1546-6b67-4bb8-d80a-f89d2f816c7c",
        "id": "hVkgLZ-9fRrc"
      },
      "execution_count": 78,
      "outputs": [
        {
          "output_type": "stream",
          "name": "stdout",
          "text": [
            "Model: \"units_bigger-dropout_layer\"\n",
            "_________________________________________________________________\n",
            " Layer (type)                Output Shape              Param #   \n",
            "=================================================================\n",
            " input_7 (InputLayer)        [(None, None)]            0         \n",
            "                                                                 \n",
            " embedding_6 (Embedding)     (None, None, 300)         120171300 \n",
            "                                                                 \n",
            " dropout_2 (Dropout)         (None, None, 300)         0         \n",
            "                                                                 \n",
            " bidirectional_6 (Bidirectio  (None, None, 400)        801600    \n",
            " nal)                                                            \n",
            "                                                                 \n",
            " dense_7 (Dense)             (None, None, 46)          18446     \n",
            "                                                                 \n",
            "=================================================================\n",
            "Total params: 120,991,346\n",
            "Trainable params: 820,046\n",
            "Non-trainable params: 120,171,300\n",
            "_________________________________________________________________\n"
          ]
        }
      ]
    },
    {
      "cell_type": "code",
      "source": [
        "final_models['units_bigger-dropout_layer'].compile(optimizer ='adam', \n",
        "                           loss = 'categorical_crossentropy', \n",
        "                           metrics = ['accuracy'])\n",
        "\n",
        "final_models_history['units_bigger-dropout_layer'] = final_models['units_bigger-dropout_layer'].fit(x=x_st[\"train\"], \n",
        "                   y=y_cat[\"train\"], \n",
        "                   batch_size=batch_size, \n",
        "                   epochs=epochs, \n",
        "                   validation_data=(x_st[\"val\"], y_cat[\"val\"]))"
      ],
      "metadata": {
        "colab": {
          "base_uri": "https://localhost:8080/"
        },
        "outputId": "57bf0243-addb-4ce0-d686-5773ed0c98ba",
        "id": "RNChkSYCfRrd"
      },
      "execution_count": 79,
      "outputs": [
        {
          "output_type": "stream",
          "name": "stdout",
          "text": [
            "Epoch 1/30\n",
            "123/123 [==============================] - 15s 44ms/step - loss: 0.1432 - accuracy: 0.6219 - val_loss: 0.2114 - val_accuracy: 0.8048\n",
            "Epoch 2/30\n",
            "123/123 [==============================] - 4s 32ms/step - loss: 0.0555 - accuracy: 0.8400 - val_loss: 0.1489 - val_accuracy: 0.8575\n",
            "Epoch 3/30\n",
            "123/123 [==============================] - 4s 29ms/step - loss: 0.0415 - accuracy: 0.8764 - val_loss: 0.1290 - val_accuracy: 0.8742\n",
            "Epoch 4/30\n",
            "123/123 [==============================] - 3s 26ms/step - loss: 0.0344 - accuracy: 0.8956 - val_loss: 0.1130 - val_accuracy: 0.8873\n",
            "Epoch 5/30\n",
            "123/123 [==============================] - 4s 29ms/step - loss: 0.0294 - accuracy: 0.9098 - val_loss: 0.1046 - val_accuracy: 0.8955\n",
            "Epoch 6/30\n",
            "123/123 [==============================] - 4s 33ms/step - loss: 0.0248 - accuracy: 0.9249 - val_loss: 0.0975 - val_accuracy: 0.9007\n",
            "Epoch 7/30\n",
            "123/123 [==============================] - 4s 32ms/step - loss: 0.0213 - accuracy: 0.9346 - val_loss: 0.0936 - val_accuracy: 0.9046\n",
            "Epoch 8/30\n",
            "123/123 [==============================] - 4s 29ms/step - loss: 0.0181 - accuracy: 0.9448 - val_loss: 0.0904 - val_accuracy: 0.9083\n",
            "Epoch 9/30\n",
            "123/123 [==============================] - 3s 25ms/step - loss: 0.0154 - accuracy: 0.9546 - val_loss: 0.0882 - val_accuracy: 0.9095\n",
            "Epoch 10/30\n",
            "123/123 [==============================] - 4s 36ms/step - loss: 0.0131 - accuracy: 0.9621 - val_loss: 0.0866 - val_accuracy: 0.9100\n",
            "Epoch 11/30\n",
            "123/123 [==============================] - 3s 26ms/step - loss: 0.0112 - accuracy: 0.9676 - val_loss: 0.0857 - val_accuracy: 0.9125\n",
            "Epoch 12/30\n",
            "123/123 [==============================] - 3s 21ms/step - loss: 0.0092 - accuracy: 0.9760 - val_loss: 0.0843 - val_accuracy: 0.9134\n",
            "Epoch 13/30\n",
            "123/123 [==============================] - 3s 23ms/step - loss: 0.0077 - accuracy: 0.9810 - val_loss: 0.0860 - val_accuracy: 0.9124\n",
            "Epoch 14/30\n",
            "123/123 [==============================] - 3s 21ms/step - loss: 0.0065 - accuracy: 0.9844 - val_loss: 0.0850 - val_accuracy: 0.9142\n",
            "Epoch 15/30\n",
            "123/123 [==============================] - 3s 21ms/step - loss: 0.0054 - accuracy: 0.9876 - val_loss: 0.0861 - val_accuracy: 0.9134\n",
            "Epoch 16/30\n",
            "123/123 [==============================] - 3s 21ms/step - loss: 0.0046 - accuracy: 0.9902 - val_loss: 0.0860 - val_accuracy: 0.9159\n",
            "Epoch 17/30\n",
            "123/123 [==============================] - 3s 25ms/step - loss: 0.0039 - accuracy: 0.9927 - val_loss: 0.0863 - val_accuracy: 0.9153\n",
            "Epoch 18/30\n",
            "123/123 [==============================] - 3s 27ms/step - loss: 0.0034 - accuracy: 0.9936 - val_loss: 0.0896 - val_accuracy: 0.9143\n",
            "Epoch 19/30\n",
            "123/123 [==============================] - 4s 29ms/step - loss: 0.0028 - accuracy: 0.9952 - val_loss: 0.0898 - val_accuracy: 0.9150\n",
            "Epoch 20/30\n",
            "123/123 [==============================] - 4s 32ms/step - loss: 0.0025 - accuracy: 0.9962 - val_loss: 0.0914 - val_accuracy: 0.9144\n",
            "Epoch 21/30\n",
            "123/123 [==============================] - 4s 30ms/step - loss: 0.0022 - accuracy: 0.9965 - val_loss: 0.0906 - val_accuracy: 0.9156\n",
            "Epoch 22/30\n",
            "123/123 [==============================] - 3s 28ms/step - loss: 0.0020 - accuracy: 0.9973 - val_loss: 0.0913 - val_accuracy: 0.9157\n",
            "Epoch 23/30\n",
            "123/123 [==============================] - 3s 28ms/step - loss: 0.0018 - accuracy: 0.9977 - val_loss: 0.0935 - val_accuracy: 0.9150\n",
            "Epoch 24/30\n",
            "123/123 [==============================] - 4s 31ms/step - loss: 0.0016 - accuracy: 0.9978 - val_loss: 0.0931 - val_accuracy: 0.9150\n",
            "Epoch 25/30\n",
            "123/123 [==============================] - 3s 28ms/step - loss: 0.0014 - accuracy: 0.9982 - val_loss: 0.0951 - val_accuracy: 0.9165\n",
            "Epoch 26/30\n",
            "123/123 [==============================] - 4s 31ms/step - loss: 0.0013 - accuracy: 0.9983 - val_loss: 0.0954 - val_accuracy: 0.9161\n",
            "Epoch 27/30\n",
            "123/123 [==============================] - 3s 28ms/step - loss: 0.0012 - accuracy: 0.9986 - val_loss: 0.0975 - val_accuracy: 0.9151\n",
            "Epoch 28/30\n",
            "123/123 [==============================] - 3s 22ms/step - loss: 0.0011 - accuracy: 0.9985 - val_loss: 0.0988 - val_accuracy: 0.9140\n",
            "Epoch 29/30\n",
            "123/123 [==============================] - 3s 28ms/step - loss: 0.0010 - accuracy: 0.9984 - val_loss: 0.0981 - val_accuracy: 0.9151\n",
            "Epoch 30/30\n",
            "123/123 [==============================] - 3s 24ms/step - loss: 9.6624e-04 - accuracy: 0.9986 - val_loss: 0.0975 - val_accuracy: 0.9165\n"
          ]
        }
      ]
    },
    {
      "cell_type": "code",
      "source": [
        "final_models[\"units_bigger-dropout_layer\"].save_weights('./units_bigger-dropout_layer.h5')"
      ],
      "metadata": {
        "id": "sM8IjjunfRrd"
      },
      "execution_count": 80,
      "outputs": []
    },
    {
      "cell_type": "code",
      "source": [
        "final_models_f1_scores[\"units_bigger-dropout_layer\"] = compute_f1(final_models[\"units_bigger-dropout_layer\"],x_st[\"val\"],y_cat[\"val\"],punctuation_enc)\n",
        "final_models_f1_scores[\"units_bigger-dropout_layer\"]"
      ],
      "metadata": {
        "colab": {
          "base_uri": "https://localhost:8080/"
        },
        "id": "89M3YeQ-fRrd",
        "outputId": "7ec823f5-c07e-4321-a5bd-d00385b4940d"
      },
      "execution_count": 81,
      "outputs": [
        {
          "output_type": "stream",
          "name": "stdout",
          "text": [
            "41/41 [==============================] - 3s 9ms/step\n"
          ]
        },
        {
          "output_type": "execute_result",
          "data": {
            "text/plain": [
              "0.7887028672120374"
            ]
          },
          "metadata": {},
          "execution_count": 81
        }
      ]
    },
    {
      "cell_type": "markdown",
      "source": [
        "### Final model with more LSTM hidden units and dropout on LSTM"
      ],
      "metadata": {
        "id": "nhmqyuEAhOzv"
      }
    },
    {
      "cell_type": "code",
      "source": [
        "final_models['units_bigger-dropout_LSTM'] = build_final_model(num_pos = number_pos, \n",
        "                                embedding_matrix = embedding_matrix_bigger, \n",
        "                                name = \"units_bigger-dropout_LSTM\",\n",
        "                                units = units_bigger,\n",
        "                                dropout_layer = False,\n",
        "                                dropout_LSTM = True,\n",
        "                                dropout_percentage = dropout_percentage) "
      ],
      "metadata": {
        "id": "_cX6TMUthOzw"
      },
      "execution_count": 82,
      "outputs": []
    },
    {
      "cell_type": "code",
      "source": [
        "final_models['units_bigger-dropout_LSTM'].summary()"
      ],
      "metadata": {
        "colab": {
          "base_uri": "https://localhost:8080/"
        },
        "outputId": "ddd1d597-114e-4947-ca28-6482e2792567",
        "id": "uFB-npJKhOzw"
      },
      "execution_count": 83,
      "outputs": [
        {
          "output_type": "stream",
          "name": "stdout",
          "text": [
            "Model: \"units_bigger-dropout_LSTM\"\n",
            "_________________________________________________________________\n",
            " Layer (type)                Output Shape              Param #   \n",
            "=================================================================\n",
            " input_8 (InputLayer)        [(None, None)]            0         \n",
            "                                                                 \n",
            " embedding_7 (Embedding)     (None, None, 300)         120171300 \n",
            "                                                                 \n",
            " bidirectional_7 (Bidirectio  (None, None, 400)        801600    \n",
            " nal)                                                            \n",
            "                                                                 \n",
            " dense_8 (Dense)             (None, None, 46)          18446     \n",
            "                                                                 \n",
            "=================================================================\n",
            "Total params: 120,991,346\n",
            "Trainable params: 820,046\n",
            "Non-trainable params: 120,171,300\n",
            "_________________________________________________________________\n"
          ]
        }
      ]
    },
    {
      "cell_type": "code",
      "source": [
        "final_models['units_bigger-dropout_LSTM'].compile(optimizer ='adam', \n",
        "                           loss = 'categorical_crossentropy', \n",
        "                           metrics = ['accuracy'])\n",
        "\n",
        "final_models_history['units_bigger-dropout_LSTM'] = final_models['units_bigger-dropout_LSTM'].fit(x=x_st[\"train\"], \n",
        "                   y=y_cat[\"train\"], \n",
        "                   batch_size=batch_size, \n",
        "                   epochs=epochs, \n",
        "                   validation_data=(x_st[\"val\"], y_cat[\"val\"]))"
      ],
      "metadata": {
        "colab": {
          "base_uri": "https://localhost:8080/"
        },
        "outputId": "47bdf451-4749-4f4d-f7eb-35696d9e31ff",
        "id": "BxcgnKUVhOzx"
      },
      "execution_count": 84,
      "outputs": [
        {
          "output_type": "stream",
          "name": "stdout",
          "text": [
            "Epoch 1/30\n",
            "123/123 [==============================] - 19s 64ms/step - loss: 0.1425 - accuracy: 0.6242 - val_loss: 0.2090 - val_accuracy: 0.8054\n",
            "Epoch 2/30\n",
            "123/123 [==============================] - 4s 30ms/step - loss: 0.0539 - accuracy: 0.8445 - val_loss: 0.1474 - val_accuracy: 0.8582\n",
            "Epoch 3/30\n",
            "123/123 [==============================] - 4s 32ms/step - loss: 0.0399 - accuracy: 0.8811 - val_loss: 0.1278 - val_accuracy: 0.8743\n",
            "Epoch 4/30\n",
            "123/123 [==============================] - 3s 27ms/step - loss: 0.0328 - accuracy: 0.9004 - val_loss: 0.1114 - val_accuracy: 0.8875\n",
            "Epoch 5/30\n",
            "123/123 [==============================] - 4s 33ms/step - loss: 0.0278 - accuracy: 0.9150 - val_loss: 0.1039 - val_accuracy: 0.8956\n",
            "Epoch 6/30\n",
            "123/123 [==============================] - 4s 35ms/step - loss: 0.0233 - accuracy: 0.9304 - val_loss: 0.0955 - val_accuracy: 0.9019\n",
            "Epoch 7/30\n",
            "123/123 [==============================] - 3s 24ms/step - loss: 0.0198 - accuracy: 0.9401 - val_loss: 0.0929 - val_accuracy: 0.9042\n",
            "Epoch 8/30\n",
            "123/123 [==============================] - 3s 27ms/step - loss: 0.0165 - accuracy: 0.9515 - val_loss: 0.0899 - val_accuracy: 0.9084\n",
            "Epoch 9/30\n",
            "123/123 [==============================] - 5s 38ms/step - loss: 0.0141 - accuracy: 0.9596 - val_loss: 0.0880 - val_accuracy: 0.9095\n",
            "Epoch 10/30\n",
            "123/123 [==============================] - 3s 23ms/step - loss: 0.0117 - accuracy: 0.9676 - val_loss: 0.0858 - val_accuracy: 0.9118\n",
            "Epoch 11/30\n",
            "123/123 [==============================] - 3s 23ms/step - loss: 0.0098 - accuracy: 0.9738 - val_loss: 0.0859 - val_accuracy: 0.9124\n",
            "Epoch 12/30\n",
            "123/123 [==============================] - 3s 24ms/step - loss: 0.0080 - accuracy: 0.9797 - val_loss: 0.0852 - val_accuracy: 0.9133\n",
            "Epoch 13/30\n",
            "123/123 [==============================] - 5s 37ms/step - loss: 0.0067 - accuracy: 0.9842 - val_loss: 0.0876 - val_accuracy: 0.9116\n",
            "Epoch 14/30\n",
            "123/123 [==============================] - 3s 26ms/step - loss: 0.0056 - accuracy: 0.9867 - val_loss: 0.0888 - val_accuracy: 0.9112\n",
            "Epoch 15/30\n",
            "123/123 [==============================] - 3s 23ms/step - loss: 0.0046 - accuracy: 0.9902 - val_loss: 0.0873 - val_accuracy: 0.9144\n",
            "Epoch 16/30\n",
            "123/123 [==============================] - 3s 23ms/step - loss: 0.0038 - accuracy: 0.9931 - val_loss: 0.0884 - val_accuracy: 0.9131\n",
            "Epoch 17/30\n",
            "123/123 [==============================] - 3s 23ms/step - loss: 0.0033 - accuracy: 0.9947 - val_loss: 0.0895 - val_accuracy: 0.9139\n",
            "Epoch 18/30\n",
            "123/123 [==============================] - 3s 22ms/step - loss: 0.0027 - accuracy: 0.9965 - val_loss: 0.0909 - val_accuracy: 0.9139\n",
            "Epoch 19/30\n",
            "123/123 [==============================] - 3s 23ms/step - loss: 0.0024 - accuracy: 0.9966 - val_loss: 0.0928 - val_accuracy: 0.9139\n",
            "Epoch 20/30\n",
            "123/123 [==============================] - 3s 23ms/step - loss: 0.0021 - accuracy: 0.9972 - val_loss: 0.0911 - val_accuracy: 0.9158\n",
            "Epoch 21/30\n",
            "123/123 [==============================] - 3s 28ms/step - loss: 0.0018 - accuracy: 0.9976 - val_loss: 0.0930 - val_accuracy: 0.9151\n",
            "Epoch 22/30\n",
            "123/123 [==============================] - 3s 26ms/step - loss: 0.0015 - accuracy: 0.9985 - val_loss: 0.0947 - val_accuracy: 0.9139\n",
            "Epoch 23/30\n",
            "123/123 [==============================] - 3s 22ms/step - loss: 0.0013 - accuracy: 0.9988 - val_loss: 0.0947 - val_accuracy: 0.9150\n",
            "Epoch 24/30\n",
            "123/123 [==============================] - 3s 22ms/step - loss: 0.0013 - accuracy: 0.9984 - val_loss: 0.0972 - val_accuracy: 0.9147\n",
            "Epoch 25/30\n",
            "123/123 [==============================] - 3s 22ms/step - loss: 0.0013 - accuracy: 0.9985 - val_loss: 0.0977 - val_accuracy: 0.9156\n",
            "Epoch 26/30\n",
            "123/123 [==============================] - 3s 24ms/step - loss: 0.0010 - accuracy: 0.9988 - val_loss: 0.1002 - val_accuracy: 0.9139\n",
            "Epoch 27/30\n",
            "123/123 [==============================] - 4s 33ms/step - loss: 8.9540e-04 - accuracy: 0.9990 - val_loss: 0.0998 - val_accuracy: 0.9156\n",
            "Epoch 28/30\n",
            "123/123 [==============================] - 3s 23ms/step - loss: 8.9273e-04 - accuracy: 0.9989 - val_loss: 0.0996 - val_accuracy: 0.9159\n",
            "Epoch 29/30\n",
            "123/123 [==============================] - 3s 22ms/step - loss: 8.6911e-04 - accuracy: 0.9988 - val_loss: 0.1004 - val_accuracy: 0.9145\n",
            "Epoch 30/30\n",
            "123/123 [==============================] - 4s 31ms/step - loss: 8.0706e-04 - accuracy: 0.9990 - val_loss: 0.0991 - val_accuracy: 0.9169\n"
          ]
        }
      ]
    },
    {
      "cell_type": "code",
      "source": [
        "final_models[\"units_bigger-dropout_LSTM\"].save_weights('./units_bigger-dropout_LSTM.h5')"
      ],
      "metadata": {
        "id": "hEjy8-iohOzx"
      },
      "execution_count": 85,
      "outputs": []
    },
    {
      "cell_type": "code",
      "source": [
        "final_models_f1_scores[\"units_bigger-dropout_LSTM\"] = compute_f1(final_models[\"units_bigger-dropout_LSTM\"],x_st[\"val\"],y_cat[\"val\"],punctuation_enc)\n",
        "final_models_f1_scores[\"units_bigger-dropout_LSTM\"]"
      ],
      "metadata": {
        "colab": {
          "base_uri": "https://localhost:8080/"
        },
        "id": "jesaInWlhOzy",
        "outputId": "dce3cb25-74b1-46bc-da56-d0412169c679"
      },
      "execution_count": 86,
      "outputs": [
        {
          "output_type": "stream",
          "name": "stdout",
          "text": [
            "41/41 [==============================] - 3s 8ms/step\n"
          ]
        },
        {
          "output_type": "execute_result",
          "data": {
            "text/plain": [
              "0.7788990923714991"
            ]
          },
          "metadata": {},
          "execution_count": 86
        }
      ]
    },
    {
      "cell_type": "markdown",
      "source": [
        "### Final model with only bigger embedding size"
      ],
      "metadata": {
        "id": "1LOJJ7FSjn2C"
      }
    },
    {
      "cell_type": "markdown",
      "source": [
        "Since all the models have similar f1-scores,it might be that the improvement is only due to the increase in embedding size. So, we want to check the performances of the baseline model with embedding size=300"
      ],
      "metadata": {
        "id": "NCm0jE_GbTWz"
      }
    },
    {
      "cell_type": "code",
      "source": [
        "final_models['bigger_embedding_size'] = build_final_model(num_pos = number_pos, \n",
        "                                embedding_matrix = embedding_matrix_bigger, \n",
        "                                name = \"bigger_embedding_size\",\n",
        "                                units = units,\n",
        "                                dropout_layer = False,\n",
        "                                dropout_LSTM = False) "
      ],
      "metadata": {
        "id": "xfqTZCTajn2D"
      },
      "execution_count": 87,
      "outputs": []
    },
    {
      "cell_type": "code",
      "source": [
        "final_models['bigger_embedding_size'].summary()"
      ],
      "metadata": {
        "colab": {
          "base_uri": "https://localhost:8080/"
        },
        "outputId": "da4b5c71-2c48-46dd-c83b-1c33ca94ddf6",
        "id": "biZToKa9jn2E"
      },
      "execution_count": 88,
      "outputs": [
        {
          "output_type": "stream",
          "name": "stdout",
          "text": [
            "Model: \"bigger_embedding_size\"\n",
            "_________________________________________________________________\n",
            " Layer (type)                Output Shape              Param #   \n",
            "=================================================================\n",
            " input_9 (InputLayer)        [(None, None)]            0         \n",
            "                                                                 \n",
            " embedding_8 (Embedding)     (None, None, 300)         120171300 \n",
            "                                                                 \n",
            " bidirectional_8 (Bidirectio  (None, None, 200)        320800    \n",
            " nal)                                                            \n",
            "                                                                 \n",
            " dense_9 (Dense)             (None, None, 46)          9246      \n",
            "                                                                 \n",
            "=================================================================\n",
            "Total params: 120,501,346\n",
            "Trainable params: 330,046\n",
            "Non-trainable params: 120,171,300\n",
            "_________________________________________________________________\n"
          ]
        }
      ]
    },
    {
      "cell_type": "code",
      "source": [
        "final_models['bigger_embedding_size'].compile(optimizer ='adam', \n",
        "                           loss = 'categorical_crossentropy', \n",
        "                           metrics = ['accuracy'])\n",
        "\n",
        "final_models_history['bigger_embedding_size'] = final_models['bigger_embedding_size'].fit(x=x_st[\"train\"], \n",
        "                   y=y_cat[\"train\"], \n",
        "                   batch_size=batch_size, \n",
        "                   epochs=epochs, \n",
        "                   validation_data=(x_st[\"val\"], y_cat[\"val\"]))"
      ],
      "metadata": {
        "colab": {
          "base_uri": "https://localhost:8080/"
        },
        "outputId": "ad8f45fd-5bc4-485d-adfb-fb9a0a2bf154",
        "id": "dHPjiTTmjn2F"
      },
      "execution_count": 89,
      "outputs": [
        {
          "output_type": "stream",
          "name": "stdout",
          "text": [
            "Epoch 1/30\n",
            "123/123 [==============================] - 13s 44ms/step - loss: 0.1669 - accuracy: 0.5759 - val_loss: 0.2603 - val_accuracy: 0.7716\n",
            "Epoch 2/30\n",
            "123/123 [==============================] - 3s 22ms/step - loss: 0.0621 - accuracy: 0.8326 - val_loss: 0.1679 - val_accuracy: 0.8491\n",
            "Epoch 3/30\n",
            "123/123 [==============================] - 3s 22ms/step - loss: 0.0430 - accuracy: 0.8799 - val_loss: 0.1396 - val_accuracy: 0.8699\n",
            "Epoch 4/30\n",
            "123/123 [==============================] - 3s 23ms/step - loss: 0.0340 - accuracy: 0.9040 - val_loss: 0.1214 - val_accuracy: 0.8825\n",
            "Epoch 5/30\n",
            "123/123 [==============================] - 3s 22ms/step - loss: 0.0280 - accuracy: 0.9210 - val_loss: 0.1109 - val_accuracy: 0.8920\n",
            "Epoch 6/30\n",
            "123/123 [==============================] - 3s 23ms/step - loss: 0.0236 - accuracy: 0.9342 - val_loss: 0.1035 - val_accuracy: 0.8979\n",
            "Epoch 7/30\n",
            "123/123 [==============================] - 3s 22ms/step - loss: 0.0199 - accuracy: 0.9458 - val_loss: 0.0990 - val_accuracy: 0.9000\n",
            "Epoch 8/30\n",
            "123/123 [==============================] - 3s 23ms/step - loss: 0.0169 - accuracy: 0.9546 - val_loss: 0.0965 - val_accuracy: 0.9036\n",
            "Epoch 9/30\n",
            "123/123 [==============================] - 3s 22ms/step - loss: 0.0143 - accuracy: 0.9642 - val_loss: 0.0918 - val_accuracy: 0.9075\n",
            "Epoch 10/30\n",
            "123/123 [==============================] - 3s 22ms/step - loss: 0.0119 - accuracy: 0.9719 - val_loss: 0.0909 - val_accuracy: 0.9102\n",
            "Epoch 11/30\n",
            "123/123 [==============================] - 3s 22ms/step - loss: 0.0101 - accuracy: 0.9770 - val_loss: 0.0890 - val_accuracy: 0.9111\n",
            "Epoch 12/30\n",
            "123/123 [==============================] - 3s 22ms/step - loss: 0.0084 - accuracy: 0.9826 - val_loss: 0.0887 - val_accuracy: 0.9127\n",
            "Epoch 13/30\n",
            "123/123 [==============================] - 3s 22ms/step - loss: 0.0069 - accuracy: 0.9875 - val_loss: 0.0899 - val_accuracy: 0.9116\n",
            "Epoch 14/30\n",
            "123/123 [==============================] - 3s 22ms/step - loss: 0.0057 - accuracy: 0.9908 - val_loss: 0.0893 - val_accuracy: 0.9116\n",
            "Epoch 15/30\n",
            "123/123 [==============================] - 3s 22ms/step - loss: 0.0047 - accuracy: 0.9932 - val_loss: 0.0897 - val_accuracy: 0.9113\n",
            "Epoch 16/30\n",
            "123/123 [==============================] - 3s 21ms/step - loss: 0.0038 - accuracy: 0.9955 - val_loss: 0.0911 - val_accuracy: 0.9121\n",
            "Epoch 17/30\n",
            "123/123 [==============================] - 3s 22ms/step - loss: 0.0032 - accuracy: 0.9968 - val_loss: 0.0928 - val_accuracy: 0.9119\n",
            "Epoch 18/30\n",
            "123/123 [==============================] - 3s 21ms/step - loss: 0.0026 - accuracy: 0.9979 - val_loss: 0.0937 - val_accuracy: 0.9116\n",
            "Epoch 19/30\n",
            "123/123 [==============================] - 4s 29ms/step - loss: 0.0022 - accuracy: 0.9987 - val_loss: 0.0951 - val_accuracy: 0.9119\n",
            "Epoch 20/30\n",
            "123/123 [==============================] - 3s 22ms/step - loss: 0.0018 - accuracy: 0.9990 - val_loss: 0.0961 - val_accuracy: 0.9118\n",
            "Epoch 21/30\n",
            "123/123 [==============================] - 3s 21ms/step - loss: 0.0015 - accuracy: 0.9993 - val_loss: 0.0968 - val_accuracy: 0.9119\n",
            "Epoch 22/30\n",
            "123/123 [==============================] - 3s 21ms/step - loss: 0.0013 - accuracy: 0.9996 - val_loss: 0.0990 - val_accuracy: 0.9104\n",
            "Epoch 23/30\n",
            "123/123 [==============================] - 3s 23ms/step - loss: 0.0011 - accuracy: 0.9998 - val_loss: 0.1007 - val_accuracy: 0.9113\n",
            "Epoch 24/30\n",
            "123/123 [==============================] - 3s 23ms/step - loss: 9.2972e-04 - accuracy: 0.9999 - val_loss: 0.1008 - val_accuracy: 0.9107\n",
            "Epoch 25/30\n",
            "123/123 [==============================] - 3s 23ms/step - loss: 8.0175e-04 - accuracy: 0.9999 - val_loss: 0.1029 - val_accuracy: 0.9107\n",
            "Epoch 26/30\n",
            "123/123 [==============================] - 4s 31ms/step - loss: 6.9391e-04 - accuracy: 1.0000 - val_loss: 0.1037 - val_accuracy: 0.9112\n",
            "Epoch 27/30\n",
            "123/123 [==============================] - 4s 34ms/step - loss: 6.1674e-04 - accuracy: 0.9999 - val_loss: 0.1048 - val_accuracy: 0.9112\n",
            "Epoch 28/30\n",
            "123/123 [==============================] - 3s 22ms/step - loss: 5.3670e-04 - accuracy: 1.0000 - val_loss: 0.1064 - val_accuracy: 0.9101\n",
            "Epoch 29/30\n",
            "123/123 [==============================] - 4s 35ms/step - loss: 4.7355e-04 - accuracy: 1.0000 - val_loss: 0.1077 - val_accuracy: 0.9105\n",
            "Epoch 30/30\n",
            "123/123 [==============================] - 3s 25ms/step - loss: 4.3528e-04 - accuracy: 1.0000 - val_loss: 0.1080 - val_accuracy: 0.9104\n"
          ]
        }
      ]
    },
    {
      "cell_type": "code",
      "source": [
        "final_models[\"bigger_embedding_size\"].save_weights('./bigger_embedding_size.h5')"
      ],
      "metadata": {
        "id": "tq6vJ58gjn2G"
      },
      "execution_count": 90,
      "outputs": []
    },
    {
      "cell_type": "code",
      "source": [
        "final_models_f1_scores[\"bigger_embedding_size\"] = compute_f1(final_models[\"bigger_embedding_size\"],x_st[\"val\"],y_cat[\"val\"],punctuation_enc)\n",
        "final_models_f1_scores[\"bigger_embedding_size\"]"
      ],
      "metadata": {
        "colab": {
          "base_uri": "https://localhost:8080/"
        },
        "outputId": "fdc2e4ad-2f5c-4583-af2e-45c28d1f2b47",
        "id": "_62C4gqvjn2G"
      },
      "execution_count": 91,
      "outputs": [
        {
          "output_type": "stream",
          "name": "stdout",
          "text": [
            "41/41 [==============================] - 3s 8ms/step\n"
          ]
        },
        {
          "output_type": "execute_result",
          "data": {
            "text/plain": [
              "0.775108122525799"
            ]
          },
          "metadata": {},
          "execution_count": 91
        }
      ]
    },
    {
      "cell_type": "markdown",
      "source": [
        "### Compute f1-scores for the new models"
      ],
      "metadata": {
        "id": "bO6eDit0cjoh"
      }
    },
    {
      "cell_type": "code",
      "source": [
        "final_models_f1_scores = {k: v for k, v in sorted(final_models_f1_scores.items(), key=lambda item: item[1], reverse=True)}  #sort dictionary by f1-score values\n",
        "for model, score in final_models_f1_scores.items():\n",
        "  print(f\"Model {model} f1-score on validation set: {score:.5f}\")"
      ],
      "metadata": {
        "colab": {
          "base_uri": "https://localhost:8080/"
        },
        "id": "nHOKvLgDcnmz",
        "outputId": "11b5eb98-5ada-4915-c9f8-378bcf6ead29"
      },
      "execution_count": 92,
      "outputs": [
        {
          "output_type": "stream",
          "name": "stdout",
          "text": [
            "Model units_bigger-dropout_layer-dropout_LSTM f1-score on validation set: 0.81120\n",
            "Model dropout_layer-dropout_LSTM f1-score on validation set: 0.79331\n",
            "Model units_bigger-dropout_layer f1-score on validation set: 0.78870\n",
            "Model units_bigger-dropout_LSTM f1-score on validation set: 0.77890\n",
            "Model bigger_embedding_size f1-score on validation set: 0.77511\n"
          ]
        }
      ]
    },
    {
      "cell_type": "code",
      "source": [
        "best_two_models = [final_models[list(final_models_f1_scores.keys())[0]], final_models[list(final_models_f1_scores.keys())[1]]]"
      ],
      "metadata": {
        "id": "q67DHhxXdUVy"
      },
      "execution_count": 93,
      "outputs": []
    },
    {
      "cell_type": "markdown",
      "source": [
        "According to f1-scores computed on the validation set, the best model is the one with more LSTM hidden units (200), a dropout layer and dropout on the LSTM layer, while the second best is equal to the best one a part from the fact that it uses 100 LSTM hidden units."
      ],
      "metadata": {
        "id": "a_3FdzPxc4hU"
      }
    },
    {
      "cell_type": "markdown",
      "source": [
        "### Check final models' histories"
      ],
      "metadata": {
        "id": "bA-PMiaqkYhL"
      }
    },
    {
      "cell_type": "markdown",
      "source": [
        "Similarly to what we did for the starting models, we want to check the history of the new ones to see if we have been able to actually improve them."
      ],
      "metadata": {
        "id": "deoR_9wfcCIl"
      }
    },
    {
      "cell_type": "code",
      "source": [
        "plot_history(final_models_history)"
      ],
      "metadata": {
        "colab": {
          "base_uri": "https://localhost:8080/",
          "height": 1000
        },
        "id": "OYIW1TpWkdIo",
        "outputId": "48d718f4-1e47-4af7-cbc7-74bc837af532"
      },
      "execution_count": 94,
      "outputs": [
        {
          "output_type": "display_data",
          "data": {
            "text/plain": [
              "<Figure size 1440x1152 with 10 Axes>"
            ],
            "image/png": "[encoded data removed]"
          },
          "metadata": {
            "needs_background": "light"
          }
        }
      ]
    },
    {
      "cell_type": "markdown",
      "source": [
        "We can see that overfitting has been reduced. In particular the model with the smaller amount of LSTM hidden units is not overfitting at all, as validation loss remains stable and the maximum accuracy is in correspondence of the last epoch. This suggests that thi model might improve a bit more if trained for more epochs. Anyway, with this training, its performances in terms of f1-score are close to the ones of the best model."
      ],
      "metadata": {
        "id": "5VKDLI15HFeE"
      }
    },
    {
      "cell_type": "markdown",
      "source": [
        "# Final evaluation on the test set"
      ],
      "metadata": {
        "id": "127lQqFIcDIF"
      }
    },
    {
      "cell_type": "code",
      "source": [
        "f1_scores_test = {}"
      ],
      "metadata": {
        "id": "aX2G4moTQXBd"
      },
      "execution_count": 95,
      "outputs": []
    },
    {
      "cell_type": "code",
      "source": [
        "for model in best_two_models:\n",
        "  f1_scores_test[model.name] = compute_f1(model,x_st[\"test\"],y_cat[\"test\"],punctuation_enc)\n",
        "print()\n",
        "for key, value in f1_scores_test.items():\n",
        "  print(f\"{key} model has f1-score on the test set equal to {value:.5}\")"
      ],
      "metadata": {
        "colab": {
          "base_uri": "https://localhost:8080/"
        },
        "id": "528p21iwQPL6",
        "outputId": "5aff8ef8-67db-48a4-f7b8-87f31628dc0d"
      },
      "execution_count": 96,
      "outputs": [
        {
          "output_type": "stream",
          "name": "stdout",
          "text": [
            "21/21 [==============================] - 4s 8ms/step\n",
            "21/21 [==============================] - 3s 8ms/step\n",
            "\n",
            "units_bigger-dropout_layer-dropout_LSTM model has f1-score on the test set equal to 0.8561\n",
            "dropout_layer-dropout_LSTM model has f1-score on the test set equal to 0.86881\n"
          ]
        }
      ]
    },
    {
      "cell_type": "markdown",
      "source": [
        "It is interesting to notice that dropout_layer-dropout_LSTM model, so the one with less LSTM hidden units performs better than the other best model, even though on validation set it was the other way around. \n",
        "As already mentioned, this suggests again that dropout_layer-dropout_LSTM model might improve and become the best one if trained for more epochs. "
      ],
      "metadata": {
        "id": "ukoULFxrITkI"
      }
    },
    {
      "cell_type": "markdown",
      "source": [
        "# Error Analysis"
      ],
      "metadata": {
        "id": "zfyfIg3k0aYg"
      }
    },
    {
      "cell_type": "markdown",
      "source": [
        "## Analyzing performances on the five most and less frequent classes"
      ],
      "metadata": {
        "id": "phvMDVHe01Kw"
      }
    },
    {
      "cell_type": "markdown",
      "source": [
        "We are going to compute f1-score on two subsets of pos labels, namely the 5-most-common and the 5-less-common ones. "
      ],
      "metadata": {
        "id": "a058EFv0UVs7"
      }
    },
    {
      "cell_type": "code",
      "source": [
        "def find_classes_ordered_by_frequency(y_enc, \n",
        "                                      idx_to_label):  \n",
        "    \"\"\"\n",
        "    Given the dictionary of encoded labels (y) and the mapping from indeces to pos labels, return the dictionaries of frequencies.\n",
        "\n",
        "    :param \n",
        "        - y_enc: dictionary of encoded labels (for train, val, test)\n",
        "        - idx_to_label: mapping from indeces to labels\n",
        "    :return:\n",
        "        - frequencies_enc: dictionary with key=encoded_label and value=frequency\n",
        "        - frequencies_not_enc: dictionary with key=label_not_encoded and value=frequency\n",
        "    \"\"\"\n",
        "    \n",
        "    frequencies_enc = {}  #dictionary with key=pos_encoded and value=label_frequency\n",
        "    for sentence in y_enc[\"train\"] + y_enc[\"val\"] + y_enc[\"test\"]:\n",
        "        for label in sentence:\n",
        "            if label not in frequencies_enc.keys():\n",
        "                frequencies_enc[label] = 0\n",
        "            frequencies_enc[label] += 1\n",
        "    frequencies_enc = {k: v for k, v in sorted(frequencies_enc.items(), key=lambda item: item[1], reverse=True)} \n",
        "    frequencies_not_enc = {idx_to_label[k]: v for k, v in frequencies_enc.items()}  #dictionary with key=pos_not_encoded and value=label_frequency\n",
        "    \n",
        "    return frequencies_enc, frequencies_not_enc"
      ],
      "metadata": {
        "id": "DBK65IDV17ad"
      },
      "execution_count": 97,
      "outputs": []
    },
    {
      "cell_type": "code",
      "source": [
        "frequencies_enc, frequencies_not_enc = find_classes_ordered_by_frequency(y_enc, idx_to_label)\n",
        "\n",
        "print(f\"The classes with highest frequency are: {list(frequencies_not_enc.keys())[:5]}\")\n",
        "print(f\"whose encodings are {list(frequencies_enc.keys())[:5]}\\n\")\n",
        "\n",
        "print(f\"The classes with lowest frequency are: {list(frequencies_not_enc.keys())[-5:]}\")\n",
        "print(f\"whose encodings are {list(frequencies_enc.keys())[-5:]}\")"
      ],
      "metadata": {
        "colab": {
          "base_uri": "https://localhost:8080/"
        },
        "id": "WHU9VqYk3yKf",
        "outputId": "ded9d6c6-cfb8-438b-b1f6-59179f314139"
      },
      "execution_count": 98,
      "outputs": [
        {
          "output_type": "stream",
          "name": "stdout",
          "text": [
            "The classes with highest frequency are: ['NN', 'IN', 'NNP', 'DT', 'NNS']\n",
            "whose encodings are [9, 10, 1, 8, 4]\n",
            "\n",
            "The classes with lowest frequency are: ['WP$', 'LS', 'FW', 'UH', 'SYM']\n",
            "whose encodings are [36, 44, 41, 42, 43]\n"
          ]
        }
      ]
    },
    {
      "cell_type": "markdown",
      "source": [
        "Computing the f1-score of the best model on the selected labels. Note that to compare results with the ones obtained before, we removed punctuation."
      ],
      "metadata": {
        "id": "G-HuqXKi8fdc"
      }
    },
    {
      "cell_type": "code",
      "source": [
        "f1_scores_per_frequency = {\"5-highest-frequency-pos\": compute_f1(best_two_models[0],\n",
        "                                                                 x_st[\"test\"],\n",
        "                                                                 y_cat[\"test\"], \n",
        "                                                                 list(frequencies_enc.keys())[5:]+punctuation_enc,\n",
        "                                                                 return_length=True), #excluding all the classes except for the 5 most freqent ones and also punctuation\n",
        "                           \"5-lowest-frequency-pos\": compute_f1(best_two_models[0],\n",
        "                                                                 x_st[\"test\"],\n",
        "                                                                 y_cat[\"test\"], \n",
        "                                                                 list(frequencies_enc.keys())[:-5]+punctuation_enc,\n",
        "                                                                 return_length=True)  #excluding all the classes except for the 5 less freqent ones and also punctuation\n",
        "                          }"
      ],
      "metadata": {
        "id": "k5GJccyP0e27",
        "colab": {
          "base_uri": "https://localhost:8080/"
        },
        "outputId": "ebed5f91-060b-4b7e-abfc-d87aab2f09c7"
      },
      "execution_count": 136,
      "outputs": [
        {
          "output_type": "stream",
          "name": "stdout",
          "text": [
            "21/21 [==============================] - 0s 8ms/step\n",
            "Number of samples after masking: 7793\n",
            "21/21 [==============================] - 0s 7ms/step\n",
            "Number of samples after masking: 4\n"
          ]
        }
      ]
    },
    {
      "cell_type": "code",
      "source": [
        "for key, value in f1_scores_per_frequency.items():\n",
        "    print(f\"f1-score considering only the {key} is {value}\")"
      ],
      "metadata": {
        "colab": {
          "base_uri": "https://localhost:8080/"
        },
        "id": "3RGiIl9ZeGI8",
        "outputId": "f0bc6b71-4799-4476-d4a5-9ad2bf1b4b5b"
      },
      "execution_count": 137,
      "outputs": [
        {
          "output_type": "stream",
          "name": "stdout",
          "text": [
            "f1-score considering only the 5-highest-frequency-pos is 0.9433453330314293\n",
            "f1-score considering only the 5-lowest-frequency-pos is 1.0\n"
          ]
        }
      ]
    },
    {
      "cell_type": "markdown",
      "source": [
        "Both the f1-scores are very high, but for different reasons.\n",
        "Firstly, the more common labels have a far larger support, so the model had the chance to train on all the training examples and now performs well on the test set. \n",
        "On the other hand, the less common pos have a very small support, which makes them very specific. Due to this specificity, they might be very easy to classify for the model. "
      ],
      "metadata": {
        "id": "imaPHZXHUmMr"
      }
    },
    {
      "cell_type": "markdown",
      "source": [
        "## Precision and recall"
      ],
      "metadata": {
        "id": "crRiUTz4n00i"
      }
    },
    {
      "cell_type": "markdown",
      "source": [
        "We are going to compute precision and recall for the best model applied to the test set. This is useful to understand if f1-score is dominated by one of them or they both contribute to the quite high value reached on the test set."
      ],
      "metadata": {
        "id": "e54l-M2fT055"
      }
    },
    {
      "cell_type": "code",
      "source": [
        "def compute_precision_recall(model, x, y_true, punctuation):\n",
        "    \"\"\"\n",
        "    Given a model, the data x to feed to the model, the ground truth labels and punctuation encodings, return precision and recall\n",
        "\n",
        "    :param \n",
        "        - model: model to be used\n",
        "        - x: input data (standardized version of the encoded sentences)\n",
        "        - y_true: ground truth labels (one-hot-encoded)\n",
        "        - punctuation: punctuation encodings to exclude from precision and recall computation\n",
        "    :return:\n",
        "        - precision and recall with macro average\n",
        "    \"\"\"\n",
        "    y_true = np.argmax(y_true, axis=2).flatten()\n",
        "    y_pred = np.argmax(model.predict(x), axis=2).flatten()\n",
        "    \n",
        "    mask = np.in1d(y_true, punctuation, invert=True)  #mask to exclude punctuation symbols\n",
        "    unique_pos = [pos for pos in np.unique(np.concatenate((y_true, y_pred))) if not pos in punctuation]\n",
        "\n",
        "    return (precision_score(y_true[mask], \n",
        "                    y_pred[mask], \n",
        "                    average='macro', \n",
        "                    labels=unique_pos, \n",
        "                    zero_division=0),   \n",
        "            recall_score(y_true[mask], \n",
        "                    y_pred[mask], \n",
        "                    average='macro', \n",
        "                    labels=unique_pos, \n",
        "                    zero_division=0))"
      ],
      "metadata": {
        "id": "-F869FL-156I"
      },
      "execution_count": 101,
      "outputs": []
    },
    {
      "cell_type": "code",
      "source": [
        "precision, recall = compute_precision_recall(best_two_models[0],\n",
        "                                              x_st[\"test\"],\n",
        "                                              y_cat[\"test\"], \n",
        "                                             punctuation_enc)\n",
        "print(f\"Precision on the test set is {precision}\")\n",
        "print(f\"Recall on the test set is {recall}\")"
      ],
      "metadata": {
        "colab": {
          "base_uri": "https://localhost:8080/"
        },
        "id": "9a0nG508pIgX",
        "outputId": "eaac6a75-2bef-42ea-f3c1-18000f851aa9"
      },
      "execution_count": 103,
      "outputs": [
        {
          "output_type": "stream",
          "name": "stdout",
          "text": [
            "21/21 [==============================] - 0s 8ms/step\n",
            "Precision on the test set is 0.8872764513131854\n",
            "Recall on the test set is 0.8517887526522716\n"
          ]
        }
      ]
    },
    {
      "cell_type": "markdown",
      "source": [
        "The values obtained for precision and recall on the test set are very close, which is the reason why we are able to get quite high f1-score too. "
      ],
      "metadata": {
        "id": "mCLPOw5jTO_3"
      }
    },
    {
      "cell_type": "markdown",
      "source": [
        "## Confusion matrix"
      ],
      "metadata": {
        "id": "ONr350PI-gMg"
      }
    },
    {
      "cell_type": "markdown",
      "source": [
        "We are going to plot the confusion matrices of the best two models applied on the test set. "
      ],
      "metadata": {
        "id": "hpcx563SX98_"
      }
    },
    {
      "cell_type": "code",
      "source": [
        "def plot_confusion_matrix(model, x, y_true, punctuation, idx_to_label):\n",
        "    \n",
        "    \"\"\"\n",
        "    Given a model, the data x to feed to the model, the ground truth labels, punctuation encodings, labels and their mapping, plot confusion matrix\n",
        "\n",
        "    :param \n",
        "        - model: model to be used\n",
        "        - x: input data (standardized version of the encoded sentences)\n",
        "        - y_true: ground truth labels (one-hot-encoded)\n",
        "        - punctuation: punctuation encodings to exclude from f1-score computation\n",
        "        - idx_to_label: mapping from indeces to labels\n",
        "    :return:\n",
        "        - cm: confusion matrix\n",
        "    \"\"\"\n",
        "    y_true = np.argmax(y_true, axis=2).flatten()\n",
        "    y_pred = np.argmax(model.predict(x), axis=2).flatten()\n",
        "    \n",
        "    mask = np.in1d(y_true, punctuation, invert=True)  #mask to exclude punctuation symbols\n",
        "    unique_pos = [pos for pos in np.unique(y_true) if not pos in punctuation]\n",
        "\n",
        "    fig, ax = plt.subplots(figsize=(15, 15))\n",
        "    disp = ConfusionMatrixDisplay.from_predictions(y_true[mask],\n",
        "                                                   y_pred[mask],\n",
        "                                                   labels=unique_pos, \n",
        "                                                   normalize='true', \n",
        "                                                   display_labels=np.array([idx_to_label[label] for label in unique_pos]),\n",
        "                                                   ax=ax, \n",
        "                                                   include_values=False\n",
        "                                                  )\n",
        "    plt.show()\n"
      ],
      "metadata": {
        "id": "dc2nd8C5-lh0"
      },
      "execution_count": 138,
      "outputs": []
    },
    {
      "cell_type": "code",
      "source": [
        "plot_confusion_matrix(best_two_models[0],\n",
        "                      x_st[\"test\"],\n",
        "                      y_cat[\"test\"], \n",
        "                      punctuation_enc,\n",
        "                      idx_to_label\n",
        "                      )"
      ],
      "metadata": {
        "colab": {
          "base_uri": "https://localhost:8080/",
          "height": 873
        },
        "id": "7P2G0qNLEgsI",
        "outputId": "1e4357eb-cf04-4f8c-bbe0-00a60fd9449a"
      },
      "execution_count": 139,
      "outputs": [
        {
          "output_type": "stream",
          "name": "stdout",
          "text": [
            "21/21 [==============================] - 0s 8ms/step\n"
          ]
        },
        {
          "output_type": "display_data",
          "data": {
            "text/plain": [
              "<Figure size 1080x1080 with 2 Axes>"
            ],
            "image/png": "[encoded data removed]"
          },
          "metadata": {
            "needs_background": "light"
          }
        }
      ]
    },
    {
      "cell_type": "code",
      "source": [
        "plot_confusion_matrix(best_two_models[1],\n",
        "                      x_st[\"test\"],\n",
        "                      y_cat[\"test\"], \n",
        "                      punctuation_enc,\n",
        "                      idx_to_label\n",
        "                      )"
      ],
      "metadata": {
        "colab": {
          "base_uri": "https://localhost:8080/",
          "height": 873
        },
        "id": "eiBphfUgGj7o",
        "outputId": "a0c222ff-4f02-4037-a7f1-645762b26881"
      },
      "execution_count": 140,
      "outputs": [
        {
          "output_type": "stream",
          "name": "stdout",
          "text": [
            "21/21 [==============================] - 0s 7ms/step\n"
          ]
        },
        {
          "output_type": "display_data",
          "data": {
            "text/plain": [
              "<Figure size 1080x1080 with 2 Axes>"
            ],
            "image/png": "[encoded data removed]"
          },
          "metadata": {
            "needs_background": "light"
          }
        }
      ]
    },
    {
      "cell_type": "markdown",
      "source": [
        "Inspecting the confusion matrices of the two models applied to the test set we can see that they have very similar performances. They work well on most of the classes, but have some problems at classifying some others, such as NNPS, PDT, RBR, JJR. According to hese results the class creating more problems is NNPS, which in most of the case is confused with NNP or NNS. "
      ],
      "metadata": {
        "id": "hFJordH7QXSl"
      }
    }
  ],
  "metadata": {
    "accelerator": "GPU",
    "colab": {
      "collapsed_sections": [
        "jXlE3OHGzaYq",
        "MQ0PSVGsWZBW",
        "sI97CALV0C34",
        "Vf1URJEz-ADo",
        "_0Xhe6fjWvqv",
        "qZUuz-bW_BO3",
        "mzQ6qRPF_86z",
        "b5RNdNYYHYwQ",
        "EElOhl9F-x9-",
        "mAv5AHB_REM5",
        "2HIZO1d8SPFq",
        "yoFjfVeiiN4k",
        "dzdywqEviQla",
        "i7frWEJB-OS7",
        "RTAMzroP_YH0",
        "ZdF3KP3rB7ee",
        "fytMiTJSFF00",
        "it4lzbh7Yv-z",
        "Qrrm53qAY0lY",
        "VFKzK_bApBDY",
        "lTV8gJPwYWBc",
        "RsT_nmVpeG4g",
        "FG04_USsfRrb",
        "nhmqyuEAhOzv",
        "1LOJJ7FSjn2C",
        "bO6eDit0cjoh",
        "bA-PMiaqkYhL",
        "127lQqFIcDIF",
        "phvMDVHe01Kw",
        "crRiUTz4n00i"
      ],
      "provenance": []
    },
    "gpuClass": "standard",
    "kernelspec": {
      "display_name": "Python 3",
      "name": "python3"
    },
    "language_info": {
      "name": "python"
    }
  },
  "nbformat": 4,
  "nbformat_minor": 0
}